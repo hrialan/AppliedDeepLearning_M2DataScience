{
 "cells": [
  {
   "cell_type": "markdown",
   "metadata": {},
   "source": [
    "# Training Neural Networks with Keras\n",
    "\n",
    "### Goals: \n",
    "- Intro: train a neural network with `tensorflow` and the Keras layers\n",
    "\n",
    "### Dataset:\n",
    "- Digits: 10 class handwritten digits\n",
    "- http://scikit-learn.org/stable/modules/generated/sklearn.datasets.load_digits.html#sklearn.datasets.load_digits"
   ]
  },
  {
   "cell_type": "code",
   "execution_count": 1,
   "metadata": {},
   "outputs": [],
   "source": [
    "import matplotlib.pyplot as plt\n",
    "import numpy as np\n",
    "from sklearn.datasets import load_digits\n",
    "\n",
    "digits = load_digits()"
   ]
  },
  {
   "cell_type": "code",
   "execution_count": 2,
   "metadata": {},
   "outputs": [
    {
     "data": {
      "text/plain": [
       "(1797, 8, 8)"
      ]
     },
     "execution_count": 2,
     "metadata": {},
     "output_type": "execute_result"
    }
   ],
   "source": [
    "digits.images.shape"
   ]
  },
  {
   "cell_type": "code",
   "execution_count": 3,
   "metadata": {},
   "outputs": [
    {
     "data": {
      "text/plain": [
       "(1797, 64)"
      ]
     },
     "execution_count": 3,
     "metadata": {},
     "output_type": "execute_result"
    }
   ],
   "source": [
    "digits.data.shape"
   ]
  },
  {
   "cell_type": "code",
   "execution_count": 4,
   "metadata": {},
   "outputs": [
    {
     "data": {
      "text/plain": [
       "(1797,)"
      ]
     },
     "execution_count": 4,
     "metadata": {},
     "output_type": "execute_result"
    }
   ],
   "source": [
    "digits.target.shape"
   ]
  },
  {
   "cell_type": "code",
   "execution_count": 5,
   "metadata": {},
   "outputs": [
    {
     "data": {
      "image/png": "[encoded data removed]",
      "text/plain": [
       "<Figure size 216x216 with 1 Axes>"
      ]
     },
     "metadata": {
      "needs_background": "light"
     },
     "output_type": "display_data"
    }
   ],
   "source": [
    "sample_index = 45\n",
    "plt.figure(figsize=(3, 3))\n",
    "plt.imshow(digits.images[sample_index], cmap=plt.cm.gray_r,\n",
    "           interpolation='nearest')\n",
    "plt.title(\"image label: %d\" % digits.target[sample_index]);"
   ]
  },
  {
   "cell_type": "markdown",
   "metadata": {},
   "source": [
    "## Train / Test Split\n",
    "\n",
    "Let's keep some held-out data to be able to measure the generalization performance of our model."
   ]
  },
  {
   "cell_type": "code",
   "execution_count": 5,
   "metadata": {},
   "outputs": [],
   "source": [
    "from sklearn.model_selection import train_test_split\n",
    "\n",
    "\n",
    "data = np.asarray(digits.data, dtype='float32')\n",
    "target = np.asarray(digits.target, dtype='int32')\n",
    "\n",
    "X_train, X_test, y_train, y_test = train_test_split(\n",
    "    data, target, test_size=0.15, random_state=37)"
   ]
  },
  {
   "cell_type": "code",
   "execution_count": 6,
   "metadata": {},
   "outputs": [
    {
     "data": {
      "text/plain": [
       "(1527, 64)"
      ]
     },
     "execution_count": 6,
     "metadata": {},
     "output_type": "execute_result"
    }
   ],
   "source": [
    "X_train.shape"
   ]
  },
  {
   "cell_type": "code",
   "execution_count": 7,
   "metadata": {},
   "outputs": [
    {
     "data": {
      "text/plain": [
       "(270, 64)"
      ]
     },
     "execution_count": 7,
     "metadata": {},
     "output_type": "execute_result"
    }
   ],
   "source": [
    "X_test.shape"
   ]
  },
  {
   "cell_type": "code",
   "execution_count": 8,
   "metadata": {},
   "outputs": [
    {
     "data": {
      "text/plain": [
       "(1527,)"
      ]
     },
     "execution_count": 8,
     "metadata": {},
     "output_type": "execute_result"
    }
   ],
   "source": [
    "y_train.shape"
   ]
  },
  {
   "cell_type": "code",
   "execution_count": 9,
   "metadata": {},
   "outputs": [
    {
     "data": {
      "text/plain": [
       "(270,)"
      ]
     },
     "execution_count": 9,
     "metadata": {},
     "output_type": "execute_result"
    }
   ],
   "source": [
    "y_test.shape"
   ]
  },
  {
   "cell_type": "markdown",
   "metadata": {},
   "source": [
    "## Preprocessing of the Input Data\n",
    "\n",
    "\n",
    "Make sure that all input variables are approximately on the same scale via input normalization:"
   ]
  },
  {
   "cell_type": "code",
   "execution_count": 10,
   "metadata": {},
   "outputs": [],
   "source": [
    "from sklearn import preprocessing\n",
    "\n",
    "\n",
    "# mean = 0 ; standard deviation = 1.0\n",
    "scaler = preprocessing.StandardScaler()\n",
    "X_train = scaler.fit_transform(X_train)\n",
    "X_test = scaler.transform(X_test)\n",
    "\n",
    "# print(scaler.mean_)\n",
    "# print(scaler.scale_)"
   ]
  },
  {
   "cell_type": "code",
   "execution_count": 11,
   "metadata": {},
   "outputs": [
    {
     "data": {
      "text/plain": [
       "(1527, 64)"
      ]
     },
     "execution_count": 11,
     "metadata": {},
     "output_type": "execute_result"
    }
   ],
   "source": [
    "X_train.shape"
   ]
  },
  {
   "cell_type": "code",
   "execution_count": 12,
   "metadata": {},
   "outputs": [
    {
     "data": {
      "text/plain": [
       "array([ 0.00000000e+00,  1.82717315e-07,  1.44815475e-08, -3.13441575e-08,\n",
       "       -7.49449391e-09, -9.50473567e-09, -7.10805850e-08,  6.18783673e-08,\n",
       "       -3.06025143e-08,  1.31056055e-07,  3.27103429e-08, -3.59111163e-09,\n",
       "       -4.29372049e-09, -1.07733342e-08, -1.92827070e-08, -7.90239696e-08,\n",
       "        1.56408518e-07, -2.18589391e-09,  2.89630950e-08, -1.74090840e-08,\n",
       "        6.71381741e-08,  5.87068669e-08, -9.85213617e-08, -4.79598782e-07,\n",
       "       -2.98413561e-08, -4.19223234e-08, -1.82522143e-07,  1.79555570e-08,\n",
       "       -3.11294706e-08,  2.08440607e-08, -6.83091841e-08,  9.33420665e-07,\n",
       "        0.00000000e+00,  1.78774897e-08,  1.50670544e-07, -3.45839659e-08,\n",
       "       -1.02463780e-08, -3.66137236e-08, -5.67551766e-08,  0.00000000e+00,\n",
       "       -2.17120757e-07, -6.30981702e-08, -1.81116935e-08, -2.62307278e-08,\n",
       "       -7.95509294e-08, -1.95169103e-09, -8.23613622e-09,  4.77871538e-08,\n",
       "       -1.66303593e-07, -1.25688899e-07, -2.30299548e-08, -1.13198082e-08,\n",
       "        2.51387576e-07, -9.99265826e-09,  3.74724678e-08, -1.85410653e-09,\n",
       "        2.62295089e-07, -8.66550849e-08,  1.06952669e-08,  1.99462828e-08,\n",
       "        4.32494751e-08,  1.00551127e-07, -1.32480793e-07, -7.56280301e-08],\n",
       "      dtype=float32)"
      ]
     },
     "execution_count": 12,
     "metadata": {},
     "output_type": "execute_result"
    }
   ],
   "source": [
    "X_train.mean(axis=0)"
   ]
  },
  {
   "cell_type": "code",
   "execution_count": 13,
   "metadata": {},
   "outputs": [
    {
     "data": {
      "text/plain": [
       "array([0.        , 0.99999774, 0.9999994 , 1.0000005 , 0.9999989 ,\n",
       "       0.9999988 , 1.0000077 , 0.9999965 , 1.0000098 , 0.9999947 ,\n",
       "       1.0000007 , 0.9999992 , 0.9999999 , 0.99999684, 0.9999984 ,\n",
       "       0.99999887, 0.9999969 , 1.000001  , 1.0000002 , 1.0000025 ,\n",
       "       0.99999905, 1.000004  , 1.0000008 , 0.9999972 , 0.9999967 ,\n",
       "       0.99999726, 1.        , 1.0000007 , 1.0000029 , 0.9999996 ,\n",
       "       0.99999696, 1.0000001 , 0.        , 1.0000007 , 1.0000023 ,\n",
       "       0.9999993 , 0.9999994 , 0.9999997 , 0.9999955 , 0.        ,\n",
       "       0.9999891 , 0.99999785, 1.0000032 , 0.9999999 , 0.99999756,\n",
       "       1.000001  , 0.999996  , 0.9999987 , 1.0000006 , 0.9999936 ,\n",
       "       1.0000038 , 1.0000004 , 1.0000012 , 0.999997  , 0.99999785,\n",
       "       0.9999988 , 0.9999857 , 1.0000073 , 0.9999967 , 1.0000031 ,\n",
       "       0.9999993 , 1.        , 0.999996  , 0.9999977 ], dtype=float32)"
      ]
     },
     "execution_count": 13,
     "metadata": {},
     "output_type": "execute_result"
    }
   ],
   "source": [
    "X_train.std(axis=0)"
   ]
  },
  {
   "cell_type": "markdown",
   "metadata": {},
   "source": [
    "Let's display the one of the transformed sample (after feature standardization):"
   ]
  },
  {
   "cell_type": "code",
   "execution_count": 14,
   "metadata": {},
   "outputs": [
    {
     "data": {
      "image/png": "[encoded data removed]",
      "text/plain": [
       "<Figure size 216x216 with 1 Axes>"
      ]
     },
     "metadata": {
      "needs_background": "light"
     },
     "output_type": "display_data"
    }
   ],
   "source": [
    "sample_index = 45\n",
    "plt.figure(figsize=(3, 3))\n",
    "plt.imshow(X_train[sample_index].reshape(8, 8),\n",
    "           cmap=plt.cm.gray_r, interpolation='nearest')\n",
    "plt.title(\"transformed sample\\n(standardization)\");"
   ]
  },
  {
   "cell_type": "markdown",
   "metadata": {},
   "source": [
    "The scaler objects makes it possible to recover the original sample:"
   ]
  },
  {
   "cell_type": "code",
   "execution_count": 15,
   "metadata": {},
   "outputs": [
    {
     "data": {
      "image/png": "[encoded data removed]",
      "text/plain": [
       "<Figure size 216x216 with 1 Axes>"
      ]
     },
     "metadata": {
      "needs_background": "light"
     },
     "output_type": "display_data"
    }
   ],
   "source": [
    "plt.figure(figsize=(3, 3))\n",
    "plt.imshow(scaler.inverse_transform(X_train[sample_index:sample_index+1]).reshape(8, 8),\n",
    "           cmap=plt.cm.gray_r, interpolation='nearest')\n",
    "plt.title(\"original sample\");"
   ]
  },
  {
   "cell_type": "code",
   "execution_count": 16,
   "metadata": {},
   "outputs": [
    {
     "name": "stdout",
     "output_type": "stream",
     "text": [
      "(1527, 64) (1527,)\n"
     ]
    }
   ],
   "source": [
    "print(X_train.shape, y_train.shape)"
   ]
  },
  {
   "cell_type": "code",
   "execution_count": 17,
   "metadata": {},
   "outputs": [
    {
     "name": "stdout",
     "output_type": "stream",
     "text": [
      "(270, 64) (270,)\n"
     ]
    }
   ],
   "source": [
    "print(X_test.shape, y_test.shape)"
   ]
  },
  {
   "cell_type": "markdown",
   "metadata": {},
   "source": [
    "## Preprocessing of the Target Data\n",
    "\n",
    "\n",
    "To train a first neural network we also need to turn the target variable into a vector \"one-hot-encoding\" representation. Here are the labels of the first samples in the training set encoded as integers:"
   ]
  },
  {
   "cell_type": "code",
   "execution_count": 18,
   "metadata": {},
   "outputs": [
    {
     "data": {
      "text/plain": [
       "array([2, 9, 5], dtype=int32)"
      ]
     },
     "execution_count": 18,
     "metadata": {},
     "output_type": "execute_result"
    }
   ],
   "source": [
    "y_train[:3]"
   ]
  },
  {
   "cell_type": "markdown",
   "metadata": {},
   "source": [
    "Keras provides a utility function to convert integer-encoded categorical variables as one-hot encoded values:"
   ]
  },
  {
   "cell_type": "code",
   "execution_count": 19,
   "metadata": {},
   "outputs": [
    {
     "data": {
      "text/plain": [
       "array([[0., 0., 1., 0., 0., 0., 0., 0., 0., 0.],\n",
       "       [0., 0., 0., 0., 0., 0., 0., 0., 0., 1.],\n",
       "       [0., 0., 0., 0., 0., 1., 0., 0., 0., 0.]], dtype=float32)"
      ]
     },
     "execution_count": 19,
     "metadata": {},
     "output_type": "execute_result"
    }
   ],
   "source": [
    "from tensorflow.keras.utils import to_categorical\n",
    "\n",
    "Y_train = to_categorical(y_train)\n",
    "Y_train[:3]"
   ]
  },
  {
   "cell_type": "code",
   "execution_count": 20,
   "metadata": {},
   "outputs": [
    {
     "data": {
      "text/plain": [
       "(1527, 10)"
      ]
     },
     "execution_count": 20,
     "metadata": {},
     "output_type": "execute_result"
    }
   ],
   "source": [
    "Y_train.shape"
   ]
  },
  {
   "cell_type": "markdown",
   "metadata": {},
   "source": [
    "## Feed Forward Neural Networks with Keras\n",
    "\n",
    "Objectives of this section:\n",
    "\n",
    "- Build and train a first feedforward network using `Keras`\n",
    "    - https://www.tensorflow.org/guide/keras/overview\n",
    "- Experiment with different optimizers, activations, size of layers, initializations\n",
    "\n",
    "### A First Keras Model"
   ]
  },
  {
   "cell_type": "markdown",
   "metadata": {},
   "source": [
    "We can now build an train a our first feed forward neural network using the high level API from keras:\n",
    "\n",
    "- first we define the model by stacking layers with the right dimensions\n",
    "- then we define a loss function and plug the SGD optimizer\n",
    "- then we feed the model the training data for fixed number of epochs"
   ]
  },
  {
   "cell_type": "code",
   "execution_count": 21,
   "metadata": {},
   "outputs": [
    {
     "name": "stdout",
     "output_type": "stream",
     "text": [
      "Epoch 1/15\n",
      "39/39 [==============================] - 0s 5ms/step - loss: 0.9396 - accuracy: 0.7559 - val_loss: 0.4347 - val_accuracy: 0.8954\n",
      "Epoch 2/15\n",
      "39/39 [==============================] - 0s 2ms/step - loss: 0.3346 - accuracy: 0.9337 - val_loss: 0.2799 - val_accuracy: 0.9216\n",
      "Epoch 3/15\n",
      "39/39 [==============================] - 0s 3ms/step - loss: 0.2277 - accuracy: 0.9525 - val_loss: 0.2248 - val_accuracy: 0.9412\n",
      "Epoch 4/15\n",
      "39/39 [==============================] - 0s 4ms/step - loss: 0.1759 - accuracy: 0.9648 - val_loss: 0.1794 - val_accuracy: 0.9641\n",
      "Epoch 5/15\n",
      "39/39 [==============================] - 0s 2ms/step - loss: 0.1447 - accuracy: 0.9730 - val_loss: 0.1602 - val_accuracy: 0.9608\n",
      "Epoch 6/15\n",
      "39/39 [==============================] - 0s 2ms/step - loss: 0.1239 - accuracy: 0.9762 - val_loss: 0.1494 - val_accuracy: 0.9641\n",
      "Epoch 7/15\n",
      "39/39 [==============================] - 0s 2ms/step - loss: 0.1084 - accuracy: 0.9812 - val_loss: 0.1394 - val_accuracy: 0.9608\n",
      "Epoch 8/15\n",
      "39/39 [==============================] - 0s 2ms/step - loss: 0.0966 - accuracy: 0.9861 - val_loss: 0.1313 - val_accuracy: 0.9641\n",
      "Epoch 9/15\n",
      "39/39 [==============================] - 0s 3ms/step - loss: 0.0865 - accuracy: 0.9877 - val_loss: 0.1254 - val_accuracy: 0.9641\n",
      "Epoch 10/15\n",
      "39/39 [==============================] - 0s 2ms/step - loss: 0.0784 - accuracy: 0.9877 - val_loss: 0.1214 - val_accuracy: 0.9673\n",
      "Epoch 11/15\n",
      "39/39 [==============================] - 0s 2ms/step - loss: 0.0715 - accuracy: 0.9902 - val_loss: 0.1148 - val_accuracy: 0.9706\n",
      "Epoch 12/15\n",
      "39/39 [==============================] - 0s 2ms/step - loss: 0.0656 - accuracy: 0.9918 - val_loss: 0.1112 - val_accuracy: 0.9706\n",
      "Epoch 13/15\n",
      "39/39 [==============================] - 0s 2ms/step - loss: 0.0606 - accuracy: 0.9943 - val_loss: 0.1078 - val_accuracy: 0.9706\n",
      "Epoch 14/15\n",
      "39/39 [==============================] - 0s 3ms/step - loss: 0.0564 - accuracy: 0.9934 - val_loss: 0.1059 - val_accuracy: 0.9673\n",
      "Epoch 15/15\n",
      "39/39 [==============================] - 0s 2ms/step - loss: 0.0526 - accuracy: 0.9943 - val_loss: 0.1018 - val_accuracy: 0.9673\n"
     ]
    }
   ],
   "source": [
    "from tensorflow.keras.models import Sequential\n",
    "from tensorflow.keras.layers import Dense\n",
    "from tensorflow.keras import optimizers\n",
    "\n",
    "input_dim = X_train.shape[1]\n",
    "hidden_dim = 100\n",
    "output_dim = Y_train.shape[1]\n",
    "\n",
    "model = Sequential()\n",
    "model.add(Dense(hidden_dim, input_dim=input_dim, activation=\"tanh\"))\n",
    "model.add(Dense(output_dim, activation=\"softmax\"))\n",
    "\n",
    "model.compile(optimizer=optimizers.SGD(learning_rate=0.1),\n",
    "              loss='categorical_crossentropy', metrics=['accuracy'])\n",
    "\n",
    "history = model.fit(X_train, Y_train, validation_split=0.2, epochs=15, batch_size=32)"
   ]
  },
  {
   "cell_type": "markdown",
   "metadata": {},
   "source": [
    "### Visualizing the Convergence\n",
    "\n",
    "Let's wrap the keras history info into a pandas dataframe for easier plotting:"
   ]
  },
  {
   "cell_type": "code",
   "execution_count": 22,
   "metadata": {},
   "outputs": [],
   "source": [
    "import pandas as pd\n",
    "\n",
    "history_df = pd.DataFrame(history.history)\n",
    "history_df[\"epoch\"] = history.epoch"
   ]
  },
  {
   "cell_type": "code",
   "execution_count": 23,
   "metadata": {},
   "outputs": [
    {
     "data": {
      "text/html": [
       "<div>\n",
       "<style scoped>\n",
       "    .dataframe tbody tr th:only-of-type {\n",
       "        vertical-align: middle;\n",
       "    }\n",
       "\n",
       "    .dataframe tbody tr th {\n",
       "        vertical-align: top;\n",
       "    }\n",
       "\n",
       "    .dataframe thead th {\n",
       "        text-align: right;\n",
       "    }\n",
       "</style>\n",
       "<table border=\"1\" class=\"dataframe\">\n",
       "  <thead>\n",
       "    <tr style=\"text-align: right;\">\n",
       "      <th></th>\n",
       "      <th>loss</th>\n",
       "      <th>accuracy</th>\n",
       "      <th>val_loss</th>\n",
       "      <th>val_accuracy</th>\n",
       "      <th>epoch</th>\n",
       "    </tr>\n",
       "  </thead>\n",
       "  <tbody>\n",
       "    <tr>\n",
       "      <th>0</th>\n",
       "      <td>0.939608</td>\n",
       "      <td>0.755938</td>\n",
       "      <td>0.434658</td>\n",
       "      <td>0.895425</td>\n",
       "      <td>0</td>\n",
       "    </tr>\n",
       "    <tr>\n",
       "      <th>1</th>\n",
       "      <td>0.334577</td>\n",
       "      <td>0.933661</td>\n",
       "      <td>0.279947</td>\n",
       "      <td>0.921569</td>\n",
       "      <td>1</td>\n",
       "    </tr>\n",
       "    <tr>\n",
       "      <th>2</th>\n",
       "      <td>0.227678</td>\n",
       "      <td>0.952498</td>\n",
       "      <td>0.224792</td>\n",
       "      <td>0.941176</td>\n",
       "      <td>2</td>\n",
       "    </tr>\n",
       "    <tr>\n",
       "      <th>3</th>\n",
       "      <td>0.175929</td>\n",
       "      <td>0.964783</td>\n",
       "      <td>0.179449</td>\n",
       "      <td>0.964052</td>\n",
       "      <td>3</td>\n",
       "    </tr>\n",
       "    <tr>\n",
       "      <th>4</th>\n",
       "      <td>0.144690</td>\n",
       "      <td>0.972973</td>\n",
       "      <td>0.160231</td>\n",
       "      <td>0.960784</td>\n",
       "      <td>4</td>\n",
       "    </tr>\n",
       "    <tr>\n",
       "      <th>5</th>\n",
       "      <td>0.123893</td>\n",
       "      <td>0.976249</td>\n",
       "      <td>0.149385</td>\n",
       "      <td>0.964052</td>\n",
       "      <td>5</td>\n",
       "    </tr>\n",
       "    <tr>\n",
       "      <th>6</th>\n",
       "      <td>0.108406</td>\n",
       "      <td>0.981163</td>\n",
       "      <td>0.139436</td>\n",
       "      <td>0.960784</td>\n",
       "      <td>6</td>\n",
       "    </tr>\n",
       "    <tr>\n",
       "      <th>7</th>\n",
       "      <td>0.096622</td>\n",
       "      <td>0.986077</td>\n",
       "      <td>0.131278</td>\n",
       "      <td>0.964052</td>\n",
       "      <td>7</td>\n",
       "    </tr>\n",
       "    <tr>\n",
       "      <th>8</th>\n",
       "      <td>0.086451</td>\n",
       "      <td>0.987715</td>\n",
       "      <td>0.125355</td>\n",
       "      <td>0.964052</td>\n",
       "      <td>8</td>\n",
       "    </tr>\n",
       "    <tr>\n",
       "      <th>9</th>\n",
       "      <td>0.078409</td>\n",
       "      <td>0.987715</td>\n",
       "      <td>0.121361</td>\n",
       "      <td>0.967320</td>\n",
       "      <td>9</td>\n",
       "    </tr>\n",
       "    <tr>\n",
       "      <th>10</th>\n",
       "      <td>0.071540</td>\n",
       "      <td>0.990172</td>\n",
       "      <td>0.114792</td>\n",
       "      <td>0.970588</td>\n",
       "      <td>10</td>\n",
       "    </tr>\n",
       "    <tr>\n",
       "      <th>11</th>\n",
       "      <td>0.065591</td>\n",
       "      <td>0.991810</td>\n",
       "      <td>0.111208</td>\n",
       "      <td>0.970588</td>\n",
       "      <td>11</td>\n",
       "    </tr>\n",
       "    <tr>\n",
       "      <th>12</th>\n",
       "      <td>0.060580</td>\n",
       "      <td>0.994267</td>\n",
       "      <td>0.107819</td>\n",
       "      <td>0.970588</td>\n",
       "      <td>12</td>\n",
       "    </tr>\n",
       "    <tr>\n",
       "      <th>13</th>\n",
       "      <td>0.056445</td>\n",
       "      <td>0.993448</td>\n",
       "      <td>0.105939</td>\n",
       "      <td>0.967320</td>\n",
       "      <td>13</td>\n",
       "    </tr>\n",
       "    <tr>\n",
       "      <th>14</th>\n",
       "      <td>0.052593</td>\n",
       "      <td>0.994267</td>\n",
       "      <td>0.101794</td>\n",
       "      <td>0.967320</td>\n",
       "      <td>14</td>\n",
       "    </tr>\n",
       "  </tbody>\n",
       "</table>\n",
       "</div>"
      ],
      "text/plain": [
       "        loss  accuracy  val_loss  val_accuracy  epoch\n",
       "0   0.939608  0.755938  0.434658      0.895425      0\n",
       "1   0.334577  0.933661  0.279947      0.921569      1\n",
       "2   0.227678  0.952498  0.224792      0.941176      2\n",
       "3   0.175929  0.964783  0.179449      0.964052      3\n",
       "4   0.144690  0.972973  0.160231      0.960784      4\n",
       "5   0.123893  0.976249  0.149385      0.964052      5\n",
       "6   0.108406  0.981163  0.139436      0.960784      6\n",
       "7   0.096622  0.986077  0.131278      0.964052      7\n",
       "8   0.086451  0.987715  0.125355      0.964052      8\n",
       "9   0.078409  0.987715  0.121361      0.967320      9\n",
       "10  0.071540  0.990172  0.114792      0.970588     10\n",
       "11  0.065591  0.991810  0.111208      0.970588     11\n",
       "12  0.060580  0.994267  0.107819      0.970588     12\n",
       "13  0.056445  0.993448  0.105939      0.967320     13\n",
       "14  0.052593  0.994267  0.101794      0.967320     14"
      ]
     },
     "execution_count": 23,
     "metadata": {},
     "output_type": "execute_result"
    }
   ],
   "source": [
    "history_df"
   ]
  },
  {
   "cell_type": "code",
   "execution_count": 24,
   "metadata": {},
   "outputs": [
    {
     "data": {
      "image/png": "[encoded data removed]",
      "text/plain": [
       "<Figure size 864x432 with 2 Axes>"
      ]
     },
     "metadata": {
      "needs_background": "light"
     },
     "output_type": "display_data"
    }
   ],
   "source": [
    "fig, (ax0, ax1) = plt.subplots(nrows=2, sharex=True, figsize=(12, 6))\n",
    "history_df.plot(x=\"epoch\", y=[\"loss\", \"val_loss\"], ax=ax0)\n",
    "history_df.plot(x=\"epoch\", y=[\"accuracy\", \"val_accuracy\"], ax=ax1);"
   ]
  },
  {
   "cell_type": "markdown",
   "metadata": {},
   "source": [
    "- at the beginning: val_loss lower than loss => Keras uses a moving average"
   ]
  },
  {
   "cell_type": "markdown",
   "metadata": {},
   "source": [
    "### Monitoring Convergence with Tensorboard\n",
    "\n",
    "Tensorboard is a built-in neural network monitoring tool. "
   ]
  },
  {
   "cell_type": "code",
   "execution_count": 25,
   "metadata": {},
   "outputs": [],
   "source": [
    "%load_ext tensorboard"
   ]
  },
  {
   "cell_type": "code",
   "execution_count": 28,
   "metadata": {},
   "outputs": [],
   "source": [
    "!rm -rf tensorboard_logs"
   ]
  },
  {
   "cell_type": "code",
   "execution_count": 29,
   "metadata": {},
   "outputs": [
    {
     "name": "stdout",
     "output_type": "stream",
     "text": [
      "Epoch 1/15\n",
      "39/39 [==============================] - 1s 7ms/step - loss: 0.9613 - accuracy: 0.7600 - val_loss: 0.4409 - val_accuracy: 0.9085\n",
      "Epoch 2/15\n",
      "39/39 [==============================] - 0s 3ms/step - loss: 0.3432 - accuracy: 0.9279 - val_loss: 0.2921 - val_accuracy: 0.9346\n",
      "Epoch 3/15\n",
      "39/39 [==============================] - 0s 2ms/step - loss: 0.2349 - accuracy: 0.9533 - val_loss: 0.2355 - val_accuracy: 0.9412\n",
      "Epoch 4/15\n",
      "39/39 [==============================] - 0s 4ms/step - loss: 0.1828 - accuracy: 0.9672 - val_loss: 0.2091 - val_accuracy: 0.9477\n",
      "Epoch 5/15\n",
      "39/39 [==============================] - 0s 3ms/step - loss: 0.1503 - accuracy: 0.9689 - val_loss: 0.1915 - val_accuracy: 0.9641\n",
      "Epoch 6/15\n",
      "39/39 [==============================] - 0s 3ms/step - loss: 0.1296 - accuracy: 0.9779 - val_loss: 0.1646 - val_accuracy: 0.9641\n",
      "Epoch 7/15\n",
      "39/39 [==============================] - 0s 3ms/step - loss: 0.1110 - accuracy: 0.9787 - val_loss: 0.1533 - val_accuracy: 0.9641\n",
      "Epoch 8/15\n",
      "39/39 [==============================] - 0s 3ms/step - loss: 0.0981 - accuracy: 0.9861 - val_loss: 0.1435 - val_accuracy: 0.9641\n",
      "Epoch 9/15\n",
      "39/39 [==============================] - 0s 4ms/step - loss: 0.0882 - accuracy: 0.9861 - val_loss: 0.1352 - val_accuracy: 0.9641\n",
      "Epoch 10/15\n",
      "39/39 [==============================] - 0s 4ms/step - loss: 0.0800 - accuracy: 0.9861 - val_loss: 0.1269 - val_accuracy: 0.9706\n",
      "Epoch 11/15\n",
      "39/39 [==============================] - 0s 5ms/step - loss: 0.0732 - accuracy: 0.9885 - val_loss: 0.1242 - val_accuracy: 0.9673\n",
      "Epoch 12/15\n",
      "39/39 [==============================] - 0s 4ms/step - loss: 0.0677 - accuracy: 0.9910 - val_loss: 0.1206 - val_accuracy: 0.9771\n",
      "Epoch 13/15\n",
      "39/39 [==============================] - 0s 6ms/step - loss: 0.0617 - accuracy: 0.9910 - val_loss: 0.1156 - val_accuracy: 0.9739\n",
      "Epoch 14/15\n",
      "39/39 [==============================] - 0s 3ms/step - loss: 0.0571 - accuracy: 0.9934 - val_loss: 0.1119 - val_accuracy: 0.9771\n",
      "Epoch 15/15\n",
      "39/39 [==============================] - 0s 5ms/step - loss: 0.0532 - accuracy: 0.9943 - val_loss: 0.1096 - val_accuracy: 0.9739\n"
     ]
    }
   ],
   "source": [
    "import datetime\n",
    "from tensorflow.keras.callbacks import TensorBoard\n",
    "\n",
    "model = Sequential()\n",
    "model.add(Dense(hidden_dim, input_dim=input_dim, activation=\"tanh\"))\n",
    "model.add(Dense(output_dim, activation=\"softmax\"))\n",
    "\n",
    "model.compile(optimizer=optimizers.SGD(learning_rate=0.1),\n",
    "              loss='categorical_crossentropy', metrics=['accuracy'])\n",
    "\n",
    "timestamp =  datetime.datetime.now().strftime(\"%Y%m%d-%H%M%S\")\n",
    "log_dir = \"tensorboard_logs/\" + timestamp\n",
    "tensorboard_callback = TensorBoard(log_dir=log_dir, histogram_freq=1)\n",
    "\n",
    "model.fit(x=X_train, y=Y_train, validation_split=0.2, epochs=15,\n",
    "          callbacks=[tensorboard_callback]);"
   ]
  },
  {
   "cell_type": "code",
   "execution_count": 30,
   "metadata": {},
   "outputs": [
    {
     "data": {
      "text/html": [
       "\n",
       "      <iframe id=\"tensorboard-frame-b9184c56d2f227ed\" width=\"100%\" height=\"800\" frameborder=\"0\">\n",
       "      </iframe>\n",
       "      <script>\n",
       "        (function() {\n",
       "          const frame = document.getElementById(\"tensorboard-frame-b9184c56d2f227ed\");\n",
       "          const url = new URL(\"/\", window.location);\n",
       "          const port = 6006;\n",
       "          if (port) {\n",
       "            url.port = port;\n",
       "          }\n",
       "          frame.src = url;\n",
       "        })();\n",
       "      </script>\n",
       "    "
      ],
      "text/plain": [
       "<IPython.core.display.HTML object>"
      ]
     },
     "metadata": {},
     "output_type": "display_data"
    }
   ],
   "source": [
    "%tensorboard --logdir tensorboard_logs"
   ]
  },
  {
   "cell_type": "markdown",
   "metadata": {},
   "source": [
    "### b) Exercises: Impact of the Optimizer\n",
    "\n",
    "- Try to decrease the learning rate value by 10 or 100. What do you observe?\n",
    "\n",
    "- Try to increase the learning rate value to make the optimization diverge.\n",
    "\n",
    "- Configure the SGD optimizer to enable a Nesterov momentum of 0.9\n",
    "  \n",
    "**Notes**: \n",
    "\n",
    "The keras API documentation is available at:\n",
    "\n",
    "https://www.tensorflow.org/api_docs/python/tf/keras\n",
    "\n",
    "It is also possible to learn more about the parameters of a class by using the question mark: type and evaluate:\n",
    "\n",
    "```python\n",
    "optimizers.SGD?\n",
    "```\n",
    "\n",
    "in a jupyter notebook cell.\n",
    "\n",
    "It is also possible to type the beginning of a function call / constructor and type \"shift-tab\" after the opening paren:\n",
    "\n",
    "```python\n",
    "optimizers.SGD(<shiff-tab>\n",
    "```"
   ]
  },
  {
   "cell_type": "code",
   "execution_count": 30,
   "metadata": {},
   "outputs": [],
   "source": [
    "optimizers.SGD?"
   ]
  },
  {
   "cell_type": "code",
   "execution_count": 31,
   "metadata": {},
   "outputs": [
    {
     "name": "stdout",
     "output_type": "stream",
     "text": [
      "Epoch 1/15\n",
      "39/39 [==============================] - 1s 7ms/step - loss: 2.4659 - accuracy: 0.1097 - val_loss: 2.4273 - val_accuracy: 0.1373\n",
      "Epoch 2/15\n",
      "39/39 [==============================] - 0s 3ms/step - loss: 2.3579 - accuracy: 0.1450 - val_loss: 2.3176 - val_accuracy: 0.1569\n",
      "Epoch 3/15\n",
      "39/39 [==============================] - 0s 2ms/step - loss: 2.2501 - accuracy: 0.1810 - val_loss: 2.2131 - val_accuracy: 0.2059\n",
      "Epoch 4/15\n",
      "39/39 [==============================] - 0s 4ms/step - loss: 2.1491 - accuracy: 0.2211 - val_loss: 2.1146 - val_accuracy: 0.2386\n",
      "Epoch 5/15\n",
      "39/39 [==============================] - 0s 4ms/step - loss: 2.0541 - accuracy: 0.2654 - val_loss: 2.0233 - val_accuracy: 0.3007\n",
      "Epoch 6/15\n",
      "39/39 [==============================] - 0s 2ms/step - loss: 1.9657 - accuracy: 0.3153 - val_loss: 1.9374 - val_accuracy: 0.3301\n",
      "Epoch 7/15\n",
      "39/39 [==============================] - 0s 4ms/step - loss: 1.8818 - accuracy: 0.3669 - val_loss: 1.8558 - val_accuracy: 0.3725\n",
      "Epoch 8/15\n",
      "39/39 [==============================] - 0s 4ms/step - loss: 1.8037 - accuracy: 0.4038 - val_loss: 1.7803 - val_accuracy: 0.4183\n",
      "Epoch 9/15\n",
      "39/39 [==============================] - 0s 3ms/step - loss: 1.7302 - accuracy: 0.4488 - val_loss: 1.7094 - val_accuracy: 0.4575\n",
      "Epoch 10/15\n",
      "39/39 [==============================] - 0s 3ms/step - loss: 1.6614 - accuracy: 0.4906 - val_loss: 1.6426 - val_accuracy: 0.4935\n",
      "Epoch 11/15\n",
      "39/39 [==============================] - 0s 3ms/step - loss: 1.5964 - accuracy: 0.5299 - val_loss: 1.5796 - val_accuracy: 0.5359\n",
      "Epoch 12/15\n",
      "39/39 [==============================] - 0s 4ms/step - loss: 1.5359 - accuracy: 0.5553 - val_loss: 1.5213 - val_accuracy: 0.5719\n",
      "Epoch 13/15\n",
      "39/39 [==============================] - 0s 3ms/step - loss: 1.4794 - accuracy: 0.5823 - val_loss: 1.4666 - val_accuracy: 0.6046\n",
      "Epoch 14/15\n",
      "39/39 [==============================] - 0s 3ms/step - loss: 1.4261 - accuracy: 0.6085 - val_loss: 1.4150 - val_accuracy: 0.6634\n",
      "Epoch 15/15\n",
      "39/39 [==============================] - 0s 4ms/step - loss: 1.3764 - accuracy: 0.6323 - val_loss: 1.3668 - val_accuracy: 0.6830\n"
     ]
    },
    {
     "data": {
      "image/png": "[encoded data removed]",
      "text/plain": [
       "<Figure size 864x432 with 2 Axes>"
      ]
     },
     "metadata": {
      "needs_background": "light"
     },
     "output_type": "display_data"
    }
   ],
   "source": [
    "# %load solutions/keras_sgd_and_momentum.py\n",
    "model = Sequential()\n",
    "model.add(Dense(hidden_dim, input_dim=input_dim,\n",
    "                activation=\"tanh\"))\n",
    "model.add(Dense(output_dim, activation=\"softmax\"))\n",
    "\n",
    "optimizer = optimizers.SGD(learning_rate=0.0001, momentum=0.9, nesterov=True)\n",
    "model.compile(optimizer=optimizer, loss='categorical_crossentropy',\n",
    "              metrics=['accuracy'])\n",
    "history = model.fit(X_train, Y_train, validation_split=0.2,\n",
    "                    epochs=15, batch_size=32)\n",
    "\n",
    "fig, (ax0, ax1) = plt.subplots(nrows=2, sharex=True, figsize=(12, 6))\n",
    "history_df = pd.DataFrame(history.history)\n",
    "history_df[\"epoch\"] = history.epoch\n",
    "history_df.plot(x=\"epoch\", y=[\"loss\", \"val_loss\"], ax=ax0)\n",
    "history_df.plot(x=\"epoch\", y=[\"accuracy\", \"val_accuracy\"], ax=ax1);\n",
    "\n",
    "\n",
    "# Analysis:\n",
    "#\n",
    "# Setting the learning rate value to a small value (e.g. lr=0.001 on\n",
    "# this dataset) makes the model train much slower (it has not\n",
    "# converged yet after 15 epochs).\n",
    "#\n",
    "# Using momentum tends to mitigate the small learning rate / slow\n",
    "# training problem a bit.\n",
    "#\n",
    "# Setting the learning rate to a very large value (e.g. lr=10)\n",
    "# makes the model randomly bounce around a good local\n",
    "# minimum and therefore prevent it to reach a low training loss even\n",
    "# after 30 epochs.\n"
   ]
  },
  {
   "cell_type": "markdown",
   "metadata": {},
   "source": [
    "- Replace the SGD optimizer by the Adam optimizer from keras and run it\n",
    "  with the default parameters.\n",
    "\n",
    "  Hint: use `optimizers.<TAB>` to tab-complete the list of implemented optimizers in Keras.\n",
    "\n",
    "- Add another hidden layer and use the \"Rectified Linear Unit\" for each\n",
    "  hidden layer. Can you still train the model with Adam with its default global\n",
    "  learning rate?"
   ]
  },
  {
   "cell_type": "code",
   "execution_count": 32,
   "metadata": {},
   "outputs": [],
   "source": [
    "optimizers.Adam?"
   ]
  },
  {
   "cell_type": "code",
   "execution_count": 32,
   "metadata": {},
   "outputs": [
    {
     "name": "stdout",
     "output_type": "stream",
     "text": [
      "Epoch 1/15\n",
      "39/39 [==============================] - 1s 7ms/step - loss: 1.5541 - accuracy: 0.5946 - val_loss: 0.7877 - val_accuracy: 0.8693\n",
      "Epoch 2/15\n",
      "39/39 [==============================] - 0s 3ms/step - loss: 0.5049 - accuracy: 0.8927 - val_loss: 0.3151 - val_accuracy: 0.9281\n",
      "Epoch 3/15\n",
      "39/39 [==============================] - 0s 3ms/step - loss: 0.2392 - accuracy: 0.9394 - val_loss: 0.2062 - val_accuracy: 0.9542\n",
      "Epoch 4/15\n",
      "39/39 [==============================] - 0s 2ms/step - loss: 0.1456 - accuracy: 0.9689 - val_loss: 0.1606 - val_accuracy: 0.9673\n",
      "Epoch 5/15\n",
      "39/39 [==============================] - 0s 2ms/step - loss: 0.1005 - accuracy: 0.9803 - val_loss: 0.1332 - val_accuracy: 0.9771\n",
      "Epoch 6/15\n",
      "39/39 [==============================] - 0s 3ms/step - loss: 0.0755 - accuracy: 0.9869 - val_loss: 0.1326 - val_accuracy: 0.9771\n",
      "Epoch 7/15\n",
      "39/39 [==============================] - 0s 2ms/step - loss: 0.0536 - accuracy: 0.9926 - val_loss: 0.1154 - val_accuracy: 0.9771\n",
      "Epoch 8/15\n",
      "39/39 [==============================] - 0s 2ms/step - loss: 0.0397 - accuracy: 0.9975 - val_loss: 0.1097 - val_accuracy: 0.9771\n",
      "Epoch 9/15\n",
      "39/39 [==============================] - 0s 3ms/step - loss: 0.0317 - accuracy: 0.9992 - val_loss: 0.1131 - val_accuracy: 0.9771\n",
      "Epoch 10/15\n",
      "39/39 [==============================] - 0s 4ms/step - loss: 0.0233 - accuracy: 0.9984 - val_loss: 0.1112 - val_accuracy: 0.9771\n",
      "Epoch 11/15\n",
      "39/39 [==============================] - 0s 3ms/step - loss: 0.0190 - accuracy: 0.9992 - val_loss: 0.1052 - val_accuracy: 0.9771\n",
      "Epoch 12/15\n",
      "39/39 [==============================] - 0s 2ms/step - loss: 0.0151 - accuracy: 0.9992 - val_loss: 0.1062 - val_accuracy: 0.9771\n",
      "Epoch 13/15\n",
      "39/39 [==============================] - 0s 3ms/step - loss: 0.0126 - accuracy: 1.0000 - val_loss: 0.1034 - val_accuracy: 0.9771\n",
      "Epoch 14/15\n",
      "39/39 [==============================] - 0s 3ms/step - loss: 0.0104 - accuracy: 1.0000 - val_loss: 0.1042 - val_accuracy: 0.9771\n",
      "Epoch 15/15\n",
      "39/39 [==============================] - 0s 2ms/step - loss: 0.0088 - accuracy: 1.0000 - val_loss: 0.1044 - val_accuracy: 0.9771\n"
     ]
    }
   ],
   "source": [
    "input_dim = X_train.shape[1]\n",
    "hidden_dim = 100\n",
    "output_dim = Y_train.shape[1]\n",
    "\n",
    "model = Sequential()\n",
    "model.add(Dense(hidden_dim, input_dim=input_dim, activation=\"relu\"))\n",
    "model.add(Dense(hidden_dim, activation=\"relu\"))\n",
    "model.add(Dense(output_dim, activation=\"softmax\"))\n",
    "\n",
    "model.compile(optimizer=optimizers.Adam(),\n",
    "              loss='categorical_crossentropy', metrics=['accuracy'])\n",
    "\n",
    "history = model.fit(X_train, Y_train, validation_split=0.2, epochs=15, batch_size=32)"
   ]
  },
  {
   "cell_type": "code",
   "execution_count": 34,
   "metadata": {},
   "outputs": [],
   "source": [
    "# %load solutions/keras_adam.py\n",
    "# %load solutions/keras_adam_and_adadelta.py"
   ]
  },
  {
   "cell_type": "markdown",
   "metadata": {},
   "source": [
    "### Exercises: Forward Pass and Generalization\n",
    "\n",
    "- Compute predictions on test set using `model.predict(...)`\n",
    "- Compute average accuracy of the model on the test set: the fraction of test samples for which the model makes a prediction that matches the true label."
   ]
  },
  {
   "cell_type": "code",
   "execution_count": 33,
   "metadata": {},
   "outputs": [
    {
     "name": "stdout",
     "output_type": "stream",
     "text": [
      "test acc: 0.9815\n"
     ]
    }
   ],
   "source": [
    "y_predicted = np.argmax(model.predict(X_test, verbose=0), axis=1)\n",
    "print(\"test acc: %0.4f\" % np.mean(y_predicted == y_test))"
   ]
  },
  {
   "cell_type": "code",
   "execution_count": 34,
   "metadata": {},
   "outputs": [
    {
     "name": "stdout",
     "output_type": "stream",
     "text": [
      "test acc: 0.9815\n"
     ]
    },
    {
     "data": {
      "image/png": "[encoded data removed]",
      "text/plain": [
       "<Figure size 864x648 with 15 Axes>"
      ]
     },
     "metadata": {
      "needs_background": "light"
     },
     "output_type": "display_data"
    }
   ],
   "source": [
    "# %load solutions/keras_accuracy_on_test_set.py\n",
    "y_predicted = np.argmax(model.predict(X_test, verbose=0), axis=1)\n",
    "\n",
    "# Let's display the first inputs image, the predicted labels and the true labels\n",
    "fig, axes = plt.subplots(ncols=5, nrows=3, figsize=(12, 9))\n",
    "for i, ax in enumerate(axes.ravel()):\n",
    "    ax.imshow(scaler.inverse_transform(X_test[i:i+1]).reshape(8, 8),\n",
    "              cmap=plt.cm.gray_r, interpolation='nearest')\n",
    "    ax.set_title(\"predicted label: %d\\n true label: %d\"\n",
    "                 % (y_predicted[i], y_test[i]))\n",
    "\n",
    "print(\"test acc: %0.4f\" % np.mean(y_predicted == y_test))\n"
   ]
  },
  {
   "cell_type": "markdown",
   "metadata": {},
   "source": [
    "Let us decompose how we got the predictions. First, we call the model on the data to get the laster layer (softmax) outputs directly as a tensorflow Tensor:"
   ]
  },
  {
   "cell_type": "code",
   "execution_count": 35,
   "metadata": {},
   "outputs": [
    {
     "data": {
      "text/plain": [
       "<tf.Tensor: shape=(5, 10), dtype=float32, numpy=\n",
       "array([[3.3620202e-09, 1.4173884e-06, 9.9999166e-01, 6.8312193e-06,\n",
       "        3.0935481e-09, 5.0997078e-09, 9.4577246e-10, 1.3119942e-08,\n",
       "        2.7206950e-09, 9.2449916e-08],\n",
       "       [6.2181643e-05, 5.4653732e-08, 1.9331303e-07, 4.7185775e-08,\n",
       "        9.9992919e-01, 9.5987268e-08, 6.0684749e-07, 7.1835839e-06,\n",
       "        3.8807690e-07, 1.6230667e-08],\n",
       "       [1.1879164e-08, 9.4884763e-06, 6.8071427e-06, 2.3752284e-05,\n",
       "        8.7041853e-06, 1.3206854e-07, 3.0958508e-10, 9.9993706e-01,\n",
       "        1.9363061e-07, 1.3897221e-05],\n",
       "       [7.4822087e-06, 3.9013033e-04, 9.0703725e-07, 2.2815444e-04,\n",
       "        1.0636554e-05, 5.7854629e-07, 6.8913732e-07, 5.4658590e-06,\n",
       "        1.4061900e-04, 9.9921525e-01],\n",
       "       [6.5730824e-06, 9.6637183e-01, 1.8776647e-05, 5.6400604e-05,\n",
       "        8.0146594e-05, 1.0081119e-06, 1.5959525e-06, 1.9666023e-04,\n",
       "        3.2818560e-02, 4.4829250e-04]], dtype=float32)>"
      ]
     },
     "execution_count": 35,
     "metadata": {},
     "output_type": "execute_result"
    }
   ],
   "source": [
    "predictions_tf = model(X_test)\n",
    "predictions_tf[:5]"
   ]
  },
  {
   "cell_type": "code",
   "execution_count": 36,
   "metadata": {},
   "outputs": [
    {
     "data": {
      "text/plain": [
       "(tensorflow.python.framework.ops.EagerTensor, TensorShape([270, 10]))"
      ]
     },
     "execution_count": 36,
     "metadata": {},
     "output_type": "execute_result"
    }
   ],
   "source": [
    "type(predictions_tf), predictions_tf.shape"
   ]
  },
  {
   "cell_type": "markdown",
   "metadata": {},
   "source": [
    "We can use the tensorflow API to check that for each row, the probabilities sum to 1:"
   ]
  },
  {
   "cell_type": "code",
   "execution_count": 37,
   "metadata": {},
   "outputs": [
    {
     "data": {
      "text/plain": [
       "<tf.Tensor: shape=(5,), dtype=float32, numpy=\n",
       "array([1.        , 0.99999994, 0.99999994, 0.9999999 , 0.9999999 ],\n",
       "      dtype=float32)>"
      ]
     },
     "execution_count": 37,
     "metadata": {},
     "output_type": "execute_result"
    }
   ],
   "source": [
    "import tensorflow as tf\n",
    "\n",
    "tf.reduce_sum(predictions_tf, axis=1)[:5]"
   ]
  },
  {
   "cell_type": "markdown",
   "metadata": {},
   "source": [
    "We can also extract the label with the highest probability using the tensorflow API:"
   ]
  },
  {
   "cell_type": "code",
   "execution_count": 38,
   "metadata": {},
   "outputs": [
    {
     "data": {
      "text/plain": [
       "<tf.Tensor: shape=(5,), dtype=int64, numpy=array([2, 4, 7, 9, 1])>"
      ]
     },
     "execution_count": 38,
     "metadata": {},
     "output_type": "execute_result"
    }
   ],
   "source": [
    "predicted_labels_tf = tf.argmax(predictions_tf, axis=1)\n",
    "predicted_labels_tf[:5]"
   ]
  },
  {
   "cell_type": "markdown",
   "metadata": {},
   "source": [
    "We can compare those labels to the expected labels to compute the accuracy with the Tensorflow API. Note however that we need an explicit cast from boolean to floating point values to be able to compute the mean accuracy when using the tensorflow tensors:"
   ]
  },
  {
   "cell_type": "code",
   "execution_count": 39,
   "metadata": {},
   "outputs": [
    {
     "data": {
      "text/plain": [
       "<tf.Tensor: shape=(), dtype=float64, numpy=0.9814814814814815>"
      ]
     },
     "execution_count": 39,
     "metadata": {},
     "output_type": "execute_result"
    }
   ],
   "source": [
    "accuracy_tf = tf.reduce_mean(tf.cast(predicted_labels_tf == y_test, tf.float64))\n",
    "accuracy_tf"
   ]
  },
  {
   "cell_type": "markdown",
   "metadata": {},
   "source": [
    "Also note that it is possible to convert tensors to numpy array if one prefer to use numpy:"
   ]
  },
  {
   "cell_type": "code",
   "execution_count": 40,
   "metadata": {},
   "outputs": [
    {
     "data": {
      "text/plain": [
       "0.9814814814814815"
      ]
     },
     "execution_count": 40,
     "metadata": {},
     "output_type": "execute_result"
    }
   ],
   "source": [
    "accuracy_tf.numpy()"
   ]
  },
  {
   "cell_type": "code",
   "execution_count": 41,
   "metadata": {},
   "outputs": [
    {
     "data": {
      "text/plain": [
       "<tf.Tensor: shape=(5,), dtype=int64, numpy=array([2, 4, 7, 9, 1])>"
      ]
     },
     "execution_count": 41,
     "metadata": {},
     "output_type": "execute_result"
    }
   ],
   "source": [
    "predicted_labels_tf[:5]"
   ]
  },
  {
   "cell_type": "code",
   "execution_count": 42,
   "metadata": {},
   "outputs": [
    {
     "data": {
      "text/plain": [
       "array([2, 4, 7, 9, 1])"
      ]
     },
     "execution_count": 42,
     "metadata": {},
     "output_type": "execute_result"
    }
   ],
   "source": [
    "predicted_labels_tf.numpy()[:5]"
   ]
  },
  {
   "cell_type": "code",
   "execution_count": 43,
   "metadata": {},
   "outputs": [
    {
     "data": {
      "text/plain": [
       "0.9814814814814815"
      ]
     },
     "execution_count": 43,
     "metadata": {},
     "output_type": "execute_result"
    }
   ],
   "source": [
    "(predicted_labels_tf.numpy() == y_test).mean()"
   ]
  },
  {
   "cell_type": "markdown",
   "metadata": {},
   "source": [
    "## Home Assignment: Impact of Initialization\n",
    "\n",
    "Let us now study the impact of a bad initialization when training\n",
    "a deep feed forward network.\n",
    "\n",
    "By default Keras dense layers use the \"Glorot Uniform\" initialization\n",
    "strategy to initialize the weight matrices:\n",
    "\n",
    "- each weight coefficient is randomly sampled from [-scale, scale]\n",
    "- scale is proportional to $\\frac{1}{\\sqrt{n_{in} + n_{out}}}$\n",
    "\n",
    "This strategy is known to work well to initialize deep neural networks\n",
    "with \"tanh\" or \"relu\" activation functions and then trained with\n",
    "standard SGD.\n",
    "\n",
    "To assess the impact of initialization let us plug an alternative init\n",
    "scheme into a 2 hidden layers networks with \"tanh\" activations.\n",
    "For the sake of the example let's use normal distributed weights\n",
    "with a manually adjustable scale (standard deviation) and see the\n",
    "impact the scale value:"
   ]
  },
  {
   "cell_type": "code",
   "execution_count": 44,
   "metadata": {},
   "outputs": [],
   "source": [
    "from tensorflow.keras import initializers\n",
    "\n",
    "normal_init = initializers.TruncatedNormal(stddev=0.01)\n",
    "\n",
    "\n",
    "model = Sequential()\n",
    "model.add(Dense(hidden_dim, input_dim=input_dim, activation=\"tanh\",\n",
    "                kernel_initializer=normal_init))\n",
    "model.add(Dense(hidden_dim, activation=\"tanh\",\n",
    "                kernel_initializer=normal_init))\n",
    "model.add(Dense(output_dim, activation=\"softmax\",\n",
    "                kernel_initializer=normal_init))\n",
    "\n",
    "model.compile(optimizer=optimizers.SGD(learning_rate=0.1),\n",
    "              loss='categorical_crossentropy', metrics=['accuracy'])"
   ]
  },
  {
   "cell_type": "code",
   "execution_count": 45,
   "metadata": {},
   "outputs": [
    {
     "data": {
      "text/plain": [
       "[<keras.layers.core.dense.Dense at 0x7fefa9bd87f0>,\n",
       " <keras.layers.core.dense.Dense at 0x7fefa9c3adf0>,\n",
       " <keras.layers.core.dense.Dense at 0x7fefa9784730>]"
      ]
     },
     "execution_count": 45,
     "metadata": {},
     "output_type": "execute_result"
    }
   ],
   "source": [
    "model.layers"
   ]
  },
  {
   "cell_type": "markdown",
   "metadata": {},
   "source": [
    "Let's have a look at the parameters of the first layer after initialization but before any training has happened:"
   ]
  },
  {
   "cell_type": "code",
   "execution_count": 46,
   "metadata": {},
   "outputs": [
    {
     "data": {
      "text/plain": [
       "[<tf.Variable 'dense_9/kernel:0' shape=(64, 100) dtype=float32, numpy=\n",
       " array([[-0.00128948, -0.0018295 ,  0.00419731, ..., -0.00360838,\n",
       "          0.0038925 , -0.00717339],\n",
       "        [ 0.00794952, -0.00099612,  0.00931878, ..., -0.0113828 ,\n",
       "         -0.00325098, -0.01384454],\n",
       "        [-0.01191419,  0.00427087, -0.00156797, ...,  0.00154985,\n",
       "         -0.00018952, -0.00059975],\n",
       "        ...,\n",
       "        [ 0.00034306,  0.00606465,  0.01270385, ..., -0.00550354,\n",
       "          0.00289455, -0.01261023],\n",
       "        [-0.00598826,  0.01111546,  0.00544396, ..., -0.00894673,\n",
       "         -0.00752415,  0.00492209],\n",
       "        [ 0.00370599,  0.00655483,  0.00305849, ..., -0.0148926 ,\n",
       "         -0.00421979, -0.00206721]], dtype=float32)>,\n",
       " <tf.Variable 'dense_9/bias:0' shape=(100,) dtype=float32, numpy=\n",
       " array([0., 0., 0., 0., 0., 0., 0., 0., 0., 0., 0., 0., 0., 0., 0., 0., 0.,\n",
       "        0., 0., 0., 0., 0., 0., 0., 0., 0., 0., 0., 0., 0., 0., 0., 0., 0.,\n",
       "        0., 0., 0., 0., 0., 0., 0., 0., 0., 0., 0., 0., 0., 0., 0., 0., 0.,\n",
       "        0., 0., 0., 0., 0., 0., 0., 0., 0., 0., 0., 0., 0., 0., 0., 0., 0.,\n",
       "        0., 0., 0., 0., 0., 0., 0., 0., 0., 0., 0., 0., 0., 0., 0., 0., 0.,\n",
       "        0., 0., 0., 0., 0., 0., 0., 0., 0., 0., 0., 0., 0., 0., 0.],\n",
       "       dtype=float32)>]"
      ]
     },
     "execution_count": 46,
     "metadata": {},
     "output_type": "execute_result"
    }
   ],
   "source": [
    "model.layers[0].weights"
   ]
  },
  {
   "cell_type": "code",
   "execution_count": 47,
   "metadata": {},
   "outputs": [
    {
     "data": {
      "text/plain": [
       "array([[-0.00128948, -0.0018295 ,  0.00419731, ..., -0.00360838,\n",
       "         0.0038925 , -0.00717339],\n",
       "       [ 0.00794952, -0.00099612,  0.00931878, ..., -0.0113828 ,\n",
       "        -0.00325098, -0.01384454],\n",
       "       [-0.01191419,  0.00427087, -0.00156797, ...,  0.00154985,\n",
       "        -0.00018952, -0.00059975],\n",
       "       ...,\n",
       "       [ 0.00034306,  0.00606465,  0.01270385, ..., -0.00550354,\n",
       "         0.00289455, -0.01261023],\n",
       "       [-0.00598826,  0.01111546,  0.00544396, ..., -0.00894673,\n",
       "        -0.00752415,  0.00492209],\n",
       "       [ 0.00370599,  0.00655483,  0.00305849, ..., -0.0148926 ,\n",
       "        -0.00421979, -0.00206721]], dtype=float32)"
      ]
     },
     "execution_count": 47,
     "metadata": {},
     "output_type": "execute_result"
    }
   ],
   "source": [
    "w = model.layers[0].weights[0].numpy()\n",
    "w"
   ]
  },
  {
   "cell_type": "code",
   "execution_count": 48,
   "metadata": {},
   "outputs": [
    {
     "data": {
      "text/plain": [
       "0.0089045055"
      ]
     },
     "execution_count": 48,
     "metadata": {},
     "output_type": "execute_result"
    }
   ],
   "source": [
    "w.std()"
   ]
  },
  {
   "cell_type": "code",
   "execution_count": 49,
   "metadata": {},
   "outputs": [
    {
     "data": {
      "text/plain": [
       "array([0., 0., 0., 0., 0., 0., 0., 0., 0., 0., 0., 0., 0., 0., 0., 0., 0.,\n",
       "       0., 0., 0., 0., 0., 0., 0., 0., 0., 0., 0., 0., 0., 0., 0., 0., 0.,\n",
       "       0., 0., 0., 0., 0., 0., 0., 0., 0., 0., 0., 0., 0., 0., 0., 0., 0.,\n",
       "       0., 0., 0., 0., 0., 0., 0., 0., 0., 0., 0., 0., 0., 0., 0., 0., 0.,\n",
       "       0., 0., 0., 0., 0., 0., 0., 0., 0., 0., 0., 0., 0., 0., 0., 0., 0.,\n",
       "       0., 0., 0., 0., 0., 0., 0., 0., 0., 0., 0., 0., 0., 0., 0.],\n",
       "      dtype=float32)"
      ]
     },
     "execution_count": 49,
     "metadata": {},
     "output_type": "execute_result"
    }
   ],
   "source": [
    "b = model.layers[0].weights[1].numpy()\n",
    "b"
   ]
  },
  {
   "cell_type": "code",
   "execution_count": 50,
   "metadata": {},
   "outputs": [
    {
     "name": "stdout",
     "output_type": "stream",
     "text": [
      "Epoch 1/15\n",
      "48/48 [==============================] - 0s 2ms/step - loss: 2.3025 - accuracy: 0.1067\n",
      "Epoch 2/15\n",
      "48/48 [==============================] - 0s 3ms/step - loss: 2.2988 - accuracy: 0.1297\n",
      "Epoch 3/15\n",
      "48/48 [==============================] - 0s 3ms/step - loss: 2.2801 - accuracy: 0.2010\n",
      "Epoch 4/15\n",
      "48/48 [==============================] - 0s 2ms/step - loss: 1.9726 - accuracy: 0.2633\n",
      "Epoch 5/15\n",
      "48/48 [==============================] - 0s 2ms/step - loss: 1.2777 - accuracy: 0.6195\n",
      "Epoch 6/15\n",
      "48/48 [==============================] - 0s 1ms/step - loss: 0.7934 - accuracy: 0.7551\n",
      "Epoch 7/15\n",
      "48/48 [==============================] - 0s 1ms/step - loss: 0.6062 - accuracy: 0.8173\n",
      "Epoch 8/15\n",
      "48/48 [==============================] - 0s 1ms/step - loss: 0.4744 - accuracy: 0.8579\n",
      "Epoch 9/15\n",
      "48/48 [==============================] - 0s 1ms/step - loss: 0.3827 - accuracy: 0.8919\n",
      "Epoch 10/15\n",
      "48/48 [==============================] - 0s 2ms/step - loss: 0.3135 - accuracy: 0.9109\n",
      "Epoch 11/15\n",
      "48/48 [==============================] - 0s 1ms/step - loss: 0.2569 - accuracy: 0.9260\n",
      "Epoch 12/15\n",
      "48/48 [==============================] - 0s 1ms/step - loss: 0.2191 - accuracy: 0.9365\n",
      "Epoch 13/15\n",
      "48/48 [==============================] - 0s 2ms/step - loss: 0.1888 - accuracy: 0.9522\n",
      "Epoch 14/15\n",
      "48/48 [==============================] - 0s 2ms/step - loss: 0.1643 - accuracy: 0.9574\n",
      "Epoch 15/15\n",
      "48/48 [==============================] - 0s 2ms/step - loss: 0.1447 - accuracy: 0.9646\n"
     ]
    },
    {
     "data": {
      "image/png": "[encoded data removed]",
      "text/plain": [
       "<Figure size 864x288 with 1 Axes>"
      ]
     },
     "metadata": {
      "needs_background": "light"
     },
     "output_type": "display_data"
    }
   ],
   "source": [
    "history = model.fit(X_train, Y_train, epochs=15, batch_size=32)\n",
    "\n",
    "plt.figure(figsize=(12, 4))\n",
    "plt.plot(history.history['loss'], label=\"Truncated Normal init\")\n",
    "plt.legend();"
   ]
  },
  {
   "cell_type": "markdown",
   "metadata": {},
   "source": [
    "Once the model has been fit, the weights have been updated and notably the biases are no longer 0:"
   ]
  },
  {
   "cell_type": "code",
   "execution_count": 51,
   "metadata": {},
   "outputs": [
    {
     "data": {
      "text/plain": [
       "[<tf.Variable 'dense_9/kernel:0' shape=(64, 100) dtype=float32, numpy=\n",
       " array([[-0.00128948, -0.0018295 ,  0.00419731, ..., -0.00360838,\n",
       "          0.0038925 , -0.00717339],\n",
       "        [ 0.00838765, -0.00523276, -0.01200538, ...,  0.01115156,\n",
       "          0.00079436, -0.04111314],\n",
       "        [-0.00761009, -0.00689171, -0.08538224, ...,  0.06372982,\n",
       "          0.02776855, -0.02043502],\n",
       "        ...,\n",
       "        [ 0.02092999,  0.04145153,  0.07094092, ..., -0.07396046,\n",
       "         -0.03969744, -0.05417539],\n",
       "        [-0.00074362,  0.05029358,  0.01623389, ..., -0.03426124,\n",
       "         -0.02972432, -0.01526295],\n",
       "        [ 0.01548087,  0.07957939, -0.01852623, ..., -0.06828754,\n",
       "         -0.0867849 ,  0.08269027]], dtype=float32)>,\n",
       " <tf.Variable 'dense_9/bias:0' shape=(100,) dtype=float32, numpy=\n",
       " array([ 0.01659471, -0.03843728,  0.03576197, -0.03100389,  0.04391937,\n",
       "         0.02371572,  0.01669499,  0.02813956, -0.0415191 ,  0.00729677,\n",
       "        -0.02140483, -0.11699622,  0.01874636, -0.01916133,  0.00714877,\n",
       "         0.02498219, -0.03132247, -0.02522966,  0.04005705,  0.02406185,\n",
       "         0.02404963, -0.00445994, -0.00228811, -0.04209974,  0.06327692,\n",
       "         0.00986288, -0.01127306,  0.04826578, -0.00930618,  0.02900674,\n",
       "        -0.0242193 , -0.04917967,  0.05380794, -0.00090225, -0.02223127,\n",
       "        -0.03387297, -0.01434151,  0.08112885, -0.01758866, -0.04484511,\n",
       "        -0.01706023, -0.03599174,  0.01348556,  0.03628774,  0.01537682,\n",
       "         0.00982453, -0.04173977,  0.06092463,  0.01851586,  0.03095608,\n",
       "         0.02978951, -0.02221343, -0.02773272, -0.04016019, -0.14896274,\n",
       "        -0.0173685 , -0.0028386 , -0.04594593,  0.05624354, -0.01024811,\n",
       "         0.03063609,  0.08681356,  0.00519063,  0.05447861,  0.00720136,\n",
       "        -0.00985369,  0.00765209,  0.15012509, -0.02094645,  0.03484536,\n",
       "         0.00486473, -0.02080964,  0.01014006,  0.02856549, -0.08632343,\n",
       "         0.08016428, -0.00394117, -0.03311587,  0.05681929,  0.03752701,\n",
       "        -0.0094288 ,  0.01352073, -0.01068189, -0.028144  , -0.06808244,\n",
       "         0.00989749,  0.00645908, -0.07858156, -0.02287991, -0.02529287,\n",
       "         0.01822972, -0.02173518, -0.02012578, -0.02899048,  0.00454858,\n",
       "         0.00027109, -0.01111578, -0.05333172, -0.03675079, -0.00508836],\n",
       "       dtype=float32)>]"
      ]
     },
     "execution_count": 51,
     "metadata": {},
     "output_type": "execute_result"
    }
   ],
   "source": [
    "model.layers[0].weights"
   ]
  },
  {
   "cell_type": "markdown",
   "metadata": {},
   "source": [
    "#### Questions:\n",
    "\n",
    "- Try the following initialization schemes and see whether\n",
    "  the SGD algorithm can successfully train the network or\n",
    "  not:\n",
    "  \n",
    "  - a very small e.g. `stddev=1e-3`\n",
    "  - a larger scale e.g. `stddev=1` or `10`\n",
    "  - initialize all weights to 0 (constant initialization)\n",
    "  \n",
    "- What do you observe? Can you find an explanation for those\n",
    "  outcomes?\n",
    "\n",
    "- Are more advanced solvers such as SGD with momentum or Adam able\n",
    "  to deal better with such bad initializations?"
   ]
  },
  {
   "cell_type": "code",
   "execution_count": 56,
   "metadata": {
    "scrolled": false
   },
   "outputs": [
    {
     "name": "stdout",
     "output_type": "stream",
     "text": [
      "Epoch 1/15\n",
      "48/48 [==============================] - 0s 2ms/step - loss: 2.3036 - accuracy: 0.0963\n",
      "Epoch 2/15\n",
      "48/48 [==============================] - 0s 2ms/step - loss: 2.3033 - accuracy: 0.1035\n",
      "Epoch 3/15\n",
      "48/48 [==============================] - 0s 2ms/step - loss: 2.3032 - accuracy: 0.1061\n",
      "Epoch 4/15\n",
      "48/48 [==============================] - 0s 2ms/step - loss: 2.3031 - accuracy: 0.1087\n",
      "Epoch 5/15\n",
      "48/48 [==============================] - 0s 2ms/step - loss: 2.3029 - accuracy: 0.1087\n",
      "Epoch 6/15\n",
      "48/48 [==============================] - 0s 2ms/step - loss: 2.3030 - accuracy: 0.1087\n",
      "Epoch 7/15\n",
      "48/48 [==============================] - 0s 2ms/step - loss: 2.3029 - accuracy: 0.1087\n",
      "Epoch 8/15\n",
      "48/48 [==============================] - 0s 2ms/step - loss: 2.3031 - accuracy: 0.1087\n",
      "Epoch 9/15\n",
      "48/48 [==============================] - 0s 2ms/step - loss: 2.3029 - accuracy: 0.1087\n",
      "Epoch 10/15\n",
      "48/48 [==============================] - 0s 2ms/step - loss: 2.3028 - accuracy: 0.1087\n",
      "Epoch 11/15\n",
      "48/48 [==============================] - 0s 2ms/step - loss: 2.3029 - accuracy: 0.1087\n",
      "Epoch 12/15\n",
      "48/48 [==============================] - 0s 2ms/step - loss: 2.3031 - accuracy: 0.1087\n",
      "Epoch 13/15\n",
      "48/48 [==============================] - 0s 3ms/step - loss: 2.3030 - accuracy: 0.1041\n",
      "Epoch 14/15\n",
      "48/48 [==============================] - 0s 2ms/step - loss: 2.3029 - accuracy: 0.1087\n",
      "Epoch 15/15\n",
      "48/48 [==============================] - 0s 2ms/step - loss: 2.3030 - accuracy: 0.1087\n"
     ]
    },
    {
     "data": {
      "image/png": "[encoded data removed]",
      "text/plain": [
       "<Figure size 864x288 with 1 Axes>"
      ]
     },
     "metadata": {
      "needs_background": "light"
     },
     "output_type": "display_data"
    }
   ],
   "source": [
    "normal_init = initializers.TruncatedNormal(stddev=0.001)\n",
    "\n",
    "\n",
    "model = Sequential()\n",
    "model.add(Dense(hidden_dim, input_dim=input_dim, activation=\"tanh\",\n",
    "                kernel_initializer=normal_init))\n",
    "model.add(Dense(hidden_dim, activation=\"tanh\",\n",
    "                kernel_initializer=normal_init))\n",
    "model.add(Dense(output_dim, activation=\"softmax\",\n",
    "                kernel_initializer=normal_init))\n",
    "\n",
    "model.compile(optimizer=optimizers.SGD(learning_rate=0.1),\n",
    "              loss='categorical_crossentropy', metrics=['accuracy'])\n",
    "\n",
    "history = model.fit(X_train, Y_train, epochs=15, batch_size=32)\n",
    "\n",
    "plt.figure(figsize=(12, 4))\n",
    "plt.plot(history.history['loss'], label=\"Truncated Normal init\")\n",
    "plt.legend();"
   ]
  },
  {
   "cell_type": "code",
   "execution_count": 59,
   "metadata": {},
   "outputs": [
    {
     "name": "stdout",
     "output_type": "stream",
     "text": [
      "Epoch 1/15\n",
      "48/48 [==============================] - 0s 2ms/step - loss: 5.1661 - accuracy: 0.4172\n",
      "Epoch 2/15\n",
      "48/48 [==============================] - 0s 1ms/step - loss: 1.3128 - accuracy: 0.7800\n",
      "Epoch 3/15\n",
      "48/48 [==============================] - 0s 2ms/step - loss: 0.5237 - accuracy: 0.8965\n",
      "Epoch 4/15\n",
      "48/48 [==============================] - 0s 1ms/step - loss: 0.2831 - accuracy: 0.9528\n",
      "Epoch 5/15\n",
      "48/48 [==============================] - 0s 2ms/step - loss: 0.1806 - accuracy: 0.9679\n",
      "Epoch 6/15\n",
      "48/48 [==============================] - 0s 2ms/step - loss: 0.1238 - accuracy: 0.9777\n",
      "Epoch 7/15\n",
      "48/48 [==============================] - 0s 2ms/step - loss: 0.0903 - accuracy: 0.9856\n",
      "Epoch 8/15\n",
      "48/48 [==============================] - 0s 1ms/step - loss: 0.0721 - accuracy: 0.9895\n",
      "Epoch 9/15\n",
      "48/48 [==============================] - 0s 2ms/step - loss: 0.0599 - accuracy: 0.9915\n",
      "Epoch 10/15\n",
      "48/48 [==============================] - 0s 3ms/step - loss: 0.0507 - accuracy: 0.9928\n",
      "Epoch 11/15\n",
      "48/48 [==============================] - 0s 2ms/step - loss: 0.0398 - accuracy: 0.9935\n",
      "Epoch 12/15\n",
      "48/48 [==============================] - 0s 2ms/step - loss: 0.0314 - accuracy: 0.9941\n",
      "Epoch 13/15\n",
      "48/48 [==============================] - 0s 1ms/step - loss: 0.0261 - accuracy: 0.9948\n",
      "Epoch 14/15\n",
      "48/48 [==============================] - 0s 2ms/step - loss: 0.0227 - accuracy: 0.9961\n",
      "Epoch 15/15\n",
      "48/48 [==============================] - 0s 2ms/step - loss: 0.0194 - accuracy: 0.9967\n"
     ]
    },
    {
     "data": {
      "image/png": "[encoded data removed]",
      "text/plain": [
       "<Figure size 864x288 with 1 Axes>"
      ]
     },
     "metadata": {
      "needs_background": "light"
     },
     "output_type": "display_data"
    }
   ],
   "source": [
    "normal_init = initializers.TruncatedNormal(stddev=1)\n",
    "\n",
    "\n",
    "model = Sequential()\n",
    "model.add(Dense(hidden_dim, input_dim=input_dim, activation=\"tanh\",\n",
    "                kernel_initializer=normal_init))\n",
    "model.add(Dense(hidden_dim, activation=\"tanh\",\n",
    "                kernel_initializer=normal_init))\n",
    "model.add(Dense(output_dim, activation=\"softmax\",\n",
    "                kernel_initializer=normal_init))\n",
    "\n",
    "model.compile(optimizer=optimizers.SGD(learning_rate=0.1),\n",
    "              loss='categorical_crossentropy', metrics=['accuracy'])\n",
    "\n",
    "history = model.fit(X_train, Y_train, epochs=15, batch_size=32)\n",
    "\n",
    "plt.figure(figsize=(12, 4))\n",
    "plt.plot(history.history['loss'], label=\"Truncated Normal init\")\n",
    "plt.legend();"
   ]
  },
  {
   "cell_type": "code",
   "execution_count": 60,
   "metadata": {},
   "outputs": [
    {
     "name": "stdout",
     "output_type": "stream",
     "text": [
      "Epoch 1/15\n",
      "48/48 [==============================] - 0s 1ms/step - loss: 95.1237 - accuracy: 0.1866\n",
      "Epoch 2/15\n",
      "48/48 [==============================] - 0s 2ms/step - loss: 70.1702 - accuracy: 0.2809\n",
      "Epoch 3/15\n",
      "48/48 [==============================] - 0s 2ms/step - loss: 59.4152 - accuracy: 0.3307\n",
      "Epoch 4/15\n",
      "48/48 [==============================] - 0s 2ms/step - loss: 50.8709 - accuracy: 0.3975\n",
      "Epoch 5/15\n",
      "48/48 [==============================] - 0s 2ms/step - loss: 44.1677 - accuracy: 0.4414\n",
      "Epoch 6/15\n",
      "48/48 [==============================] - 0s 2ms/step - loss: 37.9199 - accuracy: 0.4840\n",
      "Epoch 7/15\n",
      "48/48 [==============================] - 0s 2ms/step - loss: 35.4941 - accuracy: 0.5108\n",
      "Epoch 8/15\n",
      "48/48 [==============================] - 0s 2ms/step - loss: 31.3139 - accuracy: 0.5488\n",
      "Epoch 9/15\n",
      "48/48 [==============================] - 0s 2ms/step - loss: 28.0159 - accuracy: 0.5691\n",
      "Epoch 10/15\n",
      "48/48 [==============================] - 0s 2ms/step - loss: 27.4417 - accuracy: 0.5953\n",
      "Epoch 11/15\n",
      "48/48 [==============================] - 0s 2ms/step - loss: 24.4590 - accuracy: 0.6038\n",
      "Epoch 12/15\n",
      "48/48 [==============================] - 0s 2ms/step - loss: 22.0631 - accuracy: 0.6359\n",
      "Epoch 13/15\n",
      "48/48 [==============================] - 0s 2ms/step - loss: 20.3035 - accuracy: 0.6568\n",
      "Epoch 14/15\n",
      "48/48 [==============================] - 0s 2ms/step - loss: 19.0393 - accuracy: 0.6771\n",
      "Epoch 15/15\n",
      "48/48 [==============================] - 0s 2ms/step - loss: 17.5426 - accuracy: 0.6883\n"
     ]
    },
    {
     "data": {
      "image/png": "[encoded data removed]",
      "text/plain": [
       "<Figure size 864x288 with 1 Axes>"
      ]
     },
     "metadata": {
      "needs_background": "light"
     },
     "output_type": "display_data"
    }
   ],
   "source": [
    "normal_init = initializers.TruncatedNormal(stddev=10)\n",
    "\n",
    "\n",
    "model = Sequential()\n",
    "model.add(Dense(hidden_dim, input_dim=input_dim, activation=\"tanh\",\n",
    "                kernel_initializer=normal_init))\n",
    "model.add(Dense(hidden_dim, activation=\"tanh\",\n",
    "                kernel_initializer=normal_init))\n",
    "model.add(Dense(output_dim, activation=\"softmax\",\n",
    "                kernel_initializer=normal_init))\n",
    "\n",
    "model.compile(optimizer=optimizers.SGD(learning_rate=0.1),\n",
    "              loss='categorical_crossentropy', metrics=['accuracy'])\n",
    "\n",
    "history = model.fit(X_train, Y_train, epochs=15, batch_size=32)\n",
    "\n",
    "plt.figure(figsize=(12, 4))\n",
    "plt.plot(history.history['loss'], label=\"Truncated Normal init\")\n",
    "plt.legend();"
   ]
  },
  {
   "cell_type": "markdown",
   "metadata": {},
   "source": [
    "___"
   ]
  },
  {
   "cell_type": "code",
   "execution_count": 62,
   "metadata": {},
   "outputs": [
    {
     "name": "stdout",
     "output_type": "stream",
     "text": [
      "Fitting with: SGD\n",
      "Fitting with: Adam\n",
      "Fitting with: SGD + Nesterov momentum\n"
     ]
    },
    {
     "data": {
      "image/png": "[encoded data removed]",
      "text/plain": [
       "<Figure size 864x432 with 1 Axes>"
      ]
     },
     "metadata": {
      "needs_background": "light"
     },
     "output_type": "display_data"
    },
    {
     "data": {
      "image/png": "[encoded data removed]",
      "text/plain": [
       "<Figure size 864x432 with 1 Axes>"
      ]
     },
     "metadata": {
      "needs_background": "light"
     },
     "output_type": "display_data"
    },
    {
     "data": {
      "image/png": "[encoded data removed]",
      "text/plain": [
       "<Figure size 864x432 with 1 Axes>"
      ]
     },
     "metadata": {
      "needs_background": "light"
     },
     "output_type": "display_data"
    }
   ],
   "source": [
    "# %load solutions/keras_initializations.py\n",
    "large_scale_init = initializers.TruncatedNormal(stddev=1)\n",
    "small_scale_init = initializers.TruncatedNormal(stddev=1e-3)\n",
    "\n",
    "\n",
    "optimizer_list = [\n",
    "    ('SGD', optimizers.SGD(learning_rate=0.1)),\n",
    "    ('Adam', optimizers.Adam()),\n",
    "    ('SGD + Nesterov momentum', optimizers.SGD(\n",
    "            learning_rate=0.1, momentum=0.9, nesterov=True)),\n",
    "]\n",
    "\n",
    "init_list = [\n",
    "    ('glorot uniform init', 'glorot_uniform', '-'),\n",
    "    ('small init scale', small_scale_init, '-'),\n",
    "    ('large init scale', large_scale_init, '-'),\n",
    "    ('zero init', 'zero', '--'),\n",
    "]\n",
    "\n",
    "\n",
    "for optimizer_name, optimizer in optimizer_list:\n",
    "    print(\"Fitting with:\", optimizer_name)\n",
    "    plt.figure(figsize=(12, 6))\n",
    "    for init_name, init, linestyle in init_list:\n",
    "        model = Sequential()\n",
    "        model.add(Dense(hidden_dim, input_dim=input_dim, activation=\"tanh\",\n",
    "                        kernel_initializer=init))\n",
    "        model.add(Dense(hidden_dim, activation=\"tanh\",\n",
    "                        kernel_initializer=init))\n",
    "        model.add(Dense(output_dim, activation=\"softmax\",\n",
    "                        kernel_initializer=init))\n",
    "\n",
    "        model.compile(optimizer=optimizer,\n",
    "                      loss='categorical_crossentropy')\n",
    "\n",
    "        history = model.fit(X_train, Y_train,\n",
    "                            epochs=10, batch_size=32, verbose=0)\n",
    "        plt.plot(history.history['loss'], linestyle=linestyle,\n",
    "                 label=init_name)\n",
    "\n",
    "    plt.xlabel('# epochs')\n",
    "    plt.ylabel('Training loss')\n",
    "    plt.ylim(0, 6)\n",
    "    plt.legend(loc='best');\n",
    "    plt.title('Impact of initialization on convergence with %s'\n",
    "              % optimizer_name)\n"
   ]
  },
  {
   "cell_type": "code",
   "execution_count": null,
   "metadata": {},
   "outputs": [],
   "source": [
    "# %load solutions/keras_initializations_analysis.py\n",
    "# Analysis\n",
    "#\n",
    "# If the network is initialized to zero weights, the activations of the hidden\n",
    "# layers are always set to zero, whatever the value of the inputs. The gradient\n",
    "# is always zero for all training samples and no learning can happen with any\n",
    "# gradient-based optimizer (SGD, Adam...): the loss stays constant.\n",
    "#\n",
    "# A network with null weights has null gradients but this not a local minimum\n",
    "# (nor a local maximum): it is a saddle point at the center of a neighborhood\n",
    "# with very low gradients.\n",
    "#\n",
    "# This phenomenom only exists because of the presence of one or more hidden\n",
    "# layers: a logistic regression model (just a single Dense layer with softmax\n",
    "# activations) can bit fit with SGD from 0 initialized weights without any\n",
    "# problem.\n",
    "#\n",
    "# For neural nets when the scale of a random initializations of the weights is\n",
    "# too small, SGD has a hard time evading that area of low gradients. Adding\n",
    "# momentum can help but especially for deep networks it can take many epochs to\n",
    "# evade the area.\n",
    "#\n",
    "# Initializing the weights with large random values will make the output\n",
    "# distribution (softmax) very peaky: the network is very \"confident\" of its\n",
    "# predictions even if they are completely random. This leads to a very high\n",
    "# initial loss value.\n",
    "#\n",
    "# The softmax function does not saturate (bad classification always have a\n",
    "# non-zero gradient). However the intermediate tanh layers can saturate,\n",
    "# therefore squashing the gradient of the loss with respect to the parameters\n",
    "# of the first \"Dense\" layer and making the network train much slower.\n",
    "#\n",
    "# The Glorot uniform init uses a scale that depends on the dimensions of the\n",
    "# weight matrix so has to preserve the average norm of activations and flowing\n",
    "# gradients so as to make learning possible. Keras provides alternatives that\n",
    "# can be better in some cases. Please refer to the references in the Keras\n",
    "# documentation to learn more on the theoretical justifications behind those\n",
    "# schemes.\n",
    "#\n",
    "# Adam tends to be more robust when it comes to bad initialization thanks to\n",
    "# its per-weight learning rate adjustments but still benefits from a good\n",
    "# initialization.\n",
    "#\n",
    "# More on this in a later class on optimization issues. For now  just remember\n",
    "# that if you network fails to learn at all (the loss stays at its initial\n",
    "# value):\n",
    "#\n",
    "# - ensure that the weights are properly initialized,\n",
    "# - inspect the per-layer gradient norms to help identify the bad layer,\n",
    "# - use Adam instead of SGD as your default go to initializer.\n",
    "#\n",
    "# https://stackoverflow.com/questions/50033312/how-to-monitor-gradient-vanish-and-explosion-in-keras-with-tensorboard\n"
   ]
  }
 ],
 "metadata": {
  "file_extension": ".py",
  "kernelspec": {
   "display_name": "Python 3",
   "language": "python",
   "name": "python3"
  },
  "language_info": {
   "codemirror_mode": {
    "name": "ipython",
    "version": 3
   },
   "file_extension": ".py",
   "mimetype": "text/x-python",
   "name": "python",
   "nbconvert_exporter": "python",
   "pygments_lexer": "ipython3",
   "version": "3.9.2"
  },
  "mimetype": "text/x-python",
  "name": "python",
  "npconvert_exporter": "python",
  "pygments_lexer": "ipython3",
  "toc": {
   "base_numbering": 1,
   "nav_menu": {},
   "number_sections": true,
   "sideBar": true,
   "skip_h1_title": false,
   "title_cell": "Table of Contents",
   "title_sidebar": "Contents",
   "toc_cell": false,
   "toc_position": {},
   "toc_section_display": true,
   "toc_window_display": false
  },
  "version": 3
 },
 "nbformat": 4,
 "nbformat_minor": 4
}
