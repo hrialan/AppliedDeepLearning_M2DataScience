{
 "cells": [
  {
   "cell_type": "markdown",
   "metadata": {},
   "source": [
    "# Training Neural Networks with Keras\n",
    "\n",
    "### Goals: \n",
    "- Intro: train a neural network with `tensorflow` and the Keras layers\n",
    "\n",
    "### Dataset:\n",
    "- Digits: 10 class handwritten digits\n",
    "- http://scikit-learn.org/stable/modules/generated/sklearn.datasets.load_digits.html#sklearn.datasets.load_digits"
   ]
  },
  {
   "cell_type": "code",
   "execution_count": 1,
   "metadata": {},
   "outputs": [],
   "source": [
    "import matplotlib.pyplot as plt\n",
    "import numpy as np\n",
    "from sklearn.datasets import load_digits\n",
    "\n",
    "digits = load_digits()"
   ]
  },
  {
   "cell_type": "code",
   "execution_count": 2,
   "metadata": {},
   "outputs": [
    {
     "data": {
      "text/plain": [
       "(1797, 8, 8)"
      ]
     },
     "execution_count": 2,
     "metadata": {},
     "output_type": "execute_result"
    }
   ],
   "source": [
    "digits.images.shape"
   ]
  },
  {
   "cell_type": "code",
   "execution_count": 3,
   "metadata": {},
   "outputs": [
    {
     "data": {
      "text/plain": [
       "(1797, 64)"
      ]
     },
     "execution_count": 3,
     "metadata": {},
     "output_type": "execute_result"
    }
   ],
   "source": [
    "digits.data.shape"
   ]
  },
  {
   "cell_type": "code",
   "execution_count": 4,
   "metadata": {},
   "outputs": [
    {
     "data": {
      "text/plain": [
       "(1797,)"
      ]
     },
     "execution_count": 4,
     "metadata": {},
     "output_type": "execute_result"
    }
   ],
   "source": [
    "digits.target.shape"
   ]
  },
  {
   "cell_type": "code",
   "execution_count": 5,
   "metadata": {},
   "outputs": [
    {
     "data": {
      "image/png": "[encoded data removed]",
      "text/plain": [
       "<Figure size 216x216 with 1 Axes>"
      ]
     },
     "metadata": {
      "needs_background": "light"
     },
     "output_type": "display_data"
    }
   ],
   "source": [
    "sample_index = 45\n",
    "plt.figure(figsize=(3, 3))\n",
    "plt.imshow(digits.images[sample_index], cmap=plt.cm.gray_r,\n",
    "           interpolation='nearest')\n",
    "plt.title(\"image label: %d\" % digits.target[sample_index]);"
   ]
  },
  {
   "cell_type": "markdown",
   "metadata": {},
   "source": [
    "## Train / Test Split\n",
    "\n",
    "Let's keep some held-out data to be able to measure the generalization performance of our model."
   ]
  },
  {
   "cell_type": "code",
   "execution_count": 6,
   "metadata": {},
   "outputs": [],
   "source": [
    "from sklearn.model_selection import train_test_split\n",
    "\n",
    "\n",
    "data = np.asarray(digits.data, dtype='float32')\n",
    "target = np.asarray(digits.target, dtype='int32')\n",
    "\n",
    "X_train, X_test, y_train, y_test = train_test_split(\n",
    "    data, target, test_size=0.15, random_state=37)"
   ]
  },
  {
   "cell_type": "code",
   "execution_count": 7,
   "metadata": {},
   "outputs": [
    {
     "data": {
      "text/plain": [
       "(1527, 64)"
      ]
     },
     "execution_count": 7,
     "metadata": {},
     "output_type": "execute_result"
    }
   ],
   "source": [
    "X_train.shape"
   ]
  },
  {
   "cell_type": "code",
   "execution_count": 8,
   "metadata": {},
   "outputs": [
    {
     "data": {
      "text/plain": [
       "(270, 64)"
      ]
     },
     "execution_count": 8,
     "metadata": {},
     "output_type": "execute_result"
    }
   ],
   "source": [
    "X_test.shape"
   ]
  },
  {
   "cell_type": "code",
   "execution_count": 9,
   "metadata": {},
   "outputs": [
    {
     "data": {
      "text/plain": [
       "(1527,)"
      ]
     },
     "execution_count": 9,
     "metadata": {},
     "output_type": "execute_result"
    }
   ],
   "source": [
    "y_train.shape"
   ]
  },
  {
   "cell_type": "code",
   "execution_count": 10,
   "metadata": {},
   "outputs": [
    {
     "data": {
      "text/plain": [
       "(270,)"
      ]
     },
     "execution_count": 10,
     "metadata": {},
     "output_type": "execute_result"
    }
   ],
   "source": [
    "y_test.shape"
   ]
  },
  {
   "cell_type": "markdown",
   "metadata": {},
   "source": [
    "## Preprocessing of the Input Data\n",
    "\n",
    "\n",
    "Make sure that all input variables are approximately on the same scale via input normalization:"
   ]
  },
  {
   "cell_type": "code",
   "execution_count": 11,
   "metadata": {},
   "outputs": [],
   "source": [
    "from sklearn import preprocessing\n",
    "\n",
    "\n",
    "# mean = 0 ; standard deviation = 1.0\n",
    "scaler = preprocessing.StandardScaler()\n",
    "X_train = scaler.fit_transform(X_train)\n",
    "X_test = scaler.transform(X_test)\n",
    "\n",
    "# print(scaler.mean_)\n",
    "# print(scaler.scale_)"
   ]
  },
  {
   "cell_type": "code",
   "execution_count": 12,
   "metadata": {},
   "outputs": [
    {
     "data": {
      "text/plain": [
       "(1527, 64)"
      ]
     },
     "execution_count": 12,
     "metadata": {},
     "output_type": "execute_result"
    }
   ],
   "source": [
    "X_train.shape"
   ]
  },
  {
   "cell_type": "code",
   "execution_count": 13,
   "metadata": {},
   "outputs": [
    {
     "data": {
      "text/plain": [
       "array([ 0.00000000e+00,  1.82717315e-07,  1.44815475e-08, -3.13441575e-08,\n",
       "       -7.49449391e-09, -9.50473567e-09, -7.10805850e-08,  6.18783673e-08,\n",
       "       -3.06025143e-08,  1.31056055e-07,  3.27103429e-08, -3.59111163e-09,\n",
       "       -4.29372049e-09, -1.07733342e-08, -1.92827070e-08, -7.90239696e-08,\n",
       "        1.56408518e-07, -2.18589391e-09,  2.89630950e-08, -1.74090840e-08,\n",
       "        6.71381741e-08,  5.87068669e-08, -9.85213617e-08, -4.79598782e-07,\n",
       "       -2.98413561e-08, -4.19223234e-08, -1.82522143e-07,  1.79555570e-08,\n",
       "       -3.11294706e-08,  2.08440607e-08, -6.83091841e-08,  9.33420665e-07,\n",
       "        0.00000000e+00,  1.78774897e-08,  1.50670544e-07, -3.45839659e-08,\n",
       "       -1.02463780e-08, -3.66137236e-08, -5.67551766e-08,  0.00000000e+00,\n",
       "       -2.17120757e-07, -6.30981702e-08, -1.81116935e-08, -2.62307278e-08,\n",
       "       -7.95509294e-08, -1.95169103e-09, -8.23613622e-09,  4.77871538e-08,\n",
       "       -1.66303593e-07, -1.25688899e-07, -2.30299548e-08, -1.13198082e-08,\n",
       "        2.51387576e-07, -9.99265826e-09,  3.74724678e-08, -1.85410653e-09,\n",
       "        2.62295089e-07, -8.66550849e-08,  1.06952669e-08,  1.99462828e-08,\n",
       "        4.32494751e-08,  1.00551127e-07, -1.32480793e-07, -7.56280301e-08],\n",
       "      dtype=float32)"
      ]
     },
     "execution_count": 13,
     "metadata": {},
     "output_type": "execute_result"
    }
   ],
   "source": [
    "X_train.mean(axis=0)"
   ]
  },
  {
   "cell_type": "code",
   "execution_count": 14,
   "metadata": {},
   "outputs": [
    {
     "data": {
      "text/plain": [
       "array([0.        , 0.99999774, 0.9999994 , 1.0000005 , 0.9999989 ,\n",
       "       0.9999988 , 1.0000077 , 0.9999965 , 1.0000098 , 0.9999947 ,\n",
       "       1.0000007 , 0.9999992 , 0.9999999 , 0.99999684, 0.9999984 ,\n",
       "       0.99999887, 0.9999969 , 1.000001  , 1.0000002 , 1.0000025 ,\n",
       "       0.99999905, 1.000004  , 1.0000008 , 0.9999972 , 0.9999967 ,\n",
       "       0.99999726, 1.        , 1.0000007 , 1.0000029 , 0.9999996 ,\n",
       "       0.99999696, 1.0000001 , 0.        , 1.0000007 , 1.0000023 ,\n",
       "       0.9999993 , 0.9999994 , 0.9999997 , 0.9999955 , 0.        ,\n",
       "       0.9999891 , 0.99999785, 1.0000032 , 0.9999999 , 0.99999756,\n",
       "       1.000001  , 0.999996  , 0.9999987 , 1.0000006 , 0.9999936 ,\n",
       "       1.0000038 , 1.0000004 , 1.0000012 , 0.999997  , 0.99999785,\n",
       "       0.9999988 , 0.9999857 , 1.0000073 , 0.9999967 , 1.0000031 ,\n",
       "       0.9999993 , 1.        , 0.999996  , 0.9999977 ], dtype=float32)"
      ]
     },
     "execution_count": 14,
     "metadata": {},
     "output_type": "execute_result"
    }
   ],
   "source": [
    "X_train.std(axis=0)"
   ]
  },
  {
   "cell_type": "markdown",
   "metadata": {},
   "source": [
    "Let's display the one of the transformed sample (after feature standardization):"
   ]
  },
  {
   "cell_type": "code",
   "execution_count": 15,
   "metadata": {},
   "outputs": [
    {
     "data": {
      "image/png": "[encoded data removed]",
      "text/plain": [
       "<Figure size 216x216 with 1 Axes>"
      ]
     },
     "metadata": {
      "needs_background": "light"
     },
     "output_type": "display_data"
    }
   ],
   "source": [
    "sample_index = 45\n",
    "plt.figure(figsize=(3, 3))\n",
    "plt.imshow(X_train[sample_index].reshape(8, 8),\n",
    "           cmap=plt.cm.gray_r, interpolation='nearest')\n",
    "plt.title(\"transformed sample\\n(standardization)\");"
   ]
  },
  {
   "cell_type": "markdown",
   "metadata": {},
   "source": [
    "The scaler objects makes it possible to recover the original sample:"
   ]
  },
  {
   "cell_type": "code",
   "execution_count": 16,
   "metadata": {},
   "outputs": [
    {
     "data": {
      "image/png": "[encoded data removed]",
      "text/plain": [
       "<Figure size 216x216 with 1 Axes>"
      ]
     },
     "metadata": {
      "needs_background": "light"
     },
     "output_type": "display_data"
    }
   ],
   "source": [
    "plt.figure(figsize=(3, 3))\n",
    "plt.imshow(scaler.inverse_transform(X_train[sample_index:sample_index+1]).reshape(8, 8),\n",
    "           cmap=plt.cm.gray_r, interpolation='nearest')\n",
    "plt.title(\"original sample\");"
   ]
  },
  {
   "cell_type": "code",
   "execution_count": 17,
   "metadata": {},
   "outputs": [
    {
     "name": "stdout",
     "output_type": "stream",
     "text": [
      "(1527, 64) (1527,)\n"
     ]
    }
   ],
   "source": [
    "print(X_train.shape, y_train.shape)"
   ]
  },
  {
   "cell_type": "code",
   "execution_count": 18,
   "metadata": {},
   "outputs": [
    {
     "name": "stdout",
     "output_type": "stream",
     "text": [
      "(270, 64) (270,)\n"
     ]
    }
   ],
   "source": [
    "print(X_test.shape, y_test.shape)"
   ]
  },
  {
   "cell_type": "markdown",
   "metadata": {},
   "source": [
    "## Preprocessing of the Target Data\n",
    "\n",
    "\n",
    "To train a first neural network we also need to turn the target variable into a vector \"one-hot-encoding\" representation. Here are the labels of the first samples in the training set encoded as integers:"
   ]
  },
  {
   "cell_type": "code",
   "execution_count": 19,
   "metadata": {},
   "outputs": [
    {
     "data": {
      "text/plain": [
       "array([2, 9, 5], dtype=int32)"
      ]
     },
     "execution_count": 19,
     "metadata": {},
     "output_type": "execute_result"
    }
   ],
   "source": [
    "y_train[:3]"
   ]
  },
  {
   "cell_type": "markdown",
   "metadata": {},
   "source": [
    "Keras provides a utility function to convert integer-encoded categorical variables as one-hot encoded values:"
   ]
  },
  {
   "cell_type": "code",
   "execution_count": 20,
   "metadata": {},
   "outputs": [
    {
     "data": {
      "text/plain": [
       "array([[0., 0., 1., 0., 0., 0., 0., 0., 0., 0.],\n",
       "       [0., 0., 0., 0., 0., 0., 0., 0., 0., 1.],\n",
       "       [0., 0., 0., 0., 0., 1., 0., 0., 0., 0.]], dtype=float32)"
      ]
     },
     "execution_count": 20,
     "metadata": {},
     "output_type": "execute_result"
    }
   ],
   "source": [
    "from tensorflow.keras.utils import to_categorical\n",
    "\n",
    "Y_train = to_categorical(y_train)\n",
    "Y_train[:3]"
   ]
  },
  {
   "cell_type": "code",
   "execution_count": 21,
   "metadata": {},
   "outputs": [
    {
     "data": {
      "text/plain": [
       "(1527, 10)"
      ]
     },
     "execution_count": 21,
     "metadata": {},
     "output_type": "execute_result"
    }
   ],
   "source": [
    "Y_train.shape"
   ]
  },
  {
   "cell_type": "markdown",
   "metadata": {},
   "source": [
    "## Feed Forward Neural Networks with Keras\n",
    "\n",
    "Objectives of this section:\n",
    "\n",
    "- Build and train a first feedforward network using `Keras`\n",
    "    - https://www.tensorflow.org/guide/keras/overview\n",
    "- Experiment with different optimizers, activations, size of layers, initializations\n",
    "\n",
    "### A First Keras Model"
   ]
  },
  {
   "cell_type": "markdown",
   "metadata": {},
   "source": [
    "We can now build an train a our first feed forward neural network using the high level API from keras:\n",
    "\n",
    "- first we define the model by stacking layers with the right dimensions\n",
    "- then we define a loss function and plug the SGD optimizer\n",
    "- then we feed the model the training data for fixed number of epochs"
   ]
  },
  {
   "cell_type": "code",
   "execution_count": 58,
   "metadata": {},
   "outputs": [
    {
     "name": "stdout",
     "output_type": "stream",
     "text": [
      "Epoch 1/15\n",
      "39/39 [==============================] - 0s 5ms/step - loss: 0.9163 - accuracy: 0.7600 - val_loss: 0.3899 - val_accuracy: 0.9118\n",
      "Epoch 2/15\n",
      "39/39 [==============================] - 0s 2ms/step - loss: 0.3237 - accuracy: 0.9328 - val_loss: 0.2626 - val_accuracy: 0.9412\n",
      "Epoch 3/15\n",
      "39/39 [==============================] - 0s 2ms/step - loss: 0.2182 - accuracy: 0.9582 - val_loss: 0.2032 - val_accuracy: 0.9542\n",
      "Epoch 4/15\n",
      "39/39 [==============================] - 0s 2ms/step - loss: 0.1706 - accuracy: 0.9648 - val_loss: 0.1817 - val_accuracy: 0.9510\n",
      "Epoch 5/15\n",
      "39/39 [==============================] - 0s 2ms/step - loss: 0.1415 - accuracy: 0.9762 - val_loss: 0.1609 - val_accuracy: 0.9542\n",
      "Epoch 6/15\n",
      "39/39 [==============================] - 0s 2ms/step - loss: 0.1215 - accuracy: 0.9779 - val_loss: 0.1497 - val_accuracy: 0.9575\n",
      "Epoch 7/15\n",
      "39/39 [==============================] - 0s 2ms/step - loss: 0.1064 - accuracy: 0.9820 - val_loss: 0.1364 - val_accuracy: 0.9641\n",
      "Epoch 8/15\n",
      "39/39 [==============================] - 0s 2ms/step - loss: 0.0952 - accuracy: 0.9853 - val_loss: 0.1336 - val_accuracy: 0.9608\n",
      "Epoch 9/15\n",
      "39/39 [==============================] - 0s 2ms/step - loss: 0.0859 - accuracy: 0.9869 - val_loss: 0.1254 - val_accuracy: 0.9673\n",
      "Epoch 10/15\n",
      "39/39 [==============================] - 0s 2ms/step - loss: 0.0780 - accuracy: 0.9877 - val_loss: 0.1169 - val_accuracy: 0.9706\n",
      "Epoch 11/15\n",
      "39/39 [==============================] - 0s 2ms/step - loss: 0.0709 - accuracy: 0.9902 - val_loss: 0.1134 - val_accuracy: 0.9706\n",
      "Epoch 12/15\n",
      "39/39 [==============================] - 0s 2ms/step - loss: 0.0653 - accuracy: 0.9926 - val_loss: 0.1091 - val_accuracy: 0.9739\n",
      "Epoch 13/15\n",
      "39/39 [==============================] - 0s 2ms/step - loss: 0.0605 - accuracy: 0.9934 - val_loss: 0.1059 - val_accuracy: 0.9739\n",
      "Epoch 14/15\n",
      "39/39 [==============================] - 0s 2ms/step - loss: 0.0561 - accuracy: 0.9943 - val_loss: 0.1024 - val_accuracy: 0.9739\n",
      "Epoch 15/15\n",
      "39/39 [==============================] - 0s 2ms/step - loss: 0.0524 - accuracy: 0.9943 - val_loss: 0.1030 - val_accuracy: 0.9706\n"
     ]
    }
   ],
   "source": [
    "from tensorflow.keras.models import Sequential\n",
    "from tensorflow.keras.layers import Dense\n",
    "from tensorflow.keras import optimizers\n",
    "\n",
    "input_dim = X_train.shape[1]\n",
    "hidden_dim = 100\n",
    "output_dim = Y_train.shape[1]\n",
    "\n",
    "model = Sequential()\n",
    "model.add(Dense(hidden_dim, input_dim=input_dim, activation=\"tanh\"))\n",
    "model.add(Dense(output_dim, activation=\"softmax\"))\n",
    "\n",
    "model.compile(optimizer=optimizers.SGD(learning_rate=0.1),\n",
    "              loss='categorical_crossentropy', metrics=['accuracy'])\n",
    "\n",
    "history = model.fit(X_train, Y_train, validation_split=0.2, epochs=15, batch_size=32)"
   ]
  },
  {
   "cell_type": "markdown",
   "metadata": {},
   "source": [
    "### Visualizing the Convergence\n",
    "\n",
    "Let's wrap the keras history info into a pandas dataframe for easier plotting:"
   ]
  },
  {
   "cell_type": "code",
   "execution_count": 23,
   "metadata": {},
   "outputs": [],
   "source": [
    "import pandas as pd\n",
    "\n",
    "history_df = pd.DataFrame(history.history)\n",
    "history_df[\"epoch\"] = history.epoch"
   ]
  },
  {
   "cell_type": "code",
   "execution_count": 61,
   "metadata": {},
   "outputs": [
    {
     "data": {
      "text/html": [
       "<div>\n",
       "<style scoped>\n",
       "    .dataframe tbody tr th:only-of-type {\n",
       "        vertical-align: middle;\n",
       "    }\n",
       "\n",
       "    .dataframe tbody tr th {\n",
       "        vertical-align: top;\n",
       "    }\n",
       "\n",
       "    .dataframe thead th {\n",
       "        text-align: right;\n",
       "    }\n",
       "</style>\n",
       "<table border=\"1\" class=\"dataframe\">\n",
       "  <thead>\n",
       "    <tr style=\"text-align: right;\">\n",
       "      <th></th>\n",
       "      <th>loss</th>\n",
       "      <th>accuracy</th>\n",
       "      <th>val_loss</th>\n",
       "      <th>val_accuracy</th>\n",
       "      <th>epoch</th>\n",
       "    </tr>\n",
       "  </thead>\n",
       "  <tbody>\n",
       "    <tr>\n",
       "      <th>0</th>\n",
       "      <td>0.932099</td>\n",
       "      <td>0.753481</td>\n",
       "      <td>0.430206</td>\n",
       "      <td>0.908497</td>\n",
       "      <td>0</td>\n",
       "    </tr>\n",
       "    <tr>\n",
       "      <th>1</th>\n",
       "      <td>0.327857</td>\n",
       "      <td>0.936118</td>\n",
       "      <td>0.277335</td>\n",
       "      <td>0.941176</td>\n",
       "      <td>1</td>\n",
       "    </tr>\n",
       "    <tr>\n",
       "      <th>2</th>\n",
       "      <td>0.227207</td>\n",
       "      <td>0.954136</td>\n",
       "      <td>0.228243</td>\n",
       "      <td>0.950980</td>\n",
       "      <td>2</td>\n",
       "    </tr>\n",
       "    <tr>\n",
       "      <th>3</th>\n",
       "      <td>0.178380</td>\n",
       "      <td>0.966421</td>\n",
       "      <td>0.192914</td>\n",
       "      <td>0.957516</td>\n",
       "      <td>3</td>\n",
       "    </tr>\n",
       "    <tr>\n",
       "      <th>4</th>\n",
       "      <td>0.149158</td>\n",
       "      <td>0.971335</td>\n",
       "      <td>0.174542</td>\n",
       "      <td>0.960784</td>\n",
       "      <td>4</td>\n",
       "    </tr>\n",
       "    <tr>\n",
       "      <th>5</th>\n",
       "      <td>0.127952</td>\n",
       "      <td>0.974611</td>\n",
       "      <td>0.163800</td>\n",
       "      <td>0.960784</td>\n",
       "      <td>5</td>\n",
       "    </tr>\n",
       "    <tr>\n",
       "      <th>6</th>\n",
       "      <td>0.112626</td>\n",
       "      <td>0.980344</td>\n",
       "      <td>0.153092</td>\n",
       "      <td>0.967320</td>\n",
       "      <td>6</td>\n",
       "    </tr>\n",
       "    <tr>\n",
       "      <th>7</th>\n",
       "      <td>0.100143</td>\n",
       "      <td>0.982801</td>\n",
       "      <td>0.139429</td>\n",
       "      <td>0.967320</td>\n",
       "      <td>7</td>\n",
       "    </tr>\n",
       "    <tr>\n",
       "      <th>8</th>\n",
       "      <td>0.089325</td>\n",
       "      <td>0.987715</td>\n",
       "      <td>0.134928</td>\n",
       "      <td>0.970588</td>\n",
       "      <td>8</td>\n",
       "    </tr>\n",
       "    <tr>\n",
       "      <th>9</th>\n",
       "      <td>0.081452</td>\n",
       "      <td>0.986077</td>\n",
       "      <td>0.128175</td>\n",
       "      <td>0.964052</td>\n",
       "      <td>9</td>\n",
       "    </tr>\n",
       "    <tr>\n",
       "      <th>10</th>\n",
       "      <td>0.074109</td>\n",
       "      <td>0.986077</td>\n",
       "      <td>0.124258</td>\n",
       "      <td>0.970588</td>\n",
       "      <td>10</td>\n",
       "    </tr>\n",
       "    <tr>\n",
       "      <th>11</th>\n",
       "      <td>0.068162</td>\n",
       "      <td>0.988534</td>\n",
       "      <td>0.120839</td>\n",
       "      <td>0.970588</td>\n",
       "      <td>11</td>\n",
       "    </tr>\n",
       "    <tr>\n",
       "      <th>12</th>\n",
       "      <td>0.062701</td>\n",
       "      <td>0.990991</td>\n",
       "      <td>0.115977</td>\n",
       "      <td>0.973856</td>\n",
       "      <td>12</td>\n",
       "    </tr>\n",
       "    <tr>\n",
       "      <th>13</th>\n",
       "      <td>0.058591</td>\n",
       "      <td>0.993448</td>\n",
       "      <td>0.113130</td>\n",
       "      <td>0.970588</td>\n",
       "      <td>13</td>\n",
       "    </tr>\n",
       "    <tr>\n",
       "      <th>14</th>\n",
       "      <td>0.054508</td>\n",
       "      <td>0.993448</td>\n",
       "      <td>0.110481</td>\n",
       "      <td>0.977124</td>\n",
       "      <td>14</td>\n",
       "    </tr>\n",
       "  </tbody>\n",
       "</table>\n",
       "</div>"
      ],
      "text/plain": [
       "        loss  accuracy  val_loss  val_accuracy  epoch\n",
       "0   0.932099  0.753481  0.430206      0.908497      0\n",
       "1   0.327857  0.936118  0.277335      0.941176      1\n",
       "2   0.227207  0.954136  0.228243      0.950980      2\n",
       "3   0.178380  0.966421  0.192914      0.957516      3\n",
       "4   0.149158  0.971335  0.174542      0.960784      4\n",
       "5   0.127952  0.974611  0.163800      0.960784      5\n",
       "6   0.112626  0.980344  0.153092      0.967320      6\n",
       "7   0.100143  0.982801  0.139429      0.967320      7\n",
       "8   0.089325  0.987715  0.134928      0.970588      8\n",
       "9   0.081452  0.986077  0.128175      0.964052      9\n",
       "10  0.074109  0.986077  0.124258      0.970588     10\n",
       "11  0.068162  0.988534  0.120839      0.970588     11\n",
       "12  0.062701  0.990991  0.115977      0.973856     12\n",
       "13  0.058591  0.993448  0.113130      0.970588     13\n",
       "14  0.054508  0.993448  0.110481      0.977124     14"
      ]
     },
     "execution_count": 61,
     "metadata": {},
     "output_type": "execute_result"
    }
   ],
   "source": [
    "history_df"
   ]
  },
  {
   "cell_type": "code",
   "execution_count": 24,
   "metadata": {},
   "outputs": [
    {
     "data": {
      "image/png": "[encoded data removed]",
      "text/plain": [
       "<Figure size 864x432 with 2 Axes>"
      ]
     },
     "metadata": {
      "needs_background": "light"
     },
     "output_type": "display_data"
    }
   ],
   "source": [
    "fig, (ax0, ax1) = plt.subplots(nrows=2, sharex=True, figsize=(12, 6))\n",
    "history_df.plot(x=\"epoch\", y=[\"loss\", \"val_loss\"], ax=ax0)\n",
    "history_df.plot(x=\"epoch\", y=[\"accuracy\", \"val_accuracy\"], ax=ax1);"
   ]
  },
  {
   "cell_type": "markdown",
   "metadata": {},
   "source": [
    "- at the beginning: val_loss lower than loss => Keras uses a moving average"
   ]
  },
  {
   "cell_type": "markdown",
   "metadata": {},
   "source": [
    "### Monitoring Convergence with Tensorboard\n",
    "\n",
    "Tensorboard is a built-in neural network monitoring tool. "
   ]
  },
  {
   "cell_type": "code",
   "execution_count": 62,
   "metadata": {},
   "outputs": [
    {
     "name": "stdout",
     "output_type": "stream",
     "text": [
      "The tensorboard extension is already loaded. To reload it, use:\n",
      "  %reload_ext tensorboard\n"
     ]
    }
   ],
   "source": [
    "%load_ext tensorboard"
   ]
  },
  {
   "cell_type": "code",
   "execution_count": 63,
   "metadata": {},
   "outputs": [],
   "source": [
    "!rm -rf tensorboard_logs"
   ]
  },
  {
   "cell_type": "code",
   "execution_count": 64,
   "metadata": {},
   "outputs": [
    {
     "name": "stdout",
     "output_type": "stream",
     "text": [
      "Epoch 1/15\n",
      "39/39 [==============================] - 1s 10ms/step - loss: 0.8846 - accuracy: 0.7690 - val_loss: 0.4172 - val_accuracy: 0.9118\n",
      "Epoch 2/15\n",
      "39/39 [==============================] - 0s 4ms/step - loss: 0.3209 - accuracy: 0.9361 - val_loss: 0.2790 - val_accuracy: 0.9444\n",
      "Epoch 3/15\n",
      "39/39 [==============================] - 0s 3ms/step - loss: 0.2179 - accuracy: 0.9615 - val_loss: 0.2173 - val_accuracy: 0.9477\n",
      "Epoch 4/15\n",
      "39/39 [==============================] - 0s 3ms/step - loss: 0.1694 - accuracy: 0.9713 - val_loss: 0.1847 - val_accuracy: 0.9575\n",
      "Epoch 5/15\n",
      "39/39 [==============================] - 0s 2ms/step - loss: 0.1399 - accuracy: 0.9762 - val_loss: 0.1671 - val_accuracy: 0.9641\n",
      "Epoch 6/15\n",
      "39/39 [==============================] - 0s 3ms/step - loss: 0.1205 - accuracy: 0.9779 - val_loss: 0.1516 - val_accuracy: 0.9641\n",
      "Epoch 7/15\n",
      "39/39 [==============================] - 0s 2ms/step - loss: 0.1058 - accuracy: 0.9795 - val_loss: 0.1406 - val_accuracy: 0.9673\n",
      "Epoch 8/15\n",
      "39/39 [==============================] - 0s 3ms/step - loss: 0.0936 - accuracy: 0.9844 - val_loss: 0.1323 - val_accuracy: 0.9739\n",
      "Epoch 9/15\n",
      "39/39 [==============================] - 0s 3ms/step - loss: 0.0842 - accuracy: 0.9869 - val_loss: 0.1313 - val_accuracy: 0.9771\n",
      "Epoch 10/15\n",
      "39/39 [==============================] - 0s 2ms/step - loss: 0.0771 - accuracy: 0.9902 - val_loss: 0.1233 - val_accuracy: 0.9706\n",
      "Epoch 11/15\n",
      "39/39 [==============================] - 0s 3ms/step - loss: 0.0695 - accuracy: 0.9918 - val_loss: 0.1179 - val_accuracy: 0.9739\n",
      "Epoch 12/15\n",
      "39/39 [==============================] - 0s 2ms/step - loss: 0.0637 - accuracy: 0.9926 - val_loss: 0.1149 - val_accuracy: 0.9739\n",
      "Epoch 13/15\n",
      "39/39 [==============================] - 0s 3ms/step - loss: 0.0589 - accuracy: 0.9926 - val_loss: 0.1157 - val_accuracy: 0.9739\n",
      "Epoch 14/15\n",
      "39/39 [==============================] - 0s 2ms/step - loss: 0.0552 - accuracy: 0.9943 - val_loss: 0.1118 - val_accuracy: 0.9739\n",
      "Epoch 15/15\n",
      "39/39 [==============================] - 0s 3ms/step - loss: 0.0512 - accuracy: 0.9951 - val_loss: 0.1077 - val_accuracy: 0.9739\n"
     ]
    }
   ],
   "source": [
    "import datetime\n",
    "from tensorflow.keras.callbacks import TensorBoard\n",
    "\n",
    "model = Sequential()\n",
    "model.add(Dense(hidden_dim, input_dim=input_dim, activation=\"tanh\"))\n",
    "model.add(Dense(output_dim, activation=\"softmax\"))\n",
    "\n",
    "model.compile(optimizer=optimizers.SGD(learning_rate=0.1),\n",
    "              loss='categorical_crossentropy', metrics=['accuracy'])\n",
    "\n",
    "timestamp =  datetime.datetime.now().strftime(\"%Y%m%d-%H%M%S\")\n",
    "log_dir = \"tensorboard_logs/\" + timestamp\n",
    "tensorboard_callback = TensorBoard(log_dir=log_dir, histogram_freq=1)\n",
    "\n",
    "model.fit(x=X_train, y=Y_train, validation_split=0.2, epochs=15,\n",
    "          callbacks=[tensorboard_callback]);"
   ]
  },
  {
   "cell_type": "code",
   "execution_count": 67,
   "metadata": {},
   "outputs": [
    {
     "data": {
      "text/html": [
       "\n",
       "      <iframe id=\"tensorboard-frame-90fbbf024f870ea1\" width=\"100%\" height=\"800\" frameborder=\"0\">\n",
       "      </iframe>\n",
       "      <script>\n",
       "        (function() {\n",
       "          const frame = document.getElementById(\"tensorboard-frame-90fbbf024f870ea1\");\n",
       "          const url = new URL(\"/\", window.location);\n",
       "          const port = 6006;\n",
       "          if (port) {\n",
       "            url.port = port;\n",
       "          }\n",
       "          frame.src = url;\n",
       "        })();\n",
       "      </script>\n",
       "    "
      ],
      "text/plain": [
       "<IPython.core.display.HTML object>"
      ]
     },
     "metadata": {},
     "output_type": "display_data"
    }
   ],
   "source": [
    "%tensorboard --logdir tensorboard_logs"
   ]
  },
  {
   "cell_type": "markdown",
   "metadata": {},
   "source": [
    "### b) Exercises: Impact of the Optimizer\n",
    "\n",
    "- Try to decrease the learning rate value by 10 or 100. What do you observe?\n",
    "\n",
    "- Try to increase the learning rate value to make the optimization diverge.\n",
    "\n",
    "- Configure the SGD optimizer to enable a Nesterov momentum of 0.9\n",
    "  \n",
    "**Notes**: \n",
    "\n",
    "The keras API documentation is available at:\n",
    "\n",
    "https://www.tensorflow.org/api_docs/python/tf/keras\n",
    "\n",
    "It is also possible to learn more about the parameters of a class by using the question mark: type and evaluate:\n",
    "\n",
    "```python\n",
    "optimizers.SGD?\n",
    "```\n",
    "\n",
    "in a jupyter notebook cell.\n",
    "\n",
    "It is also possible to type the beginning of a function call / constructor and type \"shift-tab\" after the opening paren:\n",
    "\n",
    "```python\n",
    "optimizers.SGD(<shiff-tab>\n",
    "```"
   ]
  },
  {
   "cell_type": "code",
   "execution_count": 68,
   "metadata": {},
   "outputs": [],
   "source": [
    "optimizers.SGD?"
   ]
  },
  {
   "cell_type": "code",
   "execution_count": 96,
   "metadata": {},
   "outputs": [
    {
     "name": "stdout",
     "output_type": "stream",
     "text": [
      "Epoch 1/15\n",
      "39/39 [==============================] - 0s 5ms/step - loss: 2.6135 - accuracy: 0.0835 - val_loss: 2.5235 - val_accuracy: 0.1209\n",
      "Epoch 2/15\n",
      "39/39 [==============================] - 0s 2ms/step - loss: 2.5072 - accuracy: 0.0958 - val_loss: 2.4158 - val_accuracy: 0.1373\n",
      "Epoch 3/15\n",
      "39/39 [==============================] - 0s 2ms/step - loss: 2.4012 - accuracy: 0.1253 - val_loss: 2.3132 - val_accuracy: 0.1536\n",
      "Epoch 4/15\n",
      "39/39 [==============================] - 0s 2ms/step - loss: 2.2999 - accuracy: 0.1458 - val_loss: 2.2150 - val_accuracy: 0.1895\n",
      "Epoch 5/15\n",
      "39/39 [==============================] - 0s 2ms/step - loss: 2.2047 - accuracy: 0.1843 - val_loss: 2.1229 - val_accuracy: 0.2124\n",
      "Epoch 6/15\n",
      "39/39 [==============================] - 0s 2ms/step - loss: 2.1132 - accuracy: 0.2146 - val_loss: 2.0346 - val_accuracy: 0.2680\n",
      "Epoch 7/15\n",
      "39/39 [==============================] - 0s 2ms/step - loss: 2.0274 - accuracy: 0.2555 - val_loss: 1.9522 - val_accuracy: 0.3072\n",
      "Epoch 8/15\n",
      "39/39 [==============================] - 0s 2ms/step - loss: 1.9469 - accuracy: 0.3006 - val_loss: 1.8742 - val_accuracy: 0.3464\n",
      "Epoch 9/15\n",
      "39/39 [==============================] - 0s 2ms/step - loss: 1.8701 - accuracy: 0.3522 - val_loss: 1.8004 - val_accuracy: 0.3889\n",
      "Epoch 10/15\n",
      "39/39 [==============================] - 0s 2ms/step - loss: 1.7981 - accuracy: 0.4046 - val_loss: 1.7305 - val_accuracy: 0.4412\n",
      "Epoch 11/15\n",
      "39/39 [==============================] - 0s 2ms/step - loss: 1.7307 - accuracy: 0.4603 - val_loss: 1.6648 - val_accuracy: 0.4837\n",
      "Epoch 12/15\n",
      "39/39 [==============================] - 0s 2ms/step - loss: 1.6668 - accuracy: 0.5086 - val_loss: 1.6037 - val_accuracy: 0.5196\n",
      "Epoch 13/15\n",
      "39/39 [==============================] - 0s 2ms/step - loss: 1.6066 - accuracy: 0.5512 - val_loss: 1.5458 - val_accuracy: 0.5719\n",
      "Epoch 14/15\n",
      "39/39 [==============================] - 0s 3ms/step - loss: 1.5502 - accuracy: 0.5839 - val_loss: 1.4917 - val_accuracy: 0.5980\n",
      "Epoch 15/15\n",
      "39/39 [==============================] - 0s 2ms/step - loss: 1.4971 - accuracy: 0.6134 - val_loss: 1.4405 - val_accuracy: 0.6373\n"
     ]
    },
    {
     "data": {
      "image/png": "[encoded data removed]",
      "text/plain": [
       "<Figure size 864x432 with 2 Axes>"
      ]
     },
     "metadata": {
      "needs_background": "light"
     },
     "output_type": "display_data"
    }
   ],
   "source": [
    "# %load solutions/keras_sgd_and_momentum.py\n",
    "model = Sequential()\n",
    "model.add(Dense(hidden_dim, input_dim=input_dim,\n",
    "                activation=\"tanh\"))\n",
    "model.add(Dense(output_dim, activation=\"softmax\"))\n",
    "\n",
    "optimizer = optimizers.SGD(learning_rate=0.0001, momentum=0.9, nesterov=True)\n",
    "model.compile(optimizer=optimizer, loss='categorical_crossentropy',\n",
    "              metrics=['accuracy'])\n",
    "history = model.fit(X_train, Y_train, validation_split=0.2,\n",
    "                    epochs=15, batch_size=32)\n",
    "\n",
    "fig, (ax0, ax1) = plt.subplots(nrows=2, sharex=True, figsize=(12, 6))\n",
    "history_df = pd.DataFrame(history.history)\n",
    "history_df[\"epoch\"] = history.epoch\n",
    "history_df.plot(x=\"epoch\", y=[\"loss\", \"val_loss\"], ax=ax0)\n",
    "history_df.plot(x=\"epoch\", y=[\"accuracy\", \"val_accuracy\"], ax=ax1);\n",
    "\n",
    "\n",
    "# Analysis:\n",
    "#\n",
    "# Setting the learning rate value to a small value (e.g. lr=0.001 on\n",
    "# this dataset) makes the model train much slower (it has not\n",
    "# converged yet after 15 epochs).\n",
    "#\n",
    "# Using momentum tends to mitigate the small learning rate / slow\n",
    "# training problem a bit.\n",
    "#\n",
    "# Setting the learning rate to a very large value (e.g. lr=10)\n",
    "# makes the model randomly bounce around a good local\n",
    "# minimum and therefore prevent it to reach a low training loss even\n",
    "# after 30 epochs.\n"
   ]
  },
  {
   "cell_type": "markdown",
   "metadata": {},
   "source": [
    "- Replace the SGD optimizer by the Adam optimizer from keras and run it\n",
    "  with the default parameters.\n",
    "\n",
    "  Hint: use `optimizers.<TAB>` to tab-complete the list of implemented optimizers in Keras.\n",
    "\n",
    "- Add another hidden layer and use the \"Rectified Linear Unit\" for each\n",
    "  hidden layer. Can you still train the model with Adam with its default global\n",
    "  learning rate?"
   ]
  },
  {
   "cell_type": "code",
   "execution_count": 74,
   "metadata": {},
   "outputs": [],
   "source": [
    "optimizers.Adam?"
   ]
  },
  {
   "cell_type": "code",
   "execution_count": 79,
   "metadata": {},
   "outputs": [
    {
     "name": "stdout",
     "output_type": "stream",
     "text": [
      "Epoch 1/15\n",
      "39/39 [==============================] - 1s 7ms/step - loss: 1.5870 - accuracy: 0.5717 - val_loss: 0.8319 - val_accuracy: 0.8725\n",
      "Epoch 2/15\n",
      "39/39 [==============================] - 0s 6ms/step - loss: 0.5242 - accuracy: 0.9099 - val_loss: 0.3201 - val_accuracy: 0.9314\n",
      "Epoch 3/15\n",
      "39/39 [==============================] - 0s 4ms/step - loss: 0.2307 - accuracy: 0.9525 - val_loss: 0.2022 - val_accuracy: 0.9412\n",
      "Epoch 4/15\n",
      "39/39 [==============================] - 0s 3ms/step - loss: 0.1397 - accuracy: 0.9705 - val_loss: 0.1641 - val_accuracy: 0.9575\n",
      "Epoch 5/15\n",
      "39/39 [==============================] - 0s 3ms/step - loss: 0.0933 - accuracy: 0.9844 - val_loss: 0.1220 - val_accuracy: 0.9706\n",
      "Epoch 6/15\n",
      "39/39 [==============================] - 0s 3ms/step - loss: 0.0655 - accuracy: 0.9910 - val_loss: 0.1109 - val_accuracy: 0.9771\n",
      "Epoch 7/15\n",
      "39/39 [==============================] - 0s 2ms/step - loss: 0.0481 - accuracy: 0.9951 - val_loss: 0.1059 - val_accuracy: 0.9771\n",
      "Epoch 8/15\n",
      "39/39 [==============================] - 0s 3ms/step - loss: 0.0384 - accuracy: 0.9959 - val_loss: 0.1041 - val_accuracy: 0.9739\n",
      "Epoch 9/15\n",
      "39/39 [==============================] - 0s 3ms/step - loss: 0.0277 - accuracy: 0.9975 - val_loss: 0.0972 - val_accuracy: 0.9771\n",
      "Epoch 10/15\n",
      "39/39 [==============================] - 0s 3ms/step - loss: 0.0213 - accuracy: 0.9992 - val_loss: 0.0972 - val_accuracy: 0.9804\n",
      "Epoch 11/15\n",
      "39/39 [==============================] - 0s 3ms/step - loss: 0.0169 - accuracy: 1.0000 - val_loss: 0.0947 - val_accuracy: 0.9771\n",
      "Epoch 12/15\n",
      "39/39 [==============================] - 0s 3ms/step - loss: 0.0137 - accuracy: 1.0000 - val_loss: 0.0915 - val_accuracy: 0.9771\n",
      "Epoch 13/15\n",
      "39/39 [==============================] - 0s 3ms/step - loss: 0.0114 - accuracy: 1.0000 - val_loss: 0.0909 - val_accuracy: 0.9804\n",
      "Epoch 14/15\n",
      "39/39 [==============================] - 0s 3ms/step - loss: 0.0097 - accuracy: 1.0000 - val_loss: 0.0910 - val_accuracy: 0.9804\n",
      "Epoch 15/15\n",
      "39/39 [==============================] - 0s 3ms/step - loss: 0.0081 - accuracy: 1.0000 - val_loss: 0.0889 - val_accuracy: 0.9771\n"
     ]
    }
   ],
   "source": [
    "input_dim = X_train.shape[1]\n",
    "hidden_dim = 100\n",
    "output_dim = Y_train.shape[1]\n",
    "\n",
    "model = Sequential()\n",
    "model.add(Dense(hidden_dim, input_dim=input_dim, activation=\"relu\"))\n",
    "model.add(Dense(hidden_dim, activation=\"relu\"))\n",
    "model.add(Dense(output_dim, activation=\"softmax\"))\n",
    "\n",
    "model.compile(optimizer=optimizers.Adam(),\n",
    "              loss='categorical_crossentropy', metrics=['accuracy'])\n",
    "\n",
    "history = model.fit(X_train, Y_train, validation_split=0.2, epochs=15, batch_size=32)"
   ]
  },
  {
   "cell_type": "code",
   "execution_count": 82,
   "metadata": {},
   "outputs": [],
   "source": [
    "# %load solutions/keras_adam.py\n",
    "# %load solutions/keras_adam_and_adadelta.py"
   ]
  },
  {
   "cell_type": "markdown",
   "metadata": {},
   "source": [
    "### Exercises: Forward Pass and Generalization\n",
    "\n",
    "- Compute predictions on test set using `model.predict(...)`\n",
    "- Compute average accuracy of the model on the test set: the fraction of test samples for which the model makes a prediction that matches the true label."
   ]
  },
  {
   "cell_type": "code",
   "execution_count": 90,
   "metadata": {},
   "outputs": [
    {
     "name": "stdout",
     "output_type": "stream",
     "text": [
      "(270, 64) (270,)\n"
     ]
    },
    {
     "data": {
      "text/plain": [
       "array([[2.23955099e-09, 1.54495356e-05, 9.99978781e-01, ...,\n",
       "        1.16336673e-06, 4.16310577e-08, 1.26814115e-08],\n",
       "       [4.42290620e-05, 3.05828465e-08, 1.83961745e-07, ...,\n",
       "        2.56210546e-06, 1.79021043e-07, 1.02016083e-10],\n",
       "       [6.81768597e-08, 3.14707104e-05, 1.15698449e-05, ...,\n",
       "        9.99903560e-01, 1.76203997e-07, 2.29128382e-05],\n",
       "       ...,\n",
       "       [4.03340411e-04, 4.42091888e-03, 1.15349714e-03, ...,\n",
       "        1.52920097e-01, 8.30868125e-01, 1.63427740e-03],\n",
       "       [7.22371351e-06, 7.72962994e-06, 8.76294052e-07, ...,\n",
       "        1.64945880e-06, 4.02897967e-05, 9.96303797e-01],\n",
       "       [9.99937057e-01, 2.14085105e-08, 2.47668213e-05, ...,\n",
       "        3.35196864e-06, 9.66425796e-06, 1.27614330e-05]], dtype=float32)"
      ]
     },
     "execution_count": 90,
     "metadata": {},
     "output_type": "execute_result"
    }
   ],
   "source": [
    "print(X_test.shape, y_test.shape)\n",
    "model.predict(X_test) "
   ]
  },
  {
   "cell_type": "code",
   "execution_count": 91,
   "metadata": {},
   "outputs": [
    {
     "data": {
      "text/plain": [
       "array([2, 4, 7, 9, 1, 1, 5, 6, 2, 5, 0, 2, 0, 5, 4, 8, 7, 0, 3, 6, 8, 1,\n",
       "       9, 8, 0, 9, 8, 4, 2, 7, 5, 4, 2, 8, 6, 9, 6, 1, 8, 6, 5, 7, 8, 1,\n",
       "       6, 5, 0, 1, 9, 4, 8, 5, 3, 9, 3, 4, 4, 6, 7, 5, 4, 0, 3, 8, 1, 2,\n",
       "       6, 8, 6, 8, 1, 7, 4, 7, 4, 1, 7, 0, 8, 8, 5, 2, 0, 3, 7, 4, 2, 4,\n",
       "       6, 0, 6, 0, 8, 3, 6, 7, 3, 0, 7, 4, 8, 5, 8, 1, 4, 1, 2, 5, 1, 4,\n",
       "       8, 9, 9, 0, 9, 5, 6, 8, 2, 1, 4, 5, 3, 8, 7, 0, 4, 2, 1, 1, 5, 2,\n",
       "       5, 6, 9, 1, 2, 7, 6, 0, 9, 2, 1, 6, 8, 2, 1, 4, 2, 4, 1, 5, 9, 3,\n",
       "       3, 4, 1, 2, 2, 5, 6, 0, 7, 9, 6, 8, 6, 1, 1, 3, 5, 2, 0, 9, 0, 2,\n",
       "       2, 8, 0, 7, 6, 0, 8, 5, 3, 9, 5, 7, 9, 9, 8, 0, 7, 1, 8, 4, 7, 7,\n",
       "       4, 0, 8, 1, 4, 0, 8, 8, 6, 5, 0, 1, 6, 2, 0, 4, 7, 5, 3, 7, 3, 4,\n",
       "       5, 9, 9, 7, 3, 4, 5, 8, 1, 1, 9, 5, 5, 1, 4, 1, 2, 9, 2, 9, 5, 3,\n",
       "       6, 0, 8, 6, 7, 6, 7, 9, 2, 6, 8, 3, 2, 8, 5, 5, 4, 2, 2, 5, 0, 5,\n",
       "       2, 8, 8, 8, 9, 0], dtype=int32)"
      ]
     },
     "execution_count": 91,
     "metadata": {},
     "output_type": "execute_result"
    }
   ],
   "source": [
    "y_test"
   ]
  },
  {
   "cell_type": "code",
   "execution_count": 93,
   "metadata": {},
   "outputs": [
    {
     "name": "stdout",
     "output_type": "stream",
     "text": [
      "test acc: 0.9815\n"
     ]
    },
    {
     "data": {
      "image/png": "[encoded data removed]",
      "text/plain": [
       "<Figure size 864x648 with 15 Axes>"
      ]
     },
     "metadata": {
      "needs_background": "light"
     },
     "output_type": "display_data"
    }
   ],
   "source": [
    "# %load solutions/keras_accuracy_on_test_set.py\n",
    "y_predicted = np.argmax(model.predict(X_test, verbose=0), axis=1)\n",
    "\n",
    "# Let's display the first inputs image, the predicted labels and the true labels\n",
    "fig, axes = plt.subplots(ncols=5, nrows=3, figsize=(12, 9))\n",
    "for i, ax in enumerate(axes.ravel()):\n",
    "    ax.imshow(scaler.inverse_transform(X_test[i:i+1]).reshape(8, 8),\n",
    "              cmap=plt.cm.gray_r, interpolation='nearest')\n",
    "    ax.set_title(\"predicted label: %d\\n true label: %d\"\n",
    "                 % (y_predicted[i], y_test[i]))\n",
    "\n",
    "print(\"test acc: %0.4f\" % np.mean(y_predicted == y_test))\n"
   ]
  },
  {
   "cell_type": "markdown",
   "metadata": {},
   "source": [
    "Let us decompose how we got the predictions. First, we call the model on the data to get the laster layer (softmax) outputs directly as a tensorflow Tensor:"
   ]
  },
  {
   "cell_type": "code",
   "execution_count": 33,
   "metadata": {},
   "outputs": [
    {
     "data": {
      "text/plain": [
       "<tf.Tensor: shape=(5, 10), dtype=float32, numpy=\n",
       "array([[1.43261815e-07, 1.08828674e-04, 9.99701083e-01, 1.31995141e-04,\n",
       "        1.18320969e-07, 2.93973471e-07, 1.09421865e-06, 2.27737110e-05,\n",
       "        2.53655053e-05, 8.37207790e-06],\n",
       "       [7.27364048e-03, 8.51079312e-06, 3.14727640e-06, 1.26631026e-08,\n",
       "        9.91210461e-01, 2.68825465e-06, 1.35615666e-03, 1.40431104e-04,\n",
       "        4.35678612e-06, 5.84620011e-07],\n",
       "       [7.71420491e-06, 5.80787164e-05, 9.99811527e-05, 3.92248854e-04,\n",
       "        7.34957212e-05, 1.65601068e-05, 3.95763749e-07, 9.98923361e-01,\n",
       "        4.84833117e-06, 4.23199730e-04],\n",
       "       [2.46737472e-04, 3.15814302e-03, 2.72015095e-05, 4.69602086e-03,\n",
       "        1.44931173e-05, 1.20488425e-04, 4.00575391e-06, 2.10999133e-05,\n",
       "        1.32855994e-03, 9.90383327e-01],\n",
       "       [1.66922164e-05, 9.75829840e-01, 2.11014340e-04, 4.87224374e-04,\n",
       "        3.95842100e-04, 1.06195930e-05, 6.77514763e-05, 1.46513572e-03,\n",
       "        2.07633544e-02, 7.52499909e-04]], dtype=float32)>"
      ]
     },
     "execution_count": 33,
     "metadata": {},
     "output_type": "execute_result"
    }
   ],
   "source": [
    "predictions_tf = model(X_test)\n",
    "predictions_tf[:5]"
   ]
  },
  {
   "cell_type": "code",
   "execution_count": 34,
   "metadata": {},
   "outputs": [
    {
     "data": {
      "text/plain": [
       "(tensorflow.python.framework.ops.EagerTensor, TensorShape([270, 10]))"
      ]
     },
     "execution_count": 34,
     "metadata": {},
     "output_type": "execute_result"
    }
   ],
   "source": [
    "type(predictions_tf), predictions_tf.shape"
   ]
  },
  {
   "cell_type": "markdown",
   "metadata": {},
   "source": [
    "We can use the tensorflow API to check that for each row, the probabilities sum to 1:"
   ]
  },
  {
   "cell_type": "code",
   "execution_count": 35,
   "metadata": {},
   "outputs": [
    {
     "data": {
      "text/plain": [
       "<tf.Tensor: shape=(5,), dtype=float32, numpy=\n",
       "array([1.        , 0.99999994, 0.9999999 , 1.0000001 , 0.99999994],\n",
       "      dtype=float32)>"
      ]
     },
     "execution_count": 35,
     "metadata": {},
     "output_type": "execute_result"
    }
   ],
   "source": [
    "import tensorflow as tf\n",
    "\n",
    "tf.reduce_sum(predictions_tf, axis=1)[:5]"
   ]
  },
  {
   "cell_type": "markdown",
   "metadata": {},
   "source": [
    "We can also extract the label with the highest probability using the tensorflow API:"
   ]
  },
  {
   "cell_type": "code",
   "execution_count": 36,
   "metadata": {},
   "outputs": [
    {
     "data": {
      "text/plain": [
       "<tf.Tensor: shape=(5,), dtype=int64, numpy=array([2, 4, 7, 9, 1])>"
      ]
     },
     "execution_count": 36,
     "metadata": {},
     "output_type": "execute_result"
    }
   ],
   "source": [
    "predicted_labels_tf = tf.argmax(predictions_tf, axis=1)\n",
    "predicted_labels_tf[:5]"
   ]
  },
  {
   "cell_type": "markdown",
   "metadata": {},
   "source": [
    "We can compare those labels to the expected labels to compute the accuracy with the Tensorflow API. Note however that we need an explicit cast from boolean to floating point values to be able to compute the mean accuracy when using the tensorflow tensors:"
   ]
  },
  {
   "cell_type": "code",
   "execution_count": 37,
   "metadata": {},
   "outputs": [
    {
     "data": {
      "text/plain": [
       "<tf.Tensor: shape=(), dtype=float64, numpy=0.9777777777777777>"
      ]
     },
     "execution_count": 37,
     "metadata": {},
     "output_type": "execute_result"
    }
   ],
   "source": [
    "accuracy_tf = tf.reduce_mean(tf.cast(predicted_labels_tf == y_test, tf.float64))\n",
    "accuracy_tf"
   ]
  },
  {
   "cell_type": "markdown",
   "metadata": {},
   "source": [
    "Also note that it is possible to convert tensors to numpy array if one prefer to use numpy:"
   ]
  },
  {
   "cell_type": "code",
   "execution_count": 38,
   "metadata": {},
   "outputs": [
    {
     "data": {
      "text/plain": [
       "0.9777777777777777"
      ]
     },
     "execution_count": 38,
     "metadata": {},
     "output_type": "execute_result"
    }
   ],
   "source": [
    "accuracy_tf.numpy()"
   ]
  },
  {
   "cell_type": "code",
   "execution_count": 39,
   "metadata": {},
   "outputs": [
    {
     "data": {
      "text/plain": [
       "<tf.Tensor: shape=(5,), dtype=int64, numpy=array([2, 4, 7, 9, 1])>"
      ]
     },
     "execution_count": 39,
     "metadata": {},
     "output_type": "execute_result"
    }
   ],
   "source": [
    "predicted_labels_tf[:5]"
   ]
  },
  {
   "cell_type": "code",
   "execution_count": 40,
   "metadata": {},
   "outputs": [
    {
     "data": {
      "text/plain": [
       "array([2, 4, 7, 9, 1])"
      ]
     },
     "execution_count": 40,
     "metadata": {},
     "output_type": "execute_result"
    }
   ],
   "source": [
    "predicted_labels_tf.numpy()[:5]"
   ]
  },
  {
   "cell_type": "code",
   "execution_count": 41,
   "metadata": {},
   "outputs": [
    {
     "data": {
      "text/plain": [
       "0.9777777777777777"
      ]
     },
     "execution_count": 41,
     "metadata": {},
     "output_type": "execute_result"
    }
   ],
   "source": [
    "(predicted_labels_tf.numpy() == y_test).mean()"
   ]
  },
  {
   "cell_type": "markdown",
   "metadata": {},
   "source": [
    "## Home Assignment: Impact of Initialization\n",
    "\n",
    "Let us now study the impact of a bad initialization when training\n",
    "a deep feed forward network.\n",
    "\n",
    "By default Keras dense layers use the \"Glorot Uniform\" initialization\n",
    "strategy to initialize the weight matrices:\n",
    "\n",
    "- each weight coefficient is randomly sampled from [-scale, scale]\n",
    "- scale is proportional to $\\frac{1}{\\sqrt{n_{in} + n_{out}}}$\n",
    "\n",
    "This strategy is known to work well to initialize deep neural networks\n",
    "with \"tanh\" or \"relu\" activation functions and then trained with\n",
    "standard SGD.\n",
    "\n",
    "To assess the impact of initialization let us plug an alternative init\n",
    "scheme into a 2 hidden layers networks with \"tanh\" activations.\n",
    "For the sake of the example let's use normal distributed weights\n",
    "with a manually adjustable scale (standard deviation) and see the\n",
    "impact the scale value:"
   ]
  },
  {
   "cell_type": "code",
   "execution_count": 42,
   "metadata": {},
   "outputs": [],
   "source": [
    "from tensorflow.keras import initializers\n",
    "\n",
    "normal_init = initializers.TruncatedNormal(stddev=0.01)\n",
    "\n",
    "\n",
    "model = Sequential()\n",
    "model.add(Dense(hidden_dim, input_dim=input_dim, activation=\"tanh\",\n",
    "                kernel_initializer=normal_init))\n",
    "model.add(Dense(hidden_dim, activation=\"tanh\",\n",
    "                kernel_initializer=normal_init))\n",
    "model.add(Dense(output_dim, activation=\"softmax\",\n",
    "                kernel_initializer=normal_init))\n",
    "\n",
    "model.compile(optimizer=optimizers.SGD(learning_rate=0.1),\n",
    "              loss='categorical_crossentropy', metrics=['accuracy'])"
   ]
  },
  {
   "cell_type": "code",
   "execution_count": 43,
   "metadata": {},
   "outputs": [
    {
     "data": {
      "text/plain": [
       "[<keras.layers.core.dense.Dense at 0x7fa070c3a430>,\n",
       " <keras.layers.core.dense.Dense at 0x7fa070c3ae80>,\n",
       " <keras.layers.core.dense.Dense at 0x7fa070c4be50>]"
      ]
     },
     "execution_count": 43,
     "metadata": {},
     "output_type": "execute_result"
    }
   ],
   "source": [
    "model.layers"
   ]
  },
  {
   "cell_type": "markdown",
   "metadata": {},
   "source": [
    "Let's have a look at the parameters of the first layer after initialization but before any training has happened:"
   ]
  },
  {
   "cell_type": "code",
   "execution_count": 44,
   "metadata": {},
   "outputs": [
    {
     "data": {
      "text/plain": [
       "[<tf.Variable 'dense_4/kernel:0' shape=(64, 100) dtype=float32, numpy=\n",
       " array([[-0.00169253,  0.00396862,  0.01435855, ...,  0.00622966,\n",
       "          0.00397949, -0.00692498],\n",
       "        [ 0.0113344 ,  0.01270405,  0.00038039, ..., -0.0082805 ,\n",
       "         -0.00311222, -0.00823139],\n",
       "        [-0.00955998,  0.00088186,  0.00087087, ...,  0.00328724,\n",
       "         -0.00082558, -0.01775672],\n",
       "        ...,\n",
       "        [ 0.00879492,  0.00079118, -0.01379645, ..., -0.0037515 ,\n",
       "          0.01449156,  0.00759383],\n",
       "        [-0.0040359 , -0.00631556,  0.00597182, ...,  0.00131541,\n",
       "         -0.00540338,  0.00504119],\n",
       "        [-0.01141396, -0.0128922 ,  0.00510595, ...,  0.01307579,\n",
       "          0.00084426,  0.00304866]], dtype=float32)>,\n",
       " <tf.Variable 'dense_4/bias:0' shape=(100,) dtype=float32, numpy=\n",
       " array([0., 0., 0., 0., 0., 0., 0., 0., 0., 0., 0., 0., 0., 0., 0., 0., 0.,\n",
       "        0., 0., 0., 0., 0., 0., 0., 0., 0., 0., 0., 0., 0., 0., 0., 0., 0.,\n",
       "        0., 0., 0., 0., 0., 0., 0., 0., 0., 0., 0., 0., 0., 0., 0., 0., 0.,\n",
       "        0., 0., 0., 0., 0., 0., 0., 0., 0., 0., 0., 0., 0., 0., 0., 0., 0.,\n",
       "        0., 0., 0., 0., 0., 0., 0., 0., 0., 0., 0., 0., 0., 0., 0., 0., 0.,\n",
       "        0., 0., 0., 0., 0., 0., 0., 0., 0., 0., 0., 0., 0., 0., 0.],\n",
       "       dtype=float32)>]"
      ]
     },
     "execution_count": 44,
     "metadata": {},
     "output_type": "execute_result"
    }
   ],
   "source": [
    "model.layers[0].weights"
   ]
  },
  {
   "cell_type": "code",
   "execution_count": 45,
   "metadata": {},
   "outputs": [
    {
     "data": {
      "text/plain": [
       "array([[-0.00169253,  0.00396862,  0.01435855, ...,  0.00622966,\n",
       "         0.00397949, -0.00692498],\n",
       "       [ 0.0113344 ,  0.01270405,  0.00038039, ..., -0.0082805 ,\n",
       "        -0.00311222, -0.00823139],\n",
       "       [-0.00955998,  0.00088186,  0.00087087, ...,  0.00328724,\n",
       "        -0.00082558, -0.01775672],\n",
       "       ...,\n",
       "       [ 0.00879492,  0.00079118, -0.01379645, ..., -0.0037515 ,\n",
       "         0.01449156,  0.00759383],\n",
       "       [-0.0040359 , -0.00631556,  0.00597182, ...,  0.00131541,\n",
       "        -0.00540338,  0.00504119],\n",
       "       [-0.01141396, -0.0128922 ,  0.00510595, ...,  0.01307579,\n",
       "         0.00084426,  0.00304866]], dtype=float32)"
      ]
     },
     "execution_count": 45,
     "metadata": {},
     "output_type": "execute_result"
    }
   ],
   "source": [
    "w = model.layers[0].weights[0].numpy()\n",
    "w"
   ]
  },
  {
   "cell_type": "code",
   "execution_count": 46,
   "metadata": {},
   "outputs": [
    {
     "data": {
      "text/plain": [
       "0.00869675"
      ]
     },
     "execution_count": 46,
     "metadata": {},
     "output_type": "execute_result"
    }
   ],
   "source": [
    "w.std()"
   ]
  },
  {
   "cell_type": "code",
   "execution_count": 47,
   "metadata": {},
   "outputs": [
    {
     "data": {
      "text/plain": [
       "array([0., 0., 0., 0., 0., 0., 0., 0., 0., 0., 0., 0., 0., 0., 0., 0., 0.,\n",
       "       0., 0., 0., 0., 0., 0., 0., 0., 0., 0., 0., 0., 0., 0., 0., 0., 0.,\n",
       "       0., 0., 0., 0., 0., 0., 0., 0., 0., 0., 0., 0., 0., 0., 0., 0., 0.,\n",
       "       0., 0., 0., 0., 0., 0., 0., 0., 0., 0., 0., 0., 0., 0., 0., 0., 0.,\n",
       "       0., 0., 0., 0., 0., 0., 0., 0., 0., 0., 0., 0., 0., 0., 0., 0., 0.,\n",
       "       0., 0., 0., 0., 0., 0., 0., 0., 0., 0., 0., 0., 0., 0., 0.],\n",
       "      dtype=float32)"
      ]
     },
     "execution_count": 47,
     "metadata": {},
     "output_type": "execute_result"
    }
   ],
   "source": [
    "b = model.layers[0].weights[1].numpy()\n",
    "b"
   ]
  },
  {
   "cell_type": "code",
   "execution_count": 48,
   "metadata": {},
   "outputs": [
    {
     "name": "stdout",
     "output_type": "stream",
     "text": [
      "Epoch 1/15\n",
      "48/48 [==============================] - 1s 2ms/step - loss: 2.3027 - accuracy: 0.1061\n",
      "Epoch 2/15\n",
      "48/48 [==============================] - 0s 2ms/step - loss: 2.3000 - accuracy: 0.1087\n",
      "Epoch 3/15\n",
      "48/48 [==============================] - 0s 2ms/step - loss: 2.2885 - accuracy: 0.1611\n",
      "Epoch 4/15\n",
      "48/48 [==============================] - 0s 2ms/step - loss: 2.0825 - accuracy: 0.2305\n",
      "Epoch 5/15\n",
      "48/48 [==============================] - 0s 3ms/step - loss: 1.5494 - accuracy: 0.4407\n",
      "Epoch 6/15\n",
      "48/48 [==============================] - 0s 2ms/step - loss: 0.9292 - accuracy: 0.7263\n",
      "Epoch 7/15\n",
      "48/48 [==============================] - 0s 2ms/step - loss: 0.6645 - accuracy: 0.8016\n",
      "Epoch 8/15\n",
      "48/48 [==============================] - 0s 1ms/step - loss: 0.5107 - accuracy: 0.8402\n",
      "Epoch 9/15\n",
      "48/48 [==============================] - 0s 1ms/step - loss: 0.4134 - accuracy: 0.8723\n",
      "Epoch 10/15\n",
      "48/48 [==============================] - 0s 2ms/step - loss: 0.3388 - accuracy: 0.9031\n",
      "Epoch 11/15\n",
      "48/48 [==============================] - 0s 1ms/step - loss: 0.2680 - accuracy: 0.9352\n",
      "Epoch 12/15\n",
      "48/48 [==============================] - 0s 2ms/step - loss: 0.2070 - accuracy: 0.9502\n",
      "Epoch 13/15\n",
      "48/48 [==============================] - 0s 2ms/step - loss: 0.1699 - accuracy: 0.9574\n",
      "Epoch 14/15\n",
      "48/48 [==============================] - 0s 2ms/step - loss: 0.1455 - accuracy: 0.9627\n",
      "Epoch 15/15\n",
      "48/48 [==============================] - 0s 2ms/step - loss: 0.1275 - accuracy: 0.9692\n"
     ]
    },
    {
     "data": {
      "image/png": "[encoded data removed]",
      "text/plain": [
       "<Figure size 864x288 with 1 Axes>"
      ]
     },
     "metadata": {
      "needs_background": "light"
     },
     "output_type": "display_data"
    }
   ],
   "source": [
    "history = model.fit(X_train, Y_train, epochs=15, batch_size=32)\n",
    "\n",
    "plt.figure(figsize=(12, 4))\n",
    "plt.plot(history.history['loss'], label=\"Truncated Normal init\")\n",
    "plt.legend();"
   ]
  },
  {
   "cell_type": "markdown",
   "metadata": {},
   "source": [
    "Once the model has been fit, the weights have been updated and notably the biases are no longer 0:"
   ]
  },
  {
   "cell_type": "code",
   "execution_count": 49,
   "metadata": {},
   "outputs": [
    {
     "data": {
      "text/plain": [
       "[<tf.Variable 'dense_4/kernel:0' shape=(64, 100) dtype=float32, numpy=\n",
       " array([[-0.00169253,  0.00396862,  0.01435855, ...,  0.00622966,\n",
       "          0.00397949, -0.00692498],\n",
       "        [ 0.03074102, -0.01026841,  0.06213528, ...,  0.02884318,\n",
       "          0.02130808, -0.00144489],\n",
       "        [ 0.04237423, -0.02638358,  0.0576559 , ...,  0.07066577,\n",
       "          0.04010509, -0.0095018 ],\n",
       "        ...,\n",
       "        [-0.0516385 , -0.01832524, -0.00800743, ..., -0.05572199,\n",
       "         -0.01865478,  0.01488868],\n",
       "        [-0.03846915, -0.03968743,  0.0364503 , ..., -0.00881098,\n",
       "         -0.03131893,  0.03593275],\n",
       "        [-0.06250453, -0.11434999,  0.01968672, ..., -0.0158427 ,\n",
       "         -0.02078283,  0.06293776]], dtype=float32)>,\n",
       " <tf.Variable 'dense_4/bias:0' shape=(100,) dtype=float32, numpy=\n",
       " array([-2.17173062e-02, -7.02357888e-02, -4.46003978e-04, -1.95406675e-02,\n",
       "        -1.94213334e-02,  5.78443520e-03,  2.51426036e-03,  5.13290055e-02,\n",
       "         1.87135302e-02, -3.34032625e-02,  3.18544433e-02, -1.18825841e-03,\n",
       "         1.47301583e-02,  2.49956921e-02,  1.69745069e-02,  3.15246992e-02,\n",
       "         3.46427858e-02,  2.55797189e-02,  7.90459663e-03, -7.49192759e-02,\n",
       "        -4.32955741e-04,  3.18413228e-02,  2.39450652e-02, -9.31118149e-03,\n",
       "         6.21753521e-02, -2.33587548e-02, -1.79919228e-02,  1.95174031e-02,\n",
       "         2.29461920e-02, -3.05498634e-02, -2.26567406e-02, -1.50257591e-02,\n",
       "         1.03571005e-01, -4.53188419e-02, -9.13261548e-02,  3.27637903e-02,\n",
       "         2.16458309e-02,  2.01829411e-02, -3.06440182e-02, -5.47706485e-02,\n",
       "         2.33787694e-03, -1.68524534e-02,  7.00803176e-02,  2.46122349e-02,\n",
       "        -6.03998713e-02,  1.46284988e-02, -5.89416828e-03, -4.15192842e-02,\n",
       "         7.90851861e-02,  7.63737857e-02,  4.42763343e-02, -2.74936222e-02,\n",
       "        -1.39855351e-02,  3.64635438e-02, -9.58382413e-02, -1.55475838e-02,\n",
       "         2.13302625e-03,  4.10990901e-02,  1.01927286e-02,  1.83947086e-02,\n",
       "        -3.47634070e-02,  1.03465514e-02, -1.01217084e-01,  1.82536282e-02,\n",
       "        -1.05949536e-01, -3.64079868e-04, -6.26436342e-03,  1.36551792e-02,\n",
       "         2.42181728e-03, -1.64039414e-02, -7.68801011e-03, -8.75736400e-03,\n",
       "        -7.20992777e-03, -9.02351886e-02,  4.00077850e-02,  1.20219951e-02,\n",
       "         1.61593221e-02,  3.44167985e-02, -2.84608267e-02,  5.11702616e-03,\n",
       "         1.29228812e-02,  2.03870591e-02,  2.78892796e-02, -6.33152574e-02,\n",
       "        -4.45475988e-02, -1.32905599e-02,  4.03141640e-02, -7.68791512e-02,\n",
       "         2.28824727e-02, -5.19801723e-03, -3.35695595e-03, -1.56059172e-02,\n",
       "         1.33817652e-02, -6.16126843e-02, -5.53206205e-02,  1.96279725e-04,\n",
       "        -6.35593990e-03, -1.56003807e-05,  1.99062675e-01, -1.65557172e-02],\n",
       "       dtype=float32)>]"
      ]
     },
     "execution_count": 49,
     "metadata": {},
     "output_type": "execute_result"
    }
   ],
   "source": [
    "model.layers[0].weights"
   ]
  },
  {
   "cell_type": "markdown",
   "metadata": {},
   "source": [
    "#### Questions:\n",
    "\n",
    "- Try the following initialization schemes and see whether\n",
    "  the SGD algorithm can successfully train the network or\n",
    "  not:\n",
    "  \n",
    "  - a very small e.g. `stddev=1e-3`\n",
    "  - a larger scale e.g. `stddev=1` or `10`\n",
    "  - initialize all weights to 0 (constant initialization)\n",
    "  \n",
    "- What do you observe? Can you find an explanation for those\n",
    "  outcomes?\n",
    "\n",
    "- Are more advanced solvers such as SGD with momentum or Adam able\n",
    "  to deal better with such bad initializations?"
   ]
  },
  {
   "cell_type": "code",
   "execution_count": null,
   "metadata": {},
   "outputs": [],
   "source": []
  },
  {
   "cell_type": "code",
   "execution_count": 50,
   "metadata": {},
   "outputs": [],
   "source": [
    "# %load solutions/keras_initializations.py"
   ]
  },
  {
   "cell_type": "code",
   "execution_count": 51,
   "metadata": {},
   "outputs": [],
   "source": [
    "# %load solutions/keras_initializations_analysis.py"
   ]
  }
 ],
 "metadata": {
  "file_extension": ".py",
  "kernelspec": {
   "display_name": "Python 3",
   "language": "python",
   "name": "python3"
  },
  "language_info": {
   "codemirror_mode": {
    "name": "ipython",
    "version": 3
   },
   "file_extension": ".py",
   "mimetype": "text/x-python",
   "name": "python",
   "nbconvert_exporter": "python",
   "pygments_lexer": "ipython3",
   "version": "3.9.2"
  },
  "mimetype": "text/x-python",
  "name": "python",
  "npconvert_exporter": "python",
  "pygments_lexer": "ipython3",
  "toc": {
   "base_numbering": 1,
   "nav_menu": {},
   "number_sections": true,
   "sideBar": true,
   "skip_h1_title": false,
   "title_cell": "Table of Contents",
   "title_sidebar": "Contents",
   "toc_cell": false,
   "toc_position": {},
   "toc_section_display": true,
   "toc_window_display": false
  },
  "version": 3
 },
 "nbformat": 4,
 "nbformat_minor": 4
}
