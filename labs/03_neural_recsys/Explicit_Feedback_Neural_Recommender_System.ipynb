{
 "cells": [
  {
   "cell_type": "markdown",
   "metadata": {},
   "source": [
    "# Explicit Feedback Neural Recommender Systems\n",
    "\n",
    "Goals:\n",
    "- Understand recommender data\n",
    "- Build different models architectures using Keras\n",
    "- Retrieve Embeddings and visualize them\n",
    "- Add metadata information as input to the model"
   ]
  },
  {
   "cell_type": "code",
   "execution_count": 1,
   "metadata": {},
   "outputs": [],
   "source": [
    "%matplotlib inline\n",
    "import matplotlib.pyplot as plt\n",
    "import numpy as np\n",
    "import os.path as op\n",
    "\n",
    "from zipfile import ZipFile\n",
    "try:\n",
    "    from urllib.request import urlretrieve\n",
    "except ImportError:  # Python 2 compat\n",
    "    from urllib import urlretrieve\n",
    "\n",
    "\n",
    "ML_100K_URL = \"http://files.grouplens.org/datasets/movielens/ml-100k.zip\"\n",
    "ML_100K_FILENAME = ML_100K_URL.rsplit('/', 1)[1]\n",
    "ML_100K_FOLDER = 'ml-100k'\n",
    "\n",
    "# if not op.exists(ML_100K_FILENAME):\n",
    "#     print('Downloading %s to %s...' % (ML_100K_URL, ML_100K_FILENAME))\n",
    "#     urlretrieve(ML_100K_URL, ML_100K_FILENAME)\n",
    "\n",
    "# if not op.exists(ML_100K_FOLDER):\n",
    "#     print('Extracting %s to %s...' % (ML_100K_FILENAME, ML_100K_FOLDER))\n",
    "#     ZipFile(ML_100K_FILENAME).extractall('.')"
   ]
  },
  {
   "cell_type": "markdown",
   "metadata": {},
   "source": [
    "### Ratings file\n",
    "\n",
    "Each line contains a rated movie: \n",
    "- a user\n",
    "- an item\n",
    "- a rating from 1 to 5 stars"
   ]
  },
  {
   "cell_type": "code",
   "execution_count": 2,
   "metadata": {},
   "outputs": [
    {
     "data": {
      "text/html": [
       "<div>\n",
       "<style scoped>\n",
       "    .dataframe tbody tr th:only-of-type {\n",
       "        vertical-align: middle;\n",
       "    }\n",
       "\n",
       "    .dataframe tbody tr th {\n",
       "        vertical-align: top;\n",
       "    }\n",
       "\n",
       "    .dataframe thead th {\n",
       "        text-align: right;\n",
       "    }\n",
       "</style>\n",
       "<table border=\"1\" class=\"dataframe\">\n",
       "  <thead>\n",
       "    <tr style=\"text-align: right;\">\n",
       "      <th></th>\n",
       "      <th>user_id</th>\n",
       "      <th>item_id</th>\n",
       "      <th>rating</th>\n",
       "      <th>timestamp</th>\n",
       "    </tr>\n",
       "  </thead>\n",
       "  <tbody>\n",
       "    <tr>\n",
       "      <th>0</th>\n",
       "      <td>196</td>\n",
       "      <td>242</td>\n",
       "      <td>3</td>\n",
       "      <td>881250949</td>\n",
       "    </tr>\n",
       "    <tr>\n",
       "      <th>1</th>\n",
       "      <td>186</td>\n",
       "      <td>302</td>\n",
       "      <td>3</td>\n",
       "      <td>891717742</td>\n",
       "    </tr>\n",
       "    <tr>\n",
       "      <th>2</th>\n",
       "      <td>22</td>\n",
       "      <td>377</td>\n",
       "      <td>1</td>\n",
       "      <td>878887116</td>\n",
       "    </tr>\n",
       "    <tr>\n",
       "      <th>3</th>\n",
       "      <td>244</td>\n",
       "      <td>51</td>\n",
       "      <td>2</td>\n",
       "      <td>880606923</td>\n",
       "    </tr>\n",
       "    <tr>\n",
       "      <th>4</th>\n",
       "      <td>166</td>\n",
       "      <td>346</td>\n",
       "      <td>1</td>\n",
       "      <td>886397596</td>\n",
       "    </tr>\n",
       "  </tbody>\n",
       "</table>\n",
       "</div>"
      ],
      "text/plain": [
       "   user_id  item_id  rating  timestamp\n",
       "0      196      242       3  881250949\n",
       "1      186      302       3  891717742\n",
       "2       22      377       1  878887116\n",
       "3      244       51       2  880606923\n",
       "4      166      346       1  886397596"
      ]
     },
     "execution_count": 2,
     "metadata": {},
     "output_type": "execute_result"
    }
   ],
   "source": [
    "import pandas as pd\n",
    "\n",
    "raw_ratings = pd.read_csv(op.join(ML_100K_FOLDER, 'u.data'), sep='\\t',\n",
    "                      names=[\"user_id\", \"item_id\", \"rating\", \"timestamp\"])\n",
    "raw_ratings.head()"
   ]
  },
  {
   "cell_type": "code",
   "execution_count": 3,
   "metadata": {},
   "outputs": [
    {
     "data": {
      "text/plain": [
       "943"
      ]
     },
     "execution_count": 3,
     "metadata": {},
     "output_type": "execute_result"
    }
   ],
   "source": [
    "raw_ratings['user_id'].nunique()"
   ]
  },
  {
   "cell_type": "code",
   "execution_count": 4,
   "metadata": {},
   "outputs": [
    {
     "data": {
      "text/plain": [
       "1682"
      ]
     },
     "execution_count": 4,
     "metadata": {},
     "output_type": "execute_result"
    }
   ],
   "source": [
    "raw_ratings['item_id'].nunique()"
   ]
  },
  {
   "cell_type": "markdown",
   "metadata": {},
   "source": [
    "### Item metadata file\n",
    "\n",
    "The item metadata file contains metadata like the name of the movie or the date it was released. The movies file contains columns indicating the movie's genres. Let's only load the first five columns of the file with `usecols`."
   ]
  },
  {
   "cell_type": "code",
   "execution_count": 5,
   "metadata": {},
   "outputs": [
    {
     "data": {
      "text/html": [
       "<div>\n",
       "<style scoped>\n",
       "    .dataframe tbody tr th:only-of-type {\n",
       "        vertical-align: middle;\n",
       "    }\n",
       "\n",
       "    .dataframe tbody tr th {\n",
       "        vertical-align: top;\n",
       "    }\n",
       "\n",
       "    .dataframe thead th {\n",
       "        text-align: right;\n",
       "    }\n",
       "</style>\n",
       "<table border=\"1\" class=\"dataframe\">\n",
       "  <thead>\n",
       "    <tr style=\"text-align: right;\">\n",
       "      <th></th>\n",
       "      <th>item_id</th>\n",
       "      <th>title</th>\n",
       "      <th>release_date</th>\n",
       "      <th>video_release_date</th>\n",
       "      <th>imdb_url</th>\n",
       "    </tr>\n",
       "  </thead>\n",
       "  <tbody>\n",
       "    <tr>\n",
       "      <th>0</th>\n",
       "      <td>1</td>\n",
       "      <td>Toy Story (1995)</td>\n",
       "      <td>01-Jan-1995</td>\n",
       "      <td>NaN</td>\n",
       "      <td>http://us.imdb.com/M/title-exact?Toy%20Story%2...</td>\n",
       "    </tr>\n",
       "    <tr>\n",
       "      <th>1</th>\n",
       "      <td>2</td>\n",
       "      <td>GoldenEye (1995)</td>\n",
       "      <td>01-Jan-1995</td>\n",
       "      <td>NaN</td>\n",
       "      <td>http://us.imdb.com/M/title-exact?GoldenEye%20(...</td>\n",
       "    </tr>\n",
       "    <tr>\n",
       "      <th>2</th>\n",
       "      <td>3</td>\n",
       "      <td>Four Rooms (1995)</td>\n",
       "      <td>01-Jan-1995</td>\n",
       "      <td>NaN</td>\n",
       "      <td>http://us.imdb.com/M/title-exact?Four%20Rooms%...</td>\n",
       "    </tr>\n",
       "    <tr>\n",
       "      <th>3</th>\n",
       "      <td>4</td>\n",
       "      <td>Get Shorty (1995)</td>\n",
       "      <td>01-Jan-1995</td>\n",
       "      <td>NaN</td>\n",
       "      <td>http://us.imdb.com/M/title-exact?Get%20Shorty%...</td>\n",
       "    </tr>\n",
       "    <tr>\n",
       "      <th>4</th>\n",
       "      <td>5</td>\n",
       "      <td>Copycat (1995)</td>\n",
       "      <td>01-Jan-1995</td>\n",
       "      <td>NaN</td>\n",
       "      <td>http://us.imdb.com/M/title-exact?Copycat%20(1995)</td>\n",
       "    </tr>\n",
       "  </tbody>\n",
       "</table>\n",
       "</div>"
      ],
      "text/plain": [
       "   item_id              title release_date  video_release_date  \\\n",
       "0        1   Toy Story (1995)  01-Jan-1995                 NaN   \n",
       "1        2   GoldenEye (1995)  01-Jan-1995                 NaN   \n",
       "2        3  Four Rooms (1995)  01-Jan-1995                 NaN   \n",
       "3        4  Get Shorty (1995)  01-Jan-1995                 NaN   \n",
       "4        5     Copycat (1995)  01-Jan-1995                 NaN   \n",
       "\n",
       "                                            imdb_url  \n",
       "0  http://us.imdb.com/M/title-exact?Toy%20Story%2...  \n",
       "1  http://us.imdb.com/M/title-exact?GoldenEye%20(...  \n",
       "2  http://us.imdb.com/M/title-exact?Four%20Rooms%...  \n",
       "3  http://us.imdb.com/M/title-exact?Get%20Shorty%...  \n",
       "4  http://us.imdb.com/M/title-exact?Copycat%20(1995)  "
      ]
     },
     "execution_count": 5,
     "metadata": {},
     "output_type": "execute_result"
    }
   ],
   "source": [
    "m_cols = ['item_id', 'title', 'release_date', 'video_release_date', 'imdb_url']\n",
    "items = pd.read_csv(op.join(ML_100K_FOLDER, 'u.item'), sep='|',\n",
    "                    names=m_cols, usecols=range(5), encoding='latin-1')\n",
    "items.head()"
   ]
  },
  {
   "cell_type": "markdown",
   "metadata": {},
   "source": [
    "Let's write a bit of Python preprocessing code to extract the release year as an integer value:"
   ]
  },
  {
   "cell_type": "code",
   "execution_count": 6,
   "metadata": {},
   "outputs": [
    {
     "data": {
      "image/png": "[encoded data removed]",
      "text/plain": [
       "<Figure size 432x288 with 1 Axes>"
      ]
     },
     "metadata": {
      "needs_background": "light"
     },
     "output_type": "display_data"
    }
   ],
   "source": [
    "def extract_year(release_date):\n",
    "    if hasattr(release_date, 'split'):\n",
    "        components = release_date.split('-')\n",
    "        if len(components) == 3:\n",
    "            return int(components[2])\n",
    "    # Missing value marker\n",
    "    return 1920\n",
    "\n",
    "\n",
    "items['release_year'] = items['release_date'].map(extract_year)\n",
    "items.hist('release_year', bins=50);"
   ]
  },
  {
   "cell_type": "markdown",
   "metadata": {},
   "source": [
    "Enrich the raw ratings data with the collected items metadata:"
   ]
  },
  {
   "cell_type": "code",
   "execution_count": 7,
   "metadata": {},
   "outputs": [],
   "source": [
    "all_ratings = pd.merge(items, raw_ratings)"
   ]
  },
  {
   "cell_type": "code",
   "execution_count": 8,
   "metadata": {},
   "outputs": [
    {
     "data": {
      "text/html": [
       "<div>\n",
       "<style scoped>\n",
       "    .dataframe tbody tr th:only-of-type {\n",
       "        vertical-align: middle;\n",
       "    }\n",
       "\n",
       "    .dataframe tbody tr th {\n",
       "        vertical-align: top;\n",
       "    }\n",
       "\n",
       "    .dataframe thead th {\n",
       "        text-align: right;\n",
       "    }\n",
       "</style>\n",
       "<table border=\"1\" class=\"dataframe\">\n",
       "  <thead>\n",
       "    <tr style=\"text-align: right;\">\n",
       "      <th></th>\n",
       "      <th>item_id</th>\n",
       "      <th>title</th>\n",
       "      <th>release_date</th>\n",
       "      <th>video_release_date</th>\n",
       "      <th>imdb_url</th>\n",
       "      <th>release_year</th>\n",
       "      <th>user_id</th>\n",
       "      <th>rating</th>\n",
       "      <th>timestamp</th>\n",
       "    </tr>\n",
       "  </thead>\n",
       "  <tbody>\n",
       "    <tr>\n",
       "      <th>0</th>\n",
       "      <td>1</td>\n",
       "      <td>Toy Story (1995)</td>\n",
       "      <td>01-Jan-1995</td>\n",
       "      <td>NaN</td>\n",
       "      <td>http://us.imdb.com/M/title-exact?Toy%20Story%2...</td>\n",
       "      <td>1995</td>\n",
       "      <td>308</td>\n",
       "      <td>4</td>\n",
       "      <td>887736532</td>\n",
       "    </tr>\n",
       "    <tr>\n",
       "      <th>1</th>\n",
       "      <td>1</td>\n",
       "      <td>Toy Story (1995)</td>\n",
       "      <td>01-Jan-1995</td>\n",
       "      <td>NaN</td>\n",
       "      <td>http://us.imdb.com/M/title-exact?Toy%20Story%2...</td>\n",
       "      <td>1995</td>\n",
       "      <td>287</td>\n",
       "      <td>5</td>\n",
       "      <td>875334088</td>\n",
       "    </tr>\n",
       "    <tr>\n",
       "      <th>2</th>\n",
       "      <td>1</td>\n",
       "      <td>Toy Story (1995)</td>\n",
       "      <td>01-Jan-1995</td>\n",
       "      <td>NaN</td>\n",
       "      <td>http://us.imdb.com/M/title-exact?Toy%20Story%2...</td>\n",
       "      <td>1995</td>\n",
       "      <td>148</td>\n",
       "      <td>4</td>\n",
       "      <td>877019411</td>\n",
       "    </tr>\n",
       "    <tr>\n",
       "      <th>3</th>\n",
       "      <td>1</td>\n",
       "      <td>Toy Story (1995)</td>\n",
       "      <td>01-Jan-1995</td>\n",
       "      <td>NaN</td>\n",
       "      <td>http://us.imdb.com/M/title-exact?Toy%20Story%2...</td>\n",
       "      <td>1995</td>\n",
       "      <td>280</td>\n",
       "      <td>4</td>\n",
       "      <td>891700426</td>\n",
       "    </tr>\n",
       "    <tr>\n",
       "      <th>4</th>\n",
       "      <td>1</td>\n",
       "      <td>Toy Story (1995)</td>\n",
       "      <td>01-Jan-1995</td>\n",
       "      <td>NaN</td>\n",
       "      <td>http://us.imdb.com/M/title-exact?Toy%20Story%2...</td>\n",
       "      <td>1995</td>\n",
       "      <td>66</td>\n",
       "      <td>3</td>\n",
       "      <td>883601324</td>\n",
       "    </tr>\n",
       "  </tbody>\n",
       "</table>\n",
       "</div>"
      ],
      "text/plain": [
       "   item_id             title release_date  video_release_date  \\\n",
       "0        1  Toy Story (1995)  01-Jan-1995                 NaN   \n",
       "1        1  Toy Story (1995)  01-Jan-1995                 NaN   \n",
       "2        1  Toy Story (1995)  01-Jan-1995                 NaN   \n",
       "3        1  Toy Story (1995)  01-Jan-1995                 NaN   \n",
       "4        1  Toy Story (1995)  01-Jan-1995                 NaN   \n",
       "\n",
       "                                            imdb_url  release_year  user_id  \\\n",
       "0  http://us.imdb.com/M/title-exact?Toy%20Story%2...          1995      308   \n",
       "1  http://us.imdb.com/M/title-exact?Toy%20Story%2...          1995      287   \n",
       "2  http://us.imdb.com/M/title-exact?Toy%20Story%2...          1995      148   \n",
       "3  http://us.imdb.com/M/title-exact?Toy%20Story%2...          1995      280   \n",
       "4  http://us.imdb.com/M/title-exact?Toy%20Story%2...          1995       66   \n",
       "\n",
       "   rating  timestamp  \n",
       "0       4  887736532  \n",
       "1       5  875334088  \n",
       "2       4  877019411  \n",
       "3       4  891700426  \n",
       "4       3  883601324  "
      ]
     },
     "execution_count": 8,
     "metadata": {},
     "output_type": "execute_result"
    }
   ],
   "source": [
    "all_ratings.head()"
   ]
  },
  {
   "cell_type": "code",
   "execution_count": 9,
   "metadata": {},
   "outputs": [
    {
     "data": {
      "text/plain": [
       "(100000, 9)"
      ]
     },
     "execution_count": 9,
     "metadata": {},
     "output_type": "execute_result"
    }
   ],
   "source": [
    "all_ratings.shape"
   ]
  },
  {
   "cell_type": "markdown",
   "metadata": {},
   "source": [
    "### Data preprocessing\n",
    "\n",
    "To understand well the distribution of the data, the following statistics are computed:\n",
    "- the number of users\n",
    "- the number of items\n",
    "- the rating distribution\n",
    "- the popularity of each movie"
   ]
  },
  {
   "cell_type": "code",
   "execution_count": 10,
   "metadata": {},
   "outputs": [
    {
     "data": {
      "text/plain": [
       "1"
      ]
     },
     "execution_count": 10,
     "metadata": {},
     "output_type": "execute_result"
    }
   ],
   "source": [
    "min_user_id = all_ratings['user_id'].min()\n",
    "min_user_id"
   ]
  },
  {
   "cell_type": "code",
   "execution_count": 11,
   "metadata": {},
   "outputs": [
    {
     "data": {
      "text/plain": [
       "943"
      ]
     },
     "execution_count": 11,
     "metadata": {},
     "output_type": "execute_result"
    }
   ],
   "source": [
    "max_user_id = all_ratings['user_id'].max()\n",
    "max_user_id"
   ]
  },
  {
   "cell_type": "code",
   "execution_count": 12,
   "metadata": {},
   "outputs": [
    {
     "data": {
      "text/plain": [
       "1"
      ]
     },
     "execution_count": 12,
     "metadata": {},
     "output_type": "execute_result"
    }
   ],
   "source": [
    "min_item_id = all_ratings['item_id'].min()\n",
    "min_item_id"
   ]
  },
  {
   "cell_type": "code",
   "execution_count": 13,
   "metadata": {},
   "outputs": [
    {
     "data": {
      "text/plain": [
       "1682"
      ]
     },
     "execution_count": 13,
     "metadata": {},
     "output_type": "execute_result"
    }
   ],
   "source": [
    "max_item_id = all_ratings['item_id'].max()\n",
    "max_item_id"
   ]
  },
  {
   "cell_type": "code",
   "execution_count": 14,
   "metadata": {},
   "outputs": [
    {
     "data": {
      "text/plain": [
       "count    100000.000000\n",
       "mean          3.529860\n",
       "std           1.125674\n",
       "min           1.000000\n",
       "25%           3.000000\n",
       "50%           4.000000\n",
       "75%           4.000000\n",
       "max           5.000000\n",
       "Name: rating, dtype: float64"
      ]
     },
     "execution_count": 14,
     "metadata": {},
     "output_type": "execute_result"
    }
   ],
   "source": [
    "all_ratings['rating'].describe()"
   ]
  },
  {
   "cell_type": "markdown",
   "metadata": {},
   "source": [
    "Let's do a bit more pandas magic compute the popularity of each movie (number of ratings):"
   ]
  },
  {
   "cell_type": "code",
   "execution_count": 15,
   "metadata": {},
   "outputs": [
    {
     "data": {
      "text/html": [
       "<div>\n",
       "<style scoped>\n",
       "    .dataframe tbody tr th:only-of-type {\n",
       "        vertical-align: middle;\n",
       "    }\n",
       "\n",
       "    .dataframe tbody tr th {\n",
       "        vertical-align: top;\n",
       "    }\n",
       "\n",
       "    .dataframe thead th {\n",
       "        text-align: right;\n",
       "    }\n",
       "</style>\n",
       "<table border=\"1\" class=\"dataframe\">\n",
       "  <thead>\n",
       "    <tr style=\"text-align: right;\">\n",
       "      <th></th>\n",
       "      <th>item_id</th>\n",
       "      <th>popularity</th>\n",
       "      <th>title</th>\n",
       "      <th>release_date</th>\n",
       "      <th>video_release_date</th>\n",
       "      <th>imdb_url</th>\n",
       "      <th>release_year</th>\n",
       "    </tr>\n",
       "  </thead>\n",
       "  <tbody>\n",
       "    <tr>\n",
       "      <th>49</th>\n",
       "      <td>50</td>\n",
       "      <td>583</td>\n",
       "      <td>Star Wars (1977)</td>\n",
       "      <td>01-Jan-1977</td>\n",
       "      <td>NaN</td>\n",
       "      <td>http://us.imdb.com/M/title-exact?Star%20Wars%2...</td>\n",
       "      <td>1977</td>\n",
       "    </tr>\n",
       "    <tr>\n",
       "      <th>257</th>\n",
       "      <td>258</td>\n",
       "      <td>509</td>\n",
       "      <td>Contact (1997)</td>\n",
       "      <td>11-Jul-1997</td>\n",
       "      <td>NaN</td>\n",
       "      <td>http://us.imdb.com/Title?Contact+(1997/I)</td>\n",
       "      <td>1997</td>\n",
       "    </tr>\n",
       "    <tr>\n",
       "      <th>99</th>\n",
       "      <td>100</td>\n",
       "      <td>508</td>\n",
       "      <td>Fargo (1996)</td>\n",
       "      <td>14-Feb-1997</td>\n",
       "      <td>NaN</td>\n",
       "      <td>http://us.imdb.com/M/title-exact?Fargo%20(1996)</td>\n",
       "      <td>1997</td>\n",
       "    </tr>\n",
       "    <tr>\n",
       "      <th>180</th>\n",
       "      <td>181</td>\n",
       "      <td>507</td>\n",
       "      <td>Return of the Jedi (1983)</td>\n",
       "      <td>14-Mar-1997</td>\n",
       "      <td>NaN</td>\n",
       "      <td>http://us.imdb.com/M/title-exact?Return%20of%2...</td>\n",
       "      <td>1997</td>\n",
       "    </tr>\n",
       "    <tr>\n",
       "      <th>293</th>\n",
       "      <td>294</td>\n",
       "      <td>485</td>\n",
       "      <td>Liar Liar (1997)</td>\n",
       "      <td>21-Mar-1997</td>\n",
       "      <td>NaN</td>\n",
       "      <td>http://us.imdb.com/Title?Liar+Liar+(1997)</td>\n",
       "      <td>1997</td>\n",
       "    </tr>\n",
       "    <tr>\n",
       "      <th>285</th>\n",
       "      <td>286</td>\n",
       "      <td>481</td>\n",
       "      <td>English Patient, The (1996)</td>\n",
       "      <td>15-Nov-1996</td>\n",
       "      <td>NaN</td>\n",
       "      <td>http://us.imdb.com/M/title-exact?English%20Pat...</td>\n",
       "      <td>1996</td>\n",
       "    </tr>\n",
       "    <tr>\n",
       "      <th>287</th>\n",
       "      <td>288</td>\n",
       "      <td>478</td>\n",
       "      <td>Scream (1996)</td>\n",
       "      <td>20-Dec-1996</td>\n",
       "      <td>NaN</td>\n",
       "      <td>http://us.imdb.com/M/title-exact?Scream%20(1996)</td>\n",
       "      <td>1996</td>\n",
       "    </tr>\n",
       "    <tr>\n",
       "      <th>0</th>\n",
       "      <td>1</td>\n",
       "      <td>452</td>\n",
       "      <td>Toy Story (1995)</td>\n",
       "      <td>01-Jan-1995</td>\n",
       "      <td>NaN</td>\n",
       "      <td>http://us.imdb.com/M/title-exact?Toy%20Story%2...</td>\n",
       "      <td>1995</td>\n",
       "    </tr>\n",
       "    <tr>\n",
       "      <th>299</th>\n",
       "      <td>300</td>\n",
       "      <td>431</td>\n",
       "      <td>Air Force One (1997)</td>\n",
       "      <td>01-Jan-1997</td>\n",
       "      <td>NaN</td>\n",
       "      <td>http://us.imdb.com/M/title-exact?Air+Force+One...</td>\n",
       "      <td>1997</td>\n",
       "    </tr>\n",
       "    <tr>\n",
       "      <th>120</th>\n",
       "      <td>121</td>\n",
       "      <td>429</td>\n",
       "      <td>Independence Day (ID4) (1996)</td>\n",
       "      <td>03-Jul-1996</td>\n",
       "      <td>NaN</td>\n",
       "      <td>http://us.imdb.com/M/title-exact?Independence%...</td>\n",
       "      <td>1996</td>\n",
       "    </tr>\n",
       "  </tbody>\n",
       "</table>\n",
       "</div>"
      ],
      "text/plain": [
       "     item_id  popularity                          title release_date  \\\n",
       "49        50         583               Star Wars (1977)  01-Jan-1977   \n",
       "257      258         509                 Contact (1997)  11-Jul-1997   \n",
       "99       100         508                   Fargo (1996)  14-Feb-1997   \n",
       "180      181         507      Return of the Jedi (1983)  14-Mar-1997   \n",
       "293      294         485               Liar Liar (1997)  21-Mar-1997   \n",
       "285      286         481    English Patient, The (1996)  15-Nov-1996   \n",
       "287      288         478                  Scream (1996)  20-Dec-1996   \n",
       "0          1         452               Toy Story (1995)  01-Jan-1995   \n",
       "299      300         431           Air Force One (1997)  01-Jan-1997   \n",
       "120      121         429  Independence Day (ID4) (1996)  03-Jul-1996   \n",
       "\n",
       "     video_release_date                                           imdb_url  \\\n",
       "49                  NaN  http://us.imdb.com/M/title-exact?Star%20Wars%2...   \n",
       "257                 NaN          http://us.imdb.com/Title?Contact+(1997/I)   \n",
       "99                  NaN    http://us.imdb.com/M/title-exact?Fargo%20(1996)   \n",
       "180                 NaN  http://us.imdb.com/M/title-exact?Return%20of%2...   \n",
       "293                 NaN          http://us.imdb.com/Title?Liar+Liar+(1997)   \n",
       "285                 NaN  http://us.imdb.com/M/title-exact?English%20Pat...   \n",
       "287                 NaN   http://us.imdb.com/M/title-exact?Scream%20(1996)   \n",
       "0                   NaN  http://us.imdb.com/M/title-exact?Toy%20Story%2...   \n",
       "299                 NaN  http://us.imdb.com/M/title-exact?Air+Force+One...   \n",
       "120                 NaN  http://us.imdb.com/M/title-exact?Independence%...   \n",
       "\n",
       "     release_year  \n",
       "49           1977  \n",
       "257          1997  \n",
       "99           1997  \n",
       "180          1997  \n",
       "293          1997  \n",
       "285          1996  \n",
       "287          1996  \n",
       "0            1995  \n",
       "299          1997  \n",
       "120          1996  "
      ]
     },
     "execution_count": 15,
     "metadata": {},
     "output_type": "execute_result"
    }
   ],
   "source": [
    "popularity = all_ratings.groupby('item_id').size().reset_index(name='popularity')\n",
    "items = pd.merge(popularity, items)\n",
    "items.nlargest(10, 'popularity')"
   ]
  },
  {
   "cell_type": "code",
   "execution_count": 16,
   "metadata": {},
   "outputs": [
    {
     "data": {
      "text/plain": [
       "'GoodFellas (1990)'"
      ]
     },
     "execution_count": 16,
     "metadata": {},
     "output_type": "execute_result"
    }
   ],
   "source": [
    "items[\"title\"][181]"
   ]
  },
  {
   "cell_type": "code",
   "execution_count": 17,
   "metadata": {},
   "outputs": [
    {
     "data": {
      "text/plain": [
       "'Return of the Jedi (1983)'"
      ]
     },
     "execution_count": 17,
     "metadata": {},
     "output_type": "execute_result"
    }
   ],
   "source": [
    "indexed_items = items.set_index('item_id')\n",
    "indexed_items[\"title\"][181]"
   ]
  },
  {
   "cell_type": "code",
   "execution_count": 18,
   "metadata": {},
   "outputs": [
    {
     "data": {
      "text/html": [
       "<div>\n",
       "<style scoped>\n",
       "    .dataframe tbody tr th:only-of-type {\n",
       "        vertical-align: middle;\n",
       "    }\n",
       "\n",
       "    .dataframe tbody tr th {\n",
       "        vertical-align: top;\n",
       "    }\n",
       "\n",
       "    .dataframe thead th {\n",
       "        text-align: right;\n",
       "    }\n",
       "</style>\n",
       "<table border=\"1\" class=\"dataframe\">\n",
       "  <thead>\n",
       "    <tr style=\"text-align: right;\">\n",
       "      <th></th>\n",
       "      <th>item_id</th>\n",
       "      <th>popularity</th>\n",
       "      <th>video_release_date</th>\n",
       "      <th>release_year</th>\n",
       "      <th>user_id</th>\n",
       "      <th>rating</th>\n",
       "      <th>timestamp</th>\n",
       "    </tr>\n",
       "  </thead>\n",
       "  <tbody>\n",
       "    <tr>\n",
       "      <th>count</th>\n",
       "      <td>100000.000000</td>\n",
       "      <td>100000.000000</td>\n",
       "      <td>0.0</td>\n",
       "      <td>100000.000000</td>\n",
       "      <td>100000.00000</td>\n",
       "      <td>100000.000000</td>\n",
       "      <td>1.000000e+05</td>\n",
       "    </tr>\n",
       "    <tr>\n",
       "      <th>mean</th>\n",
       "      <td>425.530130</td>\n",
       "      <td>168.071900</td>\n",
       "      <td>NaN</td>\n",
       "      <td>1987.950100</td>\n",
       "      <td>462.48475</td>\n",
       "      <td>3.529860</td>\n",
       "      <td>8.835289e+08</td>\n",
       "    </tr>\n",
       "    <tr>\n",
       "      <th>std</th>\n",
       "      <td>330.798356</td>\n",
       "      <td>121.784558</td>\n",
       "      <td>NaN</td>\n",
       "      <td>14.169558</td>\n",
       "      <td>266.61442</td>\n",
       "      <td>1.125674</td>\n",
       "      <td>5.343856e+06</td>\n",
       "    </tr>\n",
       "    <tr>\n",
       "      <th>min</th>\n",
       "      <td>1.000000</td>\n",
       "      <td>1.000000</td>\n",
       "      <td>NaN</td>\n",
       "      <td>1920.000000</td>\n",
       "      <td>1.00000</td>\n",
       "      <td>1.000000</td>\n",
       "      <td>8.747247e+08</td>\n",
       "    </tr>\n",
       "    <tr>\n",
       "      <th>25%</th>\n",
       "      <td>175.000000</td>\n",
       "      <td>71.000000</td>\n",
       "      <td>NaN</td>\n",
       "      <td>1986.000000</td>\n",
       "      <td>254.00000</td>\n",
       "      <td>3.000000</td>\n",
       "      <td>8.794487e+08</td>\n",
       "    </tr>\n",
       "    <tr>\n",
       "      <th>50%</th>\n",
       "      <td>322.000000</td>\n",
       "      <td>145.000000</td>\n",
       "      <td>NaN</td>\n",
       "      <td>1994.000000</td>\n",
       "      <td>447.00000</td>\n",
       "      <td>4.000000</td>\n",
       "      <td>8.828269e+08</td>\n",
       "    </tr>\n",
       "    <tr>\n",
       "      <th>75%</th>\n",
       "      <td>631.000000</td>\n",
       "      <td>239.000000</td>\n",
       "      <td>NaN</td>\n",
       "      <td>1996.000000</td>\n",
       "      <td>682.00000</td>\n",
       "      <td>4.000000</td>\n",
       "      <td>8.882600e+08</td>\n",
       "    </tr>\n",
       "    <tr>\n",
       "      <th>max</th>\n",
       "      <td>1682.000000</td>\n",
       "      <td>583.000000</td>\n",
       "      <td>NaN</td>\n",
       "      <td>1998.000000</td>\n",
       "      <td>943.00000</td>\n",
       "      <td>5.000000</td>\n",
       "      <td>8.932866e+08</td>\n",
       "    </tr>\n",
       "  </tbody>\n",
       "</table>\n",
       "</div>"
      ],
      "text/plain": [
       "             item_id     popularity  video_release_date   release_year  \\\n",
       "count  100000.000000  100000.000000                 0.0  100000.000000   \n",
       "mean      425.530130     168.071900                 NaN    1987.950100   \n",
       "std       330.798356     121.784558                 NaN      14.169558   \n",
       "min         1.000000       1.000000                 NaN    1920.000000   \n",
       "25%       175.000000      71.000000                 NaN    1986.000000   \n",
       "50%       322.000000     145.000000                 NaN    1994.000000   \n",
       "75%       631.000000     239.000000                 NaN    1996.000000   \n",
       "max      1682.000000     583.000000                 NaN    1998.000000   \n",
       "\n",
       "            user_id         rating     timestamp  \n",
       "count  100000.00000  100000.000000  1.000000e+05  \n",
       "mean      462.48475       3.529860  8.835289e+08  \n",
       "std       266.61442       1.125674  5.343856e+06  \n",
       "min         1.00000       1.000000  8.747247e+08  \n",
       "25%       254.00000       3.000000  8.794487e+08  \n",
       "50%       447.00000       4.000000  8.828269e+08  \n",
       "75%       682.00000       4.000000  8.882600e+08  \n",
       "max       943.00000       5.000000  8.932866e+08  "
      ]
     },
     "execution_count": 18,
     "metadata": {},
     "output_type": "execute_result"
    }
   ],
   "source": [
    "all_ratings = pd.merge(popularity, all_ratings)\n",
    "all_ratings.describe()"
   ]
  },
  {
   "cell_type": "code",
   "execution_count": 19,
   "metadata": {},
   "outputs": [
    {
     "data": {
      "text/html": [
       "<div>\n",
       "<style scoped>\n",
       "    .dataframe tbody tr th:only-of-type {\n",
       "        vertical-align: middle;\n",
       "    }\n",
       "\n",
       "    .dataframe tbody tr th {\n",
       "        vertical-align: top;\n",
       "    }\n",
       "\n",
       "    .dataframe thead th {\n",
       "        text-align: right;\n",
       "    }\n",
       "</style>\n",
       "<table border=\"1\" class=\"dataframe\">\n",
       "  <thead>\n",
       "    <tr style=\"text-align: right;\">\n",
       "      <th></th>\n",
       "      <th>item_id</th>\n",
       "      <th>popularity</th>\n",
       "      <th>title</th>\n",
       "      <th>release_date</th>\n",
       "      <th>video_release_date</th>\n",
       "      <th>imdb_url</th>\n",
       "      <th>release_year</th>\n",
       "      <th>user_id</th>\n",
       "      <th>rating</th>\n",
       "      <th>timestamp</th>\n",
       "    </tr>\n",
       "  </thead>\n",
       "  <tbody>\n",
       "    <tr>\n",
       "      <th>0</th>\n",
       "      <td>1</td>\n",
       "      <td>452</td>\n",
       "      <td>Toy Story (1995)</td>\n",
       "      <td>01-Jan-1995</td>\n",
       "      <td>NaN</td>\n",
       "      <td>http://us.imdb.com/M/title-exact?Toy%20Story%2...</td>\n",
       "      <td>1995</td>\n",
       "      <td>308</td>\n",
       "      <td>4</td>\n",
       "      <td>887736532</td>\n",
       "    </tr>\n",
       "    <tr>\n",
       "      <th>1</th>\n",
       "      <td>1</td>\n",
       "      <td>452</td>\n",
       "      <td>Toy Story (1995)</td>\n",
       "      <td>01-Jan-1995</td>\n",
       "      <td>NaN</td>\n",
       "      <td>http://us.imdb.com/M/title-exact?Toy%20Story%2...</td>\n",
       "      <td>1995</td>\n",
       "      <td>287</td>\n",
       "      <td>5</td>\n",
       "      <td>875334088</td>\n",
       "    </tr>\n",
       "    <tr>\n",
       "      <th>2</th>\n",
       "      <td>1</td>\n",
       "      <td>452</td>\n",
       "      <td>Toy Story (1995)</td>\n",
       "      <td>01-Jan-1995</td>\n",
       "      <td>NaN</td>\n",
       "      <td>http://us.imdb.com/M/title-exact?Toy%20Story%2...</td>\n",
       "      <td>1995</td>\n",
       "      <td>148</td>\n",
       "      <td>4</td>\n",
       "      <td>877019411</td>\n",
       "    </tr>\n",
       "    <tr>\n",
       "      <th>3</th>\n",
       "      <td>1</td>\n",
       "      <td>452</td>\n",
       "      <td>Toy Story (1995)</td>\n",
       "      <td>01-Jan-1995</td>\n",
       "      <td>NaN</td>\n",
       "      <td>http://us.imdb.com/M/title-exact?Toy%20Story%2...</td>\n",
       "      <td>1995</td>\n",
       "      <td>280</td>\n",
       "      <td>4</td>\n",
       "      <td>891700426</td>\n",
       "    </tr>\n",
       "    <tr>\n",
       "      <th>4</th>\n",
       "      <td>1</td>\n",
       "      <td>452</td>\n",
       "      <td>Toy Story (1995)</td>\n",
       "      <td>01-Jan-1995</td>\n",
       "      <td>NaN</td>\n",
       "      <td>http://us.imdb.com/M/title-exact?Toy%20Story%2...</td>\n",
       "      <td>1995</td>\n",
       "      <td>66</td>\n",
       "      <td>3</td>\n",
       "      <td>883601324</td>\n",
       "    </tr>\n",
       "  </tbody>\n",
       "</table>\n",
       "</div>"
      ],
      "text/plain": [
       "   item_id  popularity             title release_date  video_release_date  \\\n",
       "0        1         452  Toy Story (1995)  01-Jan-1995                 NaN   \n",
       "1        1         452  Toy Story (1995)  01-Jan-1995                 NaN   \n",
       "2        1         452  Toy Story (1995)  01-Jan-1995                 NaN   \n",
       "3        1         452  Toy Story (1995)  01-Jan-1995                 NaN   \n",
       "4        1         452  Toy Story (1995)  01-Jan-1995                 NaN   \n",
       "\n",
       "                                            imdb_url  release_year  user_id  \\\n",
       "0  http://us.imdb.com/M/title-exact?Toy%20Story%2...          1995      308   \n",
       "1  http://us.imdb.com/M/title-exact?Toy%20Story%2...          1995      287   \n",
       "2  http://us.imdb.com/M/title-exact?Toy%20Story%2...          1995      148   \n",
       "3  http://us.imdb.com/M/title-exact?Toy%20Story%2...          1995      280   \n",
       "4  http://us.imdb.com/M/title-exact?Toy%20Story%2...          1995       66   \n",
       "\n",
       "   rating  timestamp  \n",
       "0       4  887736532  \n",
       "1       5  875334088  \n",
       "2       4  877019411  \n",
       "3       4  891700426  \n",
       "4       3  883601324  "
      ]
     },
     "execution_count": 19,
     "metadata": {},
     "output_type": "execute_result"
    }
   ],
   "source": [
    "all_ratings.head()"
   ]
  },
  {
   "cell_type": "markdown",
   "metadata": {},
   "source": [
    "Later in the analysis we will assume that this popularity does not come from the ratings themselves but from an external metadata, e.g. box office numbers in the month after the release in movie theaters.\n",
    "\n",
    "Let's split the enriched data in a train / test split to make it possible to do predictive modeling:"
   ]
  },
  {
   "cell_type": "code",
   "execution_count": 20,
   "metadata": {},
   "outputs": [],
   "source": [
    "from sklearn.model_selection import train_test_split\n",
    "\n",
    "ratings_train, ratings_test = train_test_split(\n",
    "    all_ratings, test_size=0.2, random_state=0)\n",
    "\n",
    "user_id_train = np.array(ratings_train['user_id'])\n",
    "item_id_train = np.array(ratings_train['item_id'])\n",
    "rating_train = np.array(ratings_train['rating'])\n",
    "\n",
    "user_id_test = np.array(ratings_test['user_id'])\n",
    "item_id_test = np.array(ratings_test['item_id'])\n",
    "rating_test = np.array(ratings_test['rating'])"
   ]
  },
  {
   "cell_type": "markdown",
   "metadata": {},
   "source": [
    "# Explicit feedback: supervised ratings prediction\n",
    "\n",
    "For each pair of (user, item) try to predict the rating the user would give to the item.\n",
    "\n",
    "This is the classical setup for building recommender systems from offline data with explicit supervision signal. "
   ]
  },
  {
   "cell_type": "markdown",
   "metadata": {},
   "source": [
    "## Predictive ratings  as a regression problem\n",
    "\n",
    "The following code implements the following architecture:\n",
    "\n",
    "<img src=\"images/rec_archi_1.svg\" style=\"width: 600px;\" />"
   ]
  },
  {
   "cell_type": "code",
   "execution_count": 21,
   "metadata": {},
   "outputs": [],
   "source": [
    "from tensorflow.keras.layers import Embedding, Flatten, Dense, Dropout\n",
    "from tensorflow.keras.layers import Dot\n",
    "from tensorflow.keras.models import Model"
   ]
  },
  {
   "cell_type": "code",
   "execution_count": 22,
   "metadata": {},
   "outputs": [],
   "source": [
    "# For each sample we input the integer identifiers\n",
    "# of a single user and a single item\n",
    "class RegressionModel(Model):\n",
    "    def __init__(self, embedding_size, max_user_id, max_item_id):\n",
    "        super().__init__()\n",
    "        \n",
    "        self.user_embedding = Embedding(output_dim=embedding_size,\n",
    "                                        input_dim=max_user_id + 1,\n",
    "                                        input_length=1,\n",
    "                                        name='user_embedding')\n",
    "        self.item_embedding = Embedding(output_dim=embedding_size,\n",
    "                                        input_dim=max_item_id + 1,\n",
    "                                        input_length=1,\n",
    "                                        name='item_embedding')\n",
    "        \n",
    "        # The following two layers don't have parameters.\n",
    "        self.flatten = Flatten()\n",
    "        self.dot = Dot(axes=1)\n",
    "        \n",
    "    def call(self, inputs):\n",
    "        user_inputs = inputs[0]\n",
    "        item_inputs = inputs[1]\n",
    "        \n",
    "        user_vecs = self.flatten(self.user_embedding(user_inputs))\n",
    "        item_vecs = self.flatten(self.item_embedding(item_inputs))\n",
    "        \n",
    "        y = self.dot([user_vecs, item_vecs])\n",
    "        return y\n",
    "\n",
    "\n",
    "model = RegressionModel(64, max_user_id, max_item_id)\n",
    "model.compile(optimizer=\"adam\", loss='mae')"
   ]
  },
  {
   "cell_type": "code",
   "execution_count": 23,
   "metadata": {},
   "outputs": [
    {
     "data": {
      "text/plain": [
       "(80000, 1)"
      ]
     },
     "execution_count": 23,
     "metadata": {},
     "output_type": "execute_result"
    }
   ],
   "source": [
    "# Useful for debugging the output shape of model\n",
    "initial_train_preds = model.predict([user_id_train, item_id_train])\n",
    "initial_train_preds.shape"
   ]
  },
  {
   "cell_type": "markdown",
   "metadata": {},
   "source": [
    "### Model error\n",
    "\n",
    "Using `initial_train_preds`, compute the model errors:\n",
    "- mean absolute error\n",
    "- mean squared error\n",
    "\n",
    "Converting a pandas Series to numpy array is usually implicit, but you may use `rating_train.values` to do so explicitly. Be sure to monitor the shapes of each object you deal with by using `object.shape`."
   ]
  },
  {
   "cell_type": "code",
   "execution_count": 31,
   "metadata": {},
   "outputs": [
    {
     "data": {
      "text/plain": [
       "array([-0.00690357, -0.00362959,  0.00200433, ..., -0.0112154 ,\n",
       "       -0.00765945,  0.00059132], dtype=float32)"
      ]
     },
     "execution_count": 31,
     "metadata": {},
     "output_type": "execute_result"
    }
   ],
   "source": [
    "initial_train_preds[:,0] "
   ]
  },
  {
   "cell_type": "code",
   "execution_count": 32,
   "metadata": {},
   "outputs": [
    {
     "name": "stdout",
     "output_type": "stream",
     "text": [
      "Random init MSE: 13.720\n",
      "Random init MAE: 3.529\n",
      "Random init MSE: 13.720\n",
      "Random init MAE: 3.529\n"
     ]
    }
   ],
   "source": [
    "# %load solutions/compute_errors.py\n",
    "squared_differences = np.square(initial_train_preds[:,0] - rating_train)\n",
    "absolute_differences = np.abs(initial_train_preds[:,0] - rating_train)\n",
    "\n",
    "print(\"Random init MSE: %0.3f\" % np.mean(squared_differences))\n",
    "print(\"Random init MAE: %0.3f\" % np.mean(absolute_differences))\n",
    "\n",
    "# You may also use sklearn metrics to do so using scikit-learn:\n",
    "\n",
    "from sklearn.metrics import mean_absolute_error, mean_squared_error\n",
    "\n",
    "print(\"Random init MSE: %0.3f\" % mean_squared_error(initial_train_preds, rating_train))\n",
    "print(\"Random init MAE: %0.3f\" % mean_absolute_error(initial_train_preds, rating_train))\n"
   ]
  },
  {
   "cell_type": "markdown",
   "metadata": {},
   "source": [
    "### Monitoring runs\n",
    "\n",
    "Keras enables to monitor various variables during training. \n",
    "\n",
    "`history.history` returned by the `model.fit` function is a dictionary\n",
    "containing the `'loss'` and validation loss `'val_loss'` after each epoch"
   ]
  },
  {
   "cell_type": "code",
   "execution_count": 33,
   "metadata": {},
   "outputs": [
    {
     "name": "stdout",
     "output_type": "stream",
     "text": [
      "Epoch 1/10\n",
      "1125/1125 [==============================] - 3s 2ms/step - loss: 2.6526 - val_loss: 1.0560\n",
      "Epoch 2/10\n",
      "1125/1125 [==============================] - 2s 2ms/step - loss: 0.8530 - val_loss: 0.7987\n",
      "Epoch 3/10\n",
      "1125/1125 [==============================] - 2s 2ms/step - loss: 0.7512 - val_loss: 0.7663\n",
      "Epoch 4/10\n",
      "1125/1125 [==============================] - 2s 2ms/step - loss: 0.7186 - val_loss: 0.7522\n",
      "Epoch 5/10\n",
      "1125/1125 [==============================] - 2s 2ms/step - loss: 0.6964 - val_loss: 0.7456\n",
      "Epoch 6/10\n",
      "1125/1125 [==============================] - 2s 2ms/step - loss: 0.6747 - val_loss: 0.7437\n",
      "Epoch 7/10\n",
      "1125/1125 [==============================] - 2s 2ms/step - loss: 0.6547 - val_loss: 0.7380\n",
      "Epoch 8/10\n",
      "1125/1125 [==============================] - 2s 2ms/step - loss: 0.6337 - val_loss: 0.7342\n",
      "Epoch 9/10\n",
      "1125/1125 [==============================] - 3s 3ms/step - loss: 0.6109 - val_loss: 0.7372\n",
      "Epoch 10/10\n",
      "1125/1125 [==============================] - 3s 2ms/step - loss: 0.5876 - val_loss: 0.7384\n",
      "CPU times: user 29.2 s, sys: 3.83 s, total: 33 s\n",
      "Wall time: 24.2 s\n"
     ]
    }
   ],
   "source": [
    "%%time\n",
    "\n",
    "# Training the model\n",
    "history = model.fit([user_id_train, item_id_train], rating_train,\n",
    "                    batch_size=64, epochs=10, validation_split=0.1,\n",
    "                    shuffle=True)"
   ]
  },
  {
   "cell_type": "code",
   "execution_count": 34,
   "metadata": {},
   "outputs": [
    {
     "data": {
      "image/png": "[encoded data removed]",
      "text/plain": [
       "<Figure size 432x288 with 1 Axes>"
      ]
     },
     "metadata": {
      "needs_background": "light"
     },
     "output_type": "display_data"
    }
   ],
   "source": [
    "plt.plot(history.history['loss'], label='train')\n",
    "plt.plot(history.history['val_loss'], label='validation')\n",
    "plt.ylim(0, 2)\n",
    "plt.legend(loc='best')\n",
    "plt.title('Loss');"
   ]
  },
  {
   "cell_type": "markdown",
   "metadata": {},
   "source": []
  },
  {
   "cell_type": "markdown",
   "metadata": {},
   "source": [
    "**Questions**:\n",
    "\n",
    "- Why is the train loss higher than the first loss in the first few epochs? due to the way keras calculates the loss, at the begining it is not accurate\n",
    "- Why is Keras not computing the train loss on the full training set at the end of each epoch as it does on the validation set?\n",
    "\n",
    "\n",
    "Now that the model is trained, the model MSE and MAE look nicer:"
   ]
  },
  {
   "cell_type": "code",
   "execution_count": 35,
   "metadata": {},
   "outputs": [],
   "source": [
    "def plot_predictions(y_true, y_pred):\n",
    "    plt.figure(figsize=(4, 4))\n",
    "    plt.xlim(-1, 6)\n",
    "    plt.xlabel(\"True rating\")\n",
    "    plt.ylim(-1, 6)\n",
    "    plt.ylabel(\"Predicted rating\")\n",
    "    plt.scatter(y_true, y_pred, s=60, alpha=0.01)"
   ]
  },
  {
   "cell_type": "code",
   "execution_count": 36,
   "metadata": {},
   "outputs": [
    {
     "name": "stdout",
     "output_type": "stream",
     "text": [
      "Final test MSE: 0.903\n",
      "Final test MAE: 0.733\n"
     ]
    },
    {
     "data": {
      "image/png": "[encoded data removed]",
      "text/plain": [
       "<Figure size 288x288 with 1 Axes>"
      ]
     },
     "metadata": {
      "needs_background": "light"
     },
     "output_type": "display_data"
    }
   ],
   "source": [
    "from sklearn.metrics import mean_squared_error\n",
    "from sklearn.metrics import mean_absolute_error\n",
    "\n",
    "test_preds = model.predict([user_id_test, item_id_test])\n",
    "print(\"Final test MSE: %0.3f\" % mean_squared_error(test_preds, rating_test))\n",
    "print(\"Final test MAE: %0.3f\" % mean_absolute_error(test_preds, rating_test))\n",
    "plot_predictions(rating_test, test_preds)"
   ]
  },
  {
   "cell_type": "code",
   "execution_count": 37,
   "metadata": {},
   "outputs": [
    {
     "name": "stdout",
     "output_type": "stream",
     "text": [
      "Final train MSE: 0.613\n",
      "Final train MAE: 0.570\n"
     ]
    },
    {
     "data": {
      "image/png": "[encoded data removed]",
      "text/plain": [
       "<Figure size 288x288 with 1 Axes>"
      ]
     },
     "metadata": {
      "needs_background": "light"
     },
     "output_type": "display_data"
    }
   ],
   "source": [
    "train_preds = model.predict([user_id_train, item_id_train])\n",
    "print(\"Final train MSE: %0.3f\" % mean_squared_error(train_preds, rating_train))\n",
    "print(\"Final train MAE: %0.3f\" % mean_absolute_error(train_preds, rating_train))\n",
    "plot_predictions(rating_train, train_preds)"
   ]
  },
  {
   "cell_type": "markdown",
   "metadata": {},
   "source": [
    "### Model Embeddings\n",
    "\n",
    "- It is possible to retrieve the embeddings by simply using the Keras function `model.get_weights` which returns all the model learnable parameters.\n",
    "- The weights are returned the same order as they were build in the model\n",
    "- What is the total number of parameters?"
   ]
  },
  {
   "cell_type": "code",
   "execution_count": 38,
   "metadata": {},
   "outputs": [
    {
     "data": {
      "text/plain": [
       "[(944, 64), (1683, 64)]"
      ]
     },
     "execution_count": 38,
     "metadata": {},
     "output_type": "execute_result"
    }
   ],
   "source": [
    "# weights and shape\n",
    "weights = model.get_weights()\n",
    "[w.shape for w in weights]"
   ]
  },
  {
   "cell_type": "code",
   "execution_count": 41,
   "metadata": {},
   "outputs": [
    {
     "data": {
      "text/plain": [
       "60416"
      ]
     },
     "execution_count": 41,
     "metadata": {},
     "output_type": "execute_result"
    }
   ],
   "source": [
    "944 * 64"
   ]
  },
  {
   "cell_type": "code",
   "execution_count": 43,
   "metadata": {},
   "outputs": [
    {
     "data": {
      "text/plain": [
       "107712"
      ]
     },
     "execution_count": 43,
     "metadata": {},
     "output_type": "execute_result"
    }
   ],
   "source": [
    "1683 *64"
   ]
  },
  {
   "cell_type": "code",
   "execution_count": 42,
   "metadata": {},
   "outputs": [
    {
     "name": "stdout",
     "output_type": "stream",
     "text": [
      "Model: \"regression_model\"\n",
      "_________________________________________________________________\n",
      " Layer (type)                Output Shape              Param #   \n",
      "=================================================================\n",
      " user_embedding (Embedding)  multiple                  60416     \n",
      "                                                                 \n",
      " item_embedding (Embedding)  multiple                  107712    \n",
      "                                                                 \n",
      " flatten (Flatten)           multiple                  0         \n",
      "                                                                 \n",
      " dot (Dot)                   multiple                  0         \n",
      "                                                                 \n",
      "=================================================================\n",
      "Total params: 168,128\n",
      "Trainable params: 168,128\n",
      "Non-trainable params: 0\n",
      "_________________________________________________________________\n"
     ]
    }
   ],
   "source": [
    "# Solution: \n",
    "model.summary()"
   ]
  },
  {
   "cell_type": "code",
   "execution_count": 44,
   "metadata": {},
   "outputs": [],
   "source": [
    "user_embeddings = weights[0]\n",
    "item_embeddings = weights[1]"
   ]
  },
  {
   "cell_type": "code",
   "execution_count": 45,
   "metadata": {},
   "outputs": [
    {
     "name": "stdout",
     "output_type": "stream",
     "text": [
      "Title for item_id=181: Return of the Jedi (1983)\n"
     ]
    }
   ],
   "source": [
    "item_id = 181\n",
    "print(f\"Title for item_id={item_id}: {indexed_items['title'][item_id]}\")"
   ]
  },
  {
   "cell_type": "code",
   "execution_count": 44,
   "metadata": {},
   "outputs": [
    {
     "name": "stdout",
     "output_type": "stream",
     "text": [
      "Embedding vector for item_id=181\n",
      "[-0.06214527 -0.4608413   0.37906748  0.32344425  0.5024362   0.226128\n",
      "  0.21756868 -0.30095795 -0.47345755  0.60442334  0.2932714   0.06657674\n",
      "  0.51575035 -0.4157228   0.17582665 -0.28161353  0.4734973  -0.33340234\n",
      " -0.31738833 -0.42181596  0.12318348  0.193066   -0.12804724 -0.3783867\n",
      "  0.34035397  0.41295764  0.23783179 -0.05135457  0.55382663 -0.32627526\n",
      "  0.12104493  0.3686426  -0.11005501  0.1117015   0.34171745  0.37436762\n",
      " -0.142059    0.29166886 -0.19257145 -0.41187993  0.4528559   0.18171799\n",
      "  0.05839757  0.3297488   0.51928514  0.31118742 -0.23602818 -0.39826486\n",
      " -0.3885556   0.20808713  0.06769723 -0.33241984  0.31325448 -0.47275385\n",
      " -0.07153991 -0.10570003 -0.36930653 -0.20599099  0.28245786  0.16369432\n",
      "  0.27417108 -0.37555933 -0.38311225 -0.1706088 ]\n",
      "shape: (64,)\n"
     ]
    }
   ],
   "source": [
    "print(f\"Embedding vector for item_id={item_id}\")\n",
    "print(item_embeddings[item_id])\n",
    "print(\"shape:\", item_embeddings[item_id].shape)"
   ]
  },
  {
   "cell_type": "markdown",
   "metadata": {},
   "source": [
    "### Finding most similar items\n",
    "\n",
    "Finding k most similar items to a point in embedding space\n",
    "\n",
    "- Write in numpy a function to compute the cosine similarity between two points in embedding space.\n",
    "- Test it on the following cells to check the similarities between popular movies.\n",
    "- Bonus: try to generalize the function to compute the similarities between one movie and all the others and return the most related movies.\n",
    "\n",
    "Notes:\n",
    "- you may use `np.linalg.norm` to compute the norm of vector, and you may specify the `axis=`\n",
    "- the numpy function `np.argsort(...)` enables to compute the sorted indices of a vector\n",
    "- `items[\"name\"][idxs]` returns the names of the items indexed by array idxs"
   ]
  },
  {
   "cell_type": "code",
   "execution_count": 58,
   "metadata": {},
   "outputs": [],
   "source": [
    "EPSILON = 1e-07  # to avoid division by 0.\n",
    "\n",
    "\n",
    "def cosine(x, y):\n",
    "    dot_product = np.dot(x, y.T)\n",
    "    norm_sum    = np.linalg.norm(x) * \\\n",
    "                    np.linalg.norm(y)\n",
    "    return dot_product / (norm_sum + EPSILON)"
   ]
  },
  {
   "cell_type": "code",
   "execution_count": 57,
   "metadata": {},
   "outputs": [],
   "source": [
    "# %load solutions/similarity.py"
   ]
  },
  {
   "cell_type": "code",
   "execution_count": 59,
   "metadata": {},
   "outputs": [
    {
     "name": "stdout",
     "output_type": "stream",
     "text": [
      "Star Wars (1977)\n",
      "Return of the Jedi (1983)\n",
      "Cosine similarity: 0.92\n"
     ]
    }
   ],
   "source": [
    "def print_similarity(item_a, item_b, item_embeddings, titles):\n",
    "    print(titles[item_a])\n",
    "    print(titles[item_b])\n",
    "    similarity = cosine(item_embeddings[item_a],\n",
    "                        item_embeddings[item_b])\n",
    "    print(f\"Cosine similarity: {similarity:.3}\")\n",
    "    \n",
    "print_similarity(50, 181, item_embeddings, indexed_items[\"title\"])"
   ]
  },
  {
   "cell_type": "code",
   "execution_count": 60,
   "metadata": {},
   "outputs": [
    {
     "name": "stdout",
     "output_type": "stream",
     "text": [
      "Return of the Jedi (1983)\n",
      "Scream (1996)\n",
      "Cosine similarity: 0.668\n"
     ]
    }
   ],
   "source": [
    "print_similarity(181, 288, item_embeddings, indexed_items[\"title\"])"
   ]
  },
  {
   "cell_type": "code",
   "execution_count": 61,
   "metadata": {},
   "outputs": [
    {
     "name": "stdout",
     "output_type": "stream",
     "text": [
      "Return of the Jedi (1983)\n",
      "Toy Story (1995)\n",
      "Cosine similarity: 0.844\n"
     ]
    }
   ],
   "source": [
    "print_similarity(181, 1, item_embeddings, indexed_items[\"title\"])"
   ]
  },
  {
   "cell_type": "code",
   "execution_count": 62,
   "metadata": {},
   "outputs": [
    {
     "name": "stdout",
     "output_type": "stream",
     "text": [
      "Return of the Jedi (1983)\n",
      "Return of the Jedi (1983)\n",
      "Cosine similarity: 1.0\n"
     ]
    }
   ],
   "source": [
    "print_similarity(181, 181, item_embeddings, indexed_items[\"title\"])"
   ]
  },
  {
   "cell_type": "code",
   "execution_count": 63,
   "metadata": {},
   "outputs": [
    {
     "data": {
      "text/plain": [
       "array([0.17273265, 0.8435456 , 0.82136416, ..., 0.6724734 , 0.7770894 ,\n",
       "       0.6544865 ], dtype=float32)"
      ]
     },
     "execution_count": 63,
     "metadata": {},
     "output_type": "execute_result"
    }
   ],
   "source": [
    "def cosine_similarities(item_id, item_embeddings):\n",
    "    \"\"\"Compute similarities between item_id and all items embeddings\"\"\"\n",
    "    query_vector = item_embeddings[item_id]\n",
    "    dot_products = item_embeddings @ query_vector\n",
    "\n",
    "    query_vector_norm = np.linalg.norm(query_vector)\n",
    "    all_item_norms = np.linalg.norm(item_embeddings, axis=1)\n",
    "    norm_products = query_vector_norm * all_item_norms\n",
    "    return dot_products / (norm_products + EPSILON)\n",
    "\n",
    "\n",
    "similarities = cosine_similarities(181, item_embeddings)\n",
    "similarities"
   ]
  },
  {
   "cell_type": "code",
   "execution_count": 64,
   "metadata": {},
   "outputs": [
    {
     "data": {
      "image/png": "[encoded data removed]",
      "text/plain": [
       "<Figure size 432x288 with 1 Axes>"
      ]
     },
     "metadata": {
      "needs_background": "light"
     },
     "output_type": "display_data"
    }
   ],
   "source": [
    "plt.hist(similarities, bins=30);"
   ]
  },
  {
   "cell_type": "code",
   "execution_count": 65,
   "metadata": {},
   "outputs": [
    {
     "data": {
      "text/plain": [
       "[(50, 'Star Wars (1977)', 1.0),\n",
       " (181, 'Return of the Jedi (1983)', 0.9196455),\n",
       " (172, 'Empire Strikes Back, The (1980)', 0.90311605),\n",
       " (173, 'Princess Bride, The (1987)', 0.8997482),\n",
       " (1, 'Toy Story (1995)', 0.8908701),\n",
       " (211, 'M*A*S*H (1970)', 0.89049125),\n",
       " (1681, 'You So Crazy (1994)', 0.87897116),\n",
       " (494, 'His Girl Friday (1940)', 0.8724772),\n",
       " (210, 'Indiana Jones and the Last Crusade (1989)', 0.8704231),\n",
       " (168, 'Monty Python and the Holy Grail (1974)', 0.8690559)]"
      ]
     },
     "execution_count": 65,
     "metadata": {},
     "output_type": "execute_result"
    }
   ],
   "source": [
    "def most_similar(item_id, item_embeddings, titles,\n",
    "                 top_n=30):\n",
    "    sims = cosine_similarities(item_id, item_embeddings)\n",
    "    # [::-1] makes it possible to reverse the order of a numpy\n",
    "    # array, this is required because most similar items have\n",
    "    # a larger cosine similarity value\n",
    "    sorted_indexes = np.argsort(sims)[::-1]\n",
    "    idxs = sorted_indexes[0:top_n]\n",
    "    return list(zip(idxs, titles[idxs], sims[idxs]))\n",
    "\n",
    "\n",
    "most_similar(50, item_embeddings, indexed_items[\"title\"], top_n=10)"
   ]
  },
  {
   "cell_type": "code",
   "execution_count": 67,
   "metadata": {},
   "outputs": [
    {
     "data": {
      "text/html": [
       "<div>\n",
       "<style scoped>\n",
       "    .dataframe tbody tr th:only-of-type {\n",
       "        vertical-align: middle;\n",
       "    }\n",
       "\n",
       "    .dataframe tbody tr th {\n",
       "        vertical-align: top;\n",
       "    }\n",
       "\n",
       "    .dataframe thead th {\n",
       "        text-align: right;\n",
       "    }\n",
       "</style>\n",
       "<table border=\"1\" class=\"dataframe\">\n",
       "  <thead>\n",
       "    <tr style=\"text-align: right;\">\n",
       "      <th></th>\n",
       "      <th>item_id</th>\n",
       "      <th>popularity</th>\n",
       "      <th>title</th>\n",
       "      <th>release_date</th>\n",
       "      <th>video_release_date</th>\n",
       "      <th>imdb_url</th>\n",
       "      <th>release_year</th>\n",
       "    </tr>\n",
       "  </thead>\n",
       "  <tbody>\n",
       "    <tr>\n",
       "      <th>221</th>\n",
       "      <td>222</td>\n",
       "      <td>365</td>\n",
       "      <td>Star Trek: First Contact (1996)</td>\n",
       "      <td>22-Nov-1996</td>\n",
       "      <td>NaN</td>\n",
       "      <td>http://us.imdb.com/M/title-exact?Star%20Trek:%...</td>\n",
       "      <td>1996</td>\n",
       "    </tr>\n",
       "    <tr>\n",
       "      <th>226</th>\n",
       "      <td>227</td>\n",
       "      <td>161</td>\n",
       "      <td>Star Trek VI: The Undiscovered Country (1991)</td>\n",
       "      <td>01-Jan-1991</td>\n",
       "      <td>NaN</td>\n",
       "      <td>http://us.imdb.com/M/title-exact?Star%20Trek%2...</td>\n",
       "      <td>1991</td>\n",
       "    </tr>\n",
       "    <tr>\n",
       "      <th>227</th>\n",
       "      <td>228</td>\n",
       "      <td>244</td>\n",
       "      <td>Star Trek: The Wrath of Khan (1982)</td>\n",
       "      <td>01-Jan-1982</td>\n",
       "      <td>NaN</td>\n",
       "      <td>http://us.imdb.com/M/title-exact?Star%20Trek:%...</td>\n",
       "      <td>1982</td>\n",
       "    </tr>\n",
       "    <tr>\n",
       "      <th>228</th>\n",
       "      <td>229</td>\n",
       "      <td>171</td>\n",
       "      <td>Star Trek III: The Search for Spock (1984)</td>\n",
       "      <td>01-Jan-1984</td>\n",
       "      <td>NaN</td>\n",
       "      <td>http://us.imdb.com/M/title-exact?Star%20Trek%2...</td>\n",
       "      <td>1984</td>\n",
       "    </tr>\n",
       "    <tr>\n",
       "      <th>229</th>\n",
       "      <td>230</td>\n",
       "      <td>199</td>\n",
       "      <td>Star Trek IV: The Voyage Home (1986)</td>\n",
       "      <td>01-Jan-1986</td>\n",
       "      <td>NaN</td>\n",
       "      <td>http://us.imdb.com/M/title-exact?Star%20Trek%2...</td>\n",
       "      <td>1986</td>\n",
       "    </tr>\n",
       "    <tr>\n",
       "      <th>379</th>\n",
       "      <td>380</td>\n",
       "      <td>116</td>\n",
       "      <td>Star Trek: Generations (1994)</td>\n",
       "      <td>01-Jan-1994</td>\n",
       "      <td>NaN</td>\n",
       "      <td>http://us.imdb.com/M/title-exact?Star%20Trek:%...</td>\n",
       "      <td>1994</td>\n",
       "    </tr>\n",
       "    <tr>\n",
       "      <th>448</th>\n",
       "      <td>449</td>\n",
       "      <td>117</td>\n",
       "      <td>Star Trek: The Motion Picture (1979)</td>\n",
       "      <td>01-Jan-1979</td>\n",
       "      <td>NaN</td>\n",
       "      <td>http://us.imdb.com/M/title-exact?Star%20Trek:%...</td>\n",
       "      <td>1979</td>\n",
       "    </tr>\n",
       "    <tr>\n",
       "      <th>449</th>\n",
       "      <td>450</td>\n",
       "      <td>63</td>\n",
       "      <td>Star Trek V: The Final Frontier (1989)</td>\n",
       "      <td>01-Jan-1989</td>\n",
       "      <td>NaN</td>\n",
       "      <td>http://us.imdb.com/M/title-exact?Star%20Trek%2...</td>\n",
       "      <td>1989</td>\n",
       "    </tr>\n",
       "  </tbody>\n",
       "</table>\n",
       "</div>"
      ],
      "text/plain": [
       "     item_id  popularity                                          title  \\\n",
       "221      222         365                Star Trek: First Contact (1996)   \n",
       "226      227         161  Star Trek VI: The Undiscovered Country (1991)   \n",
       "227      228         244            Star Trek: The Wrath of Khan (1982)   \n",
       "228      229         171     Star Trek III: The Search for Spock (1984)   \n",
       "229      230         199           Star Trek IV: The Voyage Home (1986)   \n",
       "379      380         116                  Star Trek: Generations (1994)   \n",
       "448      449         117           Star Trek: The Motion Picture (1979)   \n",
       "449      450          63         Star Trek V: The Final Frontier (1989)   \n",
       "\n",
       "    release_date  video_release_date  \\\n",
       "221  22-Nov-1996                 NaN   \n",
       "226  01-Jan-1991                 NaN   \n",
       "227  01-Jan-1982                 NaN   \n",
       "228  01-Jan-1984                 NaN   \n",
       "229  01-Jan-1986                 NaN   \n",
       "379  01-Jan-1994                 NaN   \n",
       "448  01-Jan-1979                 NaN   \n",
       "449  01-Jan-1989                 NaN   \n",
       "\n",
       "                                              imdb_url  release_year  \n",
       "221  http://us.imdb.com/M/title-exact?Star%20Trek:%...          1996  \n",
       "226  http://us.imdb.com/M/title-exact?Star%20Trek%2...          1991  \n",
       "227  http://us.imdb.com/M/title-exact?Star%20Trek:%...          1982  \n",
       "228  http://us.imdb.com/M/title-exact?Star%20Trek%2...          1984  \n",
       "229  http://us.imdb.com/M/title-exact?Star%20Trek%2...          1986  \n",
       "379  http://us.imdb.com/M/title-exact?Star%20Trek:%...          1994  \n",
       "448  http://us.imdb.com/M/title-exact?Star%20Trek:%...          1979  \n",
       "449  http://us.imdb.com/M/title-exact?Star%20Trek%2...          1989  "
      ]
     },
     "execution_count": 67,
     "metadata": {},
     "output_type": "execute_result"
    }
   ],
   "source": [
    "items[items['title'].str.contains(\"Star Trek\")]"
   ]
  },
  {
   "cell_type": "code",
   "execution_count": 66,
   "metadata": {},
   "outputs": [
    {
     "data": {
      "text/plain": [
       "[(227, 'Star Trek VI: The Undiscovered Country (1991)', 1.0000001),\n",
       " (1314, 'Surviving the Game (1994)', 0.88981706),\n",
       " (228, 'Star Trek: The Wrath of Khan (1982)', 0.88850677),\n",
       " (892, 'Flubber (1997)', 0.88776755),\n",
       " (1490, 'Fausto (1993)', 0.88536376),\n",
       " (809, 'Rising Sun (1993)', 0.88489795),\n",
       " (1000, 'Lightning Jack (1994)', 0.8825604),\n",
       " (222, 'Star Trek: First Contact (1996)', 0.8808114),\n",
       " (429, 'Day the Earth Stood Still, The (1951)', 0.8795269),\n",
       " (1285, 'Princess Caraboo (1994)', 0.87510085)]"
      ]
     },
     "execution_count": 66,
     "metadata": {},
     "output_type": "execute_result"
    }
   ],
   "source": [
    "most_similar(227, item_embeddings, indexed_items[\"title\"], top_n=10)"
   ]
  },
  {
   "cell_type": "markdown",
   "metadata": {},
   "source": [
    "The similarities do not always make sense: the number of ratings is low and the embedding  does not automatically capture semantic relationships in that context. Better representations arise with higher number of ratings, and less overfitting  in models or maybe better loss function, such as those based on implicit feedback."
   ]
  },
  {
   "cell_type": "markdown",
   "metadata": {},
   "source": [
    "### Visualizing embeddings using TSNE\n",
    "\n",
    "- we use scikit learn to visualize items embeddings\n",
    "- Try different perplexities, and visualize user embeddings as well\n",
    "- What can you conclude ?"
   ]
  },
  {
   "cell_type": "code",
   "execution_count": 68,
   "metadata": {},
   "outputs": [
    {
     "name": "stderr",
     "output_type": "stream",
     "text": [
      "/Library/Frameworks/Python.framework/Versions/3.9/lib/python3.9/site-packages/sklearn/manifold/_t_sne.py:780: FutureWarning: The default initialization in TSNE will change from 'random' to 'pca' in 1.2.\n",
      "  warnings.warn(\n",
      "/Library/Frameworks/Python.framework/Versions/3.9/lib/python3.9/site-packages/sklearn/manifold/_t_sne.py:790: FutureWarning: The default learning rate in TSNE will change from 200.0 to 'auto' in 1.2.\n",
      "  warnings.warn(\n"
     ]
    }
   ],
   "source": [
    "from sklearn.manifold import TSNE\n",
    "\n",
    "item_tsne = TSNE(perplexity=30).fit_transform(item_embeddings)"
   ]
  },
  {
   "cell_type": "code",
   "execution_count": 69,
   "metadata": {},
   "outputs": [
    {
     "data": {
      "image/png": "[encoded data removed]",
      "text/plain": [
       "<Figure size 720x720 with 1 Axes>"
      ]
     },
     "metadata": {},
     "output_type": "display_data"
    }
   ],
   "source": [
    "import matplotlib.pyplot as plt\n",
    "\n",
    "plt.figure(figsize=(10, 10))\n",
    "plt.scatter(item_tsne[:, 0], item_tsne[:, 1]);\n",
    "plt.xticks(()); plt.yticks(());\n",
    "plt.show()"
   ]
  },
  {
   "cell_type": "code",
   "execution_count": 70,
   "metadata": {},
   "outputs": [
    {
     "name": "stdout",
     "output_type": "stream",
     "text": [
      "Note: you may need to restart the kernel to use updated packages.\n"
     ]
    }
   ],
   "source": [
    "%pip install -q plotly"
   ]
  },
  {
   "cell_type": "code",
   "execution_count": 71,
   "metadata": {},
   "outputs": [
    {
     "data": {
      "application/vnd.plotly.v1+json": {
       "config": {
        "plotlyServerURL": "https://plot.ly"
       },
       "data": [
        {
         "customdata": [
          [
           1,
           "Toy Story (1995)",
           1995,
           452
          ],
          [
           2,
           "GoldenEye (1995)",
           1995,
           131
          ],
          [
           3,
           "Four Rooms (1995)",
           1995,
           90
          ],
          [
           4,
           "Get Shorty (1995)",
           1995,
           209
          ],
          [
           5,
           "Copycat (1995)",
           1995,
           86
          ],
          [
           6,
           "Shanghai Triad (Yao a yao yao dao waipo qiao) (1995)",
           1995,
           26
          ],
          [
           7,
           "Twelve Monkeys (1995)",
           1995,
           392
          ],
          [
           8,
           "Babe (1995)",
           1995,
           219
          ],
          [
           9,
           "Dead Man Walking (1995)",
           1995,
           299
          ],
          [
           10,
           "Richard III (1995)",
           1996,
           89
          ],
          [
           11,
           "Seven (Se7en) (1995)",
           1995,
           236
          ],
          [
           12,
           "Usual Suspects, The (1995)",
           1995,
           267
          ],
          [
           13,
           "Mighty Aphrodite (1995)",
           1995,
           184
          ],
          [
           14,
           "Postino, Il (1994)",
           1994,
           183
          ],
          [
           15,
           "Mr. Holland's Opus (1995)",
           1996,
           293
          ],
          [
           16,
           "French Twist (Gazon maudit) (1995)",
           1995,
           39
          ],
          [
           17,
           "From Dusk Till Dawn (1996)",
           1996,
           92
          ],
          [
           18,
           "White Balloon, The (1995)",
           1995,
           10
          ],
          [
           19,
           "Antonia's Line (1995)",
           1995,
           69
          ],
          [
           20,
           "Angels and Insects (1995)",
           1995,
           72
          ],
          [
           21,
           "Muppet Treasure Island (1996)",
           1996,
           84
          ],
          [
           22,
           "Braveheart (1995)",
           1996,
           297
          ],
          [
           23,
           "Taxi Driver (1976)",
           1996,
           182
          ],
          [
           24,
           "Rumble in the Bronx (1995)",
           1996,
           174
          ],
          [
           25,
           "Birdcage, The (1996)",
           1996,
           293
          ],
          [
           26,
           "Brothers McMullen, The (1995)",
           1995,
           73
          ],
          [
           27,
           "Bad Boys (1995)",
           1995,
           57
          ],
          [
           28,
           "Apollo 13 (1995)",
           1995,
           276
          ],
          [
           29,
           "Batman Forever (1995)",
           1995,
           114
          ],
          [
           30,
           "Belle de jour (1967)",
           1967,
           37
          ],
          [
           31,
           "Crimson Tide (1995)",
           1995,
           154
          ],
          [
           32,
           "Crumb (1994)",
           1994,
           81
          ],
          [
           33,
           "Desperado (1995)",
           1995,
           97
          ],
          [
           34,
           "Doom Generation, The (1995)",
           1995,
           7
          ],
          [
           35,
           "Free Willy 2: The Adventure Home (1995)",
           1995,
           11
          ],
          [
           36,
           "Mad Love (1995)",
           1995,
           13
          ],
          [
           37,
           "Nadja (1994)",
           1994,
           8
          ],
          [
           38,
           "Net, The (1995)",
           1995,
           120
          ],
          [
           39,
           "Strange Days (1995)",
           1995,
           87
          ],
          [
           40,
           "To Wong Foo, Thanks for Everything! Julie Newmar (1995)",
           1995,
           57
          ],
          [
           41,
           "Billy Madison (1995)",
           1995,
           37
          ],
          [
           42,
           "Clerks (1994)",
           1994,
           148
          ],
          [
           43,
           "Disclosure (1994)",
           1994,
           40
          ],
          [
           44,
           "Dolores Claiborne (1994)",
           1994,
           79
          ],
          [
           45,
           "Eat Drink Man Woman (1994)",
           1994,
           80
          ],
          [
           46,
           "Exotica (1994)",
           1994,
           27
          ],
          [
           47,
           "Ed Wood (1994)",
           1994,
           133
          ],
          [
           48,
           "Hoop Dreams (1994)",
           1994,
           117
          ],
          [
           49,
           "I.Q. (1994)",
           1994,
           81
          ],
          [
           50,
           "Star Wars (1977)",
           1977,
           583
          ],
          [
           51,
           "Legends of the Fall (1994)",
           1994,
           81
          ],
          [
           52,
           "Madness of King George, The (1994)",
           1994,
           91
          ],
          [
           53,
           "Natural Born Killers (1994)",
           1994,
           128
          ],
          [
           54,
           "Outbreak (1995)",
           1995,
           104
          ],
          [
           55,
           "Professional, The (1994)",
           1994,
           149
          ],
          [
           56,
           "Pulp Fiction (1994)",
           1994,
           394
          ],
          [
           57,
           "Priest (1994)",
           1994,
           40
          ],
          [
           58,
           "Quiz Show (1994)",
           1994,
           175
          ],
          [
           59,
           "Three Colors: Red (1994)",
           1994,
           83
          ],
          [
           60,
           "Three Colors: Blue (1993)",
           1993,
           64
          ],
          [
           61,
           "Three Colors: White (1994)",
           1994,
           59
          ],
          [
           62,
           "Stargate (1994)",
           1994,
           127
          ],
          [
           63,
           "Santa Clause, The (1994)",
           1994,
           82
          ],
          [
           64,
           "Shawshank Redemption, The (1994)",
           1994,
           283
          ],
          [
           65,
           "What's Eating Gilbert Grape (1993)",
           1993,
           115
          ],
          [
           66,
           "While You Were Sleeping (1995)",
           1995,
           162
          ],
          [
           67,
           "Ace Ventura: Pet Detective (1994)",
           1994,
           103
          ],
          [
           68,
           "Crow, The (1994)",
           1994,
           134
          ],
          [
           69,
           "Forrest Gump (1994)",
           1994,
           321
          ],
          [
           70,
           "Four Weddings and a Funeral (1994)",
           1994,
           251
          ],
          [
           71,
           "Lion King, The (1994)",
           1994,
           220
          ],
          [
           72,
           "Mask, The (1994)",
           1994,
           129
          ],
          [
           73,
           "Maverick (1994)",
           1994,
           128
          ],
          [
           74,
           "Faster Pussycat! Kill! Kill! (1965)",
           1965,
           7
          ],
          [
           75,
           "Brother Minister: The Assassination of Malcolm X (1994)",
           1994,
           5
          ],
          [
           76,
           "Carlito's Way (1993)",
           1993,
           54
          ],
          [
           77,
           "Firm, The (1993)",
           1993,
           151
          ],
          [
           78,
           "Free Willy (1993)",
           1993,
           33
          ],
          [
           79,
           "Fugitive, The (1993)",
           1993,
           336
          ],
          [
           80,
           "Hot Shots! Part Deux (1993)",
           1993,
           68
          ],
          [
           81,
           "Hudsucker Proxy, The (1994)",
           1994,
           110
          ],
          [
           82,
           "Jurassic Park (1993)",
           1993,
           261
          ],
          [
           83,
           "Much Ado About Nothing (1993)",
           1993,
           176
          ],
          [
           84,
           "Robert A. Heinlein's The Puppet Masters (1994)",
           1994,
           18
          ],
          [
           85,
           "Ref, The (1994)",
           1994,
           58
          ],
          [
           86,
           "Remains of the Day, The (1993)",
           1993,
           150
          ],
          [
           87,
           "Searching for Bobby Fischer (1993)",
           1993,
           138
          ],
          [
           88,
           "Sleepless in Seattle (1993)",
           1993,
           213
          ],
          [
           89,
           "Blade Runner (1982)",
           1982,
           275
          ],
          [
           90,
           "So I Married an Axe Murderer (1993)",
           1993,
           95
          ],
          [
           91,
           "Nightmare Before Christmas, The (1993)",
           1993,
           143
          ],
          [
           92,
           "True Romance (1993)",
           1993,
           104
          ],
          [
           93,
           "Welcome to the Dollhouse (1995)",
           1996,
           112
          ],
          [
           94,
           "Home Alone (1990)",
           1990,
           137
          ],
          [
           95,
           "Aladdin (1992)",
           1992,
           219
          ],
          [
           96,
           "Terminator 2: Judgment Day (1991)",
           1991,
           295
          ],
          [
           97,
           "Dances with Wolves (1990)",
           1990,
           256
          ],
          [
           98,
           "Silence of the Lambs, The (1991)",
           1991,
           390
          ],
          [
           99,
           "Snow White and the Seven Dwarfs (1937)",
           1937,
           172
          ],
          [
           100,
           "Fargo (1996)",
           1997,
           508
          ],
          [
           101,
           "Heavy Metal (1981)",
           1981,
           73
          ],
          [
           102,
           "Aristocats, The (1970)",
           1970,
           54
          ],
          [
           103,
           "All Dogs Go to Heaven 2 (1996)",
           1996,
           15
          ],
          [
           104,
           "Theodore Rex (1995)",
           1996,
           5
          ],
          [
           105,
           "Sgt. Bilko (1996)",
           1996,
           74
          ],
          [
           106,
           "Diabolique (1996)",
           1996,
           71
          ],
          [
           107,
           "Moll Flanders (1996)",
           1996,
           42
          ],
          [
           108,
           "Kids in the Hall: Brain Candy (1996)",
           1996,
           65
          ],
          [
           109,
           "Mystery Science Theater 3000: The Movie (1996)",
           1996,
           130
          ],
          [
           110,
           "Operation Dumbo Drop (1995)",
           1995,
           31
          ],
          [
           111,
           "Truth About Cats & Dogs, The (1996)",
           1996,
           272
          ],
          [
           112,
           "Flipper (1996)",
           1996,
           20
          ],
          [
           113,
           "Horseman on the Roof, The (Hussard sur le toit, Le) (1995)",
           1996,
           9
          ],
          [
           114,
           "Wallace & Gromit: The Best of Aardman Animation (1996)",
           1996,
           67
          ],
          [
           115,
           "Haunted World of Edward D. Wood Jr., The (1995)",
           1996,
           15
          ],
          [
           116,
           "Cold Comfort Farm (1995)",
           1996,
           125
          ],
          [
           117,
           "Rock, The (1996)",
           1996,
           378
          ],
          [
           118,
           "Twister (1996)",
           1996,
           293
          ],
          [
           119,
           "Maya Lin: A Strong Clear Vision (1994)",
           1994,
           4
          ],
          [
           120,
           "Striptease (1996)",
           1996,
           67
          ],
          [
           121,
           "Independence Day (ID4) (1996)",
           1996,
           429
          ],
          [
           122,
           "Cable Guy, The (1996)",
           1996,
           106
          ],
          [
           123,
           "Frighteners, The (1996)",
           1996,
           115
          ],
          [
           124,
           "Lone Star (1996)",
           1996,
           187
          ],
          [
           125,
           "Phenomenon (1996)",
           1996,
           244
          ],
          [
           126,
           "Spitfire Grill, The (1996)",
           1996,
           97
          ],
          [
           127,
           "Godfather, The (1972)",
           1972,
           413
          ],
          [
           128,
           "Supercop (1992)",
           1996,
           65
          ],
          [
           129,
           "Bound (1996)",
           1996,
           129
          ],
          [
           130,
           "Kansas City (1996)",
           1996,
           23
          ],
          [
           131,
           "Breakfast at Tiffany's (1961)",
           1961,
           95
          ],
          [
           132,
           "Wizard of Oz, The (1939)",
           1939,
           246
          ],
          [
           133,
           "Gone with the Wind (1939)",
           1939,
           171
          ],
          [
           134,
           "Citizen Kane (1941)",
           1941,
           198
          ],
          [
           135,
           "2001: A Space Odyssey (1968)",
           1968,
           259
          ],
          [
           136,
           "Mr. Smith Goes to Washington (1939)",
           1939,
           105
          ],
          [
           137,
           "Big Night (1996)",
           1996,
           171
          ],
          [
           138,
           "D3: The Mighty Ducks (1996)",
           1996,
           19
          ],
          [
           139,
           "Love Bug, The (1969)",
           1969,
           50
          ],
          [
           140,
           "Homeward Bound: The Incredible Journey (1993)",
           1993,
           61
          ],
          [
           141,
           "20,000 Leagues Under the Sea (1954)",
           1954,
           72
          ],
          [
           142,
           "Bedknobs and Broomsticks (1971)",
           1971,
           57
          ],
          [
           143,
           "Sound of Music, The (1965)",
           1965,
           222
          ],
          [
           144,
           "Die Hard (1988)",
           1988,
           243
          ],
          [
           145,
           "Lawnmower Man, The (1992)",
           1992,
           65
          ],
          [
           146,
           "Unhook the Stars (1996)",
           1996,
           10
          ],
          [
           147,
           "Long Kiss Goodnight, The (1996)",
           1996,
           185
          ],
          [
           148,
           "Ghost and the Darkness, The (1996)",
           1996,
           128
          ],
          [
           149,
           "Jude (1996)",
           1996,
           23
          ],
          [
           150,
           "Swingers (1996)",
           1996,
           157
          ],
          [
           151,
           "Willy Wonka and the Chocolate Factory (1971)",
           1971,
           326
          ],
          [
           152,
           "Sleeper (1973)",
           1973,
           82
          ],
          [
           153,
           "Fish Called Wanda, A (1988)",
           1988,
           247
          ],
          [
           154,
           "Monty Python's Life of Brian (1979)",
           1979,
           174
          ],
          [
           155,
           "Dirty Dancing (1987)",
           1987,
           98
          ],
          [
           156,
           "Reservoir Dogs (1992)",
           1992,
           148
          ],
          [
           157,
           "Platoon (1986)",
           1986,
           127
          ],
          [
           158,
           "Weekend at Bernie's (1989)",
           1989,
           60
          ],
          [
           159,
           "Basic Instinct (1992)",
           1992,
           101
          ],
          [
           160,
           "Glengarry Glen Ross (1992)",
           1992,
           69
          ],
          [
           161,
           "Top Gun (1986)",
           1986,
           220
          ],
          [
           162,
           "On Golden Pond (1981)",
           1981,
           106
          ],
          [
           163,
           "Return of the Pink Panther, The (1974)",
           1974,
           92
          ],
          [
           164,
           "Abyss, The (1989)",
           1989,
           151
          ],
          [
           165,
           "Jean de Florette (1986)",
           1986,
           64
          ],
          [
           166,
           "Manon of the Spring (Manon des sources) (1986)",
           1986,
           58
          ],
          [
           167,
           "Private Benjamin (1980)",
           1980,
           67
          ],
          [
           168,
           "Monty Python and the Holy Grail (1974)",
           1974,
           316
          ],
          [
           169,
           "Wrong Trousers, The (1993)",
           1993,
           118
          ],
          [
           170,
           "Cinema Paradiso (1988)",
           1988,
           121
          ],
          [
           171,
           "Delicatessen (1991)",
           1991,
           65
          ],
          [
           172,
           "Empire Strikes Back, The (1980)",
           1980,
           367
          ],
          [
           173,
           "Princess Bride, The (1987)",
           1987,
           324
          ],
          [
           174,
           "Raiders of the Lost Ark (1981)",
           1981,
           420
          ],
          [
           175,
           "Brazil (1985)",
           1985,
           208
          ],
          [
           176,
           "Aliens (1986)",
           1986,
           284
          ],
          [
           177,
           "Good, The Bad and The Ugly, The (1966)",
           1966,
           137
          ],
          [
           178,
           "12 Angry Men (1957)",
           1957,
           125
          ],
          [
           179,
           "Clockwork Orange, A (1971)",
           1971,
           221
          ],
          [
           180,
           "Apocalypse Now (1979)",
           1979,
           221
          ],
          [
           181,
           "Return of the Jedi (1983)",
           1997,
           507
          ],
          [
           182,
           "GoodFellas (1990)",
           1990,
           226
          ],
          [
           183,
           "Alien (1979)",
           1979,
           291
          ],
          [
           184,
           "Army of Darkness (1993)",
           1993,
           116
          ],
          [
           185,
           "Psycho (1960)",
           1960,
           239
          ],
          [
           186,
           "Blues Brothers, The (1980)",
           1980,
           251
          ],
          [
           187,
           "Godfather: Part II, The (1974)",
           1974,
           209
          ],
          [
           188,
           "Full Metal Jacket (1987)",
           1987,
           170
          ],
          [
           189,
           "Grand Day Out, A (1992)",
           1992,
           66
          ],
          [
           190,
           "Henry V (1989)",
           1989,
           124
          ],
          [
           191,
           "Amadeus (1984)",
           1984,
           276
          ],
          [
           192,
           "Raging Bull (1980)",
           1980,
           116
          ],
          [
           193,
           "Right Stuff, The (1983)",
           1983,
           157
          ],
          [
           194,
           "Sting, The (1973)",
           1973,
           241
          ],
          [
           195,
           "Terminator, The (1984)",
           1984,
           301
          ],
          [
           196,
           "Dead Poets Society (1989)",
           1989,
           251
          ],
          [
           197,
           "Graduate, The (1967)",
           1967,
           239
          ],
          [
           198,
           "Nikita (La Femme Nikita) (1990)",
           1990,
           127
          ],
          [
           199,
           "Bridge on the River Kwai, The (1957)",
           1957,
           165
          ],
          [
           200,
           "Shining, The (1980)",
           1980,
           206
          ],
          [
           201,
           "Evil Dead II (1987)",
           1987,
           89
          ],
          [
           202,
           "Groundhog Day (1993)",
           1993,
           280
          ],
          [
           203,
           "Unforgiven (1992)",
           1992,
           182
          ],
          [
           204,
           "Back to the Future (1985)",
           1985,
           350
          ],
          [
           205,
           "Patton (1970)",
           1970,
           136
          ],
          [
           206,
           "Akira (1988)",
           1988,
           50
          ],
          [
           207,
           "Cyrano de Bergerac (1990)",
           1990,
           66
          ],
          [
           208,
           "Young Frankenstein (1974)",
           1974,
           200
          ],
          [
           209,
           "This Is Spinal Tap (1984)",
           1984,
           191
          ],
          [
           210,
           "Indiana Jones and the Last Crusade (1989)",
           1989,
           331
          ],
          [
           211,
           "M*A*S*H (1970)",
           1970,
           206
          ],
          [
           212,
           "Unbearable Lightness of Being, The (1988)",
           1988,
           92
          ],
          [
           213,
           "Room with a View, A (1986)",
           1986,
           134
          ],
          [
           214,
           "Pink Floyd - The Wall (1982)",
           1982,
           114
          ],
          [
           215,
           "Field of Dreams (1989)",
           1989,
           212
          ],
          [
           216,
           "When Harry Met Sally... (1989)",
           1989,
           290
          ],
          [
           217,
           "Bram Stoker's Dracula (1992)",
           1992,
           120
          ],
          [
           218,
           "Cape Fear (1991)",
           1991,
           171
          ],
          [
           219,
           "Nightmare on Elm Street, A (1984)",
           1984,
           111
          ],
          [
           220,
           "Mirror Has Two Faces, The (1996)",
           1996,
           66
          ],
          [
           221,
           "Breaking the Waves (1996)",
           1996,
           74
          ],
          [
           222,
           "Star Trek: First Contact (1996)",
           1996,
           365
          ],
          [
           223,
           "Sling Blade (1996)",
           1996,
           136
          ],
          [
           224,
           "Ridicule (1996)",
           1996,
           44
          ],
          [
           225,
           "101 Dalmatians (1996)",
           1996,
           109
          ],
          [
           226,
           "Die Hard 2 (1990)",
           1990,
           166
          ],
          [
           227,
           "Star Trek VI: The Undiscovered Country (1991)",
           1991,
           161
          ],
          [
           228,
           "Star Trek: The Wrath of Khan (1982)",
           1982,
           244
          ],
          [
           229,
           "Star Trek III: The Search for Spock (1984)",
           1984,
           171
          ],
          [
           230,
           "Star Trek IV: The Voyage Home (1986)",
           1986,
           199
          ],
          [
           231,
           "Batman Returns (1992)",
           1992,
           142
          ],
          [
           232,
           "Young Guns (1988)",
           1988,
           101
          ],
          [
           233,
           "Under Siege (1992)",
           1992,
           124
          ],
          [
           234,
           "Jaws (1975)",
           1975,
           280
          ],
          [
           235,
           "Mars Attacks! (1996)",
           1996,
           217
          ],
          [
           236,
           "Citizen Ruth (1996)",
           1996,
           45
          ],
          [
           237,
           "Jerry Maguire (1996)",
           1996,
           384
          ],
          [
           238,
           "Raising Arizona (1987)",
           1987,
           256
          ],
          [
           239,
           "Sneakers (1992)",
           1992,
           150
          ],
          [
           240,
           "Beavis and Butt-head Do America (1996)",
           1996,
           156
          ],
          [
           241,
           "Last of the Mohicans, The (1992)",
           1992,
           128
          ],
          [
           242,
           "Kolya (1996)",
           1997,
           117
          ],
          [
           243,
           "Jungle2Jungle (1997)",
           1997,
           132
          ],
          [
           244,
           "Smilla's Sense of Snow (1997)",
           1997,
           48
          ],
          [
           245,
           "Devil's Own, The (1997)",
           1997,
           240
          ],
          [
           246,
           "Chasing Amy (1997)",
           1997,
           124
          ],
          [
           247,
           "Turbo: A Power Rangers Movie (1997)",
           1997,
           5
          ],
          [
           248,
           "Grosse Pointe Blank (1997)",
           1997,
           160
          ],
          [
           249,
           "Austin Powers: International Man of Mystery (1997)",
           1997,
           130
          ],
          [
           250,
           "Fifth Element, The (1997)",
           1997,
           197
          ],
          [
           251,
           "Shall We Dance? (1996)",
           1997,
           46
          ],
          [
           252,
           "Lost World: Jurassic Park, The (1997)",
           1997,
           158
          ],
          [
           253,
           "Pillow Book, The (1995)",
           1997,
           26
          ],
          [
           254,
           "Batman & Robin (1997)",
           1997,
           62
          ],
          [
           255,
           "My Best Friend's Wedding (1997)",
           1997,
           172
          ],
          [
           256,
           "When the Cats Away (Chacun cherche son chat) (1996)",
           1997,
           16
          ],
          [
           257,
           "Men in Black (1997)",
           1997,
           303
          ],
          [
           258,
           "Contact (1997)",
           1997,
           509
          ],
          [
           259,
           "George of the Jungle (1997)",
           1997,
           162
          ],
          [
           260,
           "Event Horizon (1997)",
           1997,
           127
          ],
          [
           261,
           "Air Bud (1997)",
           1997,
           43
          ],
          [
           262,
           "In the Company of Men (1997)",
           1997,
           66
          ],
          [
           263,
           "Steel (1997)",
           1997,
           19
          ],
          [
           264,
           "Mimic (1997)",
           1997,
           101
          ],
          [
           265,
           "Hunt for Red October, The (1990)",
           1990,
           227
          ],
          [
           266,
           "Kull the Conqueror (1997)",
           1997,
           35
          ],
          [
           267,
           "unknown",
           1920,
           9
          ],
          [
           268,
           "Chasing Amy (1997)",
           1997,
           255
          ],
          [
           269,
           "Full Monty, The (1997)",
           1997,
           315
          ],
          [
           270,
           "Gattaca (1997)",
           1997,
           136
          ],
          [
           271,
           "Starship Troopers (1997)",
           1997,
           211
          ],
          [
           272,
           "Good Will Hunting (1997)",
           1997,
           198
          ],
          [
           273,
           "Heat (1995)",
           1995,
           223
          ],
          [
           274,
           "Sabrina (1995)",
           1995,
           190
          ],
          [
           275,
           "Sense and Sensibility (1995)",
           1995,
           268
          ],
          [
           276,
           "Leaving Las Vegas (1995)",
           1995,
           298
          ],
          [
           277,
           "Restoration (1995)",
           1995,
           71
          ],
          [
           278,
           "Bed of Roses (1996)",
           1996,
           60
          ],
          [
           279,
           "Once Upon a Time... When We Were Colored (1995)",
           1995,
           28
          ],
          [
           280,
           "Up Close and Personal (1996)",
           1996,
           85
          ],
          [
           281,
           "River Wild, The (1994)",
           1994,
           146
          ],
          [
           282,
           "Time to Kill, A (1996)",
           1996,
           232
          ],
          [
           283,
           "Emma (1996)",
           1996,
           177
          ],
          [
           284,
           "Tin Cup (1996)",
           1996,
           193
          ],
          [
           285,
           "Secrets & Lies (1996)",
           1996,
           162
          ],
          [
           286,
           "English Patient, The (1996)",
           1996,
           481
          ],
          [
           287,
           "Marvin's Room (1996)",
           1996,
           78
          ],
          [
           288,
           "Scream (1996)",
           1996,
           478
          ],
          [
           289,
           "Evita (1996)",
           1996,
           259
          ],
          [
           290,
           "Fierce Creatures (1997)",
           1997,
           96
          ],
          [
           291,
           "Absolute Power (1997)",
           1997,
           127
          ],
          [
           292,
           "Rosewood (1997)",
           1997,
           114
          ],
          [
           293,
           "Donnie Brasco (1997)",
           1997,
           147
          ],
          [
           294,
           "Liar Liar (1997)",
           1997,
           485
          ],
          [
           295,
           "Breakdown (1997)",
           1997,
           77
          ],
          [
           296,
           "Promesse, La (1996)",
           1997,
           6
          ],
          [
           297,
           "Ulee's Gold (1997)",
           1997,
           50
          ],
          [
           298,
           "Face/Off (1997)",
           1997,
           194
          ],
          [
           299,
           "Hoodlum (1997)",
           1997,
           73
          ],
          [
           300,
           "Air Force One (1997)",
           1997,
           431
          ],
          [
           301,
           "In & Out (1997)",
           1997,
           230
          ],
          [
           302,
           "L.A. Confidential (1997)",
           1997,
           297
          ],
          [
           303,
           "Ulee's Gold (1997)",
           1997,
           134
          ],
          [
           304,
           "Fly Away Home (1996)",
           1996,
           149
          ],
          [
           305,
           "Ice Storm, The (1997)",
           1997,
           87
          ],
          [
           306,
           "Mrs. Brown (Her Majesty, Mrs. Brown) (1997)",
           1997,
           96
          ],
          [
           307,
           "Devil's Advocate, The (1997)",
           1997,
           188
          ],
          [
           308,
           "FairyTale: A True Story (1997)",
           1997,
           30
          ],
          [
           309,
           "Deceiver (1997)",
           1997,
           28
          ],
          [
           310,
           "Rainmaker, The (1997)",
           1997,
           145
          ],
          [
           311,
           "Wings of the Dove, The (1997)",
           1997,
           75
          ],
          [
           312,
           "Midnight in the Garden of Good and Evil (1997)",
           1997,
           80
          ],
          [
           313,
           "Titanic (1997)",
           1997,
           350
          ],
          [
           314,
           "3 Ninjas: High Noon At Mega Mountain (1998)",
           1997,
           5
          ],
          [
           315,
           "Apt Pupil (1998)",
           1998,
           160
          ],
          [
           316,
           "As Good As It Gets (1997)",
           1997,
           112
          ],
          [
           317,
           "In the Name of the Father (1993)",
           1993,
           102
          ],
          [
           318,
           "Schindler's List (1993)",
           1993,
           298
          ],
          [
           319,
           "Everyone Says I Love You (1996)",
           1996,
           168
          ],
          [
           320,
           "Paradise Lost: The Child Murders at Robin Hood Hills (1996)",
           1996,
           20
          ],
          [
           321,
           "Mother (1996)",
           1996,
           169
          ],
          [
           322,
           "Murder at 1600 (1997)",
           1997,
           218
          ],
          [
           323,
           "Dante's Peak (1997)",
           1997,
           240
          ],
          [
           324,
           "Lost Highway (1997)",
           1997,
           125
          ],
          [
           325,
           "Crash (1996)",
           1997,
           128
          ],
          [
           326,
           "G.I. Jane (1997)",
           1997,
           175
          ],
          [
           327,
           "Cop Land (1997)",
           1997,
           175
          ],
          [
           328,
           "Conspiracy Theory (1997)",
           1997,
           295
          ],
          [
           329,
           "Desperate Measures (1998)",
           1998,
           45
          ],
          [
           330,
           "187 (1997)",
           1997,
           41
          ],
          [
           331,
           "Edge, The (1997)",
           1997,
           113
          ],
          [
           332,
           "Kiss the Girls (1997)",
           1997,
           143
          ],
          [
           333,
           "Game, The (1997)",
           1997,
           251
          ],
          [
           334,
           "U Turn (1997)",
           1997,
           64
          ],
          [
           335,
           "How to Be a Player (1997)",
           1997,
           21
          ],
          [
           336,
           "Playing God (1997)",
           1997,
           43
          ],
          [
           337,
           "House of Yes, The (1997)",
           1997,
           18
          ],
          [
           338,
           "Bean (1997)",
           1997,
           91
          ],
          [
           339,
           "Mad City (1997)",
           1997,
           47
          ],
          [
           340,
           "Boogie Nights (1997)",
           1997,
           189
          ],
          [
           341,
           "Critical Care (1997)",
           1997,
           11
          ],
          [
           342,
           "Man Who Knew Too Little, The (1997)",
           1997,
           52
          ],
          [
           343,
           "Alien: Resurrection (1997)",
           1997,
           124
          ],
          [
           344,
           "Apostle, The (1997)",
           1997,
           55
          ],
          [
           345,
           "Deconstructing Harry (1997)",
           1997,
           65
          ],
          [
           346,
           "Jackie Brown (1997)",
           1997,
           126
          ],
          [
           347,
           "Wag the Dog (1997)",
           1998,
           137
          ],
          [
           348,
           "Desperate Measures (1998)",
           1998,
           27
          ],
          [
           349,
           "Hard Rain (1998)",
           1998,
           31
          ],
          [
           350,
           "Fallen (1998)",
           1998,
           41
          ],
          [
           351,
           "Prophecy II, The (1998)",
           1998,
           20
          ],
          [
           352,
           "Spice World (1997)",
           1997,
           26
          ],
          [
           353,
           "Deep Rising (1998)",
           1998,
           14
          ],
          [
           354,
           "Wedding Singer, The (1998)",
           1998,
           72
          ],
          [
           355,
           "Sphere (1998)",
           1998,
           41
          ],
          [
           356,
           "Client, The (1994)",
           1994,
           97
          ],
          [
           357,
           "One Flew Over the Cuckoo's Nest (1975)",
           1975,
           264
          ],
          [
           358,
           "Spawn (1997)",
           1997,
           143
          ],
          [
           359,
           "Assignment, The (1997)",
           1997,
           18
          ],
          [
           360,
           "Wonderland (1997)",
           1997,
           10
          ],
          [
           361,
           "Incognito (1997)",
           1997,
           10
          ],
          [
           362,
           "Blues Brothers 2000 (1998)",
           1998,
           28
          ],
          [
           363,
           "Sudden Death (1995)",
           1995,
           47
          ],
          [
           364,
           "Ace Ventura: When Nature Calls (1995)",
           1995,
           37
          ],
          [
           365,
           "Powder (1995)",
           1995,
           48
          ],
          [
           366,
           "Dangerous Minds (1995)",
           1995,
           47
          ],
          [
           367,
           "Clueless (1995)",
           1995,
           170
          ],
          [
           368,
           "Bio-Dome (1996)",
           1996,
           31
          ],
          [
           369,
           "Black Sheep (1996)",
           1996,
           55
          ],
          [
           370,
           "Mary Reilly (1996)",
           1996,
           39
          ],
          [
           371,
           "Bridges of Madison County, The (1995)",
           1996,
           67
          ],
          [
           372,
           "Jeffrey (1995)",
           1995,
           34
          ],
          [
           373,
           "Judge Dredd (1995)",
           1995,
           39
          ],
          [
           374,
           "Mighty Morphin Power Rangers: The Movie (1995)",
           1995,
           11
          ],
          [
           375,
           "Showgirls (1995)",
           1995,
           23
          ],
          [
           376,
           "Houseguest (1994)",
           1994,
           24
          ],
          [
           377,
           "Heavyweights (1994)",
           1994,
           13
          ],
          [
           378,
           "Miracle on 34th Street (1994)",
           1994,
           101
          ],
          [
           379,
           "Tales From the Crypt Presents: Demon Knight (1995)",
           1995,
           43
          ],
          [
           380,
           "Star Trek: Generations (1994)",
           1994,
           116
          ],
          [
           381,
           "Muriel's Wedding (1994)",
           1994,
           100
          ],
          [
           382,
           "Adventures of Priscilla, Queen of the Desert, The (1994)",
           1994,
           111
          ],
          [
           383,
           "Flintstones, The (1994)",
           1994,
           31
          ],
          [
           384,
           "Naked Gun 33 1/3: The Final Insult (1994)",
           1994,
           69
          ],
          [
           385,
           "True Lies (1994)",
           1994,
           208
          ],
          [
           386,
           "Addams Family Values (1993)",
           1993,
           87
          ],
          [
           387,
           "Age of Innocence, The (1993)",
           1993,
           65
          ],
          [
           388,
           "Beverly Hills Cop III (1994)",
           1994,
           28
          ],
          [
           389,
           "Black Beauty (1994)",
           1994,
           27
          ],
          [
           390,
           "Fear of a Black Hat (1993)",
           1993,
           10
          ],
          [
           391,
           "Last Action Hero (1993)",
           1993,
           59
          ],
          [
           392,
           "Man Without a Face, The (1993)",
           1993,
           68
          ],
          [
           393,
           "Mrs. Doubtfire (1993)",
           1993,
           192
          ],
          [
           394,
           "Radioland Murders (1994)",
           1994,
           12
          ],
          [
           395,
           "Robin Hood: Men in Tights (1993)",
           1993,
           56
          ],
          [
           396,
           "Serial Mom (1994)",
           1994,
           54
          ],
          [
           397,
           "Striking Distance (1993)",
           1993,
           12
          ],
          [
           398,
           "Super Mario Bros. (1993)",
           1993,
           26
          ],
          [
           399,
           "Three Musketeers, The (1993)",
           1993,
           89
          ],
          [
           400,
           "Little Rascals, The (1994)",
           1994,
           18
          ],
          [
           401,
           "Brady Bunch Movie, The (1995)",
           1995,
           76
          ],
          [
           402,
           "Ghost (1990)",
           1990,
           170
          ],
          [
           403,
           "Batman (1989)",
           1989,
           201
          ],
          [
           404,
           "Pinocchio (1940)",
           1940,
           101
          ],
          [
           405,
           "Mission: Impossible (1996)",
           1996,
           344
          ],
          [
           406,
           "Thinner (1996)",
           1996,
           49
          ],
          [
           407,
           "Spy Hard (1996)",
           1996,
           43
          ],
          [
           408,
           "Close Shave, A (1995)",
           1996,
           112
          ],
          [
           409,
           "Jack (1996)",
           1996,
           70
          ],
          [
           410,
           "Kingpin (1996)",
           1996,
           162
          ],
          [
           411,
           "Nutty Professor, The (1996)",
           1996,
           163
          ],
          [
           412,
           "Very Brady Sequel, A (1996)",
           1996,
           93
          ],
          [
           413,
           "Tales from the Crypt Presents: Bordello of Blood (1996)",
           1996,
           55
          ],
          [
           414,
           "My Favorite Year (1982)",
           1982,
           62
          ],
          [
           415,
           "Apple Dumpling Gang, The (1975)",
           1975,
           25
          ],
          [
           416,
           "Old Yeller (1957)",
           1957,
           64
          ],
          [
           417,
           "Parent Trap, The (1961)",
           1961,
           73
          ],
          [
           418,
           "Cinderella (1950)",
           1950,
           129
          ],
          [
           419,
           "Mary Poppins (1964)",
           1964,
           178
          ],
          [
           420,
           "Alice in Wonderland (1951)",
           1951,
           81
          ],
          [
           421,
           "William Shakespeare's Romeo and Juliet (1996)",
           1996,
           106
          ],
          [
           422,
           "Aladdin and the King of Thieves (1996)",
           1996,
           26
          ],
          [
           423,
           "E.T. the Extra-Terrestrial (1982)",
           1982,
           300
          ],
          [
           424,
           "Children of the Corn: The Gathering (1996)",
           1996,
           19
          ],
          [
           425,
           "Bob Roberts (1992)",
           1992,
           85
          ],
          [
           426,
           "Transformers: The Movie, The (1986)",
           1986,
           32
          ],
          [
           427,
           "To Kill a Mockingbird (1962)",
           1962,
           219
          ],
          [
           428,
           "Harold and Maude (1971)",
           1971,
           121
          ],
          [
           429,
           "Day the Earth Stood Still, The (1951)",
           1951,
           97
          ],
          [
           430,
           "Duck Soup (1933)",
           1933,
           93
          ],
          [
           431,
           "Highlander (1986)",
           1986,
           153
          ],
          [
           432,
           "Fantasia (1940)",
           1940,
           174
          ],
          [
           433,
           "Heathers (1989)",
           1989,
           171
          ],
          [
           434,
           "Forbidden Planet (1956)",
           1956,
           67
          ],
          [
           435,
           "Butch Cassidy and the Sundance Kid (1969)",
           1969,
           216
          ],
          [
           436,
           "American Werewolf in London, An (1981)",
           1981,
           99
          ],
          [
           437,
           "Amityville 1992: It's About Time (1992)",
           1992,
           5
          ],
          [
           438,
           "Amityville 3-D (1983)",
           1983,
           6
          ],
          [
           439,
           "Amityville: A New Generation (1993)",
           1993,
           5
          ],
          [
           440,
           "Amityville II: The Possession (1982)",
           1982,
           14
          ],
          [
           441,
           "Amityville Horror, The (1979)",
           1979,
           53
          ],
          [
           442,
           "Amityville Curse, The (1990)",
           1990,
           4
          ],
          [
           443,
           "Birds, The (1963)",
           1963,
           162
          ],
          [
           444,
           "Blob, The (1958)",
           1958,
           46
          ],
          [
           445,
           "Body Snatcher, The (1945)",
           1945,
           22
          ],
          [
           446,
           "Burnt Offerings (1976)",
           1976,
           9
          ],
          [
           447,
           "Carrie (1976)",
           1976,
           121
          ],
          [
           448,
           "Omen, The (1976)",
           1976,
           85
          ],
          [
           449,
           "Star Trek: The Motion Picture (1979)",
           1979,
           117
          ],
          [
           450,
           "Star Trek V: The Final Frontier (1989)",
           1989,
           63
          ],
          [
           451,
           "Grease (1978)",
           1978,
           170
          ],
          [
           452,
           "Jaws 2 (1978)",
           1978,
           66
          ],
          [
           453,
           "Jaws 3-D (1983)",
           1983,
           16
          ],
          [
           454,
           "Bastard Out of Carolina (1996)",
           1996,
           16
          ],
          [
           455,
           "Jackie Chan's First Strike (1996)",
           1997,
           145
          ],
          [
           456,
           "Beverly Hills Ninja (1997)",
           1997,
           48
          ],
          [
           457,
           "Free Willy 3: The Rescue (1997)",
           1997,
           27
          ],
          [
           458,
           "Nixon (1995)",
           1995,
           90
          ],
          [
           459,
           "Cry, the Beloved Country (1995)",
           1995,
           24
          ],
          [
           460,
           "Crossing Guard, The (1995)",
           1995,
           28
          ],
          [
           461,
           "Smoke (1995)",
           1995,
           74
          ],
          [
           462,
           "Like Water For Chocolate (Como agua para chocolate) (1992)",
           1992,
           148
          ],
          [
           463,
           "Secret of Roan Inish, The (1994)",
           1994,
           71
          ],
          [
           464,
           "Vanya on 42nd Street (1994)",
           1994,
           27
          ],
          [
           465,
           "Jungle Book, The (1994)",
           1994,
           85
          ],
          [
           466,
           "Red Rock West (1992)",
           1992,
           52
          ],
          [
           467,
           "Bronx Tale, A (1993)",
           1993,
           48
          ],
          [
           468,
           "Rudy (1993)",
           1993,
           64
          ],
          [
           469,
           "Short Cuts (1993)",
           1993,
           67
          ],
          [
           470,
           "Tombstone (1993)",
           1993,
           108
          ],
          [
           471,
           "Courage Under Fire (1996)",
           1996,
           221
          ],
          [
           472,
           "Dragonheart (1996)",
           1996,
           158
          ],
          [
           473,
           "James and the Giant Peach (1996)",
           1996,
           126
          ],
          [
           474,
           "Dr. Strangelove or: How I Learned to Stop Worrying and Love the Bomb (1963)",
           1963,
           194
          ],
          [
           475,
           "Trainspotting (1996)",
           1996,
           250
          ],
          [
           476,
           "First Wives Club, The (1996)",
           1996,
           160
          ],
          [
           477,
           "Matilda (1996)",
           1996,
           95
          ],
          [
           478,
           "Philadelphia Story, The (1940)",
           1940,
           104
          ],
          [
           479,
           "Vertigo (1958)",
           1958,
           179
          ],
          [
           480,
           "North by Northwest (1959)",
           1959,
           179
          ],
          [
           481,
           "Apartment, The (1960)",
           1960,
           63
          ],
          [
           482,
           "Some Like It Hot (1959)",
           1959,
           128
          ],
          [
           483,
           "Casablanca (1942)",
           1942,
           243
          ],
          [
           484,
           "Maltese Falcon, The (1941)",
           1941,
           138
          ],
          [
           485,
           "My Fair Lady (1964)",
           1964,
           125
          ],
          [
           486,
           "Sabrina (1954)",
           1954,
           64
          ],
          [
           487,
           "Roman Holiday (1953)",
           1953,
           68
          ],
          [
           488,
           "Sunset Blvd. (1950)",
           1950,
           65
          ],
          [
           489,
           "Notorious (1946)",
           1946,
           52
          ],
          [
           490,
           "To Catch a Thief (1955)",
           1955,
           50
          ],
          [
           491,
           "Adventures of Robin Hood, The (1938)",
           1938,
           67
          ],
          [
           492,
           "East of Eden (1955)",
           1955,
           59
          ],
          [
           493,
           "Thin Man, The (1934)",
           1934,
           60
          ],
          [
           494,
           "His Girl Friday (1940)",
           1940,
           56
          ],
          [
           495,
           "Around the World in 80 Days (1956)",
           1956,
           59
          ],
          [
           496,
           "It's a Wonderful Life (1946)",
           1946,
           231
          ],
          [
           497,
           "Bringing Up Baby (1938)",
           1938,
           68
          ],
          [
           498,
           "African Queen, The (1951)",
           1951,
           152
          ],
          [
           499,
           "Cat on a Hot Tin Roof (1958)",
           1958,
           62
          ],
          [
           500,
           "Fly Away Home (1996)",
           1996,
           31
          ],
          [
           501,
           "Dumbo (1941)",
           1941,
           123
          ],
          [
           502,
           "Bananas (1971)",
           1971,
           57
          ],
          [
           503,
           "Candidate, The (1972)",
           1972,
           39
          ],
          [
           504,
           "Bonnie and Clyde (1967)",
           1967,
           122
          ],
          [
           505,
           "Dial M for Murder (1954)",
           1954,
           68
          ],
          [
           506,
           "Rebel Without a Cause (1955)",
           1955,
           90
          ],
          [
           507,
           "Streetcar Named Desire, A (1951)",
           1951,
           98
          ],
          [
           508,
           "People vs. Larry Flynt, The (1996)",
           1996,
           215
          ],
          [
           509,
           "My Left Foot (1989)",
           1989,
           121
          ],
          [
           510,
           "Magnificent Seven, The (1954)",
           1954,
           121
          ],
          [
           511,
           "Lawrence of Arabia (1962)",
           1962,
           173
          ],
          [
           512,
           "Wings of Desire (1987)",
           1987,
           57
          ],
          [
           513,
           "Third Man, The (1949)",
           1949,
           72
          ],
          [
           514,
           "Annie Hall (1977)",
           1977,
           180
          ],
          [
           515,
           "Boot, Das (1981)",
           1997,
           201
          ],
          [
           516,
           "Local Hero (1983)",
           1983,
           63
          ],
          [
           517,
           "Manhattan (1979)",
           1979,
           91
          ],
          [
           518,
           "Miller's Crossing (1990)",
           1990,
           89
          ],
          [
           519,
           "Treasure of the Sierra Madre, The (1948)",
           1948,
           80
          ],
          [
           520,
           "Great Escape, The (1963)",
           1963,
           124
          ],
          [
           521,
           "Deer Hunter, The (1978)",
           1978,
           120
          ],
          [
           522,
           "Down by Law (1986)",
           1986,
           35
          ],
          [
           523,
           "Cool Hand Luke (1967)",
           1967,
           164
          ],
          [
           524,
           "Great Dictator, The (1940)",
           1940,
           46
          ],
          [
           525,
           "Big Sleep, The (1946)",
           1946,
           73
          ],
          [
           526,
           "Ben-Hur (1959)",
           1959,
           124
          ],
          [
           527,
           "Gandhi (1982)",
           1982,
           195
          ],
          [
           528,
           "Killing Fields, The (1984)",
           1984,
           121
          ],
          [
           529,
           "My Life as a Dog (Mitt liv som hund) (1985)",
           1985,
           93
          ],
          [
           530,
           "Man Who Would Be King, The (1975)",
           1975,
           80
          ],
          [
           531,
           "Shine (1996)",
           1996,
           129
          ],
          [
           532,
           "Kama Sutra: A Tale of Love (1996)",
           1997,
           22
          ],
          [
           533,
           "Daytrippers, The (1996)",
           1997,
           15
          ],
          [
           534,
           "Traveller (1997)",
           1997,
           13
          ],
          [
           535,
           "Addicted to Love (1997)",
           1997,
           54
          ],
          [
           536,
           "Ponette (1996)",
           1997,
           10
          ],
          [
           537,
           "My Own Private Idaho (1991)",
           1991,
           30
          ],
          [
           538,
           "Anastasia (1997)",
           1997,
           66
          ],
          [
           539,
           "Mouse Hunt (1997)",
           1997,
           44
          ],
          [
           540,
           "Money Train (1995)",
           1995,
           43
          ],
          [
           541,
           "Mortal Kombat (1995)",
           1995,
           49
          ],
          [
           542,
           "Pocahontas (1995)",
           1995,
           51
          ],
          [
           543,
           "Misérables, Les (1995)",
           1995,
           21
          ],
          [
           544,
           "Things to Do in Denver when You're Dead (1995)",
           1996,
           71
          ],
          [
           545,
           "Vampire in Brooklyn (1995)",
           1995,
           12
          ],
          [
           546,
           "Broken Arrow (1996)",
           1996,
           254
          ],
          [
           547,
           "Young Poisoner's Handbook, The (1995)",
           1996,
           41
          ],
          [
           548,
           "NeverEnding Story III, The (1994)",
           1996,
           12
          ],
          [
           549,
           "Rob Roy (1995)",
           1995,
           92
          ],
          [
           550,
           "Die Hard: With a Vengeance (1995)",
           1995,
           151
          ],
          [
           551,
           "Lord of Illusions (1995)",
           1995,
           24
          ],
          [
           552,
           "Species (1995)",
           1995,
           45
          ],
          [
           553,
           "Walk in the Clouds, A (1995)",
           1995,
           63
          ],
          [
           554,
           "Waterworld (1995)",
           1995,
           102
          ],
          [
           555,
           "White Man's Burden (1995)",
           1995,
           10
          ],
          [
           556,
           "Wild Bill (1995)",
           1995,
           12
          ],
          [
           557,
           "Farinelli: il castrato (1994)",
           1994,
           17
          ],
          [
           558,
           "Heavenly Creatures (1994)",
           1994,
           70
          ],
          [
           559,
           "Interview with the Vampire (1994)",
           1994,
           137
          ],
          [
           560,
           "Kid in King Arthur's Court, A (1995)",
           1995,
           22
          ],
          [
           561,
           "Mary Shelley's Frankenstein (1994)",
           1994,
           59
          ],
          [
           562,
           "Quick and the Dead, The (1995)",
           1995,
           48
          ],
          [
           563,
           "Stephen King's The Langoliers (1995)",
           1995,
           29
          ],
          [
           564,
           "Tales from the Hood (1995)",
           1995,
           27
          ],
          [
           565,
           "Village of the Damned (1995)",
           1995,
           22
          ],
          [
           566,
           "Clear and Present Danger (1994)",
           1994,
           179
          ],
          [
           567,
           "Wes Craven's New Nightmare (1994)",
           1994,
           35
          ],
          [
           568,
           "Speed (1994)",
           1994,
           230
          ],
          [
           569,
           "Wolf (1994)",
           1994,
           67
          ],
          [
           570,
           "Wyatt Earp (1994)",
           1994,
           50
          ],
          [
           571,
           "Another Stakeout (1993)",
           1993,
           28
          ],
          [
           572,
           "Blown Away (1994)",
           1994,
           29
          ],
          [
           573,
           "Body Snatchers (1993)",
           1993,
           33
          ],
          [
           574,
           "Boxing Helena (1993)",
           1993,
           15
          ],
          [
           575,
           "City Slickers II: The Legend of Curly's Gold (1994)",
           1994,
           44
          ],
          [
           576,
           "Cliffhanger (1993)",
           1993,
           93
          ],
          [
           577,
           "Coneheads (1993)",
           1993,
           41
          ],
          [
           578,
           "Demolition Man (1993)",
           1993,
           92
          ],
          [
           579,
           "Fatal Instinct (1993)",
           1993,
           19
          ],
          [
           580,
           "Englishman Who Went Up a Hill, But Came Down a Mountain, The (1995)",
           1995,
           32
          ],
          [
           581,
           "Kalifornia (1993)",
           1993,
           59
          ],
          [
           582,
           "Piano, The (1993)",
           1993,
           168
          ],
          [
           583,
           "Romeo Is Bleeding (1993)",
           1993,
           37
          ],
          [
           584,
           "Secret Garden, The (1993)",
           1993,
           79
          ],
          [
           585,
           "Son in Law (1993)",
           1993,
           39
          ],
          [
           586,
           "Terminal Velocity (1994)",
           1994,
           34
          ],
          [
           587,
           "Hour of the Pig, The (1993)",
           1993,
           14
          ],
          [
           588,
           "Beauty and the Beast (1991)",
           1991,
           202
          ],
          [
           589,
           "Wild Bunch, The (1969)",
           1969,
           43
          ],
          [
           590,
           "Hellraiser: Bloodline (1996)",
           1996,
           18
          ],
          [
           591,
           "Primal Fear (1996)",
           1996,
           178
          ],
          [
           592,
           "True Crime (1995)",
           1995,
           9
          ],
          [
           593,
           "Stalingrad (1993)",
           1993,
           12
          ],
          [
           594,
           "Heavy (1995)",
           1996,
           5
          ],
          [
           595,
           "Fan, The (1996)",
           1996,
           64
          ],
          [
           596,
           "Hunchback of Notre Dame, The (1996)",
           1996,
           127
          ],
          [
           597,
           "Eraser (1996)",
           1996,
           206
          ],
          [
           598,
           "Big Squeeze, The (1996)",
           1996,
           4
          ],
          [
           599,
           "Police Story 4: Project S (Chao ji ji hua) (1993)",
           1996,
           1
          ],
          [
           600,
           "Daniel Defoe's Robinson Crusoe (1996)",
           1996,
           2
          ],
          [
           601,
           "For Whom the Bell Tolls (1943)",
           1943,
           20
          ],
          [
           602,
           "American in Paris, An (1951)",
           1951,
           50
          ],
          [
           603,
           "Rear Window (1954)",
           1954,
           209
          ],
          [
           604,
           "It Happened One Night (1934)",
           1934,
           81
          ],
          [
           605,
           "Meet Me in St. Louis (1944)",
           1944,
           31
          ],
          [
           606,
           "All About Eve (1950)",
           1950,
           66
          ],
          [
           607,
           "Rebecca (1940)",
           1940,
           66
          ],
          [
           608,
           "Spellbound (1945)",
           1945,
           30
          ],
          [
           609,
           "Father of the Bride (1950)",
           1950,
           60
          ],
          [
           610,
           "Gigi (1958)",
           1958,
           41
          ],
          [
           611,
           "Laura (1944)",
           1944,
           40
          ],
          [
           612,
           "Lost Horizon (1937)",
           1937,
           34
          ],
          [
           613,
           "My Man Godfrey (1936)",
           1936,
           27
          ],
          [
           614,
           "Giant (1956)",
           1956,
           51
          ],
          [
           615,
           "39 Steps, The (1935)",
           1935,
           59
          ],
          [
           616,
           "Night of the Living Dead (1968)",
           1968,
           64
          ],
          [
           617,
           "Blue Angel, The (Blaue Engel, Der) (1930)",
           1930,
           18
          ],
          [
           618,
           "Picnic (1955)",
           1955,
           18
          ],
          [
           619,
           "Extreme Measures (1996)",
           1996,
           64
          ],
          [
           620,
           "Chamber, The (1996)",
           1996,
           43
          ],
          [
           621,
           "Davy Crockett, King of the Wild Frontier (1955)",
           1955,
           11
          ],
          [
           622,
           "Swiss Family Robinson (1960)",
           1960,
           39
          ],
          [
           623,
           "Angels in the Outfield (1994)",
           1994,
           39
          ],
          [
           624,
           "Three Caballeros, The (1945)",
           1945,
           22
          ],
          [
           625,
           "Sword in the Stone, The (1963)",
           1963,
           82
          ],
          [
           626,
           "So Dear to My Heart (1949)",
           1949,
           4
          ],
          [
           627,
           "Robin Hood: Prince of Thieves (1991)",
           1991,
           75
          ],
          [
           628,
           "Sleepers (1996)",
           1996,
           169
          ],
          [
           629,
           "Victor/Victoria (1982)",
           1982,
           77
          ],
          [
           630,
           "Great Race, The (1965)",
           1965,
           31
          ],
          [
           631,
           "Crying Game, The (1992)",
           1992,
           119
          ],
          [
           632,
           "Sophie's Choice (1982)",
           1982,
           58
          ],
          [
           633,
           "Christmas Carol, A (1938)",
           1938,
           69
          ],
          [
           634,
           "Microcosmos: Le peuple de l'herbe (1996)",
           1996,
           24
          ],
          [
           635,
           "Fog, The (1980)",
           1980,
           23
          ],
          [
           636,
           "Escape from New York (1981)",
           1981,
           91
          ],
          [
           637,
           "Howling, The (1981)",
           1981,
           38
          ],
          [
           638,
           "Return of Martin Guerre, The (Retour de Martin Guerre, Le) (1982)",
           1982,
           44
          ],
          [
           639,
           "Tin Drum, The (Blechtrommel, Die) (1979)",
           1979,
           40
          ],
          [
           640,
           "Cook the Thief His Wife & Her Lover, The (1989)",
           1989,
           82
          ],
          [
           641,
           "Paths of Glory (1957)",
           1957,
           33
          ],
          [
           642,
           "Grifters, The (1990)",
           1990,
           89
          ],
          [
           643,
           "The Innocent (1994)",
           1994,
           4
          ],
          [
           644,
           "Thin Blue Line, The (1988)",
           1988,
           35
          ],
          [
           645,
           "Paris Is Burning (1990)",
           1990,
           27
          ],
          [
           646,
           "Once Upon a Time in the West (1969)",
           1969,
           38
          ],
          [
           647,
           "Ran (1985)",
           1985,
           70
          ],
          [
           648,
           "Quiet Man, The (1952)",
           1952,
           67
          ],
          [
           649,
           "Once Upon a Time in America (1984)",
           1984,
           50
          ],
          [
           650,
           "Seventh Seal, The (Sjunde inseglet, Det) (1957)",
           1957,
           72
          ],
          [
           651,
           "Glory (1989)",
           1989,
           171
          ],
          [
           652,
           "Rosencrantz and Guildenstern Are Dead (1990)",
           1990,
           90
          ],
          [
           653,
           "Touch of Evil (1958)",
           1958,
           34
          ],
          [
           654,
           "Chinatown (1974)",
           1974,
           147
          ],
          [
           655,
           "Stand by Me (1986)",
           1986,
           227
          ],
          [
           656,
           "M (1931)",
           1931,
           44
          ],
          [
           657,
           "Manchurian Candidate, The (1962)",
           1962,
           131
          ],
          [
           658,
           "Pump Up the Volume (1990)",
           1990,
           79
          ],
          [
           659,
           "Arsenic and Old Lace (1944)",
           1944,
           115
          ],
          [
           660,
           "Fried Green Tomatoes (1991)",
           1991,
           153
          ],
          [
           661,
           "High Noon (1952)",
           1952,
           88
          ],
          [
           662,
           "Somewhere in Time (1980)",
           1980,
           82
          ],
          [
           663,
           "Being There (1979)",
           1979,
           116
          ],
          [
           664,
           "Paris, Texas (1984)",
           1984,
           46
          ],
          [
           665,
           "Alien 3 (1992)",
           1992,
           100
          ],
          [
           666,
           "Blood For Dracula (Andy Warhol's Dracula) (1974)",
           1974,
           5
          ],
          [
           667,
           "Audrey Rose (1977)",
           1977,
           12
          ],
          [
           668,
           "Blood Beach (1981)",
           1981,
           6
          ],
          [
           669,
           "Body Parts (1991)",
           1991,
           13
          ],
          [
           670,
           "Body Snatchers (1993)",
           1993,
           36
          ],
          [
           671,
           "Bride of Frankenstein (1935)",
           1935,
           46
          ],
          [
           672,
           "Candyman (1992)",
           1992,
           65
          ],
          [
           673,
           "Cape Fear (1962)",
           1962,
           86
          ],
          [
           674,
           "Cat People (1982)",
           1982,
           48
          ],
          [
           675,
           "Nosferatu (Nosferatu, eine Symphonie des Grauens) (1922)",
           1922,
           54
          ],
          [
           676,
           "Crucible, The (1996)",
           1996,
           77
          ],
          [
           677,
           "Fire on the Mountain (1996)",
           1997,
           1
          ],
          [
           678,
           "Volcano (1997)",
           1997,
           219
          ],
          [
           679,
           "Conan the Barbarian (1981)",
           1981,
           107
          ],
          [
           680,
           "Kull the Conqueror (1997)",
           1997,
           34
          ],
          [
           681,
           "Wishmaster (1997)",
           1997,
           27
          ],
          [
           682,
           "I Know What You Did Last Summer (1997)",
           1997,
           100
          ],
          [
           683,
           "Rocket Man (1997)",
           1997,
           49
          ],
          [
           684,
           "In the Line of Fire (1993)",
           1993,
           169
          ],
          [
           685,
           "Executive Decision (1996)",
           1996,
           157
          ],
          [
           686,
           "Perfect World, A (1993)",
           1993,
           50
          ],
          [
           687,
           "McHale's Navy (1997)",
           1997,
           69
          ],
          [
           688,
           "Leave It to Beaver (1997)",
           1997,
           44
          ],
          [
           689,
           "Jackal, The (1997)",
           1997,
           87
          ],
          [
           690,
           "Seven Years in Tibet (1997)",
           1997,
           155
          ],
          [
           691,
           "Dark City (1998)",
           1998,
           16
          ],
          [
           692,
           "American President, The (1995)",
           1995,
           164
          ],
          [
           693,
           "Casino (1995)",
           1995,
           91
          ],
          [
           694,
           "Persuasion (1995)",
           1995,
           44
          ],
          [
           695,
           "Kicking and Screaming (1995)",
           1995,
           13
          ],
          [
           696,
           "City Hall (1996)",
           1996,
           79
          ],
          [
           697,
           "Basketball Diaries, The (1995)",
           1995,
           40
          ],
          [
           698,
           "Browning Version, The (1994)",
           1994,
           10
          ],
          [
           699,
           "Little Women (1994)",
           1994,
           102
          ],
          [
           700,
           "Miami Rhapsody (1995)",
           1995,
           15
          ],
          [
           701,
           "Wonderful, Horrible Life of Leni Riefenstahl, The (1993)",
           1993,
           10
          ],
          [
           702,
           "Barcelona (1994)",
           1994,
           53
          ],
          [
           703,
           "Widows' Peak (1994)",
           1994,
           19
          ],
          [
           704,
           "House of the Spirits, The (1993)",
           1993,
           24
          ],
          [
           705,
           "Singin' in the Rain (1952)",
           1952,
           137
          ],
          [
           706,
           "Bad Moon (1996)",
           1996,
           6
          ],
          [
           707,
           "Enchanted April (1991)",
           1991,
           70
          ],
          [
           708,
           "Sex, Lies, and Videotape (1989)",
           1989,
           101
          ],
          [
           709,
           "Strictly Ballroom (1992)",
           1992,
           104
          ],
          [
           710,
           "Better Off Dead... (1985)",
           1985,
           79
          ],
          [
           711,
           "Substance of Fire, The (1996)",
           1996,
           1
          ],
          [
           712,
           "Tin Men (1987)",
           1987,
           51
          ],
          [
           713,
           "Othello (1995)",
           1995,
           72
          ],
          [
           714,
           "Carrington (1995)",
           1995,
           13
          ],
          [
           715,
           "To Die For (1995)",
           1995,
           87
          ],
          [
           716,
           "Home for the Holidays (1995)",
           1995,
           58
          ],
          [
           717,
           "Juror, The (1996)",
           1996,
           82
          ],
          [
           718,
           "In the Bleak Midwinter (1995)",
           1996,
           16
          ],
          [
           719,
           "Canadian Bacon (1994)",
           1994,
           29
          ],
          [
           720,
           "First Knight (1995)",
           1995,
           86
          ],
          [
           721,
           "Mallrats (1995)",
           1995,
           54
          ],
          [
           722,
           "Nine Months (1995)",
           1995,
           58
          ],
          [
           723,
           "Boys on the Side (1995)",
           1995,
           34
          ],
          [
           724,
           "Circle of Friends (1995)",
           1995,
           76
          ],
          [
           725,
           "Exit to Eden (1994)",
           1994,
           16
          ],
          [
           726,
           "Fluke (1995)",
           1995,
           14
          ],
          [
           727,
           "Immortal Beloved (1994)",
           1994,
           63
          ],
          [
           728,
           "Junior (1994)",
           1994,
           45
          ],
          [
           729,
           "Nell (1994)",
           1994,
           81
          ],
          [
           730,
           "Queen Margot (Reine Margot, La) (1994)",
           1996,
           24
          ],
          [
           731,
           "Corrina, Corrina (1994)",
           1994,
           39
          ],
          [
           732,
           "Dave (1993)",
           1993,
           180
          ],
          [
           733,
           "Go Fish (1994)",
           1994,
           15
          ],
          [
           734,
           "Made in America (1993)",
           1993,
           27
          ],
          [
           735,
           "Philadelphia (1993)",
           1993,
           137
          ],
          [
           736,
           "Shadowlands (1993)",
           1993,
           78
          ],
          [
           737,
           "Sirens (1994)",
           1994,
           59
          ],
          [
           738,
           "Threesome (1994)",
           1994,
           31
          ],
          [
           739,
           "Pretty Woman (1990)",
           1990,
           164
          ],
          [
           740,
           "Jane Eyre (1996)",
           1996,
           63
          ],
          [
           741,
           "Last Supper, The (1995)",
           1996,
           58
          ],
          [
           742,
           "Ransom (1996)",
           1996,
           267
          ],
          [
           743,
           "Crow: City of Angels, The (1996)",
           1996,
           39
          ],
          [
           744,
           "Michael Collins (1996)",
           1996,
           92
          ],
          [
           745,
           "Ruling Class, The (1972)",
           1972,
           16
          ],
          [
           746,
           "Real Genius (1985)",
           1985,
           119
          ],
          [
           747,
           "Benny & Joon (1993)",
           1993,
           102
          ],
          [
           748,
           "Saint, The (1997)",
           1997,
           316
          ],
          [
           749,
           "MatchMaker, The (1997)",
           1997,
           51
          ],
          [
           750,
           "Amistad (1997)",
           1997,
           124
          ],
          [
           751,
           "Tomorrow Never Dies (1997)",
           1997,
           180
          ],
          [
           752,
           "Replacement Killers, The (1998)",
           1998,
           39
          ],
          [
           753,
           "Burnt By the Sun (1994)",
           1994,
           24
          ],
          [
           754,
           "Red Corner (1997)",
           1997,
           57
          ],
          [
           755,
           "Jumanji (1995)",
           1995,
           96
          ],
          [
           756,
           "Father of the Bride Part II (1995)",
           1995,
           128
          ],
          [
           757,
           "Across the Sea of Time (1995)",
           1995,
           4
          ],
          [
           758,
           "Lawnmower Man 2: Beyond Cyberspace (1996)",
           1996,
           21
          ],
          [
           759,
           "Fair Game (1995)",
           1995,
           11
          ],
          [
           760,
           "Screamers (1995)",
           1995,
           46
          ],
          [
           761,
           "Nick of Time (1995)",
           1995,
           44
          ],
          [
           762,
           "Beautiful Girls (1996)",
           1996,
           115
          ],
          [
           763,
           "Happy Gilmore (1996)",
           1996,
           149
          ],
          [
           764,
           "If Lucy Fell (1996)",
           1996,
           29
          ],
          [
           765,
           "Boomerang (1992)",
           1992,
           32
          ],
          [
           766,
           "Man of the Year (1995)",
           1996,
           9
          ],
          [
           767,
           "Addiction, The (1995)",
           1995,
           11
          ],
          [
           768,
           "Casper (1995)",
           1995,
           52
          ],
          [
           769,
           "Congo (1995)",
           1995,
           42
          ],
          [
           770,
           "Devil in a Blue Dress (1995)",
           1995,
           57
          ],
          [
           771,
           "Johnny Mnemonic (1995)",
           1995,
           41
          ],
          [
           772,
           "Kids (1995)",
           1995,
           49
          ],
          [
           773,
           "Mute Witness (1994)",
           1994,
           17
          ],
          [
           774,
           "Prophecy, The (1995)",
           1995,
           32
          ],
          [
           775,
           "Something to Talk About (1995)",
           1995,
           26
          ],
          [
           776,
           "Three Wishes (1995)",
           1995,
           9
          ],
          [
           777,
           "Castle Freak (1995)",
           1995,
           4
          ],
          [
           778,
           "Don Juan DeMarco (1995)",
           1995,
           76
          ],
          [
           779,
           "Drop Zone (1994)",
           1994,
           31
          ],
          [
           780,
           "Dumb & Dumber (1994)",
           1994,
           69
          ],
          [
           781,
           "French Kiss (1995)",
           1995,
           84
          ],
          [
           782,
           "Little Odessa (1994)",
           1994,
           10
          ],
          [
           783,
           "Milk Money (1994)",
           1994,
           37
          ],
          [
           784,
           "Beyond Bedlam (1993)",
           1993,
           2
          ],
          [
           785,
           "Only You (1994)",
           1994,
           39
          ],
          [
           786,
           "Perez Family, The (1995)",
           1995,
           14
          ],
          [
           787,
           "Roommates (1995)",
           1995,
           13
          ],
          [
           788,
           "Relative Fear (1994)",
           1994,
           3
          ],
          [
           789,
           "Swimming with Sharks (1995)",
           1995,
           47
          ],
          [
           790,
           "Tommy Boy (1995)",
           1995,
           66
          ],
          [
           791,
           "Baby-Sitters Club, The (1995)",
           1995,
           10
          ],
          [
           792,
           "Bullets Over Broadway (1994)",
           1994,
           86
          ],
          [
           793,
           "Crooklyn (1994)",
           1994,
           10
          ],
          [
           794,
           "It Could Happen to You (1994)",
           1994,
           46
          ],
          [
           795,
           "Richie Rich (1994)",
           1994,
           21
          ],
          [
           796,
           "Speechless (1994)",
           1994,
           36
          ],
          [
           797,
           "Timecop (1994)",
           1994,
           31
          ],
          [
           798,
           "Bad Company (1995)",
           1995,
           9
          ],
          [
           799,
           "Boys Life (1995)",
           1995,
           5
          ],
          [
           800,
           "In the Mouth of Madness (1995)",
           1995,
           26
          ],
          [
           801,
           "Air Up There, The (1994)",
           1994,
           16
          ],
          [
           802,
           "Hard Target (1993)",
           1993,
           40
          ],
          [
           803,
           "Heaven & Earth (1993)",
           1993,
           9
          ],
          [
           804,
           "Jimmy Hollywood (1994)",
           1994,
           8
          ],
          [
           805,
           "Manhattan Murder Mystery (1993)",
           1993,
           27
          ],
          [
           806,
           "Menace II Society (1993)",
           1993,
           50
          ],
          [
           807,
           "Poetic Justice (1993)",
           1993,
           9
          ],
          [
           808,
           "Program, The (1993)",
           1993,
           31
          ],
          [
           809,
           "Rising Sun (1993)",
           1993,
           43
          ],
          [
           810,
           "Shadow, The (1994)",
           1994,
           45
          ],
          [
           811,
           "Thirty-Two Short Films About Glenn Gould (1993)",
           1993,
           18
          ],
          [
           812,
           "Andre (1994)",
           1994,
           18
          ],
          [
           813,
           "Celluloid Closet, The (1995)",
           1996,
           56
          ],
          [
           814,
           "Great Day in Harlem, A (1994)",
           1994,
           1
          ],
          [
           815,
           "One Fine Day (1996)",
           1996,
           112
          ],
          [
           816,
           "Candyman: Farewell to the Flesh (1995)",
           1995,
           21
          ],
          [
           817,
           "Frisk (1995)",
           1996,
           3
          ],
          [
           818,
           "Girl 6 (1996)",
           1996,
           25
          ],
          [
           819,
           "Eddie (1996)",
           1996,
           40
          ],
          [
           820,
           "Space Jam (1996)",
           1996,
           93
          ],
          [
           821,
           "Mrs. Winterbourne (1996)",
           1996,
           22
          ],
          [
           822,
           "Faces (1968)",
           1968,
           4
          ],
          [
           823,
           "Mulholland Falls (1996)",
           1996,
           82
          ],
          [
           824,
           "Great White Hype, The (1996)",
           1996,
           49
          ],
          [
           825,
           "Arrival, The (1996)",
           1996,
           83
          ],
          [
           826,
           "Phantom, The (1996)",
           1996,
           80
          ],
          [
           827,
           "Daylight (1996)",
           1996,
           57
          ],
          [
           828,
           "Alaska (1996)",
           1996,
           13
          ],
          [
           829,
           "Fled (1996)",
           1996,
           34
          ],
          [
           830,
           "Power 98 (1995)",
           1996,
           1
          ],
          [
           831,
           "Escape from L.A. (1996)",
           1996,
           91
          ],
          [
           832,
           "Bogus (1996)",
           1996,
           22
          ],
          [
           833,
           "Bulletproof (1996)",
           1996,
           49
          ],
          [
           834,
           "Halloween: The Curse of Michael Myers (1995)",
           1995,
           25
          ],
          [
           835,
           "Gay Divorcee, The (1934)",
           1934,
           15
          ],
          [
           836,
           "Ninotchka (1939)",
           1939,
           26
          ],
          [
           837,
           "Meet John Doe (1941)",
           1941,
           25
          ],
          [
           838,
           "In the Line of Duty 2 (1987)",
           1996,
           4
          ],
          [
           839,
           "Loch Ness (1995)",
           1995,
           4
          ],
          [
           840,
           "Last Man Standing (1996)",
           1996,
           53
          ],
          [
           841,
           "Glimmer Man, The (1996)",
           1996,
           48
          ],
          [
           842,
           "Pollyanna (1960)",
           1960,
           27
          ],
          [
           843,
           "Shaggy Dog, The (1959)",
           1959,
           30
          ],
          [
           844,
           "Freeway (1996)",
           1996,
           42
          ],
          [
           845,
           "That Thing You Do! (1996)",
           1996,
           176
          ],
          [
           846,
           "To Gillian on Her 37th Birthday (1996)",
           1996,
           44
          ],
          [
           847,
           "Looking for Richard (1996)",
           1996,
           55
          ],
          [
           848,
           "Murder, My Sweet (1944)",
           1944,
           9
          ],
          [
           849,
           "Days of Thunder (1990)",
           1990,
           53
          ],
          [
           850,
           "Perfect Candidate, A (1996)",
           1996,
           4
          ],
          [
           851,
           "Two or Three Things I Know About Her (1966)",
           1966,
           4
          ],
          [
           852,
           "Bloody Child, The (1996)",
           1996,
           1
          ],
          [
           853,
           "Braindead (1992)",
           1992,
           14
          ],
          [
           854,
           "Bad Taste (1987)",
           1987,
           16
          ],
          [
           855,
           "Diva (1981)",
           1981,
           66
          ],
          [
           856,
           "Night on Earth (1991)",
           1991,
           36
          ],
          [
           857,
           "Paris Was a Woman (1995)",
           1996,
           1
          ],
          [
           858,
           "Amityville: Dollhouse (1996)",
           1996,
           3
          ],
          [
           859,
           "April Fool's Day (1986)",
           1986,
           15
          ],
          [
           860,
           "Believers, The (1987)",
           1987,
           16
          ],
          [
           861,
           "Nosferatu a Venezia (1986)",
           1986,
           3
          ],
          [
           862,
           "Jingle All the Way (1996)",
           1996,
           18
          ],
          [
           863,
           "Garden of Finzi-Contini, The (Giardino dei Finzi-Contini, Il) (1970)",
           1996,
           24
          ],
          [
           864,
           "My Fellow Americans (1996)",
           1996,
           86
          ],
          [
           865,
           "Ice Storm, The (1997)",
           1997,
           21
          ],
          [
           866,
           "Michael (1996)",
           1996,
           119
          ],
          [
           867,
           "Whole Wide World, The (1996)",
           1996,
           6
          ],
          [
           868,
           "Hearts and Minds (1996)",
           1997,
           5
          ],
          [
           869,
           "Fools Rush In (1997)",
           1997,
           24
          ],
          [
           870,
           "Touch (1997)",
           1997,
           9
          ],
          [
           871,
           "Vegas Vacation (1997)",
           1997,
           75
          ],
          [
           872,
           "Love Jones (1997)",
           1997,
           42
          ],
          [
           873,
           "Picture Perfect (1997)",
           1997,
           81
          ],
          [
           874,
           "Career Girls (1997)",
           1997,
           39
          ],
          [
           875,
           "She's So Lovely (1997)",
           1997,
           53
          ],
          [
           876,
           "Money Talks (1997)",
           1997,
           47
          ],
          [
           877,
           "Excess Baggage (1997)",
           1997,
           52
          ],
          [
           878,
           "That Darn Cat! (1997)",
           1997,
           33
          ],
          [
           879,
           "Peacemaker, The (1997)",
           1997,
           136
          ],
          [
           880,
           "Soul Food (1997)",
           1997,
           59
          ],
          [
           881,
           "Money Talks (1997)",
           1997,
           45
          ],
          [
           882,
           "Washington Square (1997)",
           1997,
           34
          ],
          [
           883,
           "Telling Lies in America (1997)",
           1997,
           13
          ],
          [
           884,
           "Year of the Horse (1997)",
           1997,
           7
          ],
          [
           885,
           "Phantoms (1998)",
           1998,
           13
          ],
          [
           886,
           "Life Less Ordinary, A (1997)",
           1997,
           53
          ],
          [
           887,
           "Eve's Bayou (1997)",
           1997,
           64
          ],
          [
           888,
           "One Night Stand (1997)",
           1997,
           15
          ],
          [
           889,
           "Tango Lesson, The (1997)",
           1997,
           13
          ],
          [
           890,
           "Mortal Kombat: Annihilation (1997)",
           1997,
           43
          ],
          [
           891,
           "Bent (1997)",
           1997,
           6
          ],
          [
           892,
           "Flubber (1997)",
           1997,
           53
          ],
          [
           893,
           "For Richer or Poorer (1997)",
           1997,
           14
          ],
          [
           894,
           "Home Alone 3 (1997)",
           1997,
           19
          ],
          [
           895,
           "Scream 2 (1997)",
           1997,
           106
          ],
          [
           896,
           "Sweet Hereafter, The (1997)",
           1997,
           44
          ],
          [
           897,
           "Time Tracers (1995)",
           1995,
           2
          ],
          [
           898,
           "Postman, The (1997)",
           1997,
           58
          ],
          [
           899,
           "Winter Guest, The (1997)",
           1997,
           9
          ],
          [
           900,
           "Kundun (1997)",
           1997,
           42
          ],
          [
           901,
           "Mr. Magoo (1997)",
           1997,
           12
          ],
          [
           902,
           "Big Lebowski, The (1998)",
           1997,
           42
          ],
          [
           903,
           "Afterglow (1997)",
           1997,
           18
          ],
          [
           904,
           "Ma vie en rose (My Life in Pink) (1997)",
           1997,
           20
          ],
          [
           905,
           "Great Expectations (1998)",
           1998,
           27
          ],
          [
           906,
           "Oscar & Lucinda (1997)",
           1997,
           21
          ],
          [
           907,
           "Vermin (1998)",
           1997,
           2
          ],
          [
           908,
           "Half Baked (1998)",
           1998,
           20
          ],
          [
           909,
           "Dangerous Beauty (1998)",
           1998,
           13
          ],
          [
           910,
           "Nil By Mouth (1997)",
           1998,
           4
          ],
          [
           911,
           "Twilight (1998)",
           1998,
           4
          ],
          [
           912,
           "U.S. Marshalls (1998)",
           1998,
           9
          ],
          [
           913,
           "Love and Death on Long Island (1997)",
           1998,
           2
          ],
          [
           914,
           "Wild Things (1998)",
           1998,
           11
          ],
          [
           915,
           "Primary Colors (1998)",
           1998,
           13
          ],
          [
           916,
           "Lost in Space (1998)",
           1998,
           18
          ],
          [
           917,
           "Mercury Rising (1998)",
           1998,
           7
          ],
          [
           918,
           "City of Angels (1998)",
           1998,
           8
          ],
          [
           919,
           "City of Lost Children, The (1995)",
           1995,
           96
          ],
          [
           920,
           "Two Bits (1995)",
           1995,
           5
          ],
          [
           921,
           "Farewell My Concubine (1993)",
           1993,
           46
          ],
          [
           922,
           "Dead Man (1995)",
           1996,
           34
          ],
          [
           923,
           "Raise the Red Lantern (1991)",
           1991,
           58
          ],
          [
           924,
           "White Squall (1996)",
           1996,
           85
          ],
          [
           925,
           "Unforgettable (1996)",
           1996,
           34
          ],
          [
           926,
           "Down Periscope (1996)",
           1996,
           101
          ],
          [
           927,
           "Flower of My Secret, The (Flor de mi secreto, La) (1995)",
           1996,
           6
          ],
          [
           928,
           "Craft, The (1996)",
           1996,
           104
          ],
          [
           929,
           "Harriet the Spy (1996)",
           1996,
           40
          ],
          [
           930,
           "Chain Reaction (1996)",
           1996,
           80
          ],
          [
           931,
           "Island of Dr. Moreau, The (1996)",
           1996,
           57
          ],
          [
           932,
           "First Kid (1996)",
           1996,
           40
          ],
          [
           933,
           "Funeral, The (1996)",
           1996,
           21
          ],
          [
           934,
           "Preacher's Wife, The (1996)",
           1996,
           68
          ],
          [
           935,
           "Paradise Road (1997)",
           1997,
           7
          ],
          [
           936,
           "Brassed Off (1996)",
           1997,
           32
          ],
          [
           937,
           "Thousand Acres, A (1997)",
           1997,
           37
          ],
          [
           938,
           "Smile Like Yours, A (1997)",
           1997,
           25
          ],
          [
           939,
           "Murder in the First (1995)",
           1995,
           60
          ],
          [
           940,
           "Airheads (1994)",
           1994,
           32
          ],
          [
           941,
           "With Honors (1994)",
           1994,
           46
          ],
          [
           942,
           "What's Love Got to Do with It (1993)",
           1993,
           45
          ],
          [
           943,
           "Killing Zoe (1994)",
           1994,
           40
          ],
          [
           944,
           "Renaissance Man (1994)",
           1994,
           43
          ],
          [
           945,
           "Charade (1963)",
           1963,
           40
          ],
          [
           946,
           "Fox and the Hound, The (1981)",
           1981,
           61
          ],
          [
           947,
           "Big Blue, The (Grand bleu, Le) (1988)",
           1988,
           17
          ],
          [
           948,
           "Booty Call (1997)",
           1997,
           48
          ],
          [
           949,
           "How to Make an American Quilt (1995)",
           1995,
           71
          ],
          [
           950,
           "Georgia (1995)",
           1995,
           30
          ],
          [
           951,
           "Indian in the Cupboard, The (1995)",
           1995,
           39
          ],
          [
           952,
           "Blue in the Face (1995)",
           1995,
           45
          ],
          [
           953,
           "Unstrung Heroes (1995)",
           1995,
           22
          ],
          [
           954,
           "Unzipped (1995)",
           1995,
           11
          ],
          [
           955,
           "Before Sunrise (1995)",
           1995,
           49
          ],
          [
           956,
           "Nobody's Fool (1994)",
           1994,
           46
          ],
          [
           957,
           "Pushing Hands (1992)",
           1992,
           2
          ],
          [
           958,
           "To Live (Huozhe) (1994)",
           1994,
           14
          ],
          [
           959,
           "Dazed and Confused (1993)",
           1993,
           64
          ],
          [
           960,
           "Naked (1993)",
           1993,
           25
          ],
          [
           961,
           "Orlando (1993)",
           1993,
           34
          ],
          [
           962,
           "Ruby in Paradise (1993)",
           1993,
           23
          ],
          [
           963,
           "Some Folks Call It a Sling Blade (1993)",
           1993,
           41
          ],
          [
           964,
           "Month by the Lake, A (1995)",
           1995,
           9
          ],
          [
           965,
           "Funny Face (1957)",
           1957,
           21
          ],
          [
           966,
           "Affair to Remember, An (1957)",
           1957,
           26
          ],
          [
           967,
           "Little Lord Fauntleroy (1936)",
           1936,
           12
          ],
          [
           968,
           "Inspector General, The (1949)",
           1949,
           18
          ],
          [
           969,
           "Winnie the Pooh and the Blustery Day (1968)",
           1968,
           75
          ],
          [
           970,
           "Hear My Song (1991)",
           1991,
           8
          ],
          [
           971,
           "Mediterraneo (1991)",
           1991,
           34
          ],
          [
           972,
           "Passion Fish (1992)",
           1992,
           28
          ],
          [
           973,
           "Grateful Dead (1995)",
           1996,
           4
          ],
          [
           974,
           "Eye for an Eye (1996)",
           1996,
           32
          ],
          [
           975,
           "Fear (1996)",
           1996,
           44
          ],
          [
           976,
           "Solo (1996)",
           1996,
           12
          ],
          [
           977,
           "Substitute, The (1996)",
           1996,
           49
          ],
          [
           978,
           "Heaven's Prisoners (1996)",
           1996,
           27
          ],
          [
           979,
           "Trigger Effect, The (1996)",
           1996,
           35
          ],
          [
           980,
           "Mother Night (1996)",
           1996,
           22
          ],
          [
           981,
           "Dangerous Ground (1997)",
           1996,
           8
          ],
          [
           982,
           "Maximum Risk (1996)",
           1996,
           20
          ],
          [
           983,
           "Rich Man's Wife, The (1996)",
           1996,
           15
          ],
          [
           984,
           "Shadow Conspiracy (1997)",
           1997,
           44
          ],
          [
           985,
           "Blood & Wine (1997)",
           1996,
           22
          ],
          [
           986,
           "Turbulence (1997)",
           1997,
           23
          ],
          [
           987,
           "Underworld (1997)",
           1997,
           4
          ],
          [
           988,
           "Beautician and the Beast, The (1997)",
           1997,
           86
          ],
          [
           989,
           "Cats Don't Dance (1997)",
           1997,
           32
          ],
          [
           990,
           "Anna Karenina (1997)",
           1997,
           33
          ],
          [
           991,
           "Keys to Tulsa (1997)",
           1997,
           25
          ],
          [
           992,
           "Head Above Water (1996)",
           1997,
           4
          ],
          [
           993,
           "Hercules (1997)",
           1997,
           66
          ],
          [
           994,
           "Last Time I Committed Suicide, The (1997)",
           1997,
           7
          ],
          [
           995,
           "Kiss Me, Guido (1997)",
           1997,
           31
          ],
          [
           996,
           "Big Green, The (1995)",
           1995,
           14
          ],
          [
           997,
           "Stuart Saves His Family (1995)",
           1995,
           16
          ],
          [
           998,
           "Cabin Boy (1994)",
           1994,
           16
          ],
          [
           999,
           "Clean Slate (1994)",
           1994,
           10
          ],
          [
           1000,
           "Lightning Jack (1994)",
           1994,
           10
          ],
          [
           1001,
           "Stupids, The (1996)",
           1996,
           17
          ],
          [
           1002,
           "Pest, The (1997)",
           1997,
           8
          ],
          [
           1003,
           "That Darn Cat! (1997)",
           1997,
           8
          ],
          [
           1004,
           "Geronimo: An American Legend (1993)",
           1993,
           9
          ],
          [
           1005,
           "Double vie de Véronique, La (Double Life of Veronique, The) (1991)",
           1991,
           22
          ],
          [
           1006,
           "Until the End of the World (Bis ans Ende der Welt) (1991)",
           1991,
           23
          ],
          [
           1007,
           "Waiting for Guffman (1996)",
           1997,
           47
          ],
          [
           1008,
           "I Shot Andy Warhol (1996)",
           1996,
           37
          ],
          [
           1009,
           "Stealing Beauty (1996)",
           1996,
           64
          ],
          [
           1010,
           "Basquiat (1996)",
           1996,
           44
          ],
          [
           1011,
           "2 Days in the Valley (1996)",
           1996,
           93
          ],
          [
           1012,
           "Private Parts (1997)",
           1997,
           100
          ],
          [
           1013,
           "Anaconda (1997)",
           1997,
           38
          ],
          [
           1014,
           "Romy and Michele's High School Reunion (1997)",
           1997,
           98
          ],
          [
           1015,
           "Shiloh (1997)",
           1997,
           12
          ],
          [
           1016,
           "Con Air (1997)",
           1997,
           137
          ],
          [
           1017,
           "Trees Lounge (1996)",
           1996,
           50
          ],
          [
           1018,
           "Tie Me Up! Tie Me Down! (1990)",
           1990,
           32
          ],
          [
           1019,
           "Die xue shuang xiong (Killer, The) (1989)",
           1989,
           31
          ],
          [
           1020,
           "Gaslight (1944)",
           1944,
           35
          ],
          [
           1021,
           "8 1/2 (1963)",
           1963,
           38
          ],
          [
           1022,
           "Fast, Cheap & Out of Control (1997)",
           1997,
           32
          ],
          [
           1023,
           "Fathers' Day (1997)",
           1997,
           31
          ],
          [
           1024,
           "Mrs. Dalloway (1997)",
           1997,
           15
          ],
          [
           1025,
           "Fire Down Below (1997)",
           1997,
           44
          ],
          [
           1026,
           "Lay of the Land, The (1997)",
           1997,
           4
          ],
          [
           1027,
           "Shooter, The (1995)",
           1995,
           3
          ],
          [
           1028,
           "Grumpier Old Men (1995)",
           1995,
           148
          ],
          [
           1029,
           "Jury Duty (1995)",
           1995,
           14
          ],
          [
           1030,
           "Beverly Hillbillies, The (1993)",
           1993,
           20
          ],
          [
           1031,
           "Lassie (1994)",
           1994,
           7
          ],
          [
           1032,
           "Little Big League (1994)",
           1994,
           16
          ],
          [
           1033,
           "Homeward Bound II: Lost in San Francisco (1996)",
           1996,
           32
          ],
          [
           1034,
           "Quest, The (1996)",
           1996,
           27
          ],
          [
           1035,
           "Cool Runnings (1993)",
           1993,
           68
          ],
          [
           1036,
           "Drop Dead Fred (1991)",
           1991,
           24
          ],
          [
           1037,
           "Grease 2 (1982)",
           1982,
           24
          ],
          [
           1038,
           "Switchback (1997)",
           1997,
           17
          ],
          [
           1039,
           "Hamlet (1996)",
           1997,
           90
          ],
          [
           1040,
           "Two if by Sea (1996)",
           1996,
           25
          ],
          [
           1041,
           "Forget Paris (1995)",
           1995,
           62
          ],
          [
           1042,
           "Just Cause (1995)",
           1995,
           28
          ],
          [
           1043,
           "Rent-a-Kid (1995)",
           1995,
           8
          ],
          [
           1044,
           "Paper, The (1994)",
           1994,
           40
          ],
          [
           1045,
           "Fearless (1993)",
           1993,
           25
          ],
          [
           1046,
           "Malice (1993)",
           1993,
           46
          ],
          [
           1047,
           "Multiplicity (1996)",
           1996,
           134
          ],
          [
           1048,
           "She's the One (1996)",
           1996,
           73
          ],
          [
           1049,
           "House Arrest (1996)",
           1996,
           25
          ],
          [
           1050,
           "Ghost and Mrs. Muir, The (1947)",
           1947,
           43
          ],
          [
           1051,
           "Associate, The (1996)",
           1996,
           41
          ],
          [
           1052,
           "Dracula: Dead and Loving It (1995)",
           1995,
           25
          ],
          [
           1053,
           "Now and Then (1995)",
           1995,
           24
          ],
          [
           1054,
           "Mr. Wrong (1996)",
           1996,
           23
          ],
          [
           1055,
           "Simple Twist of Fate, A (1994)",
           1994,
           10
          ],
          [
           1056,
           "Cronos (1992)",
           1992,
           10
          ],
          [
           1057,
           "Pallbearer, The (1996)",
           1996,
           22
          ],
          [
           1058,
           "War, The (1994)",
           1994,
           15
          ],
          [
           1059,
           "Don't Be a Menace to South Central While Drinking Your Juice in the Hood (1996)",
           1996,
           35
          ],
          [
           1060,
           "Adventures of Pinocchio, The (1996)",
           1996,
           39
          ],
          [
           1061,
           "Evening Star, The (1996)",
           1996,
           29
          ],
          [
           1062,
           "Four Days in September (1997)",
           1998,
           12
          ],
          [
           1063,
           "Little Princess, A (1995)",
           1995,
           41
          ],
          [
           1064,
           "Crossfire (1947)",
           1947,
           4
          ],
          [
           1065,
           "Koyaanisqatsi (1983)",
           1983,
           53
          ],
          [
           1066,
           "Balto (1995)",
           1995,
           16
          ],
          [
           1067,
           "Bottle Rocket (1996)",
           1996,
           44
          ],
          [
           1068,
           "Star Maker, The (Uomo delle stelle, L') (1995)",
           1996,
           12
          ],
          [
           1069,
           "Amateur (1994)",
           1994,
           18
          ],
          [
           1070,
           "Living in Oblivion (1995)",
           1995,
           27
          ],
          [
           1071,
           "Party Girl (1995)",
           1995,
           16
          ],
          [
           1072,
           "Pyromaniac's Love Story, A (1995)",
           1995,
           7
          ],
          [
           1073,
           "Shallow Grave (1994)",
           1994,
           66
          ],
          [
           1074,
           "Reality Bites (1994)",
           1994,
           77
          ],
          [
           1075,
           "Man of No Importance, A (1994)",
           1994,
           7
          ],
          [
           1076,
           "Pagemaster, The (1994)",
           1994,
           12
          ],
          [
           1077,
           "Love and a .45 (1994)",
           1994,
           8
          ],
          [
           1078,
           "Oliver & Company (1988)",
           1988,
           22
          ],
          [
           1079,
           "Joe's Apartment (1996)",
           1996,
           45
          ],
          [
           1080,
           "Celestial Clockwork (1994)",
           1996,
           2
          ],
          [
           1081,
           "Curdled (1996)",
           1996,
           8
          ],
          [
           1082,
           "Female Perversions (1996)",
           1997,
           8
          ],
          [
           1083,
           "Albino Alligator (1996)",
           1997,
           6
          ],
          [
           1084,
           "Anne Frank Remembered (1995)",
           1996,
           21
          ],
          [
           1085,
           "Carried Away (1996)",
           1996,
           11
          ],
          [
           1086,
           "It's My Party (1995)",
           1996,
           21
          ],
          [
           1087,
           "Bloodsport 2 (1995)",
           1996,
           10
          ],
          [
           1088,
           "Double Team (1997)",
           1997,
           13
          ],
          [
           1089,
           "Speed 2: Cruise Control (1997)",
           1997,
           38
          ],
          [
           1090,
           "Sliver (1993)",
           1993,
           37
          ],
          [
           1091,
           "Pete's Dragon (1977)",
           1977,
           43
          ],
          [
           1092,
           "Dear God (1996)",
           1996,
           12
          ],
          [
           1093,
           "Live Nude Girls (1995)",
           1996,
           23
          ],
          [
           1094,
           "Thin Line Between Love and Hate, A (1996)",
           1996,
           12
          ],
          [
           1095,
           "High School High (1996)",
           1996,
           29
          ],
          [
           1096,
           "Commandments (1997)",
           1997,
           3
          ],
          [
           1097,
           "Hate (Haine, La) (1995)",
           1996,
           18
          ],
          [
           1098,
           "Flirting With Disaster (1996)",
           1996,
           42
          ],
          [
           1099,
           "Red Firecracker, Green Firecracker (1994)",
           1994,
           13
          ],
          [
           1100,
           "What Happened Was... (1994)",
           1994,
           8
          ],
          [
           1101,
           "Six Degrees of Separation (1993)",
           1993,
           74
          ],
          [
           1102,
           "Two Much (1996)",
           1996,
           7
          ],
          [
           1103,
           "Trust (1990)",
           1990,
           19
          ],
          [
           1104,
           "C'est arrivé près de chez vous (1992)",
           1992,
           4
          ],
          [
           1105,
           "Firestorm (1998)",
           1998,
           18
          ],
          [
           1106,
           "Newton Boys, The (1998)",
           1998,
           4
          ],
          [
           1107,
           "Beyond Rangoon (1995)",
           1995,
           18
          ],
          [
           1108,
           "Feast of July (1995)",
           1995,
           5
          ],
          [
           1109,
           "Death and the Maiden (1994)",
           1994,
           28
          ],
          [
           1110,
           "Tank Girl (1995)",
           1995,
           41
          ],
          [
           1111,
           "Double Happiness (1994)",
           1996,
           7
          ],
          [
           1112,
           "Cobb (1994)",
           1994,
           15
          ],
          [
           1113,
           "Mrs. Parker and the Vicious Circle (1994)",
           1994,
           22
          ],
          [
           1114,
           "Faithful (1996)",
           1996,
           10
          ],
          [
           1115,
           "Twelfth Night (1996)",
           1996,
           29
          ],
          [
           1116,
           "Mark of Zorro, The (1940)",
           1940,
           13
          ],
          [
           1117,
           "Surviving Picasso (1996)",
           1996,
           19
          ],
          [
           1118,
           "Up in Smoke (1978)",
           1978,
           47
          ],
          [
           1119,
           "Some Kind of Wonderful (1987)",
           1987,
           59
          ],
          [
           1120,
           "I'm Not Rappaport (1996)",
           1996,
           17
          ],
          [
           1121,
           "Umbrellas of Cherbourg, The (Parapluies de Cherbourg, Les) (1964)",
           1996,
           21
          ],
          [
           1122,
           "They Made Me a Criminal (1939)",
           1939,
           1
          ],
          [
           1123,
           "Last Time I Saw Paris, The (1954)",
           1954,
           3
          ],
          [
           1124,
           "Farewell to Arms, A (1932)",
           1932,
           12
          ],
          [
           1125,
           "Innocents, The (1961)",
           1961,
           4
          ],
          [
           1126,
           "Old Man and the Sea, The (1958)",
           1958,
           32
          ],
          [
           1127,
           "Truman Show, The (1998)",
           1998,
           11
          ],
          [
           1128,
           "Heidi Fleiss: Hollywood Madam (1995) ",
           1996,
           13
          ],
          [
           1129,
           "Chungking Express (1994)",
           1996,
           28
          ],
          [
           1130,
           "Jupiter's Wife (1994)",
           1996,
           1
          ],
          [
           1131,
           "Safe (1995)",
           1995,
           13
          ],
          [
           1132,
           "Feeling Minnesota (1996)",
           1996,
           32
          ],
          [
           1133,
           "Escape to Witch Mountain (1975)",
           1975,
           30
          ],
          [
           1134,
           "Get on the Bus (1996)",
           1996,
           38
          ],
          [
           1135,
           "Doors, The (1991)",
           1991,
           46
          ],
          [
           1136,
           "Ghosts of Mississippi (1996)",
           1996,
           29
          ],
          [
           1137,
           "Beautiful Thing (1996)",
           1996,
           29
          ],
          [
           1138,
           "Best Men (1997)",
           1997,
           5
          ],
          [
           1139,
           "Hackers (1995)",
           1995,
           33
          ],
          [
           1140,
           "Road to Wellville, The (1994)",
           1994,
           17
          ],
          [
           1141,
           "War Room, The (1993)",
           1993,
           9
          ],
          [
           1142,
           "When We Were Kings (1996)",
           1997,
           44
          ],
          [
           1143,
           "Hard Eight (1996)",
           1997,
           15
          ],
          [
           1144,
           "Quiet Room, The (1996)",
           1997,
           3
          ],
          [
           1145,
           "Blue Chips (1994)",
           1994,
           9
          ],
          [
           1146,
           "Calendar Girl (1993)",
           1993,
           3
          ],
          [
           1147,
           "My Family (1995)",
           1995,
           21
          ],
          [
           1148,
           "Tom & Viv (1994)",
           1994,
           9
          ],
          [
           1149,
           "Walkabout (1971)",
           1971,
           26
          ],
          [
           1150,
           "Last Dance (1996)",
           1996,
           9
          ],
          [
           1151,
           "Original Gangstas (1996)",
           1996,
           7
          ],
          [
           1152,
           "In Love and War (1996)",
           1997,
           28
          ],
          [
           1153,
           "Backbeat (1993)",
           1993,
           19
          ],
          [
           1154,
           "Alphaville (1965)",
           1965,
           12
          ],
          [
           1155,
           "Rendezvous in Paris (Rendez-vous de Paris, Les) (1995)",
           1996,
           3
          ],
          [
           1156,
           "Cyclo (1995)",
           1996,
           1
          ],
          [
           1157,
           "Relic, The (1997)",
           1997,
           25
          ],
          [
           1158,
           "Fille seule, La (A Single Girl) (1995)",
           1996,
           4
          ],
          [
           1159,
           "Stalker (1979)",
           1979,
           11
          ],
          [
           1160,
           "Love! Valour! Compassion! (1997)",
           1997,
           26
          ],
          [
           1161,
           "Palookaville (1996)",
           1996,
           13
          ],
          [
           1162,
           "Phat Beach (1996)",
           1996,
           5
          ],
          [
           1163,
           "Portrait of a Lady, The (1996)",
           1996,
           25
          ],
          [
           1164,
           "Zeus and Roxanne (1997)",
           1997,
           6
          ],
          [
           1165,
           "Big Bully (1996)",
           1996,
           14
          ],
          [
           1166,
           "Love & Human Remains (1993)",
           1993,
           12
          ],
          [
           1167,
           "Sum of Us, The (1994)",
           1994,
           11
          ],
          [
           1168,
           "Little Buddha (1993)",
           1993,
           22
          ],
          [
           1169,
           "Fresh (1994)",
           1994,
           10
          ],
          [
           1170,
           "Spanking the Monkey (1994)",
           1994,
           27
          ],
          [
           1171,
           "Wild Reeds (1994)",
           1994,
           14
          ],
          [
           1172,
           "Women, The (1939)",
           1939,
           15
          ],
          [
           1173,
           "Bliss (1997)",
           1997,
           7
          ],
          [
           1174,
           "Caught (1996)",
           1996,
           8
          ],
          [
           1175,
           "Hugo Pool (1997)",
           1997,
           5
          ],
          [
           1176,
           "Welcome To Sarajevo (1997)",
           1997,
           22
          ],
          [
           1177,
           "Dunston Checks In (1996)",
           1996,
           7
          ],
          [
           1178,
           "Major Payne (1994)",
           1994,
           19
          ],
          [
           1179,
           "Man of the House (1995)",
           1995,
           9
          ],
          [
           1180,
           "I Love Trouble (1994)",
           1994,
           10
          ],
          [
           1181,
           "Low Down Dirty Shame, A (1994)",
           1994,
           10
          ],
          [
           1182,
           "Cops and Robbersons (1994)",
           1994,
           13
          ],
          [
           1183,
           "Cowboy Way, The (1994)",
           1994,
           19
          ],
          [
           1184,
           "Endless Summer 2, The (1994)",
           1994,
           10
          ],
          [
           1185,
           "In the Army Now (1994)",
           1994,
           18
          ],
          [
           1186,
           "Inkwell, The (1994)",
           1994,
           3
          ],
          [
           1187,
           "Switchblade Sisters (1975)",
           1975,
           13
          ],
          [
           1188,
           "Young Guns II (1990)",
           1990,
           44
          ],
          [
           1189,
           "Prefontaine (1997)",
           1997,
           3
          ],
          [
           1190,
           "That Old Feeling (1997)",
           1997,
           11
          ],
          [
           1191,
           "Letter From Death Row, A (1998)",
           1998,
           3
          ],
          [
           1192,
           "Boys of St. Vincent, The (1993)",
           1993,
           13
          ],
          [
           1193,
           "Before the Rain (Pred dozhdot) (1994)",
           1994,
           10
          ],
          [
           1194,
           "Once Were Warriors (1994)",
           1994,
           31
          ],
          [
           1195,
           "Strawberry and Chocolate (Fresa y chocolate) (1993)",
           1993,
           11
          ],
          [
           1196,
           "Savage Nights (Nuits fauves, Les) (1992)",
           1992,
           3
          ],
          [
           1197,
           "Family Thing, A (1996)",
           1996,
           45
          ],
          [
           1198,
           "Purple Noon (1960)",
           1960,
           7
          ],
          [
           1199,
           "Cemetery Man (Dellamorte Dellamore) (1994)",
           1996,
           23
          ],
          [
           1200,
           "Kim (1950)",
           1950,
           7
          ],
          [
           1201,
           "Marlene Dietrich: Shadow and Light (1996) ",
           1996,
           1
          ],
          [
           1202,
           "Maybe, Maybe Not (Bewegte Mann, Der) (1994)",
           1996,
           8
          ],
          [
           1203,
           "Top Hat (1935)",
           1935,
           21
          ],
          [
           1204,
           "To Be or Not to Be (1942)",
           1942,
           18
          ],
          [
           1205,
           "Secret Agent, The (1996)",
           1996,
           6
          ],
          [
           1206,
           "Amos & Andrew (1993)",
           1993,
           19
          ],
          [
           1207,
           "Jade (1995)",
           1995,
           17
          ],
          [
           1208,
           "Kiss of Death (1995)",
           1995,
           20
          ],
          [
           1209,
           "Mixed Nuts (1994)",
           1994,
           15
          ],
          [
           1210,
           "Virtuosity (1995)",
           1995,
           38
          ],
          [
           1211,
           "Blue Sky (1994)",
           1994,
           12
          ],
          [
           1212,
           "Flesh and Bone (1993)",
           1993,
           6
          ],
          [
           1213,
           "Guilty as Sin (1993)",
           1993,
           6
          ],
          [
           1214,
           "In the Realm of the Senses (Ai no corrida) (1976)",
           1976,
           9
          ],
          [
           1215,
           "Barb Wire (1996)",
           1996,
           30
          ],
          [
           1216,
           "Kissed (1996)",
           1997,
           6
          ],
          [
           1217,
           "Assassins (1995)",
           1995,
           39
          ],
          [
           1218,
           "Friday (1995)",
           1995,
           26
          ],
          [
           1219,
           "Goofy Movie, A (1995)",
           1995,
           20
          ],
          [
           1220,
           "Higher Learning (1995)",
           1995,
           30
          ],
          [
           1221,
           "When a Man Loves a Woman (1994)",
           1994,
           39
          ],
          [
           1222,
           "Judgment Night (1993)",
           1993,
           25
          ],
          [
           1223,
           "King of the Hill (1993)",
           1993,
           4
          ],
          [
           1224,
           "Scout, The (1994)",
           1994,
           12
          ],
          [
           1225,
           "Angus (1995)",
           1995,
           14
          ],
          [
           1226,
           "Night Falls on Manhattan (1997)",
           1997,
           32
          ],
          [
           1227,
           "Awfully Big Adventure, An (1995)",
           1995,
           8
          ],
          [
           1228,
           "Under Siege 2: Dark Territory (1995)",
           1995,
           48
          ],
          [
           1229,
           "Poison Ivy II (1995)",
           1995,
           13
          ],
          [
           1230,
           "Ready to Wear (Pret-A-Porter) (1994)",
           1994,
           18
          ],
          [
           1231,
           "Marked for Death (1990)",
           1990,
           22
          ],
          [
           1232,
           "Madonna: Truth or Dare (1991)",
           1991,
           17
          ],
          [
           1233,
           "Nénette et Boni (1996)",
           1996,
           6
          ],
          [
           1234,
           "Chairman of the Board (1998)",
           1998,
           8
          ],
          [
           1235,
           "Big Bang Theory, The (1994)",
           1994,
           1
          ],
          [
           1236,
           "Other Voices, Other Rooms (1997)",
           1997,
           1
          ],
          [
           1237,
           "Twisted (1996)",
           1996,
           6
          ],
          [
           1238,
           "Full Speed (1996)",
           1996,
           8
          ],
          [
           1239,
           "Cutthroat Island (1995)",
           1995,
           18
          ],
          [
           1240,
           "Ghost in the Shell (Kokaku kidotai) (1995)",
           1996,
           26
          ],
          [
           1241,
           "Van, The (1996)",
           1997,
           6
          ],
          [
           1242,
           "Old Lady Who Walked in the Sea, The (Vieille qui marchait dans la mer, La) (1991)",
           1991,
           5
          ],
          [
           1243,
           "Night Flier (1997)",
           1998,
           7
          ],
          [
           1244,
           "Metro (1997)",
           1997,
           36
          ],
          [
           1245,
           "Gridlock'd (1997)",
           1997,
           19
          ],
          [
           1246,
           "Bushwhacked (1995)",
           1995,
           7
          ],
          [
           1247,
           "Bad Girls (1994)",
           1994,
           6
          ],
          [
           1248,
           "Blink (1994)",
           1994,
           19
          ],
          [
           1249,
           "For Love or Money (1993)",
           1993,
           12
          ],
          [
           1250,
           "Best of the Best 3: No Turning Back (1995)",
           1995,
           6
          ],
          [
           1251,
           "A Chef in Love (1996)",
           1997,
           8
          ],
          [
           1252,
           "Contempt (Mépris, Le) (1963)",
           1997,
           9
          ],
          [
           1253,
           "Tie That Binds, The (1995)",
           1995,
           7
          ],
          [
           1254,
           "Gone Fishin' (1997)",
           1997,
           11
          ],
          [
           1255,
           "Broken English (1996)",
           1997,
           8
          ],
          [
           1256,
           "Designated Mourner, The (1997)",
           1997,
           3
          ],
          [
           1257,
           "Designated Mourner, The (1997)",
           1997,
           4
          ],
          [
           1258,
           "Trial and Error (1997)",
           1997,
           23
          ],
          [
           1259,
           "Pie in the Sky (1995)",
           1996,
           4
          ],
          [
           1260,
           "Total Eclipse (1995)",
           1995,
           4
          ],
          [
           1261,
           "Run of the Country, The (1995)",
           1995,
           4
          ],
          [
           1262,
           "Walking and Talking (1996)",
           1996,
           8
          ],
          [
           1263,
           "Foxfire (1996)",
           1996,
           15
          ],
          [
           1264,
           "Nothing to Lose (1994)",
           1996,
           7
          ],
          [
           1265,
           "Star Maps (1997)",
           1997,
           19
          ],
          [
           1266,
           "Bread and Chocolate (Pane e cioccolata) (1973)",
           1973,
           12
          ],
          [
           1267,
           "Clockers (1995)",
           1995,
           33
          ],
          [
           1268,
           "Bitter Moon (1992)",
           1992,
           10
          ],
          [
           1269,
           "Love in the Afternoon (1957)",
           1957,
           10
          ],
          [
           1270,
           "Life with Mikey (1993)",
           1993,
           7
          ],
          [
           1271,
           "North (1994)",
           1994,
           7
          ],
          [
           1272,
           "Talking About Sex (1994)",
           1994,
           5
          ],
          [
           1273,
           "Color of Night (1994)",
           1994,
           15
          ],
          [
           1274,
           "Robocop 3 (1993)",
           1993,
           11
          ],
          [
           1275,
           "Killer (Bulletproof Heart) (1994)",
           1994,
           4
          ],
          [
           1276,
           "Sunset Park (1996)",
           1996,
           8
          ],
          [
           1277,
           "Set It Off (1996)",
           1996,
           19
          ],
          [
           1278,
           "Selena (1997)",
           1997,
           16
          ],
          [
           1279,
           "Wild America (1997)",
           1997,
           9
          ],
          [
           1280,
           "Gang Related (1997)",
           1997,
           16
          ],
          [
           1281,
           "Manny & Lo (1996)",
           1996,
           13
          ],
          [
           1282,
           "Grass Harp, The (1995)",
           1996,
           9
          ],
          [
           1283,
           "Out to Sea (1997)",
           1997,
           19
          ],
          [
           1284,
           "Before and After (1996)",
           1996,
           26
          ],
          [
           1285,
           "Princess Caraboo (1994)",
           1994,
           15
          ],
          [
           1286,
           "Shall We Dance? (1937)",
           1937,
           17
          ],
          [
           1287,
           "Ed (1996)",
           1996,
           6
          ],
          [
           1288,
           "Denise Calls Up (1995)",
           1996,
           7
          ],
          [
           1289,
           "Jack and Sarah (1995)",
           1996,
           7
          ],
          [
           1290,
           "Country Life (1994)",
           1994,
           2
          ],
          [
           1291,
           "Celtic Pride (1996)",
           1996,
           15
          ],
          [
           1292,
           "Simple Wish, A (1997)",
           1997,
           3
          ],
          [
           1293,
           "Star Kid (1997)",
           1998,
           3
          ],
          [
           1294,
           "Ayn Rand: A Sense of Life (1997)",
           1998,
           7
          ],
          [
           1295,
           "Kicked in the Head (1997)",
           1997,
           7
          ],
          [
           1296,
           "Indian Summer (1996)",
           1996,
           20
          ],
          [
           1297,
           "Love Affair (1994)",
           1994,
           12
          ],
          [
           1298,
           "Band Wagon, The (1953)",
           1953,
           9
          ],
          [
           1299,
           "Penny Serenade (1941)",
           1941,
           8
          ],
          [
           1300,
           "'Til There Was You (1997)",
           1997,
           9
          ],
          [
           1301,
           "Stripes (1981)",
           1981,
           5
          ],
          [
           1302,
           "Late Bloomers (1996)",
           1997,
           5
          ],
          [
           1303,
           "Getaway, The (1994)",
           1994,
           18
          ],
          [
           1304,
           "New York Cop (1996)",
           1996,
           2
          ],
          [
           1305,
           "National Lampoon's Senior Trip (1995)",
           1995,
           7
          ],
          [
           1306,
           "Delta of Venus (1994)",
           1994,
           2
          ],
          [
           1307,
           "Carmen Miranda: Bananas Is My Business (1994)",
           1994,
           2
          ],
          [
           1308,
           "Babyfever (1994)",
           1994,
           2
          ],
          [
           1309,
           "Very Natural Thing, A (1974)",
           1974,
           1
          ],
          [
           1310,
           "Walk in the Sun, A (1945)",
           1945,
           1
          ],
          [
           1311,
           "Waiting to Exhale (1995)",
           1996,
           16
          ],
          [
           1312,
           "Pompatus of Love, The (1996)",
           1996,
           7
          ],
          [
           1313,
           "Palmetto (1998)",
           1998,
           14
          ],
          [
           1314,
           "Surviving the Game (1994)",
           1994,
           11
          ],
          [
           1315,
           "Inventing the Abbotts (1997)",
           1997,
           23
          ],
          [
           1316,
           "Horse Whisperer, The (1998)",
           1997,
           7
          ],
          [
           1317,
           "Journey of August King, The (1995)",
           1996,
           4
          ],
          [
           1318,
           "Catwalk (1995)",
           1996,
           3
          ],
          [
           1319,
           "Neon Bible, The (1995)",
           1996,
           4
          ],
          [
           1320,
           "Homage (1995)",
           1996,
           1
          ],
          [
           1321,
           "Open Season (1996)",
           1996,
           2
          ],
          [
           1322,
           "Metisse (Café au Lait) (1993)",
           1993,
           6
          ],
          [
           1323,
           "Wooden Man's Bride, The (Wu Kui) (1994)",
           1994,
           3
          ],
          [
           1324,
           "Loaded (1994)",
           1996,
           5
          ],
          [
           1325,
           "August (1996)",
           1996,
           1
          ],
          [
           1326,
           "Boys (1996)",
           1996,
           6
          ],
          [
           1327,
           "Captives (1994)",
           1994,
           3
          ],
          [
           1328,
           "Of Love and Shadows (1994)",
           1996,
           6
          ],
          [
           1329,
           "Low Life, The (1994)",
           1996,
           1
          ],
          [
           1330,
           "An Unforgettable Summer (1994)",
           1994,
           4
          ],
          [
           1331,
           "Last Klezmer: Leopold Kozlowski, His Life and Music, The (1995)",
           1995,
           4
          ],
          [
           1332,
           "My Life and Times With Antonin Artaud (En compagnie d'Antonin Artaud) (1993)",
           1993,
           2
          ],
          [
           1333,
           "Midnight Dancers (Sibak) (1994)",
           1994,
           5
          ],
          [
           1334,
           "Somebody to Love (1994)",
           1996,
           2
          ],
          [
           1335,
           "American Buffalo (1996)",
           1996,
           11
          ],
          [
           1336,
           "Kazaam (1996)",
           1996,
           10
          ],
          [
           1337,
           "Larger Than Life (1996)",
           1996,
           9
          ],
          [
           1338,
           "Two Deaths (1995)",
           1996,
           4
          ],
          [
           1339,
           "Stefano Quantestorie (1993)",
           1993,
           1
          ],
          [
           1340,
           "Crude Oasis, The (1995)",
           1995,
           1
          ],
          [
           1341,
           "Hedd Wyn (1992)",
           1992,
           1
          ],
          [
           1342,
           "Convent, The (Convento, O) (1995)",
           1996,
           2
          ],
          [
           1343,
           "Lotto Land (1995)",
           1995,
           1
          ],
          [
           1344,
           "Story of Xinghua, The (1993)",
           1993,
           5
          ],
          [
           1345,
           "Day the Sun Turned Cold, The (Tianguo niezi) (1994)",
           1994,
           2
          ],
          [
           1346,
           "Dingo (1992)",
           1992,
           5
          ],
          [
           1347,
           "Ballad of Narayama, The (Narayama Bushiko) (1958)",
           1958,
           4
          ],
          [
           1348,
           "Every Other Weekend (1990)",
           1990,
           1
          ],
          [
           1349,
           "Mille bolle blu (1993)",
           1993,
           1
          ],
          [
           1350,
           "Crows and Sparrows (1949)",
           1949,
           2
          ],
          [
           1351,
           "Lover's Knot (1996)",
           1996,
           3
          ],
          [
           1352,
           "Shadow of Angels (Schatten der Engel) (1976)",
           1976,
           1
          ],
          [
           1353,
           "1-900 (1994)",
           1994,
           5
          ],
          [
           1354,
           "Venice/Venice (1992)",
           1992,
           2
          ],
          [
           1355,
           "Infinity (1996)",
           1996,
           6
          ],
          [
           1356,
           "Ed's Next Move (1996)",
           1996,
           3
          ],
          [
           1357,
           "For the Moment (1994)",
           1994,
           3
          ],
          [
           1358,
           "The Deadly Cure (1996)",
           1996,
           2
          ],
          [
           1359,
           "Boys in Venice (1996)",
           1996,
           2
          ],
          [
           1360,
           "Sexual Life of the Belgians, The (1994)",
           1994,
           2
          ],
          [
           1361,
           "Search for One-eye Jimmy, The (1996)",
           1996,
           3
          ],
          [
           1362,
           "American Strays (1996)",
           1996,
           2
          ],
          [
           1363,
           "Leopard Son, The (1996)",
           1996,
           1
          ],
          [
           1364,
           "Bird of Prey (1996)",
           1996,
           1
          ],
          [
           1365,
           "Johnny 100 Pesos (1993)",
           1993,
           2
          ],
          [
           1366,
           "JLG/JLG - autoportrait de décembre (1994)",
           1994,
           1
          ],
          [
           1367,
           "Faust (1994)",
           1994,
           5
          ],
          [
           1368,
           "Mina Tannenbaum (1994)",
           1994,
           6
          ],
          [
           1369,
           "Forbidden Christ, The (Cristo proibito, Il) (1950)",
           1950,
           4
          ],
          [
           1370,
           "I Can't Sleep (J'ai pas sommeil) (1994)",
           1994,
           3
          ],
          [
           1371,
           "Machine, The (1994)",
           1994,
           2
          ],
          [
           1372,
           "Stranger, The (1994)",
           1994,
           3
          ],
          [
           1373,
           "Good Morning (1971)",
           1971,
           1
          ],
          [
           1374,
           "Falling in Love Again (1980)",
           1980,
           2
          ],
          [
           1375,
           "Cement Garden, The (1993)",
           1993,
           10
          ],
          [
           1376,
           "Meet Wally Sparks (1997)",
           1997,
           7
          ],
          [
           1377,
           "Hotel de Love (1996)",
           1997,
           4
          ],
          [
           1378,
           "Rhyme & Reason (1997)",
           1997,
           5
          ],
          [
           1379,
           "Love and Other Catastrophes (1996)",
           1997,
           7
          ],
          [
           1380,
           "Hollow Reed (1996)",
           1997,
           6
          ],
          [
           1381,
           "Losing Chase (1996)",
           1996,
           8
          ],
          [
           1382,
           "Bonheur, Le (1965)",
           1997,
           4
          ],
          [
           1383,
           "Second Jungle Book: Mowgli & Baloo, The (1997)",
           1997,
           6
          ],
          [
           1384,
           "Squeeze (1996)",
           1997,
           3
          ],
          [
           1385,
           "Roseanna's Grave (For Roseanna) (1997)",
           1997,
           5
          ],
          [
           1386,
           "Tetsuo II: Body Hammer (1992)",
           1997,
           6
          ],
          [
           1387,
           "Fall (1997)",
           1997,
           3
          ],
          [
           1388,
           "Gabbeh (1996)",
           1997,
           6
          ],
          [
           1389,
           "Mondo (1996)",
           1997,
           3
          ],
          [
           1390,
           "Innocent Sleep, The (1995)",
           1997,
           2
          ],
          [
           1391,
           "For Ever Mozart (1996)",
           1997,
           3
          ],
          [
           1392,
           "Locusts, The (1997)",
           1997,
           5
          ],
          [
           1393,
           "Stag (1997)",
           1997,
           9
          ],
          [
           1394,
           "Swept from the Sea (1997)",
           1997,
           7
          ],
          [
           1395,
           "Hurricane Streets (1998)",
           1998,
           6
          ],
          [
           1396,
           "Stonewall (1995)",
           1996,
           5
          ],
          [
           1397,
           "Of Human Bondage (1934)",
           1934,
           5
          ],
          [
           1398,
           "Anna (1996)",
           1996,
           2
          ],
          [
           1399,
           "Stranger in the House (1997)",
           1997,
           7
          ],
          [
           1400,
           "Picture Bride (1995)",
           1995,
           10
          ],
          [
           1401,
           "M. Butterfly (1993)",
           1993,
           18
          ],
          [
           1402,
           "Ciao, Professore! (1993)",
           1993,
           4
          ],
          [
           1403,
           "Caro Diario (Dear Diary) (1994)",
           1994,
           4
          ],
          [
           1404,
           "Withnail and I (1987)",
           1987,
           13
          ],
          [
           1405,
           "Boy's Life 2 (1997)",
           1997,
           6
          ],
          [
           1406,
           "When Night Is Falling (1995)",
           1995,
           5
          ],
          [
           1407,
           "Specialist, The (1994)",
           1994,
           20
          ],
          [
           1408,
           "Gordy (1995)",
           1995,
           3
          ],
          [
           1409,
           "Swan Princess, The (1994)",
           1994,
           7
          ],
          [
           1410,
           "Harlem (1993)",
           1993,
           4
          ],
          [
           1411,
           "Barbarella (1968)",
           1968,
           28
          ],
          [
           1412,
           "Land Before Time III: The Time of the Great Giving (1995) (V)",
           1995,
           6
          ],
          [
           1413,
           "Street Fighter (1994)",
           1994,
           8
          ],
          [
           1414,
           "Coldblooded (1995)",
           1995,
           1
          ],
          [
           1415,
           "Next Karate Kid, The (1994)",
           1994,
           9
          ],
          [
           1416,
           "No Escape (1994)",
           1994,
           5
          ],
          [
           1417,
           "Turning, The (1992)",
           1997,
           2
          ],
          [
           1418,
           "Joy Luck Club, The (1993)",
           1993,
           3
          ],
          [
           1419,
           "Highlander III: The Sorcerer (1994)",
           1994,
           16
          ],
          [
           1420,
           "Gilligan's Island: The Movie (1998)",
           1997,
           3
          ],
          [
           1421,
           "My Crazy Life (Mi vida loca) (1993)",
           1993,
           11
          ],
          [
           1422,
           "Suture (1993)",
           1993,
           4
          ],
          [
           1423,
           "Walking Dead, The (1995)",
           1995,
           4
          ],
          [
           1424,
           "I Like It Like That (1994)",
           1994,
           3
          ],
          [
           1425,
           "I'll Do Anything (1994)",
           1994,
           10
          ],
          [
           1426,
           "Grace of My Heart (1996)",
           1996,
           8
          ],
          [
           1427,
           "Drunks (1995)",
           1996,
           5
          ],
          [
           1428,
           "SubUrbia (1997)",
           1997,
           12
          ],
          [
           1429,
           "Sliding Doors (1998)",
           1998,
           4
          ],
          [
           1430,
           "Ill Gotten Gains (1997)",
           1997,
           3
          ],
          [
           1431,
           "Legal Deceit (1997)",
           1997,
           5
          ],
          [
           1432,
           "Mighty, The (1998)",
           1998,
           3
          ],
          [
           1433,
           "Men of Means (1998)",
           1997,
           2
          ],
          [
           1434,
           "Shooting Fish (1997)",
           1998,
           10
          ],
          [
           1435,
           "Steal Big, Steal Little (1995)",
           1995,
           7
          ],
          [
           1436,
           "Mr. Jones (1993)",
           1993,
           2
          ],
          [
           1437,
           "House Party 3 (1994)",
           1994,
           9
          ],
          [
           1438,
           "Panther (1995)",
           1995,
           5
          ],
          [
           1439,
           "Jason's Lyric (1994)",
           1994,
           8
          ],
          [
           1440,
           "Above the Rim (1994)",
           1994,
           5
          ],
          [
           1441,
           "Moonlight and Valentino (1995)",
           1995,
           7
          ],
          [
           1442,
           "Scarlet Letter, The (1995)",
           1995,
           5
          ],
          [
           1443,
           "8 Seconds (1994)",
           1994,
           4
          ],
          [
           1444,
           "That Darn Cat! (1965)",
           1965,
           19
          ],
          [
           1445,
           "Ladybird Ladybird (1994)",
           1994,
           4
          ],
          [
           1446,
           "Bye Bye, Love (1995)",
           1995,
           15
          ],
          [
           1447,
           "Century (1993)",
           1993,
           1
          ],
          [
           1448,
           "My Favorite Season (1993)",
           1996,
           3
          ],
          [
           1449,
           "Pather Panchali (1955)",
           1996,
           8
          ],
          [
           1450,
           "Golden Earrings (1947)",
           1947,
           2
          ],
          [
           1451,
           "Foreign Correspondent (1940)",
           1940,
           15
          ],
          [
           1452,
           "Lady of Burlesque (1943)",
           1943,
           1
          ],
          [
           1453,
           "Angel on My Shoulder (1946)",
           1946,
           1
          ],
          [
           1454,
           "Angel and the Badman (1947)",
           1947,
           6
          ],
          [
           1455,
           "Outlaw, The (1943)",
           1943,
           2
          ],
          [
           1456,
           "Beat the Devil (1954)",
           1954,
           7
          ],
          [
           1457,
           "Love Is All There Is (1996)",
           1996,
           1
          ],
          [
           1458,
           "Damsel in Distress, A (1937)",
           1937,
           1
          ],
          [
           1459,
           "Madame Butterfly (1995)",
           1996,
           7
          ],
          [
           1460,
           "Sleepover (1995)",
           1996,
           1
          ],
          [
           1461,
           "Here Comes Cookie (1935)",
           1935,
           1
          ],
          [
           1462,
           "Thieves (Voleurs, Les) (1996)",
           1996,
           7
          ],
          [
           1463,
           "Boys, Les (1997)",
           1997,
           3
          ],
          [
           1464,
           "Stars Fell on Henrietta, The (1995)",
           1995,
           3
          ],
          [
           1465,
           "Last Summer in the Hamptons (1995)",
           1995,
           3
          ],
          [
           1466,
           "Margaret's Museum (1995)",
           1995,
           6
          ],
          [
           1467,
           "Saint of Fort Washington, The (1993)",
           1993,
           2
          ],
          [
           1468,
           "Cure, The (1995)",
           1995,
           6
          ],
          [
           1469,
           "Tom and Huck (1995)",
           1995,
           12
          ],
          [
           1470,
           "Gumby: The Movie (1995)",
           1995,
           5
          ],
          [
           1471,
           "Hideaway (1995)",
           1995,
           9
          ],
          [
           1472,
           "Visitors, The (Visiteurs, Les) (1993)",
           1996,
           2
          ],
          [
           1473,
           "Little Princess, The (1939)",
           1939,
           9
          ],
          [
           1474,
           "Nina Takes a Lover (1994)",
           1994,
           6
          ],
          [
           1475,
           "Bhaji on the Beach (1993)",
           1993,
           8
          ],
          [
           1476,
           "Raw Deal (1948)",
           1948,
           1
          ],
          [
           1477,
           "Nightwatch (1997)",
           1997,
           2
          ],
          [
           1478,
           "Dead Presidents (1995)",
           1995,
           18
          ],
          [
           1479,
           "Reckless (1995)",
           1995,
           8
          ],
          [
           1480,
           "Herbie Rides Again (1974)",
           1974,
           11
          ],
          [
           1481,
           "S.F.W. (1994)",
           1994,
           2
          ],
          [
           1482,
           "Gate of Heavenly Peace, The (1995)",
           1996,
           1
          ],
          [
           1483,
           "Man in the Iron Mask, The (1998)",
           1998,
           12
          ],
          [
           1484,
           "Jerky Boys, The (1994)",
           1994,
           3
          ],
          [
           1485,
           "Colonel Chabert, Le (1994)",
           1994,
           4
          ],
          [
           1486,
           "Girl in the Cadillac (1995)",
           1995,
           1
          ],
          [
           1487,
           "Even Cowgirls Get the Blues (1993)",
           1993,
           5
          ],
          [
           1488,
           "Germinal (1993)",
           1993,
           4
          ],
          [
           1489,
           "Chasers (1994)",
           1994,
           5
          ],
          [
           1490,
           "Fausto (1993)",
           1993,
           3
          ],
          [
           1491,
           "Tough and Deadly (1995)",
           1995,
           2
          ],
          [
           1492,
           "Window to Paris (1994)",
           1994,
           1
          ],
          [
           1493,
           "Modern Affair, A (1995)",
           1996,
           1
          ],
          [
           1494,
           "Mostro, Il (1994)",
           1996,
           1
          ],
          [
           1495,
           "Flirt (1995)",
           1996,
           5
          ],
          [
           1496,
           "Carpool (1996)",
           1996,
           5
          ],
          [
           1497,
           "Line King: Al Hirschfeld, The (1996)",
           1996,
           2
          ],
          [
           1498,
           "Farmer & Chase (1995)",
           1997,
           1
          ],
          [
           1499,
           "Grosse Fatigue (1994)",
           1994,
           4
          ],
          [
           1500,
           "Santa with Muscles (1996)",
           1996,
           2
          ],
          [
           1501,
           "Prisoner of the Mountains (Kavkazsky Plennik) (1996)",
           1997,
           5
          ],
          [
           1502,
           "Naked in New York (1994)",
           1994,
           2
          ],
          [
           1503,
           "Gold Diggers: The Secret of Bear Mountain (1995)",
           1995,
           10
          ],
          [
           1504,
           "Bewegte Mann, Der (1994)",
           1996,
           3
          ],
          [
           1505,
           "Killer: A Journal of Murder (1995)",
           1996,
           1
          ],
          [
           1506,
           "Nelly & Monsieur Arnaud (1995)",
           1996,
           3
          ],
          [
           1507,
           "Three Lives and Only One Death (1996)",
           1996,
           1
          ],
          [
           1508,
           "Babysitter, The (1995)",
           1995,
           3
          ],
          [
           1509,
           "Getting Even with Dad (1994)",
           1994,
           5
          ],
          [
           1510,
           "Mad Dog Time (1996)",
           1996,
           1
          ],
          [
           1511,
           "Children of the Revolution (1996)",
           1997,
           5
          ],
          [
           1512,
           "World of Apu, The (Apur Sansar) (1959)",
           1996,
           6
          ],
          [
           1513,
           "Sprung (1997)",
           1997,
           3
          ],
          [
           1514,
           "Dream With the Fishes (1997)",
           1997,
           7
          ],
          [
           1515,
           "Wings of Courage (1995)",
           1995,
           1
          ],
          [
           1516,
           "Wedding Gift, The (1994)",
           1994,
           3
          ],
          [
           1517,
           "Race the Sun (1996)",
           1996,
           5
          ],
          [
           1518,
           "Losing Isaiah (1995)",
           1995,
           12
          ],
          [
           1519,
           "New Jersey Drive (1995)",
           1995,
           2
          ],
          [
           1520,
           "Fear, The (1995)",
           1995,
           1
          ],
          [
           1521,
           "Mr. Wonderful (1993)",
           1993,
           4
          ],
          [
           1522,
           "Trial by Jury (1994)",
           1994,
           7
          ],
          [
           1523,
           "Good Man in Africa, A (1994)",
           1994,
           2
          ],
          [
           1524,
           "Kaspar Hauser (1993)",
           1996,
           8
          ],
          [
           1525,
           "Object of My Affection, The (1998)",
           1998,
           1
          ],
          [
           1526,
           "Witness (1985)",
           1985,
           1
          ],
          [
           1527,
           "Senseless (1998)",
           1998,
           7
          ],
          [
           1528,
           "Nowhere (1997)",
           1997,
           3
          ],
          [
           1529,
           "Underground (1995)",
           1996,
           5
          ],
          [
           1530,
           "Jefferson in Paris (1995)",
           1995,
           5
          ],
          [
           1531,
           "Far From Home: The Adventures of Yellow Dog (1995)",
           1995,
           7
          ],
          [
           1532,
           "Foreign Student (1994)",
           1994,
           2
          ],
          [
           1533,
           "I Don't Want to Talk About It (De eso no se habla) (1993)",
           1993,
           1
          ],
          [
           1534,
           "Twin Town (1997)",
           1997,
           6
          ],
          [
           1535,
           "Enfer, L' (1994)",
           1994,
           4
          ],
          [
           1536,
           "Aiqing wansui (1994)",
           1996,
           1
          ],
          [
           1537,
           "Cosi (1996)",
           1997,
           4
          ],
          [
           1538,
           "All Over Me (1997)",
           1997,
           3
          ],
          [
           1539,
           "Being Human (1993)",
           1993,
           4
          ],
          [
           1540,
           "Amazing Panda Adventure, The (1995)",
           1995,
           10
          ],
          [
           1541,
           "Beans of Egypt, Maine, The (1994)",
           1994,
           2
          ],
          [
           1542,
           "Scarlet Letter, The (1926)",
           1926,
           2
          ],
          [
           1543,
           "Johns (1996)",
           1996,
           1
          ],
          [
           1544,
           "It Takes Two (1995)",
           1995,
           3
          ],
          [
           1545,
           "Frankie Starlight (1995)",
           1995,
           4
          ],
          [
           1546,
           "Shadows (Cienie) (1988)",
           1988,
           1
          ],
          [
           1547,
           "Show, The (1995)",
           1995,
           2
          ],
          [
           1548,
           "The Courtyard (1995)",
           1995,
           1
          ],
          [
           1549,
           "Dream Man (1995)",
           1995,
           2
          ],
          [
           1550,
           "Destiny Turns on the Radio (1995)",
           1995,
           2
          ],
          [
           1551,
           "Glass Shield, The (1994)",
           1994,
           2
          ],
          [
           1552,
           "Hunted, The (1995)",
           1995,
           3
          ],
          [
           1553,
           "Underneath, The (1995)",
           1995,
           4
          ],
          [
           1554,
           "Safe Passage (1994)",
           1994,
           2
          ],
          [
           1555,
           "Secret Adventures of Tom Thumb, The (1993)",
           1993,
           5
          ],
          [
           1556,
           "Condition Red (1995)",
           1995,
           2
          ],
          [
           1557,
           "Yankee Zulu (1994)",
           1996,
           1
          ],
          [
           1558,
           "Aparajito (1956)",
           1996,
           7
          ],
          [
           1559,
           "Hostile Intentions (1994)",
           1994,
           1
          ],
          [
           1560,
           "Clean Slate (Coup de Torchon) (1981)",
           1981,
           4
          ],
          [
           1561,
           "Tigrero: A Film That Was Never Made (1994)",
           1994,
           1
          ],
          [
           1562,
           "Eye of Vichy, The (Oeil de Vichy, L') (1993)",
           1993,
           1
          ],
          [
           1563,
           "Promise, The (Versprechen, Das) (1994)",
           1994,
           1
          ],
          [
           1564,
           "To Cross the Rubicon (1991)",
           1991,
           1
          ],
          [
           1565,
           "Daens (1992)",
           1992,
           1
          ],
          [
           1566,
           "Man from Down Under, The (1943)",
           1943,
           1
          ],
          [
           1567,
           "Careful (1992)",
           1992,
           1
          ],
          [
           1568,
           "Vermont Is For Lovers (1992)",
           1992,
           1
          ],
          [
           1569,
           "Vie est belle, La (Life is Rosey) (1987)",
           1987,
           1
          ],
          [
           1570,
           "Quartier Mozart (1992)",
           1992,
           1
          ],
          [
           1571,
           "Touki Bouki (Journey of the Hyena) (1973)",
           1973,
           1
          ],
          [
           1572,
           "Wend Kuuni (God's Gift) (1982)",
           1982,
           1
          ],
          [
           1573,
           "Spirits of the Dead (Tre passi nel delirio) (1968)",
           1968,
           2
          ],
          [
           1574,
           "Pharaoh's Army (1995)",
           1995,
           1
          ],
          [
           1575,
           "I, Worst of All (Yo, la peor de todas) (1990)",
           1990,
           1
          ],
          [
           1576,
           "Hungarian Fairy Tale, A (1987)",
           1987,
           1
          ],
          [
           1577,
           "Death in the Garden (Mort en ce jardin, La) (1956)",
           1956,
           1
          ],
          [
           1578,
           "Collectionneuse, La (1967)",
           1967,
           2
          ],
          [
           1579,
           "Baton Rouge (1988)",
           1988,
           1
          ],
          [
           1580,
           "Liebelei (1933)",
           1933,
           1
          ],
          [
           1581,
           "Woman in Question, The (1950)",
           1950,
           1
          ],
          [
           1582,
           "T-Men (1947)",
           1947,
           1
          ],
          [
           1583,
           "Invitation, The (Zaproszenie) (1986)",
           1986,
           1
          ],
          [
           1584,
           "Symphonie pastorale, La (1946)",
           1946,
           1
          ],
          [
           1585,
           "American Dream (1990)",
           1990,
           2
          ],
          [
           1586,
           "Lashou shentan (1992)",
           1992,
           1
          ],
          [
           1587,
           "Terror in a Texas Town (1958)",
           1958,
           1
          ],
          [
           1588,
           "Salut cousin! (1996)",
           1997,
           2
          ],
          [
           1589,
           "Schizopolis (1996)",
           1997,
           4
          ],
          [
           1590,
           "To Have, or Not (1995)",
           1997,
           2
          ],
          [
           1591,
           "Duoluo tianshi (1995)",
           1998,
           6
          ],
          [
           1592,
           "Magic Hour, The (1998)",
           1998,
           5
          ],
          [
           1593,
           "Death in Brunswick (1991)",
           1996,
           1
          ],
          [
           1594,
           "Everest (1998)",
           1998,
           2
          ],
          [
           1595,
           "Shopping (1994)",
           1996,
           1
          ],
          [
           1596,
           "Nemesis 2: Nebula (1995)",
           1995,
           1
          ],
          [
           1597,
           "Romper Stomper (1992)",
           1992,
           5
          ],
          [
           1598,
           "City of Industry (1997)",
           1997,
           6
          ],
          [
           1599,
           "Someone Else's America (1995)",
           1996,
           1
          ],
          [
           1600,
           "Guantanamera (1994)",
           1997,
           4
          ],
          [
           1601,
           "Office Killer (1997)",
           1997,
           1
          ],
          [
           1602,
           "Price Above Rubies, A (1998)",
           1998,
           3
          ],
          [
           1603,
           "Angela (1995)",
           1996,
           1
          ],
          [
           1604,
           "He Walked by Night (1948)",
           1948,
           1
          ],
          [
           1605,
           "Love Serenade (1996)",
           1997,
           4
          ],
          [
           1606,
           "Deceiver (1997)",
           1997,
           1
          ],
          [
           1607,
           "Hurricane Streets (1998)",
           1998,
           3
          ],
          [
           1608,
           "Buddy (1997)",
           1997,
           4
          ],
          [
           1609,
           "B*A*P*S (1997)",
           1997,
           3
          ],
          [
           1610,
           "Truth or Consequences, N.M. (1997)",
           1997,
           3
          ],
          [
           1611,
           "Intimate Relations (1996)",
           1997,
           2
          ],
          [
           1612,
           "Leading Man, The (1996)",
           1998,
           4
          ],
          [
           1613,
           "Tokyo Fist (1995)",
           1998,
           1
          ],
          [
           1614,
           "Reluctant Debutante, The (1958)",
           1958,
           1
          ],
          [
           1615,
           "Warriors of Virtue (1997)",
           1997,
           10
          ],
          [
           1616,
           "Desert Winds (1995)",
           1995,
           1
          ],
          [
           1617,
           "Hugo Pool (1997)",
           1997,
           2
          ],
          [
           1618,
           "King of New York (1990)",
           1990,
           1
          ],
          [
           1619,
           "All Things Fair (1996)",
           1996,
           1
          ],
          [
           1620,
           "Sixth Man, The (1997)",
           1997,
           9
          ],
          [
           1621,
           "Butterfly Kiss (1995)",
           1996,
           1
          ],
          [
           1622,
           "Paris, France (1993)",
           1993,
           3
          ],
          [
           1623,
           "Cérémonie, La (1995)",
           1996,
           3
          ],
          [
           1624,
           "Hush (1998)",
           1998,
           1
          ],
          [
           1625,
           "Nightwatch (1997)",
           1997,
           1
          ],
          [
           1626,
           "Nobody Loves Me (Keiner liebt mich) (1994)",
           1996,
           1
          ],
          [
           1627,
           "Wife, The (1995)",
           1996,
           1
          ],
          [
           1628,
           "Lamerica (1994)",
           1994,
           4
          ],
          [
           1629,
           "Nico Icon (1995)",
           1995,
           2
          ],
          [
           1630,
           "Silence of the Palace, The (Saimt el Qusur) (1994)",
           1996,
           1
          ],
          [
           1631,
           "Slingshot, The (1993)",
           1993,
           2
          ],
          [
           1632,
           "Land and Freedom (Tierra y libertad) (1995)",
           1996,
           1
          ],
          [
           1633,
           "Á köldum klaka (Cold Fever) (1994)",
           1996,
           1
          ],
          [
           1634,
           "Etz Hadomim Tafus (Under the Domin Tree) (1994)",
           1996,
           1
          ],
          [
           1635,
           "Two Friends (1986) ",
           1986,
           1
          ],
          [
           1636,
           "Brothers in Trouble (1995)",
           1996,
           1
          ],
          [
           1637,
           "Girls Town (1996)",
           1996,
           1
          ],
          [
           1638,
           "Normal Life (1996)",
           1996,
           1
          ],
          [
           1639,
           "Bitter Sugar (Azucar Amargo) (1996)",
           1996,
           3
          ],
          [
           1640,
           "Eighth Day, The (1996)",
           1996,
           1
          ],
          [
           1641,
           "Dadetown (1995)",
           1996,
           1
          ],
          [
           1642,
           "Some Mother's Son (1996)",
           1996,
           2
          ],
          [
           1643,
           "Angel Baby (1995)",
           1997,
           4
          ],
          [
           1644,
           "Sudden Manhattan (1996)",
           1997,
           2
          ],
          [
           1645,
           "Butcher Boy, The (1998)",
           1998,
           1
          ],
          [
           1646,
           "Men With Guns (1997)",
           1998,
           2
          ],
          [
           1647,
           "Hana-bi (1997)",
           1998,
           1
          ],
          [
           1648,
           "Niagara, Niagara (1997)",
           1998,
           1
          ],
          [
           1649,
           "Big One, The (1997)",
           1998,
           1
          ],
          [
           1650,
           "Butcher Boy, The (1998)",
           1998,
           1
          ],
          [
           1651,
           "Spanish Prisoner, The (1997)",
           1998,
           1
          ],
          [
           1652,
           "Temptress Moon (Feng Yue) (1996)",
           1997,
           3
          ],
          [
           1653,
           "Entertaining Angels: The Dorothy Day Story (1996)",
           1996,
           1
          ],
          [
           1654,
           "Chairman of the Board (1998)",
           1998,
           1
          ],
          [
           1655,
           "Favor, The (1994)",
           1994,
           1
          ],
          [
           1656,
           "Little City (1998)",
           1998,
           2
          ],
          [
           1657,
           "Target (1995)",
           1996,
           1
          ],
          [
           1658,
           "Substance of Fire, The (1996)",
           1996,
           3
          ],
          [
           1659,
           "Getting Away With Murder (1996)",
           1996,
           1
          ],
          [
           1660,
           "Small Faces (1995)",
           1996,
           1
          ],
          [
           1661,
           "New Age, The (1994)",
           1994,
           1
          ],
          [
           1662,
           "Rough Magic (1995)",
           1997,
           2
          ],
          [
           1663,
           "Nothing Personal (1995)",
           1997,
           1
          ],
          [
           1664,
           "8 Heads in a Duffel Bag (1997)",
           1997,
           4
          ],
          [
           1665,
           "Brother's Kiss, A (1997)",
           1997,
           1
          ],
          [
           1666,
           "Ripe (1996)",
           1997,
           1
          ],
          [
           1667,
           "Next Step, The (1995)",
           1997,
           1
          ],
          [
           1668,
           "Wedding Bell Blues (1996)",
           1997,
           1
          ],
          [
           1669,
           "MURDER and murder (1996)",
           1997,
           1
          ],
          [
           1670,
           "Tainted (1998)",
           1998,
           1
          ],
          [
           1671,
           "Further Gesture, A (1996)",
           1998,
           1
          ],
          [
           1672,
           "Kika (1993)",
           1993,
           2
          ],
          [
           1673,
           "Mirage (1995)",
           1995,
           1
          ],
          [
           1674,
           "Mamma Roma (1962)",
           1962,
           1
          ],
          [
           1675,
           "Sunchaser, The (1996)",
           1996,
           1
          ],
          [
           1676,
           "War at Home, The (1996)",
           1996,
           1
          ],
          [
           1677,
           "Sweet Nothing (1995)",
           1996,
           1
          ],
          [
           1678,
           "Mat' i syn (1997)",
           1998,
           1
          ],
          [
           1679,
           "B. Monkey (1998)",
           1998,
           1
          ],
          [
           1680,
           "Sliding Doors (1998)",
           1998,
           1
          ],
          [
           1681,
           "You So Crazy (1994)",
           1994,
           1
          ],
          [
           1682,
           "Scream of Stone (Schrei aus Stein) (1991)",
           1996,
           1
          ]
         ],
         "hovertemplate": "tsne_1=%{x}<br>tsne_2=%{y}<br>item_id=%{customdata[0]}<br>title=%{customdata[1]}<br>release_year=%{customdata[2]}<br>popularity=%{marker.color}<extra></extra>",
         "legendgroup": "",
         "marker": {
          "color": [
           452,
           131,
           90,
           209,
           86,
           26,
           392,
           219,
           299,
           89,
           236,
           267,
           184,
           183,
           293,
           39,
           92,
           10,
           69,
           72,
           84,
           297,
           182,
           174,
           293,
           73,
           57,
           276,
           114,
           37,
           154,
           81,
           97,
           7,
           11,
           13,
           8,
           120,
           87,
           57,
           37,
           148,
           40,
           79,
           80,
           27,
           133,
           117,
           81,
           583,
           81,
           91,
           128,
           104,
           149,
           394,
           40,
           175,
           83,
           64,
           59,
           127,
           82,
           283,
           115,
           162,
           103,
           134,
           321,
           251,
           220,
           129,
           128,
           7,
           5,
           54,
           151,
           33,
           336,
           68,
           110,
           261,
           176,
           18,
           58,
           150,
           138,
           213,
           275,
           95,
           143,
           104,
           112,
           137,
           219,
           295,
           256,
           390,
           172,
           508,
           73,
           54,
           15,
           5,
           74,
           71,
           42,
           65,
           130,
           31,
           272,
           20,
           9,
           67,
           15,
           125,
           378,
           293,
           4,
           67,
           429,
           106,
           115,
           187,
           244,
           97,
           413,
           65,
           129,
           23,
           95,
           246,
           171,
           198,
           259,
           105,
           171,
           19,
           50,
           61,
           72,
           57,
           222,
           243,
           65,
           10,
           185,
           128,
           23,
           157,
           326,
           82,
           247,
           174,
           98,
           148,
           127,
           60,
           101,
           69,
           220,
           106,
           92,
           151,
           64,
           58,
           67,
           316,
           118,
           121,
           65,
           367,
           324,
           420,
           208,
           284,
           137,
           125,
           221,
           221,
           507,
           226,
           291,
           116,
           239,
           251,
           209,
           170,
           66,
           124,
           276,
           116,
           157,
           241,
           301,
           251,
           239,
           127,
           165,
           206,
           89,
           280,
           182,
           350,
           136,
           50,
           66,
           200,
           191,
           331,
           206,
           92,
           134,
           114,
           212,
           290,
           120,
           171,
           111,
           66,
           74,
           365,
           136,
           44,
           109,
           166,
           161,
           244,
           171,
           199,
           142,
           101,
           124,
           280,
           217,
           45,
           384,
           256,
           150,
           156,
           128,
           117,
           132,
           48,
           240,
           124,
           5,
           160,
           130,
           197,
           46,
           158,
           26,
           62,
           172,
           16,
           303,
           509,
           162,
           127,
           43,
           66,
           19,
           101,
           227,
           35,
           9,
           255,
           315,
           136,
           211,
           198,
           223,
           190,
           268,
           298,
           71,
           60,
           28,
           85,
           146,
           232,
           177,
           193,
           162,
           481,
           78,
           478,
           259,
           96,
           127,
           114,
           147,
           485,
           77,
           6,
           50,
           194,
           73,
           431,
           230,
           297,
           134,
           149,
           87,
           96,
           188,
           30,
           28,
           145,
           75,
           80,
           350,
           5,
           160,
           112,
           102,
           298,
           168,
           20,
           169,
           218,
           240,
           125,
           128,
           175,
           175,
           295,
           45,
           41,
           113,
           143,
           251,
           64,
           21,
           43,
           18,
           91,
           47,
           189,
           11,
           52,
           124,
           55,
           65,
           126,
           137,
           27,
           31,
           41,
           20,
           26,
           14,
           72,
           41,
           97,
           264,
           143,
           18,
           10,
           10,
           28,
           47,
           37,
           48,
           47,
           170,
           31,
           55,
           39,
           67,
           34,
           39,
           11,
           23,
           24,
           13,
           101,
           43,
           116,
           100,
           111,
           31,
           69,
           208,
           87,
           65,
           28,
           27,
           10,
           59,
           68,
           192,
           12,
           56,
           54,
           12,
           26,
           89,
           18,
           76,
           170,
           201,
           101,
           344,
           49,
           43,
           112,
           70,
           162,
           163,
           93,
           55,
           62,
           25,
           64,
           73,
           129,
           178,
           81,
           106,
           26,
           300,
           19,
           85,
           32,
           219,
           121,
           97,
           93,
           153,
           174,
           171,
           67,
           216,
           99,
           5,
           6,
           5,
           14,
           53,
           4,
           162,
           46,
           22,
           9,
           121,
           85,
           117,
           63,
           170,
           66,
           16,
           16,
           145,
           48,
           27,
           90,
           24,
           28,
           74,
           148,
           71,
           27,
           85,
           52,
           48,
           64,
           67,
           108,
           221,
           158,
           126,
           194,
           250,
           160,
           95,
           104,
           179,
           179,
           63,
           128,
           243,
           138,
           125,
           64,
           68,
           65,
           52,
           50,
           67,
           59,
           60,
           56,
           59,
           231,
           68,
           152,
           62,
           31,
           123,
           57,
           39,
           122,
           68,
           90,
           98,
           215,
           121,
           121,
           173,
           57,
           72,
           180,
           201,
           63,
           91,
           89,
           80,
           124,
           120,
           35,
           164,
           46,
           73,
           124,
           195,
           121,
           93,
           80,
           129,
           22,
           15,
           13,
           54,
           10,
           30,
           66,
           44,
           43,
           49,
           51,
           21,
           71,
           12,
           254,
           41,
           12,
           92,
           151,
           24,
           45,
           63,
           102,
           10,
           12,
           17,
           70,
           137,
           22,
           59,
           48,
           29,
           27,
           22,
           179,
           35,
           230,
           67,
           50,
           28,
           29,
           33,
           15,
           44,
           93,
           41,
           92,
           19,
           32,
           59,
           168,
           37,
           79,
           39,
           34,
           14,
           202,
           43,
           18,
           178,
           9,
           12,
           5,
           64,
           127,
           206,
           4,
           1,
           2,
           20,
           50,
           209,
           81,
           31,
           66,
           66,
           30,
           60,
           41,
           40,
           34,
           27,
           51,
           59,
           64,
           18,
           18,
           64,
           43,
           11,
           39,
           39,
           22,
           82,
           4,
           75,
           169,
           77,
           31,
           119,
           58,
           69,
           24,
           23,
           91,
           38,
           44,
           40,
           82,
           33,
           89,
           4,
           35,
           27,
           38,
           70,
           67,
           50,
           72,
           171,
           90,
           34,
           147,
           227,
           44,
           131,
           79,
           115,
           153,
           88,
           82,
           116,
           46,
           100,
           5,
           12,
           6,
           13,
           36,
           46,
           65,
           86,
           48,
           54,
           77,
           1,
           219,
           107,
           34,
           27,
           100,
           49,
           169,
           157,
           50,
           69,
           44,
           87,
           155,
           16,
           164,
           91,
           44,
           13,
           79,
           40,
           10,
           102,
           15,
           10,
           53,
           19,
           24,
           137,
           6,
           70,
           101,
           104,
           79,
           1,
           51,
           72,
           13,
           87,
           58,
           82,
           16,
           29,
           86,
           54,
           58,
           34,
           76,
           16,
           14,
           63,
           45,
           81,
           24,
           39,
           180,
           15,
           27,
           137,
           78,
           59,
           31,
           164,
           63,
           58,
           267,
           39,
           92,
           16,
           119,
           102,
           316,
           51,
           124,
           180,
           39,
           24,
           57,
           96,
           128,
           4,
           21,
           11,
           46,
           44,
           115,
           149,
           29,
           32,
           9,
           11,
           52,
           42,
           57,
           41,
           49,
           17,
           32,
           26,
           9,
           4,
           76,
           31,
           69,
           84,
           10,
           37,
           2,
           39,
           14,
           13,
           3,
           47,
           66,
           10,
           86,
           10,
           46,
           21,
           36,
           31,
           9,
           5,
           26,
           16,
           40,
           9,
           8,
           27,
           50,
           9,
           31,
           43,
           45,
           18,
           18,
           56,
           1,
           112,
           21,
           3,
           25,
           40,
           93,
           22,
           4,
           82,
           49,
           83,
           80,
           57,
           13,
           34,
           1,
           91,
           22,
           49,
           25,
           15,
           26,
           25,
           4,
           4,
           53,
           48,
           27,
           30,
           42,
           176,
           44,
           55,
           9,
           53,
           4,
           4,
           1,
           14,
           16,
           66,
           36,
           1,
           3,
           15,
           16,
           3,
           18,
           24,
           86,
           21,
           119,
           6,
           5,
           24,
           9,
           75,
           42,
           81,
           39,
           53,
           47,
           52,
           33,
           136,
           59,
           45,
           34,
           13,
           7,
           13,
           53,
           64,
           15,
           13,
           43,
           6,
           53,
           14,
           19,
           106,
           44,
           2,
           58,
           9,
           42,
           12,
           42,
           18,
           20,
           27,
           21,
           2,
           20,
           13,
           4,
           4,
           9,
           2,
           11,
           13,
           18,
           7,
           8,
           96,
           5,
           46,
           34,
           58,
           85,
           34,
           101,
           6,
           104,
           40,
           80,
           57,
           40,
           21,
           68,
           7,
           32,
           37,
           25,
           60,
           32,
           46,
           45,
           40,
           43,
           40,
           61,
           17,
           48,
           71,
           30,
           39,
           45,
           22,
           11,
           49,
           46,
           2,
           14,
           64,
           25,
           34,
           23,
           41,
           9,
           21,
           26,
           12,
           18,
           75,
           8,
           34,
           28,
           4,
           32,
           44,
           12,
           49,
           27,
           35,
           22,
           8,
           20,
           15,
           44,
           22,
           23,
           4,
           86,
           32,
           33,
           25,
           4,
           66,
           7,
           31,
           14,
           16,
           16,
           10,
           10,
           17,
           8,
           8,
           9,
           22,
           23,
           47,
           37,
           64,
           44,
           93,
           100,
           38,
           98,
           12,
           137,
           50,
           32,
           31,
           35,
           38,
           32,
           31,
           15,
           44,
           4,
           3,
           148,
           14,
           20,
           7,
           16,
           32,
           27,
           68,
           24,
           24,
           17,
           90,
           25,
           62,
           28,
           8,
           40,
           25,
           46,
           134,
           73,
           25,
           43,
           41,
           25,
           24,
           23,
           10,
           10,
           22,
           15,
           35,
           39,
           29,
           12,
           41,
           4,
           53,
           16,
           44,
           12,
           18,
           27,
           16,
           7,
           66,
           77,
           7,
           12,
           8,
           22,
           45,
           2,
           8,
           8,
           6,
           21,
           11,
           21,
           10,
           13,
           38,
           37,
           43,
           12,
           23,
           12,
           29,
           3,
           18,
           42,
           13,
           8,
           74,
           7,
           19,
           4,
           18,
           4,
           18,
           5,
           28,
           41,
           7,
           15,
           22,
           10,
           29,
           13,
           19,
           47,
           59,
           17,
           21,
           1,
           3,
           12,
           4,
           32,
           11,
           13,
           28,
           1,
           13,
           32,
           30,
           38,
           46,
           29,
           29,
           5,
           33,
           17,
           9,
           44,
           15,
           3,
           9,
           3,
           21,
           9,
           26,
           9,
           7,
           28,
           19,
           12,
           3,
           1,
           25,
           4,
           11,
           26,
           13,
           5,
           25,
           6,
           14,
           12,
           11,
           22,
           10,
           27,
           14,
           15,
           7,
           8,
           5,
           22,
           7,
           19,
           9,
           10,
           10,
           13,
           19,
           10,
           18,
           3,
           13,
           44,
           3,
           11,
           3,
           13,
           10,
           31,
           11,
           3,
           45,
           7,
           23,
           7,
           1,
           8,
           21,
           18,
           6,
           19,
           17,
           20,
           15,
           38,
           12,
           6,
           6,
           9,
           30,
           6,
           39,
           26,
           20,
           30,
           39,
           25,
           4,
           12,
           14,
           32,
           8,
           48,
           13,
           18,
           22,
           17,
           6,
           8,
           1,
           1,
           6,
           8,
           18,
           26,
           6,
           5,
           7,
           36,
           19,
           7,
           6,
           19,
           12,
           6,
           8,
           9,
           7,
           11,
           8,
           3,
           4,
           23,
           4,
           4,
           4,
           8,
           15,
           7,
           19,
           12,
           33,
           10,
           10,
           7,
           7,
           5,
           15,
           11,
           4,
           8,
           19,
           16,
           9,
           16,
           13,
           9,
           19,
           26,
           15,
           17,
           6,
           7,
           7,
           2,
           15,
           3,
           3,
           7,
           7,
           20,
           12,
           9,
           8,
           9,
           5,
           5,
           18,
           2,
           7,
           2,
           2,
           2,
           1,
           1,
           16,
           7,
           14,
           11,
           23,
           7,
           4,
           3,
           4,
           1,
           2,
           6,
           3,
           5,
           1,
           6,
           3,
           6,
           1,
           4,
           4,
           2,
           5,
           2,
           11,
           10,
           9,
           4,
           1,
           1,
           1,
           2,
           1,
           5,
           2,
           5,
           4,
           1,
           1,
           2,
           3,
           1,
           5,
           2,
           6,
           3,
           3,
           2,
           2,
           2,
           3,
           2,
           1,
           1,
           2,
           1,
           5,
           6,
           4,
           3,
           2,
           3,
           1,
           2,
           10,
           7,
           4,
           5,
           7,
           6,
           8,
           4,
           6,
           3,
           5,
           6,
           3,
           6,
           3,
           2,
           3,
           5,
           9,
           7,
           6,
           5,
           5,
           2,
           7,
           10,
           18,
           4,
           4,
           13,
           6,
           5,
           20,
           3,
           7,
           4,
           28,
           6,
           8,
           1,
           9,
           5,
           2,
           3,
           16,
           3,
           11,
           4,
           4,
           3,
           10,
           8,
           5,
           12,
           4,
           3,
           5,
           3,
           2,
           10,
           7,
           2,
           9,
           5,
           8,
           5,
           7,
           5,
           4,
           19,
           4,
           15,
           1,
           3,
           8,
           2,
           15,
           1,
           1,
           6,
           2,
           7,
           1,
           1,
           7,
           1,
           1,
           7,
           3,
           3,
           3,
           6,
           2,
           6,
           12,
           5,
           9,
           2,
           9,
           6,
           8,
           1,
           2,
           18,
           8,
           11,
           2,
           1,
           12,
           3,
           4,
           1,
           5,
           4,
           5,
           3,
           2,
           1,
           1,
           1,
           5,
           5,
           2,
           1,
           4,
           2,
           5,
           2,
           10,
           3,
           1,
           3,
           1,
           3,
           5,
           1,
           5,
           6,
           3,
           7,
           1,
           3,
           5,
           12,
           2,
           1,
           4,
           7,
           2,
           8,
           1,
           1,
           7,
           3,
           5,
           5,
           7,
           2,
           1,
           6,
           4,
           1,
           4,
           3,
           4,
           10,
           2,
           2,
           1,
           3,
           4,
           1,
           2,
           1,
           2,
           2,
           2,
           3,
           4,
           2,
           5,
           2,
           1,
           7,
           1,
           4,
           1,
           1,
           1,
           1,
           1,
           1,
           1,
           1,
           1,
           1,
           1,
           1,
           2,
           1,
           1,
           1,
           1,
           2,
           1,
           1,
           1,
           1,
           1,
           1,
           2,
           1,
           1,
           2,
           4,
           2,
           6,
           5,
           1,
           2,
           1,
           1,
           5,
           6,
           1,
           4,
           1,
           3,
           1,
           1,
           4,
           1,
           3,
           4,
           3,
           3,
           2,
           4,
           1,
           1,
           10,
           1,
           2,
           1,
           1,
           9,
           1,
           3,
           3,
           1,
           1,
           1,
           1,
           4,
           2,
           1,
           2,
           1,
           1,
           1,
           1,
           1,
           1,
           1,
           3,
           1,
           1,
           2,
           4,
           2,
           1,
           2,
           1,
           1,
           1,
           1,
           1,
           3,
           1,
           1,
           1,
           2,
           1,
           3,
           1,
           1,
           1,
           2,
           1,
           4,
           1,
           1,
           1,
           1,
           1,
           1,
           1,
           2,
           1,
           1,
           1,
           1,
           1,
           1,
           1,
           1,
           1,
           1
          ],
          "coloraxis": "coloraxis",
          "symbol": "circle"
         },
         "mode": "markers",
         "name": "",
         "showlegend": false,
         "type": "scattergl",
         "x": [
          0.07864881306886673,
          -5.809067726135254,
          -3.4311985969543457,
          4.188174247741699,
          -11.346762657165527,
          14.856139183044434,
          39.713279724121094,
          27.15641212463379,
          34.94530487060547,
          25.131250381469727,
          2.7455694675445557,
          24.02822494506836,
          36.19467544555664,
          28.346784591674805,
          -6.1423563957214355,
          20.094207763671875,
          -6.035132884979248,
          21.018274307250977,
          15.462101936340332,
          30.479896545410156,
          -31.021514892578125,
          1.4798760414123535,
          35.22843933105469,
          7.860280513763428,
          -2.1027376651763916,
          3.028155565261841,
          11.814512252807617,
          11.596925735473633,
          -23.527666091918945,
          22.032777786254883,
          1.1640424728393555,
          27.79518699645996,
          -1.1766854524612427,
          -9.588329315185547,
          -34.34552764892578,
          -25.533952713012695,
          4.0075788497924805,
          -13.444238662719727,
          5.64945125579834,
          -14.260068893432617,
          -4.395117282867432,
          38.63163757324219,
          -3.1759908199310303,
          22.392709732055664,
          16.122421264648438,
          29.569194793701172,
          30.426532745361328,
          20.994064331054688,
          -3.34700345993042,
          0.6663992404937744,
          -2.8826661109924316,
          23.487953186035156,
          19.66666030883789,
          -10.611235618591309,
          11.078423500061035,
          37.621986389160156,
          14.433815956115723,
          27.40612030029297,
          34.459068298339844,
          34.46177673339844,
          17.7691593170166,
          -17.9682674407959,
          -16.746387481689453,
          24.24198341369629,
          17.869285583496094,
          -1.909488558769226,
          -5.915882587432861,
          -8.435479164123535,
          6.150519847869873,
          16.03801155090332,
          -1.4223837852478027,
          -10.668167114257812,
          -3.2342705726623535,
          -31.495519638061523,
          -1.0638411045074463,
          4.178357124328613,
          -3.716053009033203,
          -25.653608322143555,
          0.0944446474313736,
          -9.499252319335938,
          25.50130271911621,
          -3.9508743286132812,
          13.287567138671875,
          -19.84425163269043,
          -11.185929298400879,
          27.687971115112305,
          14.243668556213379,
          0.7827815413475037,
          39.359493255615234,
          1.247018814086914,
          15.579099655151367,
          21.024127960205078,
          33.648353576660156,
          -17.290002822875977,
          0.11208158731460571,
          -0.6705257892608643,
          4.873533248901367,
          24.871158599853516,
          26.977102279663086,
          35.772090911865234,
          -8.585010528564453,
          -6.209173679351807,
          -39.073238372802734,
          -40.26735305786133,
          -24.06719398498535,
          -15.288488388061523,
          22.036983489990234,
          10.766488075256348,
          -9.320778846740723,
          -33.66787338256836,
          -7.464941024780273,
          -19.148622512817383,
          12.386978149414062,
          17.780359268188477,
          -0.4407983422279358,
          19.306785583496094,
          -9.526127815246582,
          -12.467223167419434,
          25.27035140991211,
          -20.209060668945312,
          -12.506365776062012,
          -16.028501510620117,
          -10.697928428649902,
          32.94044494628906,
          -10.177892684936523,
          -0.8368143439292908,
          38.1094970703125,
          -1.4276906251907349,
          5.49625301361084,
          -37.213783264160156,
          28.825946807861328,
          29.738086700439453,
          6.34640645980835,
          33.38352966308594,
          38.51131820678711,
          21.36543846130371,
          31.225887298583984,
          -18.993223190307617,
          -14.748503684997559,
          -12.485885620117188,
          6.894101142883301,
          -8.788995742797852,
          3.3376972675323486,
          -0.04526384919881821,
          -16.774097442626953,
          -20.90080451965332,
          -4.23715353012085,
          -15.166574478149414,
          26.210851669311523,
          25.588773727416992,
          32.7205924987793,
          30.606016159057617,
          5.620938301086426,
          28.677270889282227,
          -7.179043292999268,
          38.60103988647461,
          6.062038898468018,
          -20.592548370361328,
          -9.81972599029541,
          19.794633865356445,
          -4.994093894958496,
          18.695619583129883,
          6.716771125793457,
          0.12226559221744537,
          22.543533325195312,
          22.711292266845703,
          -0.7395082712173462,
          16.833145141601562,
          16.56044578552246,
          22.625946044921875,
          23.827157974243164,
          0.31571462750434875,
          1.9563254117965698,
          -1.1246309280395508,
          25.98784828186035,
          3.0771024227142334,
          38.240211486816406,
          31.83304786682129,
          32.68122482299805,
          37.29555130004883,
          0.5059422254562378,
          38.32313537597656,
          3.5980727672576904,
          14.427990913391113,
          33.2903938293457,
          -0.7672831416130066,
          38.04616165161133,
          4.91936731338501,
          10.388439178466797,
          33.20768356323242,
          28.346233367919922,
          23.428241729736328,
          26.624332427978516,
          5.096879482269287,
          -1.2247977256774902,
          17.642559051513672,
          31.057462692260742,
          18.965412139892578,
          25.15373992919922,
          28.92568588256836,
          20.17832374572754,
          0.24472813308238983,
          35.53420639038086,
          4.567930221557617,
          6.525173187255859,
          16.589040756225586,
          16.551116943359375,
          8.820878982543945,
          26.446510314941406,
          0.062217291444540024,
          25.016456604003906,
          9.75483512878418,
          29.207595825195312,
          5.57020378112793,
          1.3223158121109009,
          15.780203819274902,
          -0.12020600587129593,
          -3.327385663986206,
          -6.580731391906738,
          -17.34461212158203,
          32.55911636352539,
          -7.4207234382629395,
          20.681198120117188,
          12.351859092712402,
          -8.32918930053711,
          -8.570202827453613,
          -7.380947113037109,
          -1.8034024238586426,
          -3.6382055282592773,
          -1.1869425773620605,
          -30.005807876586914,
          -7.332951545715332,
          -7.926157474517822,
          33.73542404174805,
          11.00074577331543,
          10.153836250305176,
          -9.509320259094238,
          37.92543029785156,
          -6.873825550079346,
          -9.366788864135742,
          -4.4305806159973145,
          28.888607025146484,
          -19.321561813354492,
          9.309053421020508,
          -6.726895809173584,
          23.1080322265625,
          -34.542808532714844,
          9.457632064819336,
          27.571313858032227,
          0.513433575630188,
          15.68498706817627,
          -13.074384689331055,
          10.746970176696777,
          -20.73891258239746,
          -10.397268295288086,
          27.05147361755371,
          -10.929319381713867,
          -3.3269360065460205,
          -17.702756881713867,
          -10.841445922851562,
          -15.002580642700195,
          30.74562644958496,
          -36.935970306396484,
          -19.940217971801758,
          3.8975019454956055,
          -8.260725021362305,
          -4.791309356689453,
          23.138551712036133,
          14.598893165588379,
          -3.8093786239624023,
          8.154487609863281,
          15.38428020477295,
          -2.1415226459503174,
          -7.399603366851807,
          19.35028839111328,
          35.234981536865234,
          17.447755813598633,
          -17.33984375,
          8.530881881713867,
          -12.974665641784668,
          -8.445412635803223,
          -9.584105491638184,
          16.57863426208496,
          -12.358928680419922,
          32.07505416870117,
          15.622797012329102,
          6.997654914855957,
          2.034667730331421,
          -17.238515853881836,
          -6.037532329559326,
          -10.852856636047363,
          18.198060989379883,
          14.957179069519043,
          -6.752856254577637,
          12.450491905212402,
          -8.10728931427002,
          9.821664810180664,
          13.172603607177734,
          6.11710786819458,
          -12.125672340393066,
          -17.253211975097656,
          10.520002365112305,
          20.253841400146484,
          -17.83806037902832,
          10.266464233398438,
          20.708141326904297,
          7.022713661193848,
          6.241708755493164,
          -17.934438705444336,
          -2.9896738529205322,
          14.681419372558594,
          -11.826010704040527,
          -2.1049275398254395,
          -41.74798583984375,
          15.000446319580078,
          19.009180068969727,
          12.298994064331055,
          24.279006958007812,
          20.202167510986328,
          18.188138961791992,
          11.5247163772583,
          -19.716283798217773,
          -19.12353515625,
          28.72732162475586,
          2.698732852935791,
          -9.652848243713379,
          8.913015365600586,
          -6.613288402557373,
          -18.072757720947266,
          -2.660553216934204,
          6.958678245544434,
          -17.818340301513672,
          -11.887001037597656,
          31.806442260742188,
          -10.555646896362305,
          -14.995777130126953,
          9.432877540588379,
          -19.78192901611328,
          -0.24740052223205566,
          6.272159576416016,
          2.329385757446289,
          -15.189681053161621,
          4.889677047729492,
          16.28512954711914,
          14.869242668151855,
          15.023666381835938,
          13.229196548461914,
          3.9397940635681152,
          -17.616973876953125,
          3.0181679725646973,
          -14.553318977355957,
          -29.080289840698242,
          -33.63425064086914,
          -10.724183082580566,
          -28.963712692260742,
          3.654898166656494,
          31.55445098876953,
          -28.9222469329834,
          7.033715724945068,
          9.153071403503418,
          1.4214967489242554,
          -6.153669834136963,
          -14.995904922485352,
          -8.396753311157227,
          -5.832650184631348,
          -14.754082679748535,
          19.478845596313477,
          -25.35033416748047,
          -1.4027353525161743,
          -15.095359802246094,
          18.3695125579834,
          18.38823890686035,
          -23.1784725189209,
          -23.193405151367188,
          18.34728240966797,
          -19.183839797973633,
          -15.220215797424316,
          2.9366865158081055,
          3.0871214866638184,
          -4.3067402839660645,
          15.807160377502441,
          11.311389923095703,
          -28.150930404663086,
          -15.065079689025879,
          -2.7036774158477783,
          1.6403684616088867,
          20.225811004638672,
          -30.94748878479004,
          2.32108211517334,
          23.528793334960938,
          -11.914528846740723,
          -13.820460319519043,
          2.7976467609405518,
          -14.269896507263184,
          -30.333648681640625,
          32.34723663330078,
          -15.997185707092285,
          -21.731441497802734,
          -1.524037480354309,
          -6.1454691886901855,
          2.210542678833008,
          -6.3688225746154785,
          5.449263572692871,
          6.3235015869140625,
          -6.013007164001465,
          -20.9832763671875,
          -24.2559757232666,
          16.52536392211914,
          -4.266162872314453,
          -4.901777744293213,
          -25.490163803100586,
          14.028576850891113,
          -15.004079818725586,
          24.758060455322266,
          -18.922378540039062,
          7.870693206787109,
          1.0382511615753174,
          1.333562970161438,
          7.819922924041748,
          26.049020767211914,
          -2.8179373741149902,
          27.38939094543457,
          6.483250617980957,
          -30.52109718322754,
          25.469694137573242,
          -4.626756191253662,
          30.432777404785156,
          31.148773193359375,
          15.331768989562988,
          13.207134246826172,
          -5.738390922546387,
          16.867755889892578,
          17.937349319458008,
          15.295204162597656,
          29.405502319335938,
          6.270089626312256,
          -42.17555236816406,
          -40.336021423339844,
          -41.60287857055664,
          -32.827518463134766,
          -23.313922882080078,
          -32.482872009277344,
          32.086116790771484,
          23.55534553527832,
          8.724740028381348,
          -18.491106033325195,
          15.566791534423828,
          1.791720986366272,
          -0.2428198903799057,
          0.5002493262290955,
          -4.17792272567749,
          -11.581695556640625,
          -27.40375518798828,
          -17.074405670166016,
          -7.63993501663208,
          -9.854310035705566,
          -16.37522315979004,
          19.129505157470703,
          2.994331121444702,
          -7.588798522949219,
          27.125362396240234,
          26.262149810791016,
          16.23932647705078,
          27.769285202026367,
          3.4387929439544678,
          16.474658966064453,
          10.662647247314453,
          -4.403209209442139,
          19.119476318359375,
          -2.053178548812866,
          12.693085670471191,
          -7.005368709564209,
          23.146881103515625,
          32.6910514831543,
          35.33641815185547,
          -17.013906478881836,
          21.83892250061035,
          33.04143142700195,
          31.5137996673584,
          32.86892318725586,
          35.10410690307617,
          27.155183792114258,
          35.7980842590332,
          38.1893310546875,
          17.171977996826172,
          5.262540817260742,
          28.534717559814453,
          28.428375244140625,
          21.801029205322266,
          28.173004150390625,
          21.10983657836914,
          35.52553176879883,
          30.512500762939453,
          26.052000045776367,
          8.033650398254395,
          22.8479061126709,
          4.643078327178955,
          30.172481536865234,
          27.05387306213379,
          5.7910566329956055,
          6.28035831451416,
          2.6776797771453857,
          8.651387214660645,
          28.540374755859375,
          26.80463218688965,
          30.642009735107422,
          32.54355239868164,
          19.174365997314453,
          30.887630462646484,
          21.243175506591797,
          37.88552474975586,
          18.173259735107422,
          17.678926467895508,
          31.6369686126709,
          28.341753005981445,
          10.249751091003418,
          31.805662155151367,
          25.199024200439453,
          36.52106857299805,
          6.2861151695251465,
          13.245908737182617,
          30.71821403503418,
          8.714866638183594,
          19.96401023864746,
          36.455726623535156,
          5.332857131958008,
          27.121414184570312,
          28.83350944519043,
          29.77853012084961,
          23.596223831176758,
          13.32141399383545,
          9.367008209228516,
          27.754322052001953,
          24.07503890991211,
          -4.12480354309082,
          27.014841079711914,
          23.089624404907227,
          1.9917086362838745,
          -9.79254150390625,
          -20.242578506469727,
          -6.464943885803223,
          -26.918712615966797,
          28.662254333496094,
          2.031440258026123,
          -29.244935989379883,
          -2.9614875316619873,
          4.108728408813477,
          22.56744956970215,
          14.365134239196777,
          -8.442042350769043,
          -18.79672622680664,
          -23.083284378051758,
          -12.819117546081543,
          -20.879026412963867,
          -26.590734481811523,
          25.359617233276367,
          23.31524658203125,
          29.768836975097656,
          -6.183230876922607,
          -8.769006729125977,
          -3.326935052871704,
          -5.582360744476318,
          -20.799701690673828,
          -30.88580322265625,
          -14.67225170135498,
          -2.4771459102630615,
          -9.034713745117188,
          -2.231729745864868,
          -21.632789611816406,
          -6.77833890914917,
          -13.789511680603027,
          -23.45916175842285,
          -13.123016357421875,
          -15.91023063659668,
          -18.168745040893555,
          -16.993160247802734,
          -31.052505493164062,
          -23.25076675415039,
          -17.873645782470703,
          10.531432151794434,
          20.98063850402832,
          25.801603317260742,
          11.29091739654541,
          7.947412014007568,
          -12.384539604187012,
          -15.548430442810059,
          17.0418758392334,
          3.0279107093811035,
          26.10862922668457,
          -33.62921142578125,
          -7.065240859985352,
          -0.16538801789283752,
          24.253456115722656,
          18.68670082092285,
          -13.61862564086914,
          -5.687088966369629,
          -25.153301239013672,
          0.9544757008552551,
          -43.312713623046875,
          2.7499096393585205,
          6.9181976318359375,
          23.480825424194336,
          32.054473876953125,
          16.67049217224121,
          20.507997512817383,
          30.785558700561523,
          29.175806045532227,
          14.834948539733887,
          11.508667945861816,
          29.60386848449707,
          26.791601181030273,
          19.315052032470703,
          17.442237854003906,
          12.161922454833984,
          18.351964950561523,
          27.962800979614258,
          8.399222373962402,
          32.9984130859375,
          -11.601097106933594,
          -11.149775505065918,
          8.773072242736816,
          -2.1131768226623535,
          -13.306663513183594,
          -9.18758773803711,
          -4.465908527374268,
          29.24689483642578,
          -3.858062744140625,
          -9.50234603881836,
          -16.063541412353516,
          -2.5285086631774902,
          25.571298599243164,
          29.251432418823242,
          29.207828521728516,
          9.16733455657959,
          -6.818994522094727,
          -0.5765248537063599,
          24.266773223876953,
          24.363262176513672,
          8.435586929321289,
          32.61967086791992,
          36.21949005126953,
          28.89729881286621,
          23.692760467529297,
          34.793758392333984,
          22.68568992614746,
          37.11598205566406,
          34.85417938232422,
          22.604082107543945,
          36.8231201171875,
          25.138574600219727,
          9.012161254882812,
          18.69762420654297,
          28.54015350341797,
          30.585285186767578,
          32.03536605834961,
          29.09683609008789,
          29.421567916870117,
          -4.648355484008789,
          12.724157333374023,
          15.150605201721191,
          37.642005920410156,
          -0.7942025661468506,
          11.83962631225586,
          26.89985466003418,
          1.3695733547210693,
          -25.985597610473633,
          -28.383407592773438,
          22.54178237915039,
          -29.604162216186523,
          -5.029268264770508,
          37.017574310302734,
          -9.284393310546875,
          -11.912273406982422,
          -3.225332498550415,
          29.74350357055664,
          14.884188652038574,
          -64.10337829589844,
          -19.463518142700195,
          -0.5419631600379944,
          -8.387701034545898,
          -14.489786148071289,
          -16.944536209106445,
          -10.17496109008789,
          2.3377912044525146,
          -9.71533489227295,
          10.389704704284668,
          -16.341354370117188,
          -22.038864135742188,
          -11.528674125671387,
          14.883367538452148,
          2.3145594596862793,
          -1.7965980768203735,
          37.0255126953125,
          33.122352600097656,
          19.055950164794922,
          -2.754946708679199,
          0.477540522813797,
          0.15762533247470856,
          14.985519409179688,
          -3.277435302734375,
          18.957584381103516,
          -5.808992385864258,
          10.620078086853027,
          0.7777844071388245,
          28.449430465698242,
          -10.706451416015625,
          13.180766105651855,
          30.383970260620117,
          12.033391952514648,
          -13.329079627990723,
          -64.08541870117188,
          12.927428245544434,
          15.420811653137207,
          11.165802955627441,
          31.965360641479492,
          14.395381927490234,
          -6.825750350952148,
          15.648118019104004,
          -13.400357246398926,
          -18.09578514099121,
          -7.368164539337158,
          -4.43960428237915,
          6.302303314208984,
          18.538270950317383,
          -2.5270330905914307,
          -13.271492004394531,
          -1.4361767768859863,
          -16.78499984741211,
          -5.477416515350342,
          18.609451293945312,
          -8.374773979187012,
          -1.7509146928787231,
          9.87936019897461,
          -22.365623474121094,
          3.5182342529296875,
          17.055049896240234,
          3.573077440261841,
          -8.314393997192383,
          0.5115435123443604,
          6.392670631408691,
          8.25285530090332,
          -9.650568962097168,
          -27.84012222290039,
          6.334856986999512,
          14.039527893066406,
          6.708076477050781,
          6.721093654632568,
          -26.128368377685547,
          10.655561447143555,
          14.604610443115234,
          -3.7688655853271484,
          1.8713678121566772,
          18.4654541015625,
          -7.745699405670166,
          -3.9270193576812744,
          -15.390803337097168,
          -7.585020542144775,
          -28.780506134033203,
          -15.713785171508789,
          -12.00252628326416,
          -2.4423186779022217,
          -3.5225133895874023,
          -2.0522778034210205,
          2.4364945888519287,
          -2.100024700164795,
          29.855859756469727,
          4.1901350021362305,
          -13.350136756896973,
          -18.75750732421875,
          25.412981033325195,
          -21.394590377807617,
          23.195911407470703,
          20.398496627807617,
          -7.729541301727295,
          -19.322357177734375,
          -5.395730972290039,
          -26.826658248901367,
          8.27942180633545,
          -10.225569725036621,
          -2.6732888221740723,
          -14.928072929382324,
          21.657596588134766,
          -21.00958251953125,
          -62.147605895996094,
          -2.123061418533325,
          2.89682674407959,
          -12.62807846069336,
          -63.60459899902344,
          21.51388931274414,
          -4.629774570465088,
          -29.730384826660156,
          33.252017974853516,
          36.051517486572266,
          -7.82143497467041,
          -27.94873809814453,
          -6.551846504211426,
          -9.448429107666016,
          -33.0207633972168,
          15.616437911987305,
          -5.518393039703369,
          -12.354118347167969,
          -18.320261001586914,
          19.439590454101562,
          -19.009479522705078,
          30.56153106689453,
          23.358139038085938,
          2.6003170013427734,
          -22.329565048217773,
          -6.971042633056641,
          -6.61815071105957,
          26.914932250976562,
          -12.68420124053955,
          17.25004768371582,
          -63.28211212158203,
          -11.581038475036621,
          -15.986702919006348,
          -9.32667064666748,
          22.661983489990234,
          -17.191726684570312,
          -10.805325508117676,
          -7.3337507247924805,
          23.673768997192383,
          -12.348806381225586,
          4.323078632354736,
          -2.4506943225860596,
          -13.048124313354492,
          -17.75164031982422,
          -13.763947486877441,
          -20.5859375,
          -45.2581672668457,
          -28.452926635742188,
          -14.95527458190918,
          -12.106103897094727,
          -24.495147705078125,
          17.83722686767578,
          23.113004684448242,
          5.271471977233887,
          -23.808069229125977,
          -43.13202667236328,
          -7.021001815795898,
          -17.671894073486328,
          25.33222770690918,
          22.16944122314453,
          21.206356048583984,
          -3.8486082553863525,
          -15.915810585021973,
          7.8307414054870605,
          27.574552536010742,
          -23.62488555908203,
          22.443782806396484,
          27.637657165527344,
          -45.32155227661133,
          28.795412063598633,
          28.70451545715332,
          15.097406387329102,
          27.066162109375,
          -30.583375930786133,
          -41.75188446044922,
          0.17489878833293915,
          -10.714276313781738,
          24.28306007385254,
          -34.04328918457031,
          17.82221031188965,
          -4.505892276763916,
          30.419801712036133,
          -8.130894660949707,
          33.171409606933594,
          34.15388488769531,
          -18.13454818725586,
          -1.926233172416687,
          -24.241884231567383,
          21.75204849243164,
          -17.96824073791504,
          5.135478496551514,
          28.54549217224121,
          -19.535146713256836,
          -19.968841552734375,
          -20.519739151000977,
          -11.10083293914795,
          20.982255935668945,
          -19.555021286010742,
          13.204926490783691,
          7.322964668273926,
          11.599894523620605,
          -22.244617462158203,
          4.318946361541748,
          17.668075561523438,
          2.571178674697876,
          4.714605808258057,
          -29.153106689453125,
          3.432025909423828,
          -15.976780891418457,
          -17.770084381103516,
          -41.56937026977539,
          6.8513569831848145,
          13.559167861938477,
          -29.73135757446289,
          -2.434900999069214,
          5.177113056182861,
          10.4535551071167,
          -28.195201873779297,
          14.025693893432617,
          12.7316312789917,
          4.942771911621094,
          -5.087153911590576,
          4.518617153167725,
          -23.98480224609375,
          -10.71683406829834,
          15.208194732666016,
          18.689594268798828,
          17.576866149902344,
          12.173323631286621,
          -42.34416961669922,
          6.417919635772705,
          33.215576171875,
          -7.1966681480407715,
          13.01846694946289,
          -6.846785545349121,
          20.318071365356445,
          22.66635513305664,
          14.909541130065918,
          31.841205596923828,
          22.29503631591797,
          2.052884101867676,
          -3.34574031829834,
          -25.453746795654297,
          -38.76618194580078,
          -9.587532997131348,
          5.851080894470215,
          -19.80929946899414,
          -31.878131866455078,
          -18.317312240600586,
          -9.5755033493042,
          -8.958651542663574,
          24.44524574279785,
          13.481163024902344,
          6.8870158195495605,
          -18.530092239379883,
          -2.59594988822937,
          -23.99987030029297,
          -15.24301815032959,
          14.884204864501953,
          6.065822124481201,
          -20.7902774810791,
          10.686002731323242,
          3.491694450378418,
          19.603395462036133,
          -23.9552059173584,
          26.06683349609375,
          16.04671859741211,
          -5.535329818725586,
          -5.898481369018555,
          16.968414306640625,
          4.490079879760742,
          18.607576370239258,
          35.27513122558594,
          20.509521484375,
          15.278802871704102,
          22.714380264282227,
          25.95347023010254,
          25.74399757385254,
          18.94970703125,
          12.48047924041748,
          31.09568214416504,
          24.85366439819336,
          4.176838397979736,
          6.503142833709717,
          -3.1344356536865234,
          16.459381103515625,
          28.49858283996582,
          16.527973175048828,
          24.450382232666016,
          -3.196765422821045,
          -25.76711082458496,
          13.147770881652832,
          -25.54259490966797,
          -10.606768608093262,
          -25.29065704345703,
          -6.3347954750061035,
          21.96565055847168,
          -22.23870277404785,
          -15.276200294494629,
          -16.616683959960938,
          -18.687747955322266,
          4.522634029388428,
          -13.89079761505127,
          -35.645362854003906,
          -18.45454978942871,
          -0.2705318331718445,
          8.31935977935791,
          -22.17197608947754,
          -31.631200790405273,
          -9.319169998168945,
          -9.240533828735352,
          26.20095443725586,
          -26.536226272583008,
          -28.23801612854004,
          -22.68967056274414,
          -16.47283363342285,
          -13.897037506103516,
          -34.270484924316406,
          -14.954131126403809,
          -36.6280517578125,
          -3.604940176010132,
          20.800376892089844,
          4.660079002380371,
          13.852723121643066,
          8.552876472473145,
          0.7457157969474792,
          21.285558700561523,
          23.905771255493164,
          -2.5585103034973145,
          -21.10573387145996,
          -9.121055603027344,
          -1.4817907810211182,
          -9.446596145629883,
          24.032930374145508,
          3.1563305854797363,
          11.72268009185791,
          24.335975646972656,
          28.343952178955078,
          7.467797756195068,
          -17.991310119628906,
          11.730849266052246,
          -9.981874465942383,
          7.774763107299805,
          -41.58494567871094,
          -16.28375244140625,
          -28.21364402770996,
          -15.187446594238281,
          -19.448152542114258,
          -21.46798324584961,
          -13.948592185974121,
          -27.44519805908203,
          -10.812525749206543,
          -21.55082893371582,
          -40.548770904541016,
          1.900681495666504,
          8.428050994873047,
          -21.127864837646484,
          -16.7651309967041,
          -2.3024890422821045,
          -5.242312431335449,
          -0.10604838281869888,
          26.46013832092285,
          -1.4560894966125488,
          -23.893356323242188,
          28.618741989135742,
          -26.55837059020996,
          8.737752914428711,
          -6.437325477600098,
          -23.490732192993164,
          -11.176422119140625,
          -36.21678924560547,
          -18.288969039916992,
          0.13920924067497253,
          -14.95956039428711,
          -2.9083521366119385,
          -9.93305778503418,
          24.828067779541016,
          -10.67648696899414,
          13.488028526306152,
          -1.4221839904785156,
          26.542306900024414,
          16.269941329956055,
          6.437881946563721,
          11.175557136535645,
          16.85735321044922,
          9.807272911071777,
          30.268871307373047,
          7.52195930480957,
          -13.647768020629883,
          21.72713851928711,
          -8.490921020507812,
          15.406082153320312,
          -13.736923217773438,
          18.902870178222656,
          -7.760610103607178,
          -26.365633010864258,
          12.268545150756836,
          5.623112201690674,
          10.26751708984375,
          1.2992366552352905,
          27.634037017822266,
          33.11602020263672,
          -1.2022908926010132,
          -37.37028884887695,
          -25.35979461669922,
          -36.18122100830078,
          -13.450835227966309,
          -20.72800064086914,
          -27.529800415039062,
          11.559897422790527,
          -26.6372127532959,
          -24.93178367614746,
          3.1362245082855225,
          12.94795036315918,
          8.473620414733887,
          26.245986938476562,
          18.447792053222656,
          11.148430824279785,
          -24.03907012939453,
          20.029010772705078,
          4.290101528167725,
          -17.109848022460938,
          5.334002494812012,
          8.974640846252441,
          24.981979370117188,
          5.315802097320557,
          -5.4793806076049805,
          21.001359939575195,
          -20.572917938232422,
          23.982315063476562,
          2.943230628967285,
          7.67587423324585,
          23.209999084472656,
          19.10537338256836,
          17.717802047729492,
          -1.807482123374939,
          5.454314231872559,
          7.793304920196533,
          10.448009490966797,
          22.166894912719727,
          2.8531737327575684,
          16.482295989990234,
          27.98828125,
          11.566183090209961,
          25.457683563232422,
          10.874272346496582,
          26.324289321899414,
          30.06490707397461,
          1.242071270942688,
          -16.53241539001465,
          10.236398696899414,
          -6.832258224487305,
          -3.81048583984375,
          16.03606414794922,
          -5.147582530975342,
          -11.923255920410156,
          15.782833099365234,
          21.71162986755371,
          37.81113815307617,
          24.797199249267578,
          19.276018142700195,
          -18.641490936279297,
          -39.99814987182617,
          19.544721603393555,
          25.563251495361328,
          16.705076217651367,
          10.541910171508789,
          -21.118173599243164,
          -10.966599464416504,
          18.463823318481445,
          3.3890459537506104,
          -60.977394104003906,
          4.039026260375977,
          -11.72883415222168,
          27.063196182250977,
          11.220151901245117,
          6.74131965637207,
          13.86020278930664,
          -35.081398010253906,
          -16.870594024658203,
          -11.240677833557129,
          -29.6951904296875,
          -0.02855197712779045,
          -4.349842071533203,
          -5.558620929718018,
          14.470274925231934,
          26.518123626708984,
          17.316011428833008,
          28.489608764648438,
          -18.568761825561523,
          12.5595064163208,
          12.12529182434082,
          10.411510467529297,
          -31.360212326049805,
          -13.721894264221191,
          -21.15996551513672,
          -20.94036865234375,
          -29.825603485107422,
          -21.44651985168457,
          -29.897287368774414,
          -4.80809211730957,
          -20.622224807739258,
          22.70354461669922,
          28.75234031677246,
          -3.7618069648742676,
          1.0817736387252808,
          -8.77525806427002,
          9.492158889770508,
          26.299964904785156,
          17.452285766601562,
          13.441498756408691,
          27.332841873168945,
          31.861509323120117,
          16.855321884155273,
          31.090002059936523,
          -25.22330093383789,
          23.7548828125,
          -64.178466796875,
          29.770103454589844,
          26.877178192138672,
          31.426109313964844,
          -8.595532417297363,
          -8.576470375061035,
          -24.818119049072266,
          -7.1172332763671875,
          -18.119876861572266,
          -21.418840408325195,
          20.248319625854492,
          2.156010627746582,
          -12.316927909851074,
          -32.25883865356445,
          -28.50151252746582,
          11.276874542236328,
          -18.51992416381836,
          -4.723923683166504,
          -13.017468452453613,
          -10.833700180053711,
          14.940479278564453,
          -0.39709922671318054,
          30.258153915405273,
          -6.797908306121826,
          -21.943500518798828,
          10.631040573120117,
          2.4985392093658447,
          -21.622350692749023,
          -24.07550621032715,
          -34.82020950317383,
          -13.317312240600586,
          19.631275177001953,
          18.509973526000977,
          17.016010284423828,
          15.722082138061523,
          -62.12381362915039,
          -8.487680435180664,
          -3.7052440643310547,
          -19.932939529418945,
          11.926407814025879,
          6.323396682739258,
          -17.954444885253906,
          4.47744083404541,
          -13.715627670288086,
          20.221351623535156,
          -23.90557098388672,
          -27.052705764770508,
          3.064361095428467,
          -7.636166095733643,
          -45.10650634765625,
          10.026479721069336,
          6.882379531860352,
          -13.152924537658691,
          -33.40412902832031,
          16.30384635925293,
          16.160404205322266,
          -26.845449447631836,
          -2.778122901916504,
          -9.212408065795898,
          -27.08989715576172,
          8.690703392028809,
          12.238170623779297,
          28.3597354888916,
          13.318202018737793,
          2.364830255508423,
          25.791439056396484,
          23.044597625732422,
          13.65825366973877,
          4.123769283294678,
          -19.749706268310547,
          -22.6735897064209,
          17.046445846557617,
          -32.654239654541016,
          -30.732275009155273,
          -13.674859046936035,
          -19.92640495300293,
          -9.689773559570312,
          -4.533877849578857,
          -14.320273399353027,
          -24.26689338684082,
          17.422595977783203,
          11.122831344604492,
          -25.643112182617188,
          -9.039429664611816,
          -1.968471884727478,
          19.92644691467285,
          -38.13349533081055,
          13.063048362731934,
          -25.48698616027832,
          -60.59621047973633,
          22.10262680053711,
          -22.361406326293945,
          14.469386100769043,
          -10.86146068572998,
          -12.933915138244629,
          8.312352180480957,
          -5.697322845458984,
          19.521772384643555,
          10.420244216918945,
          -26.795305252075195,
          -3.2610135078430176,
          8.501822471618652,
          -22.21143341064453,
          -62.61794662475586,
          -8.850564956665039,
          -0.04876011610031128,
          -30.604963302612305,
          -41.46539306640625,
          -61.44074249267578,
          2.0899319648742676,
          -30.15135383605957,
          6.188419342041016,
          7.107648849487305,
          -14.472138404846191,
          -7.256799221038818,
          3.5221664905548096,
          -38.36082458496094,
          -28.344465255737305,
          17.759174346923828,
          -38.03387451171875,
          -12.643020629882812,
          21.72702980041504,
          8.83381175994873,
          22.113414764404297,
          -38.46974563598633,
          9.293903350830078,
          -31.23679542541504,
          9.693567276000977,
          -63.265010833740234,
          23.080074310302734,
          13.53231430053711,
          -11.411027908325195,
          27.18204689025879,
          -37.796756744384766,
          3.179917097091675,
          -38.94435119628906,
          -19.880537033081055,
          4.477079391479492,
          -38.51348876953125,
          -37.72187805175781,
          -38.849090576171875,
          3.6331729888916016,
          -38.42012023925781,
          10.609850883483887,
          -14.332588195800781,
          3.5040042400360107,
          1.4037363529205322,
          -38.87225341796875,
          -62.362396240234375,
          -37.758907318115234,
          19.544721603393555,
          -37.78205871582031,
          3.7799623012542725,
          -37.61382293701172,
          -22.548540115356445,
          19.179494857788086,
          -36.52716827392578,
          15.996378898620605,
          -38.4444465637207,
          -27.33466911315918,
          31.844385147094727,
          -39.452049255371094,
          -39.16465759277344,
          -60.32862091064453,
          -26.331872940063477,
          -38.97774887084961,
          14.358589172363281,
          31.3525333404541,
          24.73714256286621,
          11.022868156433105,
          -27.601558685302734,
          23.230945587158203,
          -39.11582946777344,
          -38.54631042480469,
          13.454593658447266,
          -34.12215042114258,
          9.574104309082031,
          22.790742874145508,
          10.279247283935547,
          18.086652755737305,
          -2.740849018096924,
          8.210746765136719,
          -21.1614990234375,
          -40.492591857910156,
          9.880614280700684,
          -39.06280517578125,
          -19.681110382080078,
          11.735349655151367,
          -19.805259704589844,
          -19.503978729248047,
          -19.599262237548828,
          -13.133213996887207,
          -13.416460037231445,
          4.549736976623535,
          23.140913009643555,
          10.896414756774902,
          22.791831970214844,
          31.545427322387695,
          -26.9472599029541,
          -0.8466498255729675,
          -1.721837043762207,
          -29.99049186706543,
          16.069982528686523,
          25.362401962280273,
          28.41558837890625,
          18.56708335876465,
          -24.6707820892334,
          -40.42914962768555,
          -7.037130832672119,
          -21.049623489379883,
          -5.643987655639648,
          -33.27726364135742,
          -12.121110916137695,
          -27.80876350402832,
          -25.905181884765625,
          -8.386927604675293,
          10.470023155212402,
          17.040592193603516,
          -12.885738372802734,
          -27.698184967041016,
          9.794544219970703,
          2.1465115547180176,
          -32.50272750854492,
          24.848400115966797,
          20.512981414794922,
          0.4868313670158386,
          3.5568904876708984,
          29.829442977905273,
          3.0956621170043945,
          -8.7533597946167,
          1.4746568202972412,
          -32.22041702270508,
          -7.8498077392578125,
          8.924430847167969,
          -11.751315116882324,
          17.514333724975586,
          -14.884305953979492,
          21.83580780029297,
          -6.078671932220459,
          -5.948843479156494,
          -2.8322408199310303,
          -18.03418731689453,
          -1.3207099437713623,
          -15.213808059692383,
          29.769628524780273,
          -12.279571533203125,
          22.320497512817383,
          -62.243919372558594,
          33.631038665771484,
          22.272056579589844,
          20.217302322387695,
          23.571735382080078,
          -65.14275360107422,
          5.175500392913818,
          3.137733221054077,
          24.05194664001465,
          22.27592658996582,
          23.6381893157959,
          11.531126976013184,
          -62.891902923583984,
          17.57286834716797,
          26.873647689819336,
          -31.931385040283203,
          4.166293621063232,
          4.0663909912109375,
          16.290090560913086,
          10.526705741882324,
          3.1985507011413574,
          2.0816001892089844,
          -26.037532806396484,
          -8.42236614227295,
          -60.184120178222656,
          7.106791019439697,
          -1.5708447694778442,
          17.428586959838867,
          -61.652217864990234,
          -19.2015438079834,
          -2.1318278312683105,
          -5.6048264503479,
          -28.331382751464844,
          -14.652059555053711,
          -7.479630470275879,
          -8.941313743591309,
          -3.7684950828552246,
          -0.24595774710178375,
          -42.68360137939453,
          -30.34459114074707,
          7.8349080085754395,
          -15.739147186279297,
          -13.30733585357666,
          -63.257102966308594,
          -12.91286563873291,
          -62.6340217590332,
          -42.497955322265625,
          7.561561107635498,
          -30.886205673217773,
          -31.24756622314453,
          -12.963314056396484,
          27.371023178100586,
          12.414960861206055,
          20.016559600830078,
          -43.74911880493164,
          1.7088737487792969,
          7.125878810882568,
          -62.955299377441406,
          31.426095962524414,
          23.461584091186523,
          -15.185993194580078,
          -31.325389862060547,
          -32.094181060791016,
          7.283934593200684,
          34.04184341430664,
          -37.0707893371582,
          21.19586944580078,
          23.80668067932129,
          19.549083709716797,
          -10.114383697509766,
          -6.081402778625488,
          -7.669670104980469,
          -19.612424850463867,
          4.858443737030029,
          -23.010194778442383,
          4.855474948883057,
          14.559625625610352,
          26.08468246459961,
          -62.75848388671875,
          -42.04803466796875,
          23.042081832885742,
          21.668346405029297,
          -26.494359970092773,
          18.412986755371094,
          16.854389190673828,
          27.400718688964844,
          -11.727195739746094,
          26.632909774780273,
          27.679872512817383,
          13.195141792297363,
          10.943460464477539,
          -27.66932487487793,
          -13.436630249023438,
          25.589570999145508,
          13.804466247558594,
          -64.23828887939453,
          -5.091833114624023,
          -11.159688949584961,
          -41.512081146240234,
          -63.91402053833008,
          -40.69317626953125,
          -40.944766998291016,
          -14.34588623046875,
          -61.1353874206543,
          -14.851163864135742,
          7.2080254554748535,
          -38.21586990356445,
          17.957422256469727,
          2.335536241531372,
          -44.08851623535156,
          26.855281829833984,
          -42.152557373046875,
          9.773229598999023,
          -43.922218322753906,
          -41.21212387084961,
          -40.98783874511719,
          -61.1732177734375,
          -41.11640930175781,
          -62.33827590942383,
          -63.71281433105469,
          -40.44468307495117,
          -43.34556198120117,
          -60.94480514526367,
          -41.5888671875,
          -43.55521774291992,
          -43.23787307739258,
          -40.236934661865234,
          -40.53641128540039,
          -42.76129150390625,
          -43.076744079589844,
          17.637630462646484,
          -41.01824188232422,
          -43.89219284057617,
          -60.294166564941406,
          -40.572723388671875,
          -62.51137161254883,
          -61.4027099609375,
          17.94669532775879,
          -41.874420166015625,
          -42.97809600830078,
          -19.07087516784668,
          8.529346466064453,
          -20.22296905517578,
          12.18100643157959,
          13.353906631469727,
          -61.727848052978516,
          -4.799229621887207,
          -65.09690856933594,
          -30.013328552246094,
          28.7496395111084,
          -24.347206115722656,
          18.885400772094727,
          10.21972942352295,
          -38.178672790527344,
          15.331930160522461,
          -62.89866638183594,
          24.524511337280273,
          -17.020187377929688,
          -27.630645751953125,
          21.208385467529297,
          -20.99873924255371,
          -42.25773239135742,
          -25.79585838317871,
          22.770709991455078,
          13.399937629699707,
          -10.552901268005371,
          -62.17637634277344,
          -11.668659210205078,
          -63.44472885131836,
          9.064545631408691,
          -63.100791931152344,
          0.10338937491178513,
          -13.714422225952148,
          -44.223228454589844,
          3.4642493724823,
          24.740875244140625,
          -25.8199405670166,
          7.484121322631836,
          -43.952083587646484,
          0.09188636392354965,
          5.791165828704834,
          26.139738082885742,
          18.679935455322266,
          17.64613151550293,
          18.90532684326172,
          18.972970962524414,
          17.509267807006836,
          18.60506820678711,
          -64.05011749267578,
          18.50908851623535,
          -61.2159423828125,
          17.44930648803711,
          18.341094970703125,
          -63.74290084838867,
          14.525498390197754,
          4.620718955993652,
          -63.07744216918945,
          -63.74348831176758,
          20.221643447875977,
          18.504886627197266,
          -65.023681640625,
          18.69579315185547,
          -62.19025802612305,
          -64.20248413085938,
          -25.718955993652344,
          -64.67752838134766,
          -62.22645950317383,
          -62.961143493652344,
          -27.036314010620117,
          -29.82699203491211,
          5.379152297973633,
          -43.41268539428711,
          -37.927852630615234,
          -40.56172180175781,
          -21.69442367553711,
          -25.056560516357422,
          12.156656265258789,
          -61.4712028503418,
          -24.891868591308594,
          -19.667856216430664,
          -19.754070281982422,
          -25.44676971435547,
          -19.410905838012695,
          -44.390220642089844,
          -31.94149398803711,
          5.126280784606934,
          23.639259338378906,
          -62.01669692993164,
          -30.185009002685547,
          23.446447372436523,
          -38.44255065917969,
          -21.018632888793945,
          -27.960147857666016,
          4.343898773193359,
          22.861656188964844
         ],
         "xaxis": "x",
         "y": [
          15.940269470214844,
          13.930425643920898,
          -0.6424207091331482,
          -18.951627731323242,
          20.815181732177734,
          -6.263883113861084,
          -10.269737243652344,
          14.72130012512207,
          3.6691999435424805,
          -0.13320566713809967,
          -19.76235008239746,
          9.277088165283203,
          -6.651875019073486,
          -4.687136650085449,
          21.93532943725586,
          -11.316835403442383,
          -7.440406322479248,
          -11.712145805358887,
          -1.5225905179977417,
          -11.813519477844238,
          10.11701774597168,
          20.844690322875977,
          0.9138121604919434,
          -7.7273969650268555,
          -4.616940021514893,
          -18.215152740478516,
          16.920963287353516,
          17.030872344970703,
          2.819833755493164,
          -5.517231464385986,
          17.338014602661133,
          -4.925906181335449,
          -10.013648986816406,
          -0.7659502625465393,
          0.03021899051964283,
          -6.330958366394043,
          4.18979549407959,
          -1.993037223815918,
          -2.9957573413848877,
          1.4499804973602295,
          6.781649589538574,
          -9.337210655212402,
          10.156899452209473,
          4.736851692199707,
          -2.5992062091827393,
          -3.332573890686035,
          -8.065152168273926,
          13.447559356689453,
          19.259122848510742,
          -24.74131965637207,
          12.195387840270996,
          8.20637321472168,
          -12.854795455932617,
          18.352508544921875,
          6.974765300750732,
          -7.7235870361328125,
          -2.1577401161193848,
          15.58609390258789,
          -16.50171661376953,
          -16.4996280670166,
          -1.4134565591812134,
          6.659905910491943,
          10.561371803283691,
          16.885848999023438,
          -3.6661593914031982,
          25.337108612060547,
          -7.763916969299316,
          4.427598476409912,
          18.853595733642578,
          19.713485717773438,
          17.21271514892578,
          11.602062225341797,
          17.021934509277344,
          -6.511871814727783,
          -8.372529983520508,
          -18.31287956237793,
          14.8876314163208,
          8.138113975524902,
          20.16179084777832,
          6.787456035614014,
          -16.136280059814453,
          16.51064109802246,
          12.80014419555664,
          16.81574821472168,
          7.123579502105713,
          1.982986569404602,
          16.63943862915039,
          22.381113052368164,
          -8.799413681030273,
          -14.671184539794922,
          -9.467947959899902,
          -5.1554999351501465,
          -5.859004497528076,
          8.454022407531738,
          19.217451095581055,
          -23.22989273071289,
          24.838594436645508,
          16.672197341918945,
          14.47783374786377,
          6.2666544914245605,
          13.50888729095459,
          3.527884006500244,
          -1.4894604682922363,
          0.926987886428833,
          8.698287010192871,
          -4.360221862792969,
          3.538422107696533,
          12.746149063110352,
          -18.21135902404785,
          7.225276947021484,
          24.838768005371094,
          3.986006259918213,
          3.4260785579681396,
          -7.903958320617676,
          18.385700225830078,
          -4.138341426849365,
          15.433952331542969,
          24.10820770263672,
          -2.9231932163238525,
          2.6360280513763428,
          24.118242263793945,
          -15.52514934539795,
          -17.422060012817383,
          -4.281068325042725,
          23.841510772705078,
          -5.248251914978027,
          6.369307518005371,
          -11.177014350891113,
          -21.16275978088379,
          -5.702826976776123,
          7.604506492614746,
          12.705371856689453,
          21.904495239257812,
          5.762799263000488,
          0.38545870780944824,
          12.336384773254395,
          -5.73560905456543,
          1.7439203262329102,
          12.693089485168457,
          11.926824569702148,
          17.730636596679688,
          26.85032844543457,
          25.425230026245117,
          -21.262310028076172,
          1.914774775505066,
          15.445310592651367,
          16.32756233215332,
          0.01642174832522869,
          -13.099478721618652,
          -4.426671981811523,
          3.2337794303894043,
          9.505840301513672,
          -23.616458892822266,
          -17.74973487854004,
          23.2332706451416,
          -9.160250663757324,
          15.53171157836914,
          12.141079902648926,
          1.2222141027450562,
          -8.431536674499512,
          17.85096549987793,
          17.705219268798828,
          16.767684936523438,
          14.543242454528809,
          10.478540420532227,
          6.823758125305176,
          13.060477256774902,
          -9.737997055053711,
          -7.11676025390625,
          10.497870445251465,
          -1.057667851448059,
          -24.444561004638672,
          -23.9356689453125,
          -22.444440841674805,
          -7.685283660888672,
          -22.592557907104492,
          -3.548679828643799,
          12.64029598236084,
          1.3163211345672607,
          2.6741368770599365,
          -24.748804092407227,
          -3.6004652976989746,
          -22.843942642211914,
          14.665160179138184,
          10.644312858581543,
          -23.06087875366211,
          6.5598883628845215,
          -17.959665298461914,
          1.1032567024230957,
          7.917267322540283,
          12.054349899291992,
          0.380573034286499,
          15.808966636657715,
          17.98288345336914,
          -22.635784149169922,
          16.94180679321289,
          10.93666934967041,
          -2.4018442630767822,
          11.695100784301758,
          -9.57773494720459,
          -4.4783782958984375,
          18.969947814941406,
          5.909726619720459,
          20.69280433654785,
          18.313207626342773,
          -16.23259162902832,
          1.9986045360565186,
          21.697139739990234,
          -16.32254981994629,
          16.613698959350586,
          13.437689781188965,
          -7.998437881469727,
          12.171433448791504,
          -22.887619018554688,
          21.970029830932617,
          17.800628662109375,
          11.34943675994873,
          4.535959243774414,
          -6.088332653045654,
          -4.6985297203063965,
          -4.917917251586914,
          15.17533016204834,
          0.6395059823989868,
          1.2607589960098267,
          20.76527976989746,
          10.077709197998047,
          14.683887481689453,
          -22.14998435974121,
          11.749811172485352,
          15.37210464477539,
          9.899493217468262,
          18.28948211669922,
          10.148475646972656,
          11.758321762084961,
          26.77524185180664,
          2.3999197483062744,
          19.568017959594727,
          -7.312488079071045,
          17.123014450073242,
          -20.627147674560547,
          21.132978439331055,
          -4.983896255493164,
          -0.5784676671028137,
          -11.672287940979004,
          -10.608121871948242,
          21.333589553833008,
          0.41356226801872253,
          3.4079861640930176,
          -20.216075897216797,
          -18.08475685119629,
          -0.9342636466026306,
          21.82871437072754,
          -5.558925628662109,
          7.681072235107422,
          24.166500091552734,
          -2.7815234661102295,
          -17.313838958740234,
          -13.764985084533691,
          -11.23807430267334,
          -14.278761863708496,
          -7.084888935089111,
          0.02107887528836727,
          -0.341767281293869,
          -5.880395889282227,
          18.746240615844727,
          -3.856825113296509,
          -1.3399839401245117,
          21.359127044677734,
          5.818513870239258,
          -12.781684875488281,
          -15.172920227050781,
          14.542893409729004,
          -10.234518051147461,
          23.870216369628906,
          11.74730110168457,
          -7.788310527801514,
          16.119388580322266,
          -4.6401214599609375,
          13.24185562133789,
          17.99626350402832,
          1.7152161598205566,
          16.185283660888672,
          11.751349449157715,
          14.324954986572266,
          -4.662298679351807,
          6.6117987632751465,
          -11.137495994567871,
          -20.092342376708984,
          15.925578117370605,
          -18.135616302490234,
          15.849035263061523,
          6.223221778869629,
          14.763152122497559,
          -11.777074813842773,
          23.662368774414062,
          -0.3375076651573181,
          -5.000887393951416,
          14.889627456665039,
          -4.300018787384033,
          24.08404541015625,
          -11.855799674987793,
          -16.76603889465332,
          -14.021032333374023,
          -8.215225219726562,
          -16.394590377807617,
          3.5205068588256836,
          -14.918807029724121,
          0.8703320026397705,
          5.04564094543457,
          27.348966598510742,
          5.583598613739014,
          19.564603805541992,
          27.00064468383789,
          -4.402707576751709,
          4.287465572357178,
          13.827946662902832,
          -8.896470069885254,
          16.774681091308594,
          6.270049571990967,
          -16.69143295288086,
          -15.363510131835938,
          -2.057810068130493,
          -1.0974600315093994,
          -13.400821685791016,
          -11.699195861816406,
          14.54089641571045,
          -13.450151443481445,
          -11.311058044433594,
          -11.111035346984863,
          2.618901491165161,
          -14.64500904083252,
          -9.483048439025879,
          16.39397621154785,
          -12.597670555114746,
          -12.838879585266113,
          2.139719009399414,
          -2.415576934814453,
          10.954822540283203,
          -6.705196380615234,
          -11.576462745666504,
          -9.46475887298584,
          6.860016345977783,
          -8.812382698059082,
          7.359183311462402,
          2.4095513820648193,
          -15.382095336914062,
          -16.332395553588867,
          -7.456702709197998,
          2.7458627223968506,
          -10.021570205688477,
          -6.206475734710693,
          -11.888778686523438,
          1.5544371604919434,
          13.309717178344727,
          14.413254737854004,
          21.438169479370117,
          12.431442260742188,
          1.2507597208023071,
          -5.820058345794678,
          0.11078494787216187,
          1.5303146839141846,
          -17.77001953125,
          3.8583693504333496,
          -13.47896957397461,
          11.102821350097656,
          17.056364059448242,
          14.990421295166016,
          3.8335018157958984,
          -0.20124021172523499,
          -0.7681664824485779,
          8.793426513671875,
          -6.124692916870117,
          4.2158684730529785,
          4.106724262237549,
          -24.813547134399414,
          -4.2375969886779785,
          -6.546605110168457,
          15.429045677185059,
          -6.451558589935303,
          12.924674034118652,
          -13.617518424987793,
          1.1258195638656616,
          -0.39388975501060486,
          9.332304954528809,
          14.381170272827148,
          9.748018264770508,
          4.723862648010254,
          8.61189079284668,
          16.087194442749023,
          -21.814538955688477,
          3.9480392932891846,
          19.456626892089844,
          24.372291564941406,
          -0.5940533876419067,
          9.80817985534668,
          -10.138421058654785,
          6.4967756271362305,
          3.832139015197754,
          14.585165023803711,
          -1.433458924293518,
          8.776101112365723,
          23.695781707763672,
          -20.893693923950195,
          24.94186782836914,
          17.896297454833984,
          -4.677120208740234,
          -10.46271800994873,
          -7.02942419052124,
          3.16461181640625,
          -8.464476585388184,
          0.5548948049545288,
          -22.389034271240234,
          -14.12805461883545,
          -14.236988067626953,
          -5.1013689041137695,
          19.624298095703125,
          24.602279663085938,
          18.747217178344727,
          22.608501434326172,
          -17.848085403442383,
          22.06892204284668,
          -20.29041290283203,
          22.049697875976562,
          -1.6080574989318848,
          -5.825155735015869,
          -4.983253002166748,
          11.438478469848633,
          7.202350616455078,
          -11.513623237609863,
          -7.483890533447266,
          15.571139335632324,
          -9.348868370056152,
          -6.165661811828613,
          -11.50927734375,
          14.724835395812988,
          4.165902614593506,
          -6.113903522491455,
          -7.868499279022217,
          -7.023805618286133,
          -0.8025508522987366,
          10.74923324584961,
          -1.0160678625106812,
          12.44217300415039,
          -14.262306213378906,
          8.324305534362793,
          3.2768425941467285,
          -17.760549545288086,
          -18.153324127197266,
          3.6199610233306885,
          9.792635917663574,
          22.4201717376709,
          -2.7573821544647217,
          6.813848495483398,
          -0.1698184460401535,
          -14.350361824035645,
          -3.5565993785858154,
          -7.263872146606445,
          21.55777359008789,
          -3.442119836807251,
          -0.9386650323867798,
          -14.347553253173828,
          7.301258087158203,
          0.5762055516242981,
          -3.3919053077697754,
          25.529098510742188,
          1.9579805135726929,
          13.004591941833496,
          24.36737823486328,
          -6.851566791534424,
          18.67424964904785,
          15.592514038085938,
          21.17844581604004,
          -11.199767112731934,
          1.2450748682022095,
          -8.12188720703125,
          -3.2256040573120117,
          -2.0615742206573486,
          7.860880374908447,
          9.433332443237305,
          10.98447322845459,
          0.1371772587299347,
          14.788338661193848,
          -11.23436450958252,
          0.5222015976905823,
          12.437251091003418,
          21.42909812927246,
          9.642513275146484,
          -1.0672494173049927,
          1.9681854248046875,
          7.735601425170898,
          8.41929817199707,
          2.151970624923706,
          5.104882717132568,
          12.504398345947266,
          19.68926239013672,
          16.255596160888672,
          -22.966772079467773,
          9.488142013549805,
          6.231797695159912,
          16.450698852539062,
          24.91990089416504,
          -17.33232307434082,
          8.560879707336426,
          -7.778629302978516,
          10.38642406463623,
          3.0764033794403076,
          4.369472503662109,
          20.787370681762695,
          4.288671016693115,
          11.41031265258789,
          3.4858720302581787,
          -4.849536895751953,
          0.6496233940124512,
          -1.1218100786209106,
          10.750155448913574,
          1.9854947328567505,
          -0.19822831451892853,
          -6.90844202041626,
          0.5403420925140381,
          17.75222396850586,
          -8.177549362182617,
          7.177087306976318,
          17.167198181152344,
          9.841740608215332,
          -1.0090852975845337,
          19.66358184814453,
          15.288769721984863,
          11.756845474243164,
          1.3272037506103516,
          13.091835975646973,
          4.616760730743408,
          -6.121711254119873,
          -6.86236572265625,
          3.4898674488067627,
          -3.2057037353515625,
          -4.006860256195068,
          7.911898612976074,
          -7.951446533203125,
          22.046043395996094,
          14.905620574951172,
          -3.9686853885650635,
          8.652708053588867,
          2.563934803009033,
          -1.0738961696624756,
          3.092930316925049,
          -6.755807876586914,
          -11.150835990905762,
          -23.753713607788086,
          3.416940689086914,
          9.91478157043457,
          7.891366004943848,
          0.30850961804389954,
          0.15497493743896484,
          9.41018295288086,
          5.413078308105469,
          -13.005792617797852,
          7.598602771759033,
          -10.368770599365234,
          -7.15242338180542,
          -5.630341053009033,
          8.924446105957031,
          -2.854326009750366,
          12.142684936523438,
          0.13382317125797272,
          7.906630516052246,
          15.6657133102417,
          -7.312305450439453,
          16.964763641357422,
          19.474903106689453,
          7.840646743774414,
          10.707433700561523,
          16.46385383605957,
          12.795869827270508,
          -7.704387187957764,
          13.723977088928223,
          9.29905891418457,
          8.574617385864258,
          3.053899049758911,
          6.6956658363342285,
          8.767966270446777,
          -8.866252899169922,
          2.8232738971710205,
          -7.266397476196289,
          4.098456382751465,
          3.747973680496216,
          7.833693981170654,
          14.289154052734375,
          22.351451873779297,
          -2.085911989212036,
          -2.3430304527282715,
          11.498397827148438,
          9.07345199584961,
          -3.0430102348327637,
          -20.36545753479004,
          -1.7096854448318481,
          19.693593978881836,
          12.420807838439941,
          8.589112281799316,
          -3.4195480346679688,
          -17.949317932128906,
          13.756823539733887,
          -4.184332370758057,
          11.197513580322266,
          9.099346160888672,
          8.135229110717773,
          2.188234329223633,
          6.546907424926758,
          -0.532686173915863,
          20.36540412902832,
          5.955114364624023,
          1.3469698429107666,
          2.877397060394287,
          -11.701874732971191,
          -8.9088716506958,
          -0.3543552756309509,
          -9.365933418273926,
          9.868584632873535,
          3.6037752628326416,
          14.9214506149292,
          5.639280319213867,
          17.031883239746094,
          10.023303031921387,
          0.8270774483680725,
          -20.675308227539062,
          24.210208892822266,
          -0.6422972679138184,
          14.361307144165039,
          16.463449478149414,
          22.722482681274414,
          17.06694221496582,
          3.7553398609161377,
          12.355636596679688,
          4.12881326675415,
          12.789271354675293,
          -14.977397918701172,
          -13.898998260498047,
          -11.945423126220703,
          7.339141368865967,
          -2.2914459705352783,
          -9.935461044311523,
          -1.1746941804885864,
          -8.574761390686035,
          -2.7681500911712646,
          2.3028955459594727,
          2.4144508838653564,
          -4.471418857574463,
          0.9231205582618713,
          12.472835540771484,
          -2.1443724632263184,
          5.694472312927246,
          15.09229850769043,
          -6.290886402130127,
          2.406567096710205,
          -1.6099368333816528,
          13.589607238769531,
          -1.8433623313903809,
          11.293705940246582,
          25.845571517944336,
          10.843559265136719,
          18.1746883392334,
          3.1280384063720703,
          13.394248962402344,
          4.745471954345703,
          -8.951789855957031,
          3.4514455795288086,
          -3.9685044288635254,
          13.236554145812988,
          -15.336502075195312,
          -2.5859484672546387,
          -5.730949401855469,
          -4.499924182891846,
          -7.091069221496582,
          14.087980270385742,
          20.990922927856445,
          -4.190860748291016,
          21.394739151000977,
          -0.471902072429657,
          -1.0496768951416016,
          -14.187976837158203,
          -3.8077404499053955,
          -8.342060089111328,
          -9.866761207580566,
          -5.402775287628174,
          18.737186431884766,
          19.091827392578125,
          10.925834655761719,
          3.010427951812744,
          -11.128030776977539,
          17.27835464477539,
          8.219032287597656,
          -15.004849433898926,
          25.414052963256836,
          -6.547519683837891,
          -0.28277388215065,
          -10.153648376464844,
          -3.7428395748138428,
          -5.134307384490967,
          6.699236869812012,
          19.28887176513672,
          -8.797579765319824,
          1.6160516738891602,
          8.841721534729004,
          13.410445213317871,
          12.030606269836426,
          8.289264678955078,
          -7.431601047515869,
          -0.5647710561752319,
          -6.982483386993408,
          -10.633379936218262,
          14.356389045715332,
          -1.750052809715271,
          2.499433755874634,
          5.3985490798950195,
          2.917740821838379,
          -7.213026523590088,
          19.695261001586914,
          2.379265785217285,
          -3.8916375637054443,
          -10.28446102142334,
          18.824703216552734,
          9.120238304138184,
          10.083480834960938,
          8.812007904052734,
          17.74536895751953,
          7.617983341217041,
          -12.75324821472168,
          11.147367477416992,
          9.39841365814209,
          17.155431747436523,
          -0.7443896532058716,
          18.266324996948242,
          25.651460647583008,
          4.395318508148193,
          -6.568641662597656,
          24.344778060913086,
          -0.852253794670105,
          12.837226867675781,
          26.92133903503418,
          22.450977325439453,
          -1.6491166353225708,
          -7.307643890380859,
          18.013025283813477,
          2.9978466033935547,
          -8.150364875793457,
          -4.1177873611450195,
          10.952384948730469,
          6.853603363037109,
          11.956425666809082,
          -13.958456039428711,
          7.547130107879639,
          -12.83395767211914,
          -6.705607891082764,
          4.249322891235352,
          1.0003098249435425,
          14.203253746032715,
          -3.7313473224639893,
          6.399714469909668,
          4.336455821990967,
          4.192447185516357,
          -5.558644771575928,
          -3.0030088424682617,
          -9.251771926879883,
          -7.666526794433594,
          -3.057222843170166,
          1.5950689315795898,
          -15.390008926391602,
          -12.863777160644531,
          9.342406272888184,
          2.2753703594207764,
          -8.452409744262695,
          4.966578483581543,
          -5.611392021179199,
          -19.713394165039062,
          16.501733779907227,
          12.707599639892578,
          1.3805450201034546,
          -3.6302144527435303,
          6.649216175079346,
          -2.991065740585327,
          0.5262169241905212,
          17.412609100341797,
          -20.886028289794922,
          7.601579666137695,
          -2.4482998847961426,
          21.322965621948242,
          12.523201942443848,
          13.166022300720215,
          -3.022808313369751,
          -4.173635482788086,
          4.838963508605957,
          -5.419960021972656,
          3.8115689754486084,
          -4.6581807136535645,
          23.459205627441406,
          9.051124572753906,
          13.76093864440918,
          5.652655601501465,
          4.592903137207031,
          1.169095516204834,
          3.8138766288757324,
          4.252480506896973,
          9.649393081665039,
          -22.149866104125977,
          5.2735066413879395,
          -15.585351943969727,
          -2.7600624561309814,
          2.853520631790161,
          10.32204818725586,
          14.512947082519531,
          -0.21516850590705872,
          -5.916639804840088,
          -0.37375468015670776,
          -2.6633970737457275,
          -1.7815951108932495,
          9.074673652648926,
          -15.146855354309082,
          -6.570367813110352,
          -13.107166290283203,
          -0.5328828692436218,
          4.461759567260742,
          21.986618041992188,
          -15.986566543579102,
          5.566160678863525,
          10.159592628479004,
          14.127387046813965,
          7.334476947784424,
          -0.18418583273887634,
          -4.137905120849609,
          5.191024303436279,
          -4.51833438873291,
          4.975667476654053,
          14.172752380371094,
          -1.4104416370391846,
          0.16406726837158203,
          8.741790771484375,
          -6.896793365478516,
          17.148235321044922,
          9.485461235046387,
          -4.840551853179932,
          20.31245231628418,
          3.751929998397827,
          4.246417999267578,
          -12.210965156555176,
          -6.8358988761901855,
          19.81972312927246,
          -2.589210271835327,
          1.5953969955444336,
          -8.596391677856445,
          9.633246421813965,
          -2.146512508392334,
          -2.2939772605895996,
          -4.494526386260986,
          -9.961431503295898,
          -10.513195037841797,
          -0.49121683835983276,
          -4.645448684692383,
          -5.668904781341553,
          -5.694417476654053,
          -3.427408218383789,
          -7.455359935760498,
          -10.919703483581543,
          -3.9858126640319824,
          10.420790672302246,
          8.314971923828125,
          -11.557219505310059,
          18.92812728881836,
          -2.574235439300537,
          -1.63817298412323,
          10.959966659545898,
          3.9162540435791016,
          7.1767754554748535,
          -8.172658920288086,
          -9.35506820678711,
          -12.346887588500977,
          -18.80485725402832,
          -13.119426727294922,
          -11.826986312866211,
          -11.544062614440918,
          10.053956985473633,
          18.159034729003906,
          -13.033256530761719,
          -0.9875166416168213,
          -4.82487678527832,
          -1.8745052814483643,
          -2.6047351360321045,
          -5.987600803375244,
          3.5703999996185303,
          -4.791428089141846,
          -12.03165340423584,
          1.2461808919906616,
          -11.282461166381836,
          7.985437393188477,
          -6.872715473175049,
          -0.26879382133483887,
          -12.814844131469727,
          -5.704492568969727,
          -2.192892551422119,
          -16.3446102142334,
          -10.293288230895996,
          -2.2690305709838867,
          -8.926666259765625,
          1.2605377435684204,
          -14.974363327026367,
          -10.537078857421875,
          27.23396110534668,
          2.8626623153686523,
          6.177648067474365,
          -13.861187934875488,
          1.3851531744003296,
          -23.059539794921875,
          -22.710369110107422,
          -13.151656150817871,
          -4.674307346343994,
          -11.375001907348633,
          -2.5773255825042725,
          -14.530474662780762,
          6.481933116912842,
          21.247577667236328,
          -2.925659656524658,
          -3.8301830291748047,
          0.808164119720459,
          -12.582468032836914,
          6.3468732833862305,
          28.497577667236328,
          -3.5985796451568604,
          12.047369003295898,
          2.077531099319458,
          8.447486877441406,
          -0.27675023674964905,
          1.2985389232635498,
          2.802555561065674,
          9.674394607543945,
          3.3615775108337402,
          22.261362075805664,
          -4.686517715454102,
          12.403721809387207,
          -9.056750297546387,
          -10.792398452758789,
          -1.7611380815505981,
          -1.8391035795211792,
          17.746355056762695,
          -8.151379585266113,
          -6.008852481842041,
          0.9853299856185913,
          14.722670555114746,
          20.306943893432617,
          0.5614955425262451,
          -7.2777557373046875,
          12.958697319030762,
          -21.186031341552734,
          7.9907379150390625,
          -18.62525177001953,
          4.869277477264404,
          8.217239379882812,
          7.669284343719482,
          5.424271106719971,
          -16.525691986083984,
          -5.515312194824219,
          2.5793392658233643,
          -9.64910888671875,
          1.4744760990142822,
          -16.837793350219727,
          8.756098747253418,
          1.6142464876174927,
          0.4026060402393341,
          14.931865692138672,
          10.918235778808594,
          6.011412143707275,
          9.915778160095215,
          -0.23409581184387207,
          4.116497039794922,
          2.307161569595337,
          2.4955272674560547,
          1.0044142007827759,
          -13.5709228515625,
          -1.4612895250320435,
          -2.2815542221069336,
          -12.33542251586914,
          12.627819061279297,
          -0.503771960735321,
          5.944651126861572,
          10.156214714050293,
          -2.4849746227264404,
          0.6720564961433411,
          -3.0483219623565674,
          -5.979649066925049,
          -7.1362080574035645,
          -1.1919018030166626,
          -2.2483489513397217,
          -4.473082065582275,
          -11.373164176940918,
          -5.2692999839782715,
          8.440082550048828,
          -9.953747749328613,
          -4.6963958740234375,
          5.680988311767578,
          -7.273311138153076,
          -5.22235631942749,
          12.109695434570312,
          6.005661964416504,
          -3.7744805812835693,
          -5.954162120819092,
          -3.5717201232910156,
          1.2493257522583008,
          -6.150023460388184,
          -1.3347959518432617,
          11.844841003417969,
          -3.1850779056549072,
          -3.211744785308838,
          -10.07835865020752,
          -8.568106651306152,
          -10.153892517089844,
          -9.732819557189941,
          12.354301452636719,
          0.22903548181056976,
          10.358863830566406,
          -9.959577560424805,
          10.906394958496094,
          -0.022446222603321075,
          -19.731060028076172,
          0.6001569032669067,
          4.822410583496094,
          -0.16318652033805847,
          -0.9193859696388245,
          -4.823150157928467,
          -5.403231620788574,
          -8.577199935913086,
          -1.593245267868042,
          4.146738052368164,
          4.761672019958496,
          7.545214653015137,
          3.3396432399749756,
          -6.442511081695557,
          -2.054584264755249,
          -0.7703904509544373,
          1.7260907888412476,
          -10.504424095153809,
          -9.515528678894043,
          19.43036651611328,
          2.9592130184173584,
          12.493742942810059,
          1.2752881050109863,
          -2.0332839488983154,
          1.785025715827942,
          -7.6878204345703125,
          5.741343021392822,
          1.8472034931182861,
          -15.424895286560059,
          8.613326072692871,
          2.3535187244415283,
          1.833730697631836,
          13.934252738952637,
          19.4757137298584,
          3.8467659950256348,
          -5.241380214691162,
          0.325331449508667,
          -17.34031867980957,
          19.427648544311523,
          -11.67074203491211,
          4.537675380706787,
          0.46593204140663147,
          0.5227922201156616,
          24.546768188476562,
          11.167328834533691,
          -4.736303806304932,
          2.576763868331909,
          5.408007621765137,
          4.54099178314209,
          5.288595199584961,
          -5.821000099182129,
          -0.3231208324432373,
          5.7813520431518555,
          1.9670982360839844,
          1.8845115900039673,
          10.314197540283203,
          12.623432159423828,
          -9.884333610534668,
          7.085002899169922,
          -3.056386709213257,
          -14.856425285339355,
          -2.781461000442505,
          -12.674681663513184,
          6.999282360076904,
          -1.1013001203536987,
          -8.21300983428955,
          5.648122310638428,
          2.8463664054870605,
          -3.4962615966796875,
          1.635601282119751,
          -0.35969921946525574,
          22.194812774658203,
          -3.7649123668670654,
          -11.10334587097168,
          -11.41431999206543,
          -6.33330774307251,
          7.8029656410217285,
          -5.525661468505859,
          10.343088150024414,
          -1.269858479499817,
          -21.911483764648438,
          3.67021107673645,
          -3.9981400966644287,
          -5.853171348571777,
          5.589800834655762,
          1.4945194721221924,
          0.8661066889762878,
          -14.507577896118164,
          -10.175026893615723,
          -5.0545430183410645,
          0.2707631289958954,
          -5.878682613372803,
          15.31162166595459,
          -1.3864657878875732,
          -5.279630661010742,
          6.084092140197754,
          0.5436712503433228,
          10.148181915283203,
          -11.984078407287598,
          19.967477798461914,
          8.617793083190918,
          -1.5407565832138062,
          0.39995309710502625,
          -5.011204242706299,
          16.031570434570312,
          -3.0496835708618164,
          3.279007911682129,
          -20.07370948791504,
          -12.420125007629395,
          -0.5390654802322388,
          -14.694661140441895,
          -2.8690547943115234,
          5.067097187042236,
          21.797761917114258,
          7.5197296142578125,
          -2.3549139499664307,
          1.4384421110153198,
          -4.348176956176758,
          15.576189994812012,
          8.210794448852539,
          -23.913394927978516,
          -14.249530792236328,
          -9.491226196289062,
          -4.703100204467773,
          1.2414886951446533,
          12.266494750976562,
          -9.575127601623535,
          1.6099563837051392,
          -11.524622917175293,
          -9.2083101272583,
          -9.846205711364746,
          -7.210723876953125,
          -1.0097352266311646,
          10.63216781616211,
          -2.1186468601226807,
          -1.654410719871521,
          6.82037353515625,
          0.7615989446640015,
          0.009698615409433842,
          -3.9877607822418213,
          -1.1614688634872437,
          -9.892178535461426,
          -4.9766387939453125,
          -2.575835704803467,
          -9.618221282958984,
          -1.1868970394134521,
          -5.687539577484131,
          2.419914722442627,
          0.9218782186508179,
          -4.731211185455322,
          -10.989007949829102,
          -14.300178527832031,
          5.403595924377441,
          -6.53823709487915,
          -13.425261497497559,
          -3.87498140335083,
          -2.927471160888672,
          -3.1119930744171143,
          4.591472625732422,
          6.195555210113525,
          9.991090774536133,
          4.335960388183594,
          3.7188942432403564,
          5.890702247619629,
          -5.976766109466553,
          6.609864234924316,
          -19.14864730834961,
          -12.8108549118042,
          -1.1004527807235718,
          18.217927932739258,
          17.644397735595703,
          -4.558034896850586,
          11.238309860229492,
          0.5659725069999695,
          -1.9568794965744019,
          -12.042160987854004,
          3.396904230117798,
          11.797958374023438,
          3.4659979343414307,
          18.953948974609375,
          1.9234719276428223,
          -3.3740875720977783,
          -0.7655349373817444,
          1.1518985033035278,
          -9.246960639953613,
          6.732518672943115,
          4.934747219085693,
          -9.60899543762207,
          -21.113008499145508,
          13.632126808166504,
          10.604326248168945,
          -1.1227730512619019,
          4.548943996429443,
          -7.606866836547852,
          -7.435606002807617,
          -3.0384373664855957,
          -22.00667381286621,
          4.742095947265625,
          -12.298523902893066,
          -9.48583698272705,
          10.124701499938965,
          19.1943302154541,
          3.690830945968628,
          -7.876779556274414,
          5.177793025970459,
          -1.0513911247253418,
          7.190433025360107,
          5.10581111907959,
          11.722973823547363,
          5.7992844581604,
          -6.179251194000244,
          3.2217652797698975,
          -20.475595474243164,
          -21.177162170410156,
          23.924470901489258,
          8.19372844696045,
          -0.6871947050094604,
          -1.0019724369049072,
          -0.41033634543418884,
          2.836897850036621,
          -4.7268595695495605,
          -3.762594699859619,
          21.023557662963867,
          -7.703030109405518,
          8.464006423950195,
          -7.072941303253174,
          5.360496520996094,
          -0.5801090598106384,
          8.342334747314453,
          5.679081916809082,
          -6.937193393707275,
          -4.260661602020264,
          -2.3838248252868652,
          -0.3797873854637146,
          -8.175559043884277,
          -19.862634658813477,
          -22.479711532592773,
          -6.284964561462402,
          -16.268239974975586,
          -9.775057792663574,
          -4.593588352203369,
          -1.3438060283660889,
          20.67058753967285,
          -12.087318420410156,
          14.876273155212402,
          -8.96750259399414,
          2.6704251766204834,
          4.339273929595947,
          -11.700299263000488,
          20.60411834716797,
          1.2642173767089844,
          13.370461463928223,
          -24.03819465637207,
          4.849310398101807,
          1.6515781879425049,
          7.323793888092041,
          0.414569616317749,
          0.44508251547813416,
          26.548599243164062,
          12.00185775756836,
          -14.086604118347168,
          -19.624420166015625,
          4.894281387329102,
          2.23347806930542,
          -1.9674105644226074,
          15.328082084655762,
          13.024849891662598,
          0.7117255926132202,
          1.809980034828186,
          -12.192307472229004,
          -3.205252170562744,
          -10.432931900024414,
          -9.02005672454834,
          2.2167301177978516,
          2.1300079822540283,
          -5.259933948516846,
          -9.988934516906738,
          0.39951398968696594,
          8.418434143066406,
          -1.323278546333313,
          2.663831949234009,
          21.125825881958008,
          -4.1625213623046875,
          -1.325779676437378,
          -4.442192077636719,
          -18.84304428100586,
          6.554355144500732,
          -3.0646166801452637,
          -5.675375461578369,
          -3.491518020629883,
          6.363966464996338,
          -6.461215019226074,
          0.07201147824525833,
          5.590300559997559,
          6.693531036376953,
          0.6922153830528259,
          0.3982824683189392,
          -0.4152931272983551,
          -1.540523886680603,
          -21.643224716186523,
          1.9125914573669434,
          6.598995685577393,
          -0.477692186832428,
          -1.544448971748352,
          -17.359416961669922,
          0.2968316078186035,
          -3.2353906631469727,
          -4.842233657836914,
          -1.2181706428527832,
          -3.07515287399292,
          -8.36203384399414,
          -1.4650300741195679,
          -4.31939172744751,
          4.346879482269287,
          1.5318816900253296,
          10.723214149475098,
          3.1743950843811035,
          6.549325466156006,
          2.15263032913208,
          1.4558426141738892,
          0.690039336681366,
          1.5037480592727661,
          -5.721044063568115,
          0.8497517108917236,
          -4.524977207183838,
          7.299046516418457,
          0.12835828959941864,
          7.919033050537109,
          1.0757322311401367,
          -1.4124858379364014,
          0.8972242474555969,
          -18.474817276000977,
          1.0580211877822876,
          -0.31271448731422424,
          1.6768441200256348,
          3.1837198734283447,
          -18.255353927612305,
          0.2313665747642517,
          8.204798698425293,
          -0.1290823370218277,
          1.8801301717758179,
          -8.606029510498047,
          1.302276849746704,
          1.5570192337036133,
          -2.0113441944122314,
          0.6925640106201172,
          0.6432317495346069,
          -3.302063226699829,
          -2.4551920890808105,
          -15.682065963745117,
          0.14867444336414337,
          2.824557065963745,
          3.5284135341644287,
          1.0860371589660645,
          1.6839393377304077,
          -3.384381055831909,
          1.0966672897338867,
          -1.575119972229004,
          -7.266424655914307,
          -11.719517707824707,
          -17.6758975982666,
          -3.3000216484069824,
          0.6243247389793396,
          -9.7850923538208,
          -8.75423526763916,
          -2.659865617752075,
          -6.169862747192383,
          -8.196651458740234,
          -3.557896137237549,
          -7.042055130004883,
          -6.615127086639404,
          -8.382766723632812,
          -5.175980091094971,
          -4.835736274719238,
          -0.11955472826957703,
          -7.310476303100586,
          -3.4465150833129883,
          -19.228681564331055,
          -7.8710036277771,
          -7.01919412612915,
          6.73805570602417,
          10.153318405151367,
          -9.17971420288086,
          -19.67475128173828,
          -7.3596272468566895,
          -5.862181186676025,
          9.498794555664062,
          -9.499483108520508,
          -6.150656700134277,
          6.09114408493042,
          4.9862380027771,
          -15.082618713378906,
          -6.177759170532227,
          -6.8120341300964355,
          -6.109211444854736,
          9.493680953979492,
          -19.929367065429688,
          -13.675500869750977,
          -17.8441219329834,
          -9.231464385986328,
          -9.123698234558105,
          -10.770511627197266,
          6.5179924964904785,
          -5.902092933654785,
          -12.099645614624023,
          -15.475263595581055,
          -1.4144436120986938,
          5.659592151641846,
          -6.216678142547607,
          -0.14232511818408966,
          -1.5610979795455933,
          1.567353367805481,
          -3.694797992706299,
          0.15646488964557648,
          -0.30930888652801514,
          5.451645374298096,
          -22.631271362304688,
          5.015131950378418,
          -15.877626419067383,
          6.078243255615234,
          16.519052505493164,
          9.472926139831543,
          20.014509201049805,
          15.141632080078125,
          14.464411735534668,
          0.04731537029147148,
          12.135356903076172,
          -18.72720718383789,
          -3.414653778076172,
          -0.10387967526912689,
          -18.655988693237305,
          8.614124298095703,
          -18.725248336791992,
          -2.0074844360351562,
          8.155600547790527,
          7.2567572593688965,
          -19.583810806274414,
          -18.7877197265625,
          -18.63649559020996,
          0.7750986814498901,
          -3.778311252593994,
          -23.21622085571289,
          -7.351014137268066,
          -2.0202527046203613,
          1.5650677680969238,
          7.057410717010498,
          -3.542724132537842,
          10.692755699157715,
          -0.7794705629348755,
          -0.4517628252506256,
          4.045448303222656,
          -2.200552225112915,
          -3.0730373859405518,
          17.920650482177734,
          8.421833992004395,
          -14.3690185546875,
          -2.3561787605285645,
          -7.696673393249512,
          9.255873680114746,
          8.244013786315918,
          9.063492774963379,
          5.766485691070557,
          -20.88234519958496,
          12.988463401794434,
          6.9073486328125,
          -13.642348289489746,
          -4.778439998626709,
          -9.561470985412598,
          2.929824113845825,
          5.3007025718688965,
          6.2338151931762695,
          -4.041192531585693,
          6.3213958740234375,
          -0.46332329511642456,
          -5.039158821105957,
          3.188645124435425,
          -0.2144559770822525,
          -2.294865608215332,
          6.512039661407471,
          -2.45727276802063,
          8.737458229064941,
          -21.28352165222168,
          -3.922708511352539,
          27.12696647644043,
          -1.3439607620239258,
          -3.2779698371887207,
          -0.087729312479496,
          -12.375343322753906,
          -6.50417423248291,
          -2.3699891567230225,
          -6.647834777832031,
          -3.2344207763671875,
          -0.015054356306791306,
          -3.9197778701782227,
          -9.378321647644043,
          -16.175199508666992,
          13.591385841369629,
          -2.439715623855591,
          6.5030012130737305,
          11.439067840576172,
          11.482675552368164,
          6.816913604736328,
          7.999251842498779,
          5.707411289215088,
          -3.9434974193573,
          -3.923870801925659,
          -2.4142937660217285,
          -0.783972442150116,
          -13.549858093261719,
          -0.4894236922264099,
          -5.854147434234619,
          4.506687641143799,
          -22.920297622680664,
          -6.305797576904297,
          -9.725284576416016,
          -0.4237324297428131,
          -6.458925247192383,
          -3.072970390319824,
          -11.565561294555664,
          -3.2649013996124268,
          9.73399829864502,
          -15.964966773986816,
          2.60772967338562,
          -1.1501468420028687,
          -1.2993426322937012,
          -6.072503566741943,
          -8.049342155456543,
          -2.571101665496826,
          -9.368528366088867,
          -8.277525901794434,
          13.182848930358887,
          -1.21378755569458,
          9.796082496643066,
          3.0373990535736084,
          -10.774916648864746,
          -14.486621856689453,
          5.638348579406738,
          -6.576159477233887,
          -0.22871166467666626,
          -6.703021049499512,
          -8.041646003723145,
          -6.460941314697266,
          -8.865520477294922,
          -9.393478393554688,
          -3.4702818393707275,
          -9.413431167602539,
          -1.5658726692199707,
          -0.3362346887588501,
          -8.85982894897461,
          -5.806371212005615,
          -4.623587131500244,
          -8.401894569396973,
          -5.9307780265808105,
          -7.022616863250732,
          -8.643736839294434,
          -8.235331535339355,
          -6.67542839050293,
          -6.214278221130371,
          -20.74835968017578,
          -8.66423511505127,
          -5.890839099884033,
          -0.7161998152732849,
          -8.289155006408691,
          -1.9725345373153687,
          -1.8909285068511963,
          -19.061351776123047,
          -8.844029426574707,
          -6.481096267700195,
          -6.858067512512207,
          0.9364362955093384,
          -7.713506698608398,
          -2.429185390472412,
          -3.383451461791992,
          0.0943652018904686,
          22.569421768188477,
          -2.5140089988708496,
          -4.383883476257324,
          -12.7049560546875,
          -5.33266544342041,
          9.895772933959961,
          4.701495170593262,
          -4.0767316818237305,
          2.8877110481262207,
          -3.4460723400115967,
          -2.130512237548828,
          11.681410789489746,
          -5.554864406585693,
          -3.86961030960083,
          -8.473758697509766,
          -3.728952407836914,
          -7.890689849853516,
          -10.32577133178711,
          -1.575815200805664,
          0.1273791342973709,
          -5.3462677001953125,
          7.826447010040283,
          -1.1298829317092896,
          -5.100300312042236,
          -1.692402720451355,
          9.438801765441895,
          0.21771959960460663,
          -3.810824394226074,
          10.010466575622559,
          -2.0669848918914795,
          -5.224859714508057,
          -10.609073638916016,
          -3.814042091369629,
          -13.12677001953125,
          0.8059383034706116,
          -3.4326999187469482,
          -19.20267105102539,
          -23.219289779663086,
          -19.613754272460938,
          -19.31528663635254,
          -22.498323440551758,
          -19.128421783447266,
          -1.444699764251709,
          -20.194780349731445,
          -4.475292205810547,
          -18.229747772216797,
          -19.97074317932129,
          -4.955491065979004,
          2.813828468322754,
          -4.457581520080566,
          0.08158953487873077,
          -2.458566665649414,
          -3.6021499633789062,
          -19.317279815673828,
          -3.112797498703003,
          -19.750341415405273,
          -4.229413032531738,
          -3.8812148571014404,
          -7.635116100311279,
          -1.9378751516342163,
          -0.31632959842681885,
          -1.0987980365753174,
          -5.998973846435547,
          6.613816738128662,
          -4.055708885192871,
          -3.84216570854187,
          -4.698706150054932,
          -3.977787494659424,
          -8.819273948669434,
          -4.86305046081543,
          10.450177192687988,
          -1.0474891662597656,
          -4.82804012298584,
          -7.3029680252075195,
          -7.117614269256592,
          -4.467187881469727,
          -6.803422927856445,
          -4.449348449707031,
          -5.814662456512451,
          8.24769115447998,
          -13.176798820495605,
          -3.89821720123291,
          -2.189713478088379,
          -12.635085105895996,
          -4.7507100105285645,
          -5.676809310913086,
          -5.504603385925293,
          12.742833137512207,
          -11.946279525756836
         ],
         "yaxis": "y"
        }
       ],
       "layout": {
        "coloraxis": {
         "colorbar": {
          "title": {
           "text": "popularity"
          }
         },
         "colorscale": [
          [
           0,
           "#0d0887"
          ],
          [
           0.1111111111111111,
           "#46039f"
          ],
          [
           0.2222222222222222,
           "#7201a8"
          ],
          [
           0.3333333333333333,
           "#9c179e"
          ],
          [
           0.4444444444444444,
           "#bd3786"
          ],
          [
           0.5555555555555556,
           "#d8576b"
          ],
          [
           0.6666666666666666,
           "#ed7953"
          ],
          [
           0.7777777777777778,
           "#fb9f3a"
          ],
          [
           0.8888888888888888,
           "#fdca26"
          ],
          [
           1,
           "#f0f921"
          ]
         ]
        },
        "legend": {
         "tracegroupgap": 0
        },
        "margin": {
         "t": 60
        },
        "template": {
         "data": {
          "bar": [
           {
            "error_x": {
             "color": "#2a3f5f"
            },
            "error_y": {
             "color": "#2a3f5f"
            },
            "marker": {
             "line": {
              "color": "#E5ECF6",
              "width": 0.5
             },
             "pattern": {
              "fillmode": "overlay",
              "size": 10,
              "solidity": 0.2
             }
            },
            "type": "bar"
           }
          ],
          "barpolar": [
           {
            "marker": {
             "line": {
              "color": "#E5ECF6",
              "width": 0.5
             },
             "pattern": {
              "fillmode": "overlay",
              "size": 10,
              "solidity": 0.2
             }
            },
            "type": "barpolar"
           }
          ],
          "carpet": [
           {
            "aaxis": {
             "endlinecolor": "#2a3f5f",
             "gridcolor": "white",
             "linecolor": "white",
             "minorgridcolor": "white",
             "startlinecolor": "#2a3f5f"
            },
            "baxis": {
             "endlinecolor": "#2a3f5f",
             "gridcolor": "white",
             "linecolor": "white",
             "minorgridcolor": "white",
             "startlinecolor": "#2a3f5f"
            },
            "type": "carpet"
           }
          ],
          "choropleth": [
           {
            "colorbar": {
             "outlinewidth": 0,
             "ticks": ""
            },
            "type": "choropleth"
           }
          ],
          "contour": [
           {
            "colorbar": {
             "outlinewidth": 0,
             "ticks": ""
            },
            "colorscale": [
             [
              0,
              "#0d0887"
             ],
             [
              0.1111111111111111,
              "#46039f"
             ],
             [
              0.2222222222222222,
              "#7201a8"
             ],
             [
              0.3333333333333333,
              "#9c179e"
             ],
             [
              0.4444444444444444,
              "#bd3786"
             ],
             [
              0.5555555555555556,
              "#d8576b"
             ],
             [
              0.6666666666666666,
              "#ed7953"
             ],
             [
              0.7777777777777778,
              "#fb9f3a"
             ],
             [
              0.8888888888888888,
              "#fdca26"
             ],
             [
              1,
              "#f0f921"
             ]
            ],
            "type": "contour"
           }
          ],
          "contourcarpet": [
           {
            "colorbar": {
             "outlinewidth": 0,
             "ticks": ""
            },
            "type": "contourcarpet"
           }
          ],
          "heatmap": [
           {
            "colorbar": {
             "outlinewidth": 0,
             "ticks": ""
            },
            "colorscale": [
             [
              0,
              "#0d0887"
             ],
             [
              0.1111111111111111,
              "#46039f"
             ],
             [
              0.2222222222222222,
              "#7201a8"
             ],
             [
              0.3333333333333333,
              "#9c179e"
             ],
             [
              0.4444444444444444,
              "#bd3786"
             ],
             [
              0.5555555555555556,
              "#d8576b"
             ],
             [
              0.6666666666666666,
              "#ed7953"
             ],
             [
              0.7777777777777778,
              "#fb9f3a"
             ],
             [
              0.8888888888888888,
              "#fdca26"
             ],
             [
              1,
              "#f0f921"
             ]
            ],
            "type": "heatmap"
           }
          ],
          "heatmapgl": [
           {
            "colorbar": {
             "outlinewidth": 0,
             "ticks": ""
            },
            "colorscale": [
             [
              0,
              "#0d0887"
             ],
             [
              0.1111111111111111,
              "#46039f"
             ],
             [
              0.2222222222222222,
              "#7201a8"
             ],
             [
              0.3333333333333333,
              "#9c179e"
             ],
             [
              0.4444444444444444,
              "#bd3786"
             ],
             [
              0.5555555555555556,
              "#d8576b"
             ],
             [
              0.6666666666666666,
              "#ed7953"
             ],
             [
              0.7777777777777778,
              "#fb9f3a"
             ],
             [
              0.8888888888888888,
              "#fdca26"
             ],
             [
              1,
              "#f0f921"
             ]
            ],
            "type": "heatmapgl"
           }
          ],
          "histogram": [
           {
            "marker": {
             "pattern": {
              "fillmode": "overlay",
              "size": 10,
              "solidity": 0.2
             }
            },
            "type": "histogram"
           }
          ],
          "histogram2d": [
           {
            "colorbar": {
             "outlinewidth": 0,
             "ticks": ""
            },
            "colorscale": [
             [
              0,
              "#0d0887"
             ],
             [
              0.1111111111111111,
              "#46039f"
             ],
             [
              0.2222222222222222,
              "#7201a8"
             ],
             [
              0.3333333333333333,
              "#9c179e"
             ],
             [
              0.4444444444444444,
              "#bd3786"
             ],
             [
              0.5555555555555556,
              "#d8576b"
             ],
             [
              0.6666666666666666,
              "#ed7953"
             ],
             [
              0.7777777777777778,
              "#fb9f3a"
             ],
             [
              0.8888888888888888,
              "#fdca26"
             ],
             [
              1,
              "#f0f921"
             ]
            ],
            "type": "histogram2d"
           }
          ],
          "histogram2dcontour": [
           {
            "colorbar": {
             "outlinewidth": 0,
             "ticks": ""
            },
            "colorscale": [
             [
              0,
              "#0d0887"
             ],
             [
              0.1111111111111111,
              "#46039f"
             ],
             [
              0.2222222222222222,
              "#7201a8"
             ],
             [
              0.3333333333333333,
              "#9c179e"
             ],
             [
              0.4444444444444444,
              "#bd3786"
             ],
             [
              0.5555555555555556,
              "#d8576b"
             ],
             [
              0.6666666666666666,
              "#ed7953"
             ],
             [
              0.7777777777777778,
              "#fb9f3a"
             ],
             [
              0.8888888888888888,
              "#fdca26"
             ],
             [
              1,
              "#f0f921"
             ]
            ],
            "type": "histogram2dcontour"
           }
          ],
          "mesh3d": [
           {
            "colorbar": {
             "outlinewidth": 0,
             "ticks": ""
            },
            "type": "mesh3d"
           }
          ],
          "parcoords": [
           {
            "line": {
             "colorbar": {
              "outlinewidth": 0,
              "ticks": ""
             }
            },
            "type": "parcoords"
           }
          ],
          "pie": [
           {
            "automargin": true,
            "type": "pie"
           }
          ],
          "scatter": [
           {
            "marker": {
             "colorbar": {
              "outlinewidth": 0,
              "ticks": ""
             }
            },
            "type": "scatter"
           }
          ],
          "scatter3d": [
           {
            "line": {
             "colorbar": {
              "outlinewidth": 0,
              "ticks": ""
             }
            },
            "marker": {
             "colorbar": {
              "outlinewidth": 0,
              "ticks": ""
             }
            },
            "type": "scatter3d"
           }
          ],
          "scattercarpet": [
           {
            "marker": {
             "colorbar": {
              "outlinewidth": 0,
              "ticks": ""
             }
            },
            "type": "scattercarpet"
           }
          ],
          "scattergeo": [
           {
            "marker": {
             "colorbar": {
              "outlinewidth": 0,
              "ticks": ""
             }
            },
            "type": "scattergeo"
           }
          ],
          "scattergl": [
           {
            "marker": {
             "colorbar": {
              "outlinewidth": 0,
              "ticks": ""
             }
            },
            "type": "scattergl"
           }
          ],
          "scattermapbox": [
           {
            "marker": {
             "colorbar": {
              "outlinewidth": 0,
              "ticks": ""
             }
            },
            "type": "scattermapbox"
           }
          ],
          "scatterpolar": [
           {
            "marker": {
             "colorbar": {
              "outlinewidth": 0,
              "ticks": ""
             }
            },
            "type": "scatterpolar"
           }
          ],
          "scatterpolargl": [
           {
            "marker": {
             "colorbar": {
              "outlinewidth": 0,
              "ticks": ""
             }
            },
            "type": "scatterpolargl"
           }
          ],
          "scatterternary": [
           {
            "marker": {
             "colorbar": {
              "outlinewidth": 0,
              "ticks": ""
             }
            },
            "type": "scatterternary"
           }
          ],
          "surface": [
           {
            "colorbar": {
             "outlinewidth": 0,
             "ticks": ""
            },
            "colorscale": [
             [
              0,
              "#0d0887"
             ],
             [
              0.1111111111111111,
              "#46039f"
             ],
             [
              0.2222222222222222,
              "#7201a8"
             ],
             [
              0.3333333333333333,
              "#9c179e"
             ],
             [
              0.4444444444444444,
              "#bd3786"
             ],
             [
              0.5555555555555556,
              "#d8576b"
             ],
             [
              0.6666666666666666,
              "#ed7953"
             ],
             [
              0.7777777777777778,
              "#fb9f3a"
             ],
             [
              0.8888888888888888,
              "#fdca26"
             ],
             [
              1,
              "#f0f921"
             ]
            ],
            "type": "surface"
           }
          ],
          "table": [
           {
            "cells": {
             "fill": {
              "color": "#EBF0F8"
             },
             "line": {
              "color": "white"
             }
            },
            "header": {
             "fill": {
              "color": "#C8D4E3"
             },
             "line": {
              "color": "white"
             }
            },
            "type": "table"
           }
          ]
         },
         "layout": {
          "annotationdefaults": {
           "arrowcolor": "#2a3f5f",
           "arrowhead": 0,
           "arrowwidth": 1
          },
          "autotypenumbers": "strict",
          "coloraxis": {
           "colorbar": {
            "outlinewidth": 0,
            "ticks": ""
           }
          },
          "colorscale": {
           "diverging": [
            [
             0,
             "#8e0152"
            ],
            [
             0.1,
             "#c51b7d"
            ],
            [
             0.2,
             "#de77ae"
            ],
            [
             0.3,
             "#f1b6da"
            ],
            [
             0.4,
             "#fde0ef"
            ],
            [
             0.5,
             "#f7f7f7"
            ],
            [
             0.6,
             "#e6f5d0"
            ],
            [
             0.7,
             "#b8e186"
            ],
            [
             0.8,
             "#7fbc41"
            ],
            [
             0.9,
             "#4d9221"
            ],
            [
             1,
             "#276419"
            ]
           ],
           "sequential": [
            [
             0,
             "#0d0887"
            ],
            [
             0.1111111111111111,
             "#46039f"
            ],
            [
             0.2222222222222222,
             "#7201a8"
            ],
            [
             0.3333333333333333,
             "#9c179e"
            ],
            [
             0.4444444444444444,
             "#bd3786"
            ],
            [
             0.5555555555555556,
             "#d8576b"
            ],
            [
             0.6666666666666666,
             "#ed7953"
            ],
            [
             0.7777777777777778,
             "#fb9f3a"
            ],
            [
             0.8888888888888888,
             "#fdca26"
            ],
            [
             1,
             "#f0f921"
            ]
           ],
           "sequentialminus": [
            [
             0,
             "#0d0887"
            ],
            [
             0.1111111111111111,
             "#46039f"
            ],
            [
             0.2222222222222222,
             "#7201a8"
            ],
            [
             0.3333333333333333,
             "#9c179e"
            ],
            [
             0.4444444444444444,
             "#bd3786"
            ],
            [
             0.5555555555555556,
             "#d8576b"
            ],
            [
             0.6666666666666666,
             "#ed7953"
            ],
            [
             0.7777777777777778,
             "#fb9f3a"
            ],
            [
             0.8888888888888888,
             "#fdca26"
            ],
            [
             1,
             "#f0f921"
            ]
           ]
          },
          "colorway": [
           "#636efa",
           "#EF553B",
           "#00cc96",
           "#ab63fa",
           "#FFA15A",
           "#19d3f3",
           "#FF6692",
           "#B6E880",
           "#FF97FF",
           "#FECB52"
          ],
          "font": {
           "color": "#2a3f5f"
          },
          "geo": {
           "bgcolor": "white",
           "lakecolor": "white",
           "landcolor": "#E5ECF6",
           "showlakes": true,
           "showland": true,
           "subunitcolor": "white"
          },
          "hoverlabel": {
           "align": "left"
          },
          "hovermode": "closest",
          "mapbox": {
           "style": "light"
          },
          "paper_bgcolor": "white",
          "plot_bgcolor": "#E5ECF6",
          "polar": {
           "angularaxis": {
            "gridcolor": "white",
            "linecolor": "white",
            "ticks": ""
           },
           "bgcolor": "#E5ECF6",
           "radialaxis": {
            "gridcolor": "white",
            "linecolor": "white",
            "ticks": ""
           }
          },
          "scene": {
           "xaxis": {
            "backgroundcolor": "#E5ECF6",
            "gridcolor": "white",
            "gridwidth": 2,
            "linecolor": "white",
            "showbackground": true,
            "ticks": "",
            "zerolinecolor": "white"
           },
           "yaxis": {
            "backgroundcolor": "#E5ECF6",
            "gridcolor": "white",
            "gridwidth": 2,
            "linecolor": "white",
            "showbackground": true,
            "ticks": "",
            "zerolinecolor": "white"
           },
           "zaxis": {
            "backgroundcolor": "#E5ECF6",
            "gridcolor": "white",
            "gridwidth": 2,
            "linecolor": "white",
            "showbackground": true,
            "ticks": "",
            "zerolinecolor": "white"
           }
          },
          "shapedefaults": {
           "line": {
            "color": "#2a3f5f"
           }
          },
          "ternary": {
           "aaxis": {
            "gridcolor": "white",
            "linecolor": "white",
            "ticks": ""
           },
           "baxis": {
            "gridcolor": "white",
            "linecolor": "white",
            "ticks": ""
           },
           "bgcolor": "#E5ECF6",
           "caxis": {
            "gridcolor": "white",
            "linecolor": "white",
            "ticks": ""
           }
          },
          "title": {
           "x": 0.05
          },
          "xaxis": {
           "automargin": true,
           "gridcolor": "white",
           "linecolor": "white",
           "ticks": "",
           "title": {
            "standoff": 15
           },
           "zerolinecolor": "white",
           "zerolinewidth": 2
          },
          "yaxis": {
           "automargin": true,
           "gridcolor": "white",
           "linecolor": "white",
           "ticks": "",
           "title": {
            "standoff": 15
           },
           "zerolinecolor": "white",
           "zerolinewidth": 2
          }
         }
        },
        "xaxis": {
         "anchor": "y",
         "domain": [
          0,
          1
         ],
         "title": {
          "text": "tsne_1"
         }
        },
        "yaxis": {
         "anchor": "x",
         "domain": [
          0,
          1
         ],
         "title": {
          "text": "tsne_2"
         }
        }
       }
      }
     },
     "metadata": {},
     "output_type": "display_data"
    }
   ],
   "source": [
    "import plotly.express as px\n",
    "\n",
    "tsne_df = pd.DataFrame(item_tsne, columns=[\"tsne_1\", \"tsne_2\"])\n",
    "tsne_df[\"item_id\"] = np.arange(item_tsne.shape[0])\n",
    "tsne_df = tsne_df.merge(items.reset_index())\n",
    "\n",
    "px.scatter(tsne_df, x=\"tsne_1\", y=\"tsne_2\",\n",
    "           color=\"popularity\",\n",
    "           hover_data=[\"item_id\", \"title\",\n",
    "                       \"release_year\", \"popularity\"])"
   ]
  },
  {
   "cell_type": "markdown",
   "metadata": {},
   "source": [
    "Alternatively with [Uniform Manifold Approximation and Projection](https://github.com/lmcinnes/umap):"
   ]
  },
  {
   "cell_type": "code",
   "execution_count": 73,
   "metadata": {},
   "outputs": [],
   "source": [
    "# %pip install umap-learn"
   ]
  },
  {
   "cell_type": "code",
   "execution_count": 75,
   "metadata": {},
   "outputs": [],
   "source": [
    "# import umap\n",
    "\n",
    "# item_umap = umap.UMAP().fit_transform(item_embeddings)\n",
    "# plt.figure(figsize=(10, 10))\n",
    "# plt.scatter(item_umap[:, 0], item_umap[:, 1]);\n",
    "# plt.xticks(()); plt.yticks(());\n",
    "# plt.show()"
   ]
  },
  {
   "cell_type": "markdown",
   "metadata": {},
   "source": [
    "## A Deep recommender model\n",
    "\n",
    "Using a similar framework as previously, the following deep model described in the course was built (with only two fully connected)\n",
    "\n",
    "<img src=\"images/rec_archi_2.svg\" style=\"width: 600px;\" />\n",
    "\n",
    "To build this model we will need a new kind of layer:"
   ]
  },
  {
   "cell_type": "code",
   "execution_count": 76,
   "metadata": {},
   "outputs": [],
   "source": [
    "from tensorflow.keras.layers import Concatenate"
   ]
  },
  {
   "cell_type": "markdown",
   "metadata": {},
   "source": [
    "\n",
    "### Exercise\n",
    "\n",
    "- The following code has **4 errors** that prevent it from working correctly. **Correct them and explain** why they are critical."
   ]
  },
  {
   "cell_type": "code",
   "execution_count": 91,
   "metadata": {},
   "outputs": [],
   "source": [
    "class DeepRegressionModel(Model):\n",
    "\n",
    "    def __init__(self, embedding_size, max_user_id, max_item_id):\n",
    "        super().__init__()\n",
    "        \n",
    "        self.user_embedding = Embedding(output_dim=embedding_size,\n",
    "                                        input_dim=max_user_id + 1,\n",
    "                                        input_length=1,\n",
    "                                        name='user_embedding')\n",
    "        self.item_embedding = Embedding(output_dim=embedding_size,\n",
    "                                        input_dim=max_item_id + 1,\n",
    "                                        input_length=1,\n",
    "                                        name='item_embedding')\n",
    "        \n",
    "        # The following two layers don't have parameters.\n",
    "        self.flatten = Flatten()\n",
    "        self.concat = Concatenate()\n",
    "        \n",
    "        self.dropout = Dropout(0.2)\n",
    "        self.dense1 = Dense(64, activation=\"relu\")\n",
    "        self.dense2 = Dense(1)\n",
    "        \n",
    "    def call(self, inputs, training=False):\n",
    "        user_inputs = inputs[0]\n",
    "        item_inputs = inputs[1]\n",
    "        \n",
    "        user_vecs = self.flatten(self.user_embedding(user_inputs))\n",
    "        item_vecs = self.flatten(self.item_embedding(item_inputs))\n",
    "        \n",
    "        input_vecs = self.concat([user_vecs, item_vecs])\n",
    "        \n",
    "        y = self.dropout(input_vecs, training=training)\n",
    "        y = self.dense1(y)\n",
    "        y = self.dense2(y)\n",
    "        \n",
    "        return y\n",
    "        \n",
    "model = DeepRegressionModel(64, max_user_id, max_item_id)\n",
    "model.compile(optimizer='adam', loss='mae')\n",
    "\n",
    "initial_train_preds = model.predict([user_id_train, item_id_train])"
   ]
  },
  {
   "cell_type": "code",
   "execution_count": 92,
   "metadata": {},
   "outputs": [],
   "source": [
    "# %load solutions/deep_explicit_feedback_recsys.py"
   ]
  },
  {
   "cell_type": "code",
   "execution_count": 93,
   "metadata": {},
   "outputs": [
    {
     "name": "stdout",
     "output_type": "stream",
     "text": [
      "Epoch 1/10\n",
      "1125/1125 [==============================] - 3s 2ms/step - loss: 0.9722 - val_loss: 0.7629\n",
      "Epoch 2/10\n",
      "1125/1125 [==============================] - 3s 2ms/step - loss: 0.7504 - val_loss: 0.7508\n",
      "Epoch 3/10\n",
      "1125/1125 [==============================] - 3s 2ms/step - loss: 0.7367 - val_loss: 0.7414\n",
      "Epoch 4/10\n",
      "1125/1125 [==============================] - 2s 2ms/step - loss: 0.7247 - val_loss: 0.7392\n",
      "Epoch 5/10\n",
      "1125/1125 [==============================] - 2s 2ms/step - loss: 0.7135 - val_loss: 0.7309\n",
      "Epoch 6/10\n",
      "1125/1125 [==============================] - 3s 3ms/step - loss: 0.7046 - val_loss: 0.7311\n",
      "Epoch 7/10\n",
      "1125/1125 [==============================] - 3s 2ms/step - loss: 0.6958 - val_loss: 0.7325\n",
      "Epoch 8/10\n",
      "1125/1125 [==============================] - 3s 2ms/step - loss: 0.6894 - val_loss: 0.7263\n",
      "Epoch 9/10\n",
      "1125/1125 [==============================] - 3s 2ms/step - loss: 0.6846 - val_loss: 0.7294\n",
      "Epoch 10/10\n",
      "1125/1125 [==============================] - 3s 3ms/step - loss: 0.6783 - val_loss: 0.7264\n",
      "CPU times: user 34.3 s, sys: 4.7 s, total: 39 s\n",
      "Wall time: 27.1 s\n"
     ]
    }
   ],
   "source": [
    "%%time\n",
    "history = model.fit([user_id_train, item_id_train], rating_train,\n",
    "                    batch_size=64, epochs=10, validation_split=0.1,\n",
    "                    shuffle=True)"
   ]
  },
  {
   "cell_type": "code",
   "execution_count": 94,
   "metadata": {},
   "outputs": [
    {
     "data": {
      "image/png": "[encoded data removed]",
      "text/plain": [
       "<Figure size 432x288 with 1 Axes>"
      ]
     },
     "metadata": {
      "needs_background": "light"
     },
     "output_type": "display_data"
    }
   ],
   "source": [
    "plt.plot(history.history['loss'], label='train')\n",
    "plt.plot(history.history['val_loss'], label='validation')\n",
    "plt.ylim(0, 2)\n",
    "plt.legend(loc='best')\n",
    "plt.title('Loss');"
   ]
  },
  {
   "cell_type": "code",
   "execution_count": 95,
   "metadata": {},
   "outputs": [
    {
     "name": "stdout",
     "output_type": "stream",
     "text": [
      "Final train MSE: 0.789\n",
      "Final train MAE: 0.657\n"
     ]
    }
   ],
   "source": [
    "train_preds = model.predict([user_id_train, item_id_train])\n",
    "print(\"Final train MSE: %0.3f\" % mean_squared_error(train_preds, rating_train))\n",
    "print(\"Final train MAE: %0.3f\" % mean_absolute_error(train_preds, rating_train))"
   ]
  },
  {
   "cell_type": "code",
   "execution_count": 96,
   "metadata": {},
   "outputs": [
    {
     "name": "stdout",
     "output_type": "stream",
     "text": [
      "Final test MSE: 0.915\n",
      "Final test MAE: 0.728\n"
     ]
    }
   ],
   "source": [
    "test_preds = model.predict([user_id_test, item_id_test])\n",
    "print(\"Final test MSE: %0.3f\" % mean_squared_error(test_preds, rating_test))\n",
    "print(\"Final test MAE: %0.3f\" % mean_absolute_error(test_preds, rating_test))"
   ]
  },
  {
   "cell_type": "markdown",
   "metadata": {},
   "source": [
    "The performance of this model is not necessarily significantly better than the previous model but you can notice that the gap between train and test is lower, probably thanks to the use of dropout.\n",
    "\n",
    "Furthermore this model is more flexible in the sense that we can extend it to include metadata for hybrid recsys as we will see in the following."
   ]
  },
  {
   "cell_type": "markdown",
   "metadata": {},
   "source": [
    "### Home assignment: \n",
    " - Add another layer, compare train/test error.\n",
    " - Can you improve the test MAE? \n",
    " - Try adding more dropout and change layer sizes.\n",
    " \n",
    " \n",
    "Manual tuning of so many hyperparameters is tedious. In practice it's better to automate the design of the model using an hyperparameter search tool such as:\n",
    "\n",
    "- https://keras-team.github.io/keras-tuner/ (Keras specific)\n",
    "- https://optuna.org/ (any machine learning framework, Keras included)"
   ]
  },
  {
   "cell_type": "markdown",
   "metadata": {},
   "source": [
    "## Using item metadata in the model\n",
    "\n",
    "Using a similar framework as previously, we will build another deep model that can also leverage additional metadata. The resulting system is therefore an **Hybrid Recommender System** that does both **Collaborative Filtering** and **Content-based recommendations**.\n",
    "\n",
    "<img src=\"images/rec_archi_3.svg\" style=\"width: 600px;\" />\n"
   ]
  },
  {
   "cell_type": "code",
   "execution_count": 97,
   "metadata": {},
   "outputs": [],
   "source": [
    "from sklearn.preprocessing import QuantileTransformer\n",
    "\n",
    "meta_columns = ['popularity', 'release_year']\n",
    "\n",
    "scaler = QuantileTransformer()\n",
    "item_meta_train = scaler.fit_transform(ratings_train[meta_columns])\n",
    "item_meta_test = scaler.transform(ratings_test[meta_columns])"
   ]
  },
  {
   "cell_type": "code",
   "execution_count": 98,
   "metadata": {},
   "outputs": [],
   "source": [
    "class HybridModel(Model):\n",
    "\n",
    "    def __init__(self, embedding_size, max_user_id, max_item_id):\n",
    "        super().__init__()\n",
    "        \n",
    "        self.user_embedding = Embedding(output_dim=embedding_size,\n",
    "                                        input_dim=max_user_id + 1,\n",
    "                                        input_length=1,\n",
    "                                        name='user_embedding')\n",
    "        self.item_embedding = Embedding(output_dim=embedding_size,\n",
    "                                        input_dim=max_item_id + 1,\n",
    "                                        input_length=1,\n",
    "                                        name='item_embedding')\n",
    "        \n",
    "        # The following two layers don't have parameters.\n",
    "        self.flatten = Flatten()\n",
    "        self.concat = Concatenate()\n",
    "        \n",
    "        self.dense1 = Dense(64, activation=\"relu\")\n",
    "        self.dropout = Dropout(0.3)\n",
    "        self.dense2 = Dense(64, activation='relu')\n",
    "        self.dense3 = Dense(1)\n",
    "        \n",
    "    def call(self, inputs, training=False):\n",
    "        user_inputs = inputs[0]\n",
    "        item_inputs = inputs[1]\n",
    "        meta_inputs = inputs[2]\n",
    "\n",
    "        user_vecs = self.flatten(self.user_embedding(user_inputs))\n",
    "        user_vecs = self.dropout(user_vecs, training=training)\n",
    "\n",
    "        item_vecs = self.flatten(self.item_embedding(item_inputs))\n",
    "        item_vecs = self.dropout(item_vecs, training=training)\n",
    "\n",
    "        input_vecs = self.concat([user_vecs, item_vecs, meta_inputs])\n",
    "\n",
    "        y = self.dense1(input_vecs)\n",
    "        y = self.dropout(y, training=training)\n",
    "        y = self.dense2(y)\n",
    "        y = self.dropout(y, training=training)\n",
    "        y = self.dense3(y)\n",
    "        return y\n",
    "        \n",
    "model = HybridModel(64, max_user_id, max_item_id)\n",
    "model.compile(optimizer='adam', loss='mae')\n",
    "\n",
    "initial_train_preds = model.predict([user_id_train,\n",
    "                                     item_id_train,\n",
    "                                     item_meta_train])"
   ]
  },
  {
   "cell_type": "code",
   "execution_count": 99,
   "metadata": {},
   "outputs": [
    {
     "name": "stdout",
     "output_type": "stream",
     "text": [
      "Epoch 1/10\n",
      "1125/1125 [==============================] - 3s 3ms/step - loss: 0.9578 - val_loss: 0.7556\n",
      "Epoch 2/10\n",
      "1125/1125 [==============================] - 2s 2ms/step - loss: 0.8121 - val_loss: 0.7665\n",
      "Epoch 3/10\n",
      "1125/1125 [==============================] - 2s 2ms/step - loss: 0.7862 - val_loss: 0.7379\n",
      "Epoch 4/10\n",
      "1125/1125 [==============================] - 2s 2ms/step - loss: 0.7700 - val_loss: 0.7328\n",
      "Epoch 5/10\n",
      "1125/1125 [==============================] - 3s 2ms/step - loss: 0.7537 - val_loss: 0.7307\n",
      "Epoch 6/10\n",
      "1125/1125 [==============================] - 2s 2ms/step - loss: 0.7428 - val_loss: 0.7228\n",
      "Epoch 7/10\n",
      "1125/1125 [==============================] - 2s 2ms/step - loss: 0.7322 - val_loss: 0.7214\n",
      "Epoch 8/10\n",
      "1125/1125 [==============================] - 3s 2ms/step - loss: 0.7223 - val_loss: 0.7196\n",
      "Epoch 9/10\n",
      "1125/1125 [==============================] - 2s 2ms/step - loss: 0.7128 - val_loss: 0.7177\n",
      "Epoch 10/10\n",
      "1125/1125 [==============================] - 3s 2ms/step - loss: 0.7064 - val_loss: 0.7185\n",
      "CPU times: user 36.1 s, sys: 5.17 s, total: 41.3 s\n",
      "Wall time: 25.4 s\n"
     ]
    }
   ],
   "source": [
    "%%time\n",
    "history = model.fit([user_id_train, item_id_train, item_meta_train],\n",
    "                    rating_train,\n",
    "                    batch_size=64, epochs=10, validation_split=0.1,\n",
    "                    shuffle=True)"
   ]
  },
  {
   "cell_type": "code",
   "execution_count": 100,
   "metadata": {},
   "outputs": [
    {
     "name": "stdout",
     "output_type": "stream",
     "text": [
      "Final test MSE: 0.872\n",
      "Final test MAE: 0.720\n"
     ]
    }
   ],
   "source": [
    "test_preds = model.predict([user_id_test, item_id_test, item_meta_test])\n",
    "print(\"Final test MSE: %0.3f\" % mean_squared_error(test_preds, rating_test))\n",
    "print(\"Final test MAE: %0.3f\" % mean_absolute_error(test_preds, rating_test))"
   ]
  },
  {
   "cell_type": "markdown",
   "metadata": {},
   "source": [
    "The additional metadata seems to improve the predictive power of the model a bit but this should be re-run several times to see the impact of the random initialization of the model.\n",
    "\n",
    "\n",
    "### A recommendation function for a given user\n",
    "\n",
    "Once the model is trained, the system can be used to recommend a few items for a user, that he/she hasn't already seen:\n",
    "- we use the `model.predict` to compute the ratings a user would have given to all items\n",
    "- we build a reco function that sorts these items and exclude those the user has already seen"
   ]
  },
  {
   "cell_type": "code",
   "execution_count": 101,
   "metadata": {
    "scrolled": true
   },
   "outputs": [],
   "source": [
    "def recommend(user_id, top_n=10):\n",
    "    item_ids = range(1, max_item_id)\n",
    "    seen_mask = all_ratings[\"user_id\"] == user_id\n",
    "    seen_movies = set(all_ratings[seen_mask][\"item_id\"])\n",
    "    item_ids = list(filter(lambda x: x not in seen_movies, item_ids))\n",
    "\n",
    "    print(\"User %d has seen %d movies, including:\" % (user_id, len(seen_movies)))\n",
    "    for title in all_ratings[seen_mask].nlargest(20, 'popularity')['title']:\n",
    "        print(\"   \", title)\n",
    "    print(\"Computing ratings for %d other movies:\" % len(item_ids))\n",
    "    \n",
    "    item_ids = np.array(item_ids)\n",
    "    user_ids = np.zeros_like(item_ids)\n",
    "    user_ids[:] = user_id\n",
    "    items_meta = scaler.transform(indexed_items[meta_columns].loc[item_ids])\n",
    "    \n",
    "    rating_preds = model.predict([user_ids, item_ids, items_meta])\n",
    "    \n",
    "    item_ids = np.argsort(rating_preds[:, 0])[::-1].tolist()\n",
    "    rec_items = item_ids[:top_n]\n",
    "    return [(items[\"title\"][movie], rating_preds[movie][0])\n",
    "            for movie in rec_items]"
   ]
  },
  {
   "cell_type": "code",
   "execution_count": 102,
   "metadata": {},
   "outputs": [
    {
     "name": "stdout",
     "output_type": "stream",
     "text": [
      "User 5 has seen 175 movies, including:\n",
      "    Star Wars (1977)\n",
      "    Fargo (1996)\n",
      "    Return of the Jedi (1983)\n",
      "    Toy Story (1995)\n",
      "    Independence Day (ID4) (1996)\n",
      "    Raiders of the Lost Ark (1981)\n",
      "    Silence of the Lambs, The (1991)\n",
      "    Empire Strikes Back, The (1980)\n",
      "    Star Trek: First Contact (1996)\n",
      "    Back to the Future (1985)\n",
      "    Mission: Impossible (1996)\n",
      "    Fugitive, The (1993)\n",
      "    Indiana Jones and the Last Crusade (1989)\n",
      "    Willy Wonka and the Chocolate Factory (1971)\n",
      "    Princess Bride, The (1987)\n",
      "    Forrest Gump (1994)\n",
      "    Monty Python and the Holy Grail (1974)\n",
      "    Men in Black (1997)\n",
      "    E.T. the Extra-Terrestrial (1982)\n",
      "    Birdcage, The (1996)\n",
      "Computing ratings for 1506 other movies:\n",
      "    4.6: August (1996)\n",
      "    4.5: Boys of St. Vincent, The (1993)\n",
      "    4.5: Romy and Michele's High School Reunion (1997)\n",
      "    4.4: Raising Arizona (1987)\n",
      "    4.3: Richard III (1995)\n",
      "    4.3: Robocop 3 (1993)\n",
      "    4.3: Under Siege (1992)\n",
      "    4.3: Ref, The (1994)\n",
      "    4.2: Raging Bull (1980)\n",
      "    4.2: Madness of King George, The (1994)\n"
     ]
    }
   ],
   "source": [
    "for title, pred_rating in recommend(5):\n",
    "    print(\"    %0.1f: %s\" % (pred_rating, title))"
   ]
  },
  {
   "cell_type": "markdown",
   "metadata": {},
   "source": [
    "### Home assignment: Predicting ratings as a classification problem\n",
    "\n",
    "In this dataset, the ratings all belong to a finite set of possible values:"
   ]
  },
  {
   "cell_type": "code",
   "execution_count": 103,
   "metadata": {},
   "outputs": [
    {
     "data": {
      "text/plain": [
       "array([1, 2, 3, 4, 5])"
      ]
     },
     "execution_count": 103,
     "metadata": {},
     "output_type": "execute_result"
    }
   ],
   "source": [
    "import numpy as np\n",
    "\n",
    "np.unique(rating_train)"
   ]
  },
  {
   "cell_type": "markdown",
   "metadata": {},
   "source": [
    "Maybe we can help the model by forcing it to predict those values by treating the problem as a multiclassification problem. The only required changes are:\n",
    "\n",
    "- setting the final layer to output class membership probabities using a softmax activation with 5 outputs;\n",
    "- optimize the categorical cross-entropy classification loss instead of a regression loss such as MSE or MAE."
   ]
  },
  {
   "cell_type": "code",
   "execution_count": 137,
   "metadata": {},
   "outputs": [],
   "source": [
    "class ClassificationModelPerso(Model):\n",
    "\n",
    "    def __init__(self, embedding_size, max_user_id, max_item_id):\n",
    "        super().__init__()\n",
    "        \n",
    "        self.user_embedding = Embedding(output_dim=embedding_size,\n",
    "                                        input_dim=max_user_id + 1,\n",
    "                                        input_length=1,\n",
    "                                        name='user_embedding')\n",
    "        self.item_embedding = Embedding(output_dim=embedding_size,\n",
    "                                        input_dim=max_item_id + 1,\n",
    "                                        input_length=1,\n",
    "                                        name='item_embedding')\n",
    "        \n",
    "        # The following two layers don't have parameters.\n",
    "        self.flatten = Flatten()\n",
    "        self.concat = Concatenate()\n",
    "        \n",
    "        self.dense1 = Dense(64, activation=\"relu\")\n",
    "        self.dropout = Dropout(0.3)\n",
    "        self.dense2 = Dense(64, activation='relu')\n",
    "        self.dense3 = Dense(5, activation='softmax')\n",
    "        \n",
    "    def call(self, inputs, training=False):\n",
    "        user_inputs = inputs[0]\n",
    "        item_inputs = inputs[1]\n",
    "        meta_inputs = inputs[2]\n",
    "\n",
    "        user_vecs = self.flatten(self.user_embedding(user_inputs))\n",
    "        user_vecs = self.dropout(user_vecs, training=training)\n",
    "\n",
    "        item_vecs = self.flatten(self.item_embedding(item_inputs))\n",
    "        item_vecs = self.dropout(item_vecs, training=training)\n",
    "\n",
    "        input_vecs = self.concat([user_vecs, item_vecs, meta_inputs])\n",
    "\n",
    "        y = self.dense1(input_vecs)\n",
    "        y = self.dropout(y, training=training)\n",
    "        y = self.dense2(y)\n",
    "        y = self.dropout(y, training=training)\n",
    "        y = self.dense3(y)\n",
    "        return y\n",
    "        \n",
    "model = ClassificationModelPerso(64, max_user_id, max_item_id)\n",
    "model.compile(optimizer='adam', loss='categorical_crossentropy')\n",
    "\n",
    "initial_train_preds = model.predict([user_id_train,\n",
    "                                     item_id_train,\n",
    "                                     item_meta_train])"
   ]
  },
  {
   "cell_type": "code",
   "execution_count": 138,
   "metadata": {},
   "outputs": [],
   "source": [
    "rating_train_one_hot = np.eye(6)[rating_train][:, 1:]\n",
    "rating_test_one_hot = np.eye(6)[rating_test][:, 1:]"
   ]
  },
  {
   "cell_type": "code",
   "execution_count": 139,
   "metadata": {},
   "outputs": [
    {
     "name": "stdout",
     "output_type": "stream",
     "text": [
      "Epoch 1/10\n",
      "1125/1125 [==============================] - 3s 2ms/step - loss: 1.3386 - val_loss: 1.2640\n",
      "Epoch 2/10\n",
      "1125/1125 [==============================] - 3s 2ms/step - loss: 1.2545 - val_loss: 1.2445\n",
      "Epoch 3/10\n",
      "1125/1125 [==============================] - 2s 2ms/step - loss: 1.2289 - val_loss: 1.2355\n",
      "Epoch 4/10\n",
      "1125/1125 [==============================] - 2s 2ms/step - loss: 1.2119 - val_loss: 1.2341\n",
      "Epoch 5/10\n",
      "1125/1125 [==============================] - 2s 2ms/step - loss: 1.1984 - val_loss: 1.2355\n",
      "Epoch 6/10\n",
      "1125/1125 [==============================] - 2s 2ms/step - loss: 1.1866 - val_loss: 1.2349\n",
      "Epoch 7/10\n",
      "1125/1125 [==============================] - 2s 2ms/step - loss: 1.1754 - val_loss: 1.2320\n",
      "Epoch 8/10\n",
      "1125/1125 [==============================] - 2s 2ms/step - loss: 1.1665 - val_loss: 1.2391\n",
      "Epoch 9/10\n",
      "1125/1125 [==============================] - 2s 2ms/step - loss: 1.1564 - val_loss: 1.2400\n",
      "Epoch 10/10\n",
      "1125/1125 [==============================] - 2s 2ms/step - loss: 1.1487 - val_loss: 1.2383\n"
     ]
    }
   ],
   "source": [
    "history = model.fit([user_id_train, item_id_train, item_meta_train],\n",
    "                    rating_train_one_hot,\n",
    "                    batch_size=64, epochs=10, validation_split=0.1,\n",
    "                    shuffle=True)"
   ]
  },
  {
   "cell_type": "code",
   "execution_count": 140,
   "metadata": {},
   "outputs": [
    {
     "data": {
      "image/png": "[encoded data removed]",
      "text/plain": [
       "<Figure size 432x288 with 1 Axes>"
      ]
     },
     "metadata": {
      "needs_background": "light"
     },
     "output_type": "display_data"
    }
   ],
   "source": [
    "plt.plot(history.history['loss'], label='train')\n",
    "plt.plot(history.history['val_loss'], label='validation')\n",
    "plt.ylim(0, 2)\n",
    "plt.legend(loc='best')\n",
    "plt.title('loss');"
   ]
  },
  {
   "cell_type": "code",
   "execution_count": 141,
   "metadata": {},
   "outputs": [
    {
     "name": "stdout",
     "output_type": "stream",
     "text": [
      "Final test MSE: 0.132\n",
      "Final test MAE: 0.257\n"
     ]
    }
   ],
   "source": [
    "test_preds = model.predict([user_id_test, item_id_test, item_meta_test])\n",
    "print(\"Final test MSE: %0.3f\" % mean_squared_error(test_preds, rating_test_one_hot))\n",
    "print(\"Final test MAE: %0.3f\" % mean_absolute_error(test_preds, rating_test_one_hot))"
   ]
  },
  {
   "cell_type": "code",
   "execution_count": 131,
   "metadata": {},
   "outputs": [
    {
     "name": "stdout",
     "output_type": "stream",
     "text": [
      "Random init MSE: 3.225\n",
      "Random init MAE: 1.458\n",
      "Epoch 1/15\n",
      "1125/1125 [==============================] - 2s 2ms/step - loss: 1.3641 - val_loss: 1.2742\n",
      "Epoch 2/15\n",
      "1125/1125 [==============================] - 2s 2ms/step - loss: 1.2825 - val_loss: 1.2612\n",
      "Epoch 3/15\n",
      "1125/1125 [==============================] - 2s 2ms/step - loss: 1.2652 - val_loss: 1.2564\n",
      "Epoch 4/15\n",
      "1125/1125 [==============================] - 2s 2ms/step - loss: 1.2551 - val_loss: 1.2532\n",
      "Epoch 5/15\n",
      "1125/1125 [==============================] - 2s 2ms/step - loss: 1.2458 - val_loss: 1.2489\n",
      "Epoch 6/15\n",
      "1125/1125 [==============================] - 3s 2ms/step - loss: 1.2392 - val_loss: 1.2437\n",
      "Epoch 7/15\n",
      "1125/1125 [==============================] - 2s 2ms/step - loss: 1.2326 - val_loss: 1.2440\n",
      "Epoch 8/15\n",
      "1125/1125 [==============================] - 2s 2ms/step - loss: 1.2295 - val_loss: 1.2404\n",
      "Epoch 9/15\n",
      "1125/1125 [==============================] - 2s 2ms/step - loss: 1.2262 - val_loss: 1.2411\n",
      "Epoch 10/15\n",
      "1125/1125 [==============================] - 2s 2ms/step - loss: 1.2230 - val_loss: 1.2418\n",
      "Epoch 11/15\n",
      "1125/1125 [==============================] - 3s 3ms/step - loss: 1.2211 - val_loss: 1.2388\n",
      "Epoch 12/15\n",
      "1125/1125 [==============================] - 2s 2ms/step - loss: 1.2199 - val_loss: 1.2414\n",
      "Epoch 13/15\n",
      "1125/1125 [==============================] - 2s 2ms/step - loss: 1.2164 - val_loss: 1.2406\n",
      "Epoch 14/15\n",
      "1125/1125 [==============================] - 3s 3ms/step - loss: 1.2128 - val_loss: 1.2426\n",
      "Epoch 15/15\n",
      "1125/1125 [==============================] - 3s 2ms/step - loss: 1.2107 - val_loss: 1.2394\n",
      "Final test MSE: 1.149\n",
      "Final test MAE: 0.720\n"
     ]
    },
    {
     "data": {
      "image/png": "[encoded data removed]",
      "text/plain": [
       "<Figure size 432x288 with 1 Axes>"
      ]
     },
     "metadata": {
      "needs_background": "light"
     },
     "output_type": "display_data"
    }
   ],
   "source": [
    "# %load solutions/classification.py\n",
    "class ClassificationModel(Model):\n",
    "    def __init__(self, embedding_size, max_user_id, max_item_id):\n",
    "        super().__init__()\n",
    "\n",
    "        self.user_embedding = Embedding(output_dim=embedding_size, input_dim=max_user_id + 1,\n",
    "                                        input_length=1, name='user_embedding')\n",
    "        self.item_embedding = Embedding(output_dim=embedding_size, input_dim=max_item_id + 1,\n",
    "                                        input_length=1, name='item_embedding')\n",
    "\n",
    "        # The following two layers don't have parameters.\n",
    "        self.flatten = Flatten()\n",
    "        self.concat = Concatenate()\n",
    "\n",
    "        self.dropout1 = Dropout(0.5)\n",
    "        self.dense1 = Dense(128, activation=\"relu\")\n",
    "        self.dropout2 = Dropout(0.2)\n",
    "        self.dense2 = Dense(128, activation='relu')\n",
    "        self.dense3 = Dense(5, activation=\"softmax\")\n",
    "\n",
    "    def call(self, inputs):\n",
    "        user_inputs = inputs[0]\n",
    "        item_inputs = inputs[1]\n",
    "\n",
    "        user_vecs = self.flatten(self.user_embedding(user_inputs))\n",
    "        item_vecs = self.flatten(self.item_embedding(item_inputs))\n",
    "\n",
    "        input_vecs = self.concat([user_vecs, item_vecs])\n",
    "\n",
    "        y = self.dropout1(input_vecs)\n",
    "        y = self.dense1(y)\n",
    "        y = self.dropout2(y)\n",
    "        y = self.dense2(y)\n",
    "        y = self.dense3(y)\n",
    "\n",
    "        return y\n",
    "\n",
    "model = ClassificationModel(16, max_user_id, max_item_id)\n",
    "model.compile(optimizer='adam', loss='sparse_categorical_crossentropy')\n",
    "\n",
    "initial_train_preds = model.predict([user_id_train, item_id_train]).argmax(axis=1) + 1\n",
    "print(\"Random init MSE: %0.3f\" % mean_squared_error(initial_train_preds, rating_train))\n",
    "print(\"Random init MAE: %0.3f\" % mean_absolute_error(initial_train_preds, rating_train))\n",
    "\n",
    "history = model.fit([user_id_train, item_id_train], rating_train - 1,\n",
    "                    batch_size=64, epochs=15, validation_split=0.1,\n",
    "                    shuffle=True)\n",
    "\n",
    "plt.plot(history.history['loss'], label='train')\n",
    "plt.plot(history.history['val_loss'], label='validation')\n",
    "plt.ylim(0, 2)\n",
    "plt.legend(loc='best')\n",
    "plt.title('loss');\n",
    "\n",
    "test_preds = model.predict([user_id_test, item_id_test]).argmax(axis=1) + 1\n",
    "print(\"Final test MSE: %0.3f\" % mean_squared_error(test_preds, rating_test))\n",
    "print(\"Final test MAE: %0.3f\" % mean_absolute_error(test_preds, rating_test))\n"
   ]
  },
  {
   "cell_type": "code",
   "execution_count": null,
   "metadata": {},
   "outputs": [],
   "source": []
  }
 ],
 "metadata": {
  "kernelspec": {
   "display_name": "Python 3",
   "language": "python",
   "name": "python3"
  },
  "language_info": {
   "codemirror_mode": {
    "name": "ipython",
    "version": 3
   },
   "file_extension": ".py",
   "mimetype": "text/x-python",
   "name": "python",
   "nbconvert_exporter": "python",
   "pygments_lexer": "ipython3",
   "version": "3.9.2"
  }
 },
 "nbformat": 4,
 "nbformat_minor": 2
}
